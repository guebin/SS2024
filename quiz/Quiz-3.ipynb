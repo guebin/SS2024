{
 "cells": [
  {
   "cell_type": "raw",
   "id": "9535e23f-d32c-446c-8473-9cfd3c5895b0",
   "metadata": {
    "vscode": {
     "languageId": "raw"
    }
   },
   "source": [
    "---\n",
    "title: \"**Quiz-3 (2024.10.08)** // 범위: 03wk 까지\"\n",
    "author: \"최규빈\"\n",
    "date: \"10/08/2024\"\n",
    "reference-location: margin\n",
    "citation-location: margin\n",
    "cap-location: margin\n",
    "comments: false\n",
    "---"
   ]
  },
  {
   "cell_type": "markdown",
   "id": "3df4687b-a3c8-4b9c-918a-55d8e2c55cc9",
   "metadata": {},
   "source": [
    "# `1`. -- 50점"
   ]
  },
  {
   "cell_type": "markdown",
   "id": "907d920b-1249-47f3-835d-2431d6a4bdeb",
   "metadata": {},
   "source": [
    "`(1)`. $|\\mathbb{Q}^+| = |\\mathbb{N}|$ 임을 보여라. 즉 양의유리수와 자연수의 cardinality가 동일함을 보여라. (아주 엄밀한 언어로 쓰지 않고, 아이디어만 쓸 경우라도 정답으로 인정)"
   ]
  },
  {
   "cell_type": "markdown",
   "id": "78551b0e",
   "metadata": {
    "vscode": {
     "languageId": "raw"
    }
   },
   "source": [
    "`(2)` $|\\mathbb{Q}|=\\mathbb{N}$ 임을 보여라. 즉 유리수와 자연수의 cardinality가 동일함을 보여라. "
   ]
  },
  {
   "cell_type": "markdown",
   "id": "a0799086-a6ef-4d84-96fb-f13fae8a1227",
   "metadata": {},
   "source": [
    "# `2`. -- 50점"
   ]
  },
  {
   "cell_type": "markdown",
   "id": "0587da6d-2431-4630-a236-861032ca1654",
   "metadata": {},
   "source": [
    "$|\\mathbb{R}| > |\\mathbb{N}|$ 임을 보여라. 즉 실수의 cadinality는 자연수의 cadinality보다 큼을 보여라. "
   ]
  }
 ],
 "metadata": {
  "kernelspec": {
   "display_name": "Python 3 (ipykernel)",
   "language": "python",
   "name": "python3"
  },
  "language_info": {
   "codemirror_mode": {
    "name": "ipython",
    "version": 3
   },
   "file_extension": ".py",
   "mimetype": "text/x-python",
   "name": "python",
   "nbconvert_exporter": "python",
   "pygments_lexer": "ipython3",
   "version": "3.12.5"
  }
 },
 "nbformat": 4,
 "nbformat_minor": 5
}
