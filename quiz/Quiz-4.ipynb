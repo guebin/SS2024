{
 "cells": [
  {
   "cell_type": "raw",
   "id": "9535e23f-d32c-446c-8473-9cfd3c5895b0",
   "metadata": {
    "vscode": {
     "languageId": "raw"
    }
   },
   "source": [
    "---\n",
    "title: \"**Quiz-4 (2024.10.22)** // 범위: 05wk 까지\"\n",
    "author: \"최규빈\"\n",
    "date: \"10/22/2024\"\n",
    "reference-location: margin\n",
    "citation-location: margin\n",
    "cap-location: margin\n",
    "comments: false\n",
    "---"
   ]
  },
  {
   "cell_type": "markdown",
   "id": "001e4756-0ba8-438d-8f26-91de22f7d5bc",
   "metadata": {},
   "source": [
    "# `1`. -- 50점"
   ]
  },
  {
   "cell_type": "markdown",
   "id": "39693e5a-8882-44ab-87a4-b56337a037a9",
   "metadata": {},
   "source": [
    "$\\Omega = \\mathbb{R}$ 의 부분집합들의 모임 \n",
    "\n",
    "$${\\cal A}= \\{[a,b]: a< b,  \\text{ where } a,b \\in \\mathbb{R} \\}$$ \n",
    "\n",
    "를 고려하자. 그리고 ${\\cal R}=\\sigma({\\cal A})$ 라고 하자. "
   ]
  },
  {
   "cell_type": "markdown",
   "id": "333a5ec5",
   "metadata": {
    "vscode": {
     "languageId": "raw"
    }
   },
   "source": [
    "---"
   ]
  },
  {
   "cell_type": "markdown",
   "id": "6588d44e-5a9d-4924-b4fd-1d3bf89a9356",
   "metadata": {},
   "source": [
    "`(1)` 임의의 실수 $c$ 만을 포함하는 집합 $\\{c\\}$ 가 ${\\cal R}$의 원소임을 보여라. 즉 $\\{c\\} \\in {\\cal R}$ 임을 보여라."
   ]
  },
  {
   "cell_type": "markdown",
   "id": "9fd95063",
   "metadata": {
    "vscode": {
     "languageId": "raw"
    }
   },
   "source": [
    "`(풀이)`"
   ]
  },
  {
   "cell_type": "markdown",
   "id": "a7c0ba3f",
   "metadata": {
    "vscode": {
     "languageId": "raw"
    }
   },
   "source": [
    "$[1,2] \\in {\\cal R}$ 이고 $[2,3] \\in {\\cal R}$ 이다. (왜냐하면 $[1,2], [2,3] \\in {\\cal A} \\subset {\\cal R}$ 이므로) 시그마필드는 교집합에 닫혀있으므로 $$[1,2] \\cap [2,3] =\\{2\\} \\in {\\cal R}$$ 이 성립한다. 임의의 실수 $c$에 대하여 동일한 논리전개를 사용할 수 있으므로 $$\\forall c \\in \\mathbb{R}: \\{c\\} \\in {\\cal R}$$ 이다. "
   ]
  },
  {
   "cell_type": "markdown",
   "id": "83b13277",
   "metadata": {
    "vscode": {
     "languageId": "raw"
    }
   },
   "source": [
    "---"
   ]
  },
  {
   "cell_type": "markdown",
   "id": "4aeaabbb-b57e-4c4e-97a2-cded14a837cf",
   "metadata": {},
   "source": [
    "`(2)` $\\mathbb{Q} \\in {\\cal R}$ 임을 보여라. "
   ]
  },
  {
   "cell_type": "markdown",
   "id": "3646cd54",
   "metadata": {
    "vscode": {
     "languageId": "raw"
    }
   },
   "source": [
    "`(풀이)` "
   ]
  },
  {
   "cell_type": "markdown",
   "id": "3af25cb5",
   "metadata": {
    "vscode": {
     "languageId": "raw"
    }
   },
   "source": [
    "$\\mathbb{Q}= \\bigcup_{q \\in \\mathbb{Q}}\\{q\\}$ 로 표현가능하다. (1)에 의하여 $\\{q\\} \\in {\\cal R}$ 이고  시그마필드는 countable union에 닫혀있으므로 $\\bigcup_{q \\in \\mathbb{Q}}\\{q\\} \\in {\\cal R}$ 이 성립한다. 따라서 $\\mathbb{Q} \\in {\\cal R}$ 이다. "
   ]
  },
  {
   "cell_type": "markdown",
   "id": "a02c3653",
   "metadata": {
    "vscode": {
     "languageId": "raw"
    }
   },
   "source": [
    "---"
   ]
  },
  {
   "cell_type": "markdown",
   "id": "94e22cc8-3c4f-4bb7-ac16-086187c7778e",
   "metadata": {},
   "source": [
    "`(3)` $\\mathbb{Q}^c \\in {\\cal R}$ 임을 보여라. "
   ]
  },
  {
   "cell_type": "markdown",
   "id": "a6ab1091",
   "metadata": {},
   "source": [
    "`(풀이)` "
   ]
  },
  {
   "cell_type": "markdown",
   "id": "a8a22993",
   "metadata": {},
   "source": [
    "(2)에 의하여 $\\mathbb{Q} \\in {\\cal R}$ 이고 시그마필드는 여집합에 닫혀있으므로 $\\mathbb{Q}^c \\in {\\cal R}$ 이다. "
   ]
  },
  {
   "cell_type": "markdown",
   "id": "d2ece569",
   "metadata": {
    "vscode": {
     "languageId": "raw"
    }
   },
   "source": [
    "---"
   ]
  },
  {
   "cell_type": "markdown",
   "id": "bca8e55d-87dc-43e1-a7ce-7b6dd342ab2b",
   "metadata": {},
   "source": [
    "`(4)` $\\mathbb{Q}^+ \\in {\\cal R}$ 임을 보여라. 단, 여기에서 $\\mathbb{Q}^+$ 은 양의 유리수집합을 의미한다. 즉 $\\mathbb{Q}^+=\\{q: q \\in \\mathbb{Q},~ q>0\\}$ 이다. "
   ]
  },
  {
   "cell_type": "markdown",
   "id": "9e9dff09",
   "metadata": {
    "vscode": {
     "languageId": "raw"
    }
   },
   "source": [
    "`(풀이)`"
   ]
  },
  {
   "cell_type": "markdown",
   "id": "0f3ebb44",
   "metadata": {},
   "source": [
    "문항 (2)와 동일한 테크닉을 사용하면 된다. $\\mathbb{Q}^+= \\bigcup_{q \\in \\mathbb{Q}^+}\\{q\\}$ 로 표현가능하다. (1)에 의하여 $\\{q\\} \\in {\\cal R}$ 이고  시그마필드는 countable union에 닫혀있으므로 $\\bigcup_{q \\in \\mathbb{Q}^+}\\{q\\} \\in {\\cal R}$ 이 성립한다. 따라서 $\\mathbb{Q}^+ \\in {\\cal R}$ 이다. "
   ]
  },
  {
   "cell_type": "markdown",
   "id": "7c5c2c05",
   "metadata": {
    "vscode": {
     "languageId": "raw"
    }
   },
   "source": [
    "---"
   ]
  },
  {
   "cell_type": "markdown",
   "id": "b89ae6a4-6f86-4520-a452-4f0e7dc8c479",
   "metadata": {},
   "source": [
    "`(5)` $\\mathbb{R}^+ \\in {\\cal R}$ 임을 보여라. 단 여기에서 $\\mathbb{R}^+$은 양의 실수를 의미한다. 즉 $\\mathbb{R}^+ = \\{x: x \\in \\mathbb{R}, ~x>0\\}$ 이다. "
   ]
  },
  {
   "cell_type": "markdown",
   "id": "11c1f70f",
   "metadata": {},
   "source": [
    "`(풀이)`"
   ]
  },
  {
   "cell_type": "markdown",
   "id": "fe576546",
   "metadata": {},
   "source": [
    "이 문제는 문항 (2)와 동일한 테크닉을 사용할 수 없다. 왜냐하면\n",
    "\n",
    "$$\\mathbb{R}^+= \\bigcup_{x \\in \\mathbb{R}^+}\\{x\\}$$\n",
    "\n",
    "에서 $\\bigcup_{x \\in \\mathbb{R}^+}$은 countable union을 의미하는게 아니라 uncountable union을 의미하기 때문이다. 대신에 아래와 같이 $\\mathbb{R}^+$을 표현한다면 \n",
    "\n",
    "$$\\mathbb{R}^+= \\bigcup_{n \\in \\mathbb{N}}[0,n] - \\{0\\}$$\n",
    "\n",
    "$\\bigcup_{n \\in \\mathbb{N}}$은 countable union 이 된다. 이제 임의의 자연수 $n$에 대하여 $[0,n] \\in {\\cal R}$ 이고 시그마필드는 countable union에 닫혀다는 성질을 이용하면 $\\bigcup_{n \\in \\mathbb{N}}[0,n]\\in {\\cal R}$ 이 성립한다. 여기에서 시그마필드가 차집합에 닫혀있음을 이용하면 $\\big(\\bigcup_{n \\in \\mathbb{N}}[0,n]- \\{x\\}\\big) \\in {\\cal R}$ 역시 보일 수 있다. 따라서 $\\mathbb{R}^+ \\in {\\cal R}$ 이다. "
   ]
  },
  {
   "cell_type": "markdown",
   "id": "6b969d0a",
   "metadata": {
    "vscode": {
     "languageId": "raw"
    }
   },
   "source": [
    "---"
   ]
  },
  {
   "cell_type": "markdown",
   "id": "63ff1d59-b859-4363-bf9d-bea2f60cd193",
   "metadata": {},
   "source": [
    "`(6)` $a<b$ 인 임의의 실수 $a,b$ 에 대하여 $(a,b] \\in {\\cal R}$, $(a,b) \\in {\\cal R}$, $[a,b) \\in {\\cal R}$ 임을 보여라. "
   ]
  },
  {
   "cell_type": "markdown",
   "id": "05df6da1",
   "metadata": {
    "vscode": {
     "languageId": "raw"
    }
   },
   "source": [
    "`(풀이)`"
   ]
  },
  {
   "cell_type": "markdown",
   "id": "2efac4f4",
   "metadata": {
    "vscode": {
     "languageId": "raw"
    }
   },
   "source": [
    "아래와 같이 구간을 표현할 수 있다.\n",
    "\n",
    "- $(a,b] = [a,b]-\\{a\\}$ \n",
    "- $(a,b) = [a,b]-\\{a\\}-\\{b\\}$ \n",
    "- $[a,b) = [a,b]-\\{b\\}$ \n",
    "\n",
    "여기에서 $[a,b] \\in {\\cal R}$ 이고 $\\{a\\}\\in{\\cal R}, \\{b\\} \\in {\\cal R}$ 라는 사실과 시그마필드가 차집합에 닫혀있다는 사실을 이용하면 $(a,b] \\in {\\cal R}$, $(a,b) \\in {\\cal R}$, $[a,b) \\in {\\cal R}$ 임을 보일 수 있다. "
   ]
  },
  {
   "cell_type": "markdown",
   "id": "d047e240",
   "metadata": {
    "vscode": {
     "languageId": "raw"
    }
   },
   "source": [
    "---"
   ]
  },
  {
   "cell_type": "markdown",
   "id": "c81d7045-8dc4-4560-bbed-b88a4dfaf00c",
   "metadata": {},
   "source": [
    "`(7)` 임의의 실수 $x$에 대하여 $(-\\infty, x] \\in {\\cal R}$, $(-\\infty,x) \\in {\\cal R}$, $(x,\\infty) \\in {\\cal R}$, $[x,\\infty) \\in {\\cal R}$ 임을 보여라. "
   ]
  },
  {
   "cell_type": "markdown",
   "id": "f8780a93",
   "metadata": {
    "vscode": {
     "languageId": "raw"
    }
   },
   "source": [
    "`(풀이)`"
   ]
  },
  {
   "cell_type": "markdown",
   "id": "8859b48b",
   "metadata": {
    "vscode": {
     "languageId": "raw"
    }
   },
   "source": [
    "아래와 같이 구간을 표현할 수 있다. "
   ]
  },
  {
   "cell_type": "markdown",
   "id": "976be7c0",
   "metadata": {
    "vscode": {
     "languageId": "raw"
    }
   },
   "source": [
    "- $(-\\infty, x] = \\bigcup_{n \\in \\mathbb{N}}(-n,x]$\n",
    "- $(-\\infty, x) = \\bigcup_{n \\in \\mathbb{N}}(-n,x)$\n",
    "- $(x,\\infty) = \\bigcup_{n \\in \\mathbb{N}}(x,n)$\n",
    "- $[x,\\infty] = \\bigcup_{n \\in \\mathbb{N}}[x,n)$\n"
   ]
  },
  {
   "cell_type": "markdown",
   "id": "6a68a78d",
   "metadata": {
    "vscode": {
     "languageId": "raw"
    }
   },
   "source": [
    "여기에서 (6)을 이용하면 구간 $(-n,x], (-n,x), (x,n), [x,n)$ 은 모두 ${\\cal R}$ 의 원소임을 알 수 있다. 시그마필드는 countable union에 닫혀있으므로 $(-\\infty, x] \\in {\\cal R}$, $(-\\infty,x) \\in {\\cal R}$, $(x,\\infty) \\in {\\cal R}$, $[x,\\infty) \\in {\\cal R}$ 을 보일 수 있다. "
   ]
  },
  {
   "cell_type": "markdown",
   "id": "dcce9ef0",
   "metadata": {
    "vscode": {
     "languageId": "raw"
    }
   },
   "source": [
    "---"
   ]
  },
  {
   "cell_type": "markdown",
   "id": "896e6b2a-a2e5-4e4c-8914-e4e31e5728b7",
   "metadata": {},
   "source": [
    "`(8)` $\\mathbb{N} \\in {\\cal R}$ 임을 보여라. "
   ]
  },
  {
   "cell_type": "markdown",
   "id": "07511427",
   "metadata": {
    "vscode": {
     "languageId": "raw"
    }
   },
   "source": [
    "`(풀이)`"
   ]
  },
  {
   "cell_type": "markdown",
   "id": "e2f799df",
   "metadata": {
    "vscode": {
     "languageId": "raw"
    }
   },
   "source": [
    "문항 (2)와 동일한 테크닉을 사용한다. $\\mathbb{N} = \\bigcup_{n \\in \\mathbb{N}}\\{n\\}$ 로 표현할 수 있다. (1)에 의하여 $\\{n\\} \\in {\\cal R}$ 이고 시그마필드는 countable union에 닫혀있으므로 $\\bigcup_{n \\in \\mathbb{N}}\\{n\\} \\in {\\cal R}$ 이 성립한다. 따라서 $\\mathbb{N} \\in {\\cal R}$ 이다. "
   ]
  },
  {
   "cell_type": "markdown",
   "id": "799ace73",
   "metadata": {
    "vscode": {
     "languageId": "raw"
    }
   },
   "source": [
    "---"
   ]
  },
  {
   "cell_type": "markdown",
   "id": "22235f02-8af7-4459-8191-8cfa38b8e8f2",
   "metadata": {},
   "source": [
    "`(9)` $A = \\{x: x \\geq 0, x \\notin \\mathbb{Q}\\} \\in {\\cal R}$ 임을 보여라. "
   ]
  },
  {
   "cell_type": "markdown",
   "id": "1d7414e9",
   "metadata": {},
   "source": [
    "`(풀이)`"
   ]
  },
  {
   "cell_type": "markdown",
   "id": "d9268b0b",
   "metadata": {},
   "source": [
    "문항 (4)에서 $\\mathbb{Q}^+ \\in {\\cal R}$임을 보였고 문항 (5)에서 $\\mathbb{R}^+ \\in {\\cal R}$ 임을 보였다. $A = \\mathbb{R}^+-\\mathbb{Q}^+$ 이고 시그마필드가 차집합에 닫혀있으므로 $A \\in {\\cal R}$이다. "
   ]
  },
  {
   "cell_type": "markdown",
   "id": "65ee1d9a",
   "metadata": {
    "vscode": {
     "languageId": "raw"
    }
   },
   "source": [
    "---"
   ]
  },
  {
   "cell_type": "markdown",
   "id": "0c5495f1-c29e-4d87-a424-ad510bd99573",
   "metadata": {},
   "source": [
    "`(10)` $B = \\{x: \\sin(\\pi x) > 0, x\\in \\mathbb{R} \\} \\in {\\cal R}$ 임을 보여라.  "
   ]
  },
  {
   "cell_type": "markdown",
   "id": "a9095b39-71ec-432a-a343-b775eb1def54",
   "metadata": {},
   "source": [
    "**hint:** 10번의 집합 $B$에 대한 힌트\n",
    "\n",
    "`1`. $\\sin(\\pi x)$ 는 주기가 2인 함수이다. \n",
    "\n",
    "`2`. $\\sin(\\pi x)$ 의 그래프는 아래와 같다. "
   ]
  },
  {
   "cell_type": "code",
   "execution_count": 1,
   "id": "4592488b-5682-4d16-aae2-e2734664d4cd",
   "metadata": {},
   "outputs": [
    {
     "data": {
      "image/png": "[encoded data removed]",
      "image/svg+xml": [
       "<?xml version=\"1.0\" encoding=\"utf-8\"?>\n",
       "<svg xmlns=\"http://www.w3.org/2000/svg\" xmlns:xlink=\"http://www.w3.org/1999/xlink\" width=\"600\" height=\"400\" viewBox=\"0 0 2400 1600\">\n",
       "<defs>\n",
       "  <clipPath id=\"clip500\">\n",
       "    <rect x=\"0\" y=\"0\" width=\"2400\" height=\"1600\"/>\n",
       "  </clipPath>\n",
       "</defs>\n",
       "<path clip-path=\"url(#clip500)\" d=\"M0 1600 L2400 1600 L2400 0 L0 0  Z\" fill=\"#ffffff\" fill-rule=\"evenodd\" fill-opacity=\"1\"/>\n",
       "<defs>\n",
       "  <clipPath id=\"clip501\">\n",
       "    <rect x=\"480\" y=\"0\" width=\"1681\" height=\"1600\"/>\n",
       "  </clipPath>\n",
       "</defs>\n",
       "<path clip-path=\"url(#clip500)\" d=\"M257.204 1423.18 L2352.76 1423.18 L2352.76 47.2441 L257.204 47.2441  Z\" fill=\"#ffffff\" fill-rule=\"evenodd\" fill-opacity=\"1\"/>\n",
       "<defs>\n",
       "  <clipPath id=\"clip502\">\n",
       "    <rect x=\"257\" y=\"47\" width=\"2097\" height=\"1377\"/>\n",
       "  </clipPath>\n",
       "</defs>\n",
       "<polyline clip-path=\"url(#clip502)\" style=\"stroke:#000000; stroke-linecap:round; stroke-linejoin:round; stroke-width:2; stroke-opacity:0.1; fill:none\" points=\"316.512,1423.18 316.512,47.2441 \"/>\n",
       "<polyline clip-path=\"url(#clip502)\" style=\"stroke:#000000; stroke-linecap:round; stroke-linejoin:round; stroke-width:2; stroke-opacity:0.1; fill:none\" points=\"646.001,1423.18 646.001,47.2441 \"/>\n",
       "<polyline clip-path=\"url(#clip502)\" style=\"stroke:#000000; stroke-linecap:round; stroke-linejoin:round; stroke-width:2; stroke-opacity:0.1; fill:none\" points=\"975.491,1423.18 975.491,47.2441 \"/>\n",
       "<polyline clip-path=\"url(#clip502)\" style=\"stroke:#000000; stroke-linecap:round; stroke-linejoin:round; stroke-width:2; stroke-opacity:0.1; fill:none\" points=\"1304.98,1423.18 1304.98,47.2441 \"/>\n",
       "<polyline clip-path=\"url(#clip502)\" style=\"stroke:#000000; stroke-linecap:round; stroke-linejoin:round; stroke-width:2; stroke-opacity:0.1; fill:none\" points=\"1634.47,1423.18 1634.47,47.2441 \"/>\n",
       "<polyline clip-path=\"url(#clip502)\" style=\"stroke:#000000; stroke-linecap:round; stroke-linejoin:round; stroke-width:2; stroke-opacity:0.1; fill:none\" points=\"1963.96,1423.18 1963.96,47.2441 \"/>\n",
       "<polyline clip-path=\"url(#clip502)\" style=\"stroke:#000000; stroke-linecap:round; stroke-linejoin:round; stroke-width:2; stroke-opacity:0.1; fill:none\" points=\"2293.45,1423.18 2293.45,47.2441 \"/>\n",
       "<polyline clip-path=\"url(#clip500)\" style=\"stroke:#000000; stroke-linecap:round; stroke-linejoin:round; stroke-width:4; stroke-opacity:1; fill:none\" points=\"257.204,1423.18 2352.76,1423.18 \"/>\n",
       "<polyline clip-path=\"url(#clip500)\" style=\"stroke:#000000; stroke-linecap:round; stroke-linejoin:round; stroke-width:4; stroke-opacity:1; fill:none\" points=\"316.512,1423.18 316.512,1404.28 \"/>\n",
       "<polyline clip-path=\"url(#clip500)\" style=\"stroke:#000000; stroke-linecap:round; stroke-linejoin:round; stroke-width:4; stroke-opacity:1; fill:none\" points=\"646.001,1423.18 646.001,1404.28 \"/>\n",
       "<polyline clip-path=\"url(#clip500)\" style=\"stroke:#000000; stroke-linecap:round; stroke-linejoin:round; stroke-width:4; stroke-opacity:1; fill:none\" points=\"975.491,1423.18 975.491,1404.28 \"/>\n",
       "<polyline clip-path=\"url(#clip500)\" style=\"stroke:#000000; stroke-linecap:round; stroke-linejoin:round; stroke-width:4; stroke-opacity:1; fill:none\" points=\"1304.98,1423.18 1304.98,1404.28 \"/>\n",
       "<polyline clip-path=\"url(#clip500)\" style=\"stroke:#000000; stroke-linecap:round; stroke-linejoin:round; stroke-width:4; stroke-opacity:1; fill:none\" points=\"1634.47,1423.18 1634.47,1404.28 \"/>\n",
       "<polyline clip-path=\"url(#clip500)\" style=\"stroke:#000000; stroke-linecap:round; stroke-linejoin:round; stroke-width:4; stroke-opacity:1; fill:none\" points=\"1963.96,1423.18 1963.96,1404.28 \"/>\n",
       "<polyline clip-path=\"url(#clip500)\" style=\"stroke:#000000; stroke-linecap:round; stroke-linejoin:round; stroke-width:4; stroke-opacity:1; fill:none\" points=\"2293.45,1423.18 2293.45,1404.28 \"/>\n",
       "<path clip-path=\"url(#clip500)\" d=\"M285.98 1468.75 L315.656 1468.75 L315.656 1472.69 L285.98 1472.69 L285.98 1468.75 Z\" fill=\"#000000\" fill-rule=\"nonzero\" fill-opacity=\"1\" /><path clip-path=\"url(#clip500)\" d=\"M339.915 1466.95 Q343.271 1467.66 345.146 1469.93 Q347.044 1472.2 347.044 1475.53 Q347.044 1480.65 343.526 1483.45 Q340.007 1486.25 333.526 1486.25 Q331.35 1486.25 329.035 1485.81 Q326.744 1485.39 324.29 1484.54 L324.29 1480.02 Q326.234 1481.16 328.549 1481.74 Q330.864 1482.32 333.387 1482.32 Q337.785 1482.32 340.077 1480.58 Q342.392 1478.84 342.392 1475.53 Q342.392 1472.48 340.239 1470.77 Q338.109 1469.03 334.29 1469.03 L330.262 1469.03 L330.262 1465.19 L334.475 1465.19 Q337.924 1465.19 339.753 1463.82 Q341.581 1462.43 341.581 1459.84 Q341.581 1457.18 339.683 1455.77 Q337.808 1454.33 334.29 1454.33 Q332.368 1454.33 330.169 1454.75 Q327.97 1455.16 325.331 1456.04 L325.331 1451.88 Q327.994 1451.14 330.308 1450.77 Q332.646 1450.39 334.706 1450.39 Q340.03 1450.39 343.132 1452.83 Q346.234 1455.23 346.234 1459.35 Q346.234 1462.22 344.591 1464.21 Q342.947 1466.18 339.915 1466.95 Z\" fill=\"#000000\" fill-rule=\"nonzero\" fill-opacity=\"1\" /><path clip-path=\"url(#clip500)\" d=\"M615.944 1468.75 L645.619 1468.75 L645.619 1472.69 L615.944 1472.69 L615.944 1468.75 Z\" fill=\"#000000\" fill-rule=\"nonzero\" fill-opacity=\"1\" /><path clip-path=\"url(#clip500)\" d=\"M659.74 1481.64 L676.059 1481.64 L676.059 1485.58 L654.115 1485.58 L654.115 1481.64 Q656.777 1478.89 661.36 1474.26 Q665.967 1469.61 667.147 1468.27 Q669.392 1465.74 670.272 1464.01 Q671.175 1462.25 671.175 1460.56 Q671.175 1457.8 669.23 1456.07 Q667.309 1454.33 664.207 1454.33 Q662.008 1454.33 659.555 1455.09 Q657.124 1455.86 654.346 1457.41 L654.346 1452.69 Q657.17 1451.55 659.624 1450.97 Q662.078 1450.39 664.115 1450.39 Q669.485 1450.39 672.679 1453.08 Q675.874 1455.77 675.874 1460.26 Q675.874 1462.39 675.064 1464.31 Q674.277 1466.2 672.17 1468.8 Q671.592 1469.47 668.49 1472.69 Q665.388 1475.88 659.74 1481.64 Z\" fill=\"#000000\" fill-rule=\"nonzero\" fill-opacity=\"1\" /><path clip-path=\"url(#clip500)\" d=\"M945.248 1468.75 L974.924 1468.75 L974.924 1472.69 L945.248 1472.69 L945.248 1468.75 Z\" fill=\"#000000\" fill-rule=\"nonzero\" fill-opacity=\"1\" /><path clip-path=\"url(#clip500)\" d=\"M985.826 1481.64 L993.465 1481.64 L993.465 1455.28 L985.155 1456.95 L985.155 1452.69 L993.419 1451.02 L998.095 1451.02 L998.095 1481.64 L1005.73 1481.64 L1005.73 1485.58 L985.826 1485.58 L985.826 1481.64 Z\" fill=\"#000000\" fill-rule=\"nonzero\" fill-opacity=\"1\" /><path clip-path=\"url(#clip500)\" d=\"M1304.98 1454.1 Q1301.37 1454.1 1299.54 1457.66 Q1297.73 1461.2 1297.73 1468.33 Q1297.73 1475.44 1299.54 1479.01 Q1301.37 1482.55 1304.98 1482.55 Q1308.61 1482.55 1310.42 1479.01 Q1312.25 1475.44 1312.25 1468.33 Q1312.25 1461.2 1310.42 1457.66 Q1308.61 1454.1 1304.98 1454.1 M1304.98 1450.39 Q1310.79 1450.39 1313.85 1455 Q1316.92 1459.58 1316.92 1468.33 Q1316.92 1477.06 1313.85 1481.67 Q1310.79 1486.25 1304.98 1486.25 Q1299.17 1486.25 1296.09 1481.67 Q1293.04 1477.06 1293.04 1468.33 Q1293.04 1459.58 1296.09 1455 Q1299.17 1450.39 1304.98 1450.39 Z\" fill=\"#000000\" fill-rule=\"nonzero\" fill-opacity=\"1\" /><path clip-path=\"url(#clip500)\" d=\"M1624.85 1481.64 L1632.49 1481.64 L1632.49 1455.28 L1624.18 1456.95 L1624.18 1452.69 L1632.44 1451.02 L1637.12 1451.02 L1637.12 1481.64 L1644.76 1481.64 L1644.76 1485.58 L1624.85 1485.58 L1624.85 1481.64 Z\" fill=\"#000000\" fill-rule=\"nonzero\" fill-opacity=\"1\" /><path clip-path=\"url(#clip500)\" d=\"M1958.61 1481.64 L1974.93 1481.64 L1974.93 1485.58 L1952.99 1485.58 L1952.99 1481.64 Q1955.65 1478.89 1960.23 1474.26 Q1964.84 1469.61 1966.02 1468.27 Q1968.26 1465.74 1969.14 1464.01 Q1970.05 1462.25 1970.05 1460.56 Q1970.05 1457.8 1968.1 1456.07 Q1966.18 1454.33 1963.08 1454.33 Q1960.88 1454.33 1958.43 1455.09 Q1956 1455.86 1953.22 1457.41 L1953.22 1452.69 Q1956.04 1451.55 1958.5 1450.97 Q1960.95 1450.39 1962.99 1450.39 Q1968.36 1450.39 1971.55 1453.08 Q1974.75 1455.77 1974.75 1460.26 Q1974.75 1462.39 1973.94 1464.31 Q1973.15 1466.2 1971.04 1468.8 Q1970.46 1469.47 1967.36 1472.69 Q1964.26 1475.88 1958.61 1481.64 Z\" fill=\"#000000\" fill-rule=\"nonzero\" fill-opacity=\"1\" /><path clip-path=\"url(#clip500)\" d=\"M2297.7 1466.95 Q2301.05 1467.66 2302.93 1469.93 Q2304.83 1472.2 2304.83 1475.53 Q2304.83 1480.65 2301.31 1483.45 Q2297.79 1486.25 2291.31 1486.25 Q2289.13 1486.25 2286.82 1485.81 Q2284.52 1485.39 2282.07 1484.54 L2282.07 1480.02 Q2284.02 1481.16 2286.33 1481.74 Q2288.64 1482.32 2291.17 1482.32 Q2295.57 1482.32 2297.86 1480.58 Q2300.17 1478.84 2300.17 1475.53 Q2300.17 1472.48 2298.02 1470.77 Q2295.89 1469.03 2292.07 1469.03 L2288.04 1469.03 L2288.04 1465.19 L2292.26 1465.19 Q2295.7 1465.19 2297.53 1463.82 Q2299.36 1462.43 2299.36 1459.84 Q2299.36 1457.18 2297.46 1455.77 Q2295.59 1454.33 2292.07 1454.33 Q2290.15 1454.33 2287.95 1454.75 Q2285.75 1455.16 2283.11 1456.04 L2283.11 1451.88 Q2285.77 1451.14 2288.09 1450.77 Q2290.43 1450.39 2292.49 1450.39 Q2297.81 1450.39 2300.91 1452.83 Q2304.01 1455.23 2304.01 1459.35 Q2304.01 1462.22 2302.37 1464.21 Q2300.73 1466.18 2297.7 1466.95 Z\" fill=\"#000000\" fill-rule=\"nonzero\" fill-opacity=\"1\" /><path clip-path=\"url(#clip500)\" d=\"M1321.59 1532.4 L1308.7 1549.74 L1322.26 1568.04 L1315.36 1568.04 L1304.98 1554.04 L1294.6 1568.04 L1287.7 1568.04 L1301.54 1549.39 L1288.87 1532.4 L1295.78 1532.4 L1305.23 1545.1 L1314.69 1532.4 L1321.59 1532.4 Z\" fill=\"#000000\" fill-rule=\"nonzero\" fill-opacity=\"1\" /><polyline clip-path=\"url(#clip502)\" style=\"stroke:#000000; stroke-linecap:round; stroke-linejoin:round; stroke-width:2; stroke-opacity:0.1; fill:none\" points=\"257.204,1384.24 2352.76,1384.24 \"/>\n",
       "<polyline clip-path=\"url(#clip502)\" style=\"stroke:#000000; stroke-linecap:round; stroke-linejoin:round; stroke-width:2; stroke-opacity:0.1; fill:none\" points=\"257.204,1059.73 2352.76,1059.73 \"/>\n",
       "<polyline clip-path=\"url(#clip502)\" style=\"stroke:#000000; stroke-linecap:round; stroke-linejoin:round; stroke-width:2; stroke-opacity:0.1; fill:none\" points=\"257.204,735.212 2352.76,735.212 \"/>\n",
       "<polyline clip-path=\"url(#clip502)\" style=\"stroke:#000000; stroke-linecap:round; stroke-linejoin:round; stroke-width:2; stroke-opacity:0.1; fill:none\" points=\"257.204,410.699 2352.76,410.699 \"/>\n",
       "<polyline clip-path=\"url(#clip502)\" style=\"stroke:#000000; stroke-linecap:round; stroke-linejoin:round; stroke-width:2; stroke-opacity:0.1; fill:none\" points=\"257.204,86.1857 2352.76,86.1857 \"/>\n",
       "<polyline clip-path=\"url(#clip500)\" style=\"stroke:#000000; stroke-linecap:round; stroke-linejoin:round; stroke-width:4; stroke-opacity:1; fill:none\" points=\"257.204,1423.18 257.204,47.2441 \"/>\n",
       "<polyline clip-path=\"url(#clip500)\" style=\"stroke:#000000; stroke-linecap:round; stroke-linejoin:round; stroke-width:4; stroke-opacity:1; fill:none\" points=\"257.204,1384.24 276.102,1384.24 \"/>\n",
       "<polyline clip-path=\"url(#clip500)\" style=\"stroke:#000000; stroke-linecap:round; stroke-linejoin:round; stroke-width:4; stroke-opacity:1; fill:none\" points=\"257.204,1059.73 276.102,1059.73 \"/>\n",
       "<polyline clip-path=\"url(#clip500)\" style=\"stroke:#000000; stroke-linecap:round; stroke-linejoin:round; stroke-width:4; stroke-opacity:1; fill:none\" points=\"257.204,735.212 276.102,735.212 \"/>\n",
       "<polyline clip-path=\"url(#clip500)\" style=\"stroke:#000000; stroke-linecap:round; stroke-linejoin:round; stroke-width:4; stroke-opacity:1; fill:none\" points=\"257.204,410.699 276.102,410.699 \"/>\n",
       "<polyline clip-path=\"url(#clip500)\" style=\"stroke:#000000; stroke-linecap:round; stroke-linejoin:round; stroke-width:4; stroke-opacity:1; fill:none\" points=\"257.204,86.1857 276.102,86.1857 \"/>\n",
       "<path clip-path=\"url(#clip500)\" d=\"M114.26 1384.69 L143.936 1384.69 L143.936 1388.62 L114.26 1388.62 L114.26 1384.69 Z\" fill=\"#000000\" fill-rule=\"nonzero\" fill-opacity=\"1\" /><path clip-path=\"url(#clip500)\" d=\"M154.839 1397.58 L162.477 1397.58 L162.477 1371.22 L154.167 1372.88 L154.167 1368.62 L162.431 1366.96 L167.107 1366.96 L167.107 1397.58 L174.746 1397.58 L174.746 1401.52 L154.839 1401.52 L154.839 1397.58 Z\" fill=\"#000000\" fill-rule=\"nonzero\" fill-opacity=\"1\" /><path clip-path=\"url(#clip500)\" d=\"M184.19 1395.64 L189.075 1395.64 L189.075 1401.52 L184.19 1401.52 L184.19 1395.64 Z\" fill=\"#000000\" fill-rule=\"nonzero\" fill-opacity=\"1\" /><path clip-path=\"url(#clip500)\" d=\"M209.26 1370.04 Q205.649 1370.04 203.82 1373.6 Q202.014 1377.14 202.014 1384.27 Q202.014 1391.38 203.82 1394.94 Q205.649 1398.49 209.26 1398.49 Q212.894 1398.49 214.699 1394.94 Q216.528 1391.38 216.528 1384.27 Q216.528 1377.14 214.699 1373.6 Q212.894 1370.04 209.26 1370.04 M209.26 1366.33 Q215.07 1366.33 218.125 1370.94 Q221.204 1375.52 221.204 1384.27 Q221.204 1393 218.125 1397.61 Q215.07 1402.19 209.26 1402.19 Q203.449 1402.19 200.371 1397.61 Q197.315 1393 197.315 1384.27 Q197.315 1375.52 200.371 1370.94 Q203.449 1366.33 209.26 1366.33 Z\" fill=\"#000000\" fill-rule=\"nonzero\" fill-opacity=\"1\" /><path clip-path=\"url(#clip500)\" d=\"M115.256 1060.18 L144.931 1060.18 L144.931 1064.11 L115.256 1064.11 L115.256 1060.18 Z\" fill=\"#000000\" fill-rule=\"nonzero\" fill-opacity=\"1\" /><path clip-path=\"url(#clip500)\" d=\"M165.024 1045.52 Q161.413 1045.52 159.584 1049.09 Q157.778 1052.63 157.778 1059.76 Q157.778 1066.87 159.584 1070.43 Q161.413 1073.97 165.024 1073.97 Q168.658 1073.97 170.464 1070.43 Q172.292 1066.87 172.292 1059.76 Q172.292 1052.63 170.464 1049.09 Q168.658 1045.52 165.024 1045.52 M165.024 1041.82 Q170.834 1041.82 173.889 1046.43 Q176.968 1051.01 176.968 1059.76 Q176.968 1068.49 173.889 1073.09 Q170.834 1077.68 165.024 1077.68 Q159.214 1077.68 156.135 1073.09 Q153.079 1068.49 153.079 1059.76 Q153.079 1051.01 156.135 1046.43 Q159.214 1041.82 165.024 1041.82 Z\" fill=\"#000000\" fill-rule=\"nonzero\" fill-opacity=\"1\" /><path clip-path=\"url(#clip500)\" d=\"M185.186 1071.13 L190.07 1071.13 L190.07 1077.01 L185.186 1077.01 L185.186 1071.13 Z\" fill=\"#000000\" fill-rule=\"nonzero\" fill-opacity=\"1\" /><path clip-path=\"url(#clip500)\" d=\"M200.301 1042.45 L218.658 1042.45 L218.658 1046.38 L204.584 1046.38 L204.584 1054.85 Q205.602 1054.51 206.621 1054.34 Q207.639 1054.16 208.658 1054.16 Q214.445 1054.16 217.824 1057.33 Q221.204 1060.5 221.204 1065.92 Q221.204 1071.5 217.732 1074.6 Q214.26 1077.68 207.94 1077.68 Q205.764 1077.68 203.496 1077.31 Q201.25 1076.94 198.843 1076.19 L198.843 1071.5 Q200.926 1072.63 203.149 1073.19 Q205.371 1073.74 207.848 1073.74 Q211.852 1073.74 214.19 1071.63 Q216.528 1069.53 216.528 1065.92 Q216.528 1062.31 214.19 1060.2 Q211.852 1058.09 207.848 1058.09 Q205.973 1058.09 204.098 1058.51 Q202.246 1058.93 200.301 1059.81 L200.301 1042.45 Z\" fill=\"#000000\" fill-rule=\"nonzero\" fill-opacity=\"1\" /><path clip-path=\"url(#clip500)\" d=\"M164.028 721.011 Q160.417 721.011 158.589 724.575 Q156.783 728.117 156.783 735.247 Q156.783 742.353 158.589 745.918 Q160.417 749.46 164.028 749.46 Q167.663 749.46 169.468 745.918 Q171.297 742.353 171.297 735.247 Q171.297 728.117 169.468 724.575 Q167.663 721.011 164.028 721.011 M164.028 717.307 Q169.839 717.307 172.894 721.913 Q175.973 726.497 175.973 735.247 Q175.973 743.973 172.894 748.58 Q169.839 753.163 164.028 753.163 Q158.218 753.163 155.14 748.58 Q152.084 743.973 152.084 735.247 Q152.084 726.497 155.14 721.913 Q158.218 717.307 164.028 717.307 Z\" fill=\"#000000\" fill-rule=\"nonzero\" fill-opacity=\"1\" /><path clip-path=\"url(#clip500)\" d=\"M184.19 746.612 L189.075 746.612 L189.075 752.492 L184.19 752.492 L184.19 746.612 Z\" fill=\"#000000\" fill-rule=\"nonzero\" fill-opacity=\"1\" /><path clip-path=\"url(#clip500)\" d=\"M209.26 721.011 Q205.649 721.011 203.82 724.575 Q202.014 728.117 202.014 735.247 Q202.014 742.353 203.82 745.918 Q205.649 749.46 209.26 749.46 Q212.894 749.46 214.699 745.918 Q216.528 742.353 216.528 735.247 Q216.528 728.117 214.699 724.575 Q212.894 721.011 209.26 721.011 M209.26 717.307 Q215.07 717.307 218.125 721.913 Q221.204 726.497 221.204 735.247 Q221.204 743.973 218.125 748.58 Q215.07 753.163 209.26 753.163 Q203.449 753.163 200.371 748.58 Q197.315 743.973 197.315 735.247 Q197.315 726.497 200.371 721.913 Q203.449 717.307 209.26 717.307 Z\" fill=\"#000000\" fill-rule=\"nonzero\" fill-opacity=\"1\" /><path clip-path=\"url(#clip500)\" d=\"M165.024 396.498 Q161.413 396.498 159.584 400.062 Q157.778 403.604 157.778 410.734 Q157.778 417.84 159.584 421.405 Q161.413 424.946 165.024 424.946 Q168.658 424.946 170.464 421.405 Q172.292 417.84 172.292 410.734 Q172.292 403.604 170.464 400.062 Q168.658 396.498 165.024 396.498 M165.024 392.794 Q170.834 392.794 173.889 397.4 Q176.968 401.984 176.968 410.734 Q176.968 419.46 173.889 424.067 Q170.834 428.65 165.024 428.65 Q159.214 428.65 156.135 424.067 Q153.079 419.46 153.079 410.734 Q153.079 401.984 156.135 397.4 Q159.214 392.794 165.024 392.794 Z\" fill=\"#000000\" fill-rule=\"nonzero\" fill-opacity=\"1\" /><path clip-path=\"url(#clip500)\" d=\"M185.186 422.099 L190.07 422.099 L190.07 427.979 L185.186 427.979 L185.186 422.099 Z\" fill=\"#000000\" fill-rule=\"nonzero\" fill-opacity=\"1\" /><path clip-path=\"url(#clip500)\" d=\"M200.301 393.419 L218.658 393.419 L218.658 397.354 L204.584 397.354 L204.584 405.826 Q205.602 405.479 206.621 405.317 Q207.639 405.132 208.658 405.132 Q214.445 405.132 217.824 408.303 Q221.204 411.474 221.204 416.891 Q221.204 422.47 217.732 425.571 Q214.26 428.65 207.94 428.65 Q205.764 428.65 203.496 428.28 Q201.25 427.909 198.843 427.169 L198.843 422.47 Q200.926 423.604 203.149 424.159 Q205.371 424.715 207.848 424.715 Q211.852 424.715 214.19 422.608 Q216.528 420.502 216.528 416.891 Q216.528 413.28 214.19 411.173 Q211.852 409.067 207.848 409.067 Q205.973 409.067 204.098 409.484 Q202.246 409.9 200.301 410.78 L200.301 393.419 Z\" fill=\"#000000\" fill-rule=\"nonzero\" fill-opacity=\"1\" /><path clip-path=\"url(#clip500)\" d=\"M154.839 99.5305 L162.477 99.5305 L162.477 73.1649 L154.167 74.8316 L154.167 70.5723 L162.431 68.9057 L167.107 68.9057 L167.107 99.5305 L174.746 99.5305 L174.746 103.466 L154.839 103.466 L154.839 99.5305 Z\" fill=\"#000000\" fill-rule=\"nonzero\" fill-opacity=\"1\" /><path clip-path=\"url(#clip500)\" d=\"M184.19 97.5861 L189.075 97.5861 L189.075 103.466 L184.19 103.466 L184.19 97.5861 Z\" fill=\"#000000\" fill-rule=\"nonzero\" fill-opacity=\"1\" /><path clip-path=\"url(#clip500)\" d=\"M209.26 71.9844 Q205.649 71.9844 203.82 75.5492 Q202.014 79.0908 202.014 86.2204 Q202.014 93.3268 203.82 96.8916 Q205.649 100.433 209.26 100.433 Q212.894 100.433 214.699 96.8916 Q216.528 93.3268 216.528 86.2204 Q216.528 79.0908 214.699 75.5492 Q212.894 71.9844 209.26 71.9844 M209.26 68.2807 Q215.07 68.2807 218.125 72.8871 Q221.204 77.4704 221.204 86.2204 Q221.204 94.9472 218.125 99.5537 Q215.07 104.137 209.26 104.137 Q203.449 104.137 200.371 99.5537 Q197.315 94.9472 197.315 86.2204 Q197.315 77.4704 200.371 72.8871 Q203.449 68.2807 209.26 68.2807 Z\" fill=\"#000000\" fill-rule=\"nonzero\" fill-opacity=\"1\" /><path clip-path=\"url(#clip500)\" d=\"M29.4065 816.343 L34.9447 816.343 Q33.6716 818.826 33.035 821.499 Q32.3984 824.173 32.3984 827.037 Q32.3984 831.398 33.7352 833.594 Q35.072 835.758 37.7456 835.758 Q39.7826 835.758 40.9603 834.199 Q42.1061 832.639 43.1565 827.928 L43.6021 825.923 Q44.9389 819.685 47.3897 817.075 Q49.8086 814.433 54.1691 814.433 Q59.1344 814.433 62.0308 818.38 Q64.9272 822.295 64.9272 829.17 Q64.9272 832.034 64.3543 835.154 Q63.8132 838.241 62.6992 841.678 L56.6518 841.678 Q58.3387 838.432 59.198 835.281 Q60.0256 832.13 60.0256 829.042 Q60.0256 824.905 58.6251 822.677 Q57.1929 820.449 54.6147 820.449 Q52.2276 820.449 50.9545 822.072 Q49.6813 823.663 48.5037 829.106 L48.0262 831.143 Q46.8804 836.586 44.5251 839.005 Q42.138 841.424 38.0002 841.424 Q32.9713 841.424 30.2341 837.859 Q27.4968 834.294 27.4968 827.738 Q27.4968 824.491 27.9743 821.626 Q28.4517 818.762 29.4065 816.343 Z\" fill=\"#000000\" fill-rule=\"nonzero\" fill-opacity=\"1\" /><path clip-path=\"url(#clip500)\" d=\"M28.3562 805.107 L28.3562 799.251 L64.0042 799.251 L64.0042 805.107 L28.3562 805.107 M14.479 805.107 L14.479 799.251 L21.895 799.251 L21.895 805.107 L14.479 805.107 Z\" fill=\"#000000\" fill-rule=\"nonzero\" fill-opacity=\"1\" /><path clip-path=\"url(#clip500)\" d=\"M42.4881 757.365 L64.0042 757.365 L64.0042 763.221 L42.679 763.221 Q37.6183 763.221 35.1038 765.194 Q32.5894 767.168 32.5894 771.115 Q32.5894 775.857 35.6131 778.594 Q38.6368 781.332 43.8567 781.332 L64.0042 781.332 L64.0042 787.22 L28.3562 787.22 L28.3562 781.332 L33.8944 781.332 Q30.6797 779.231 29.0883 776.398 Q27.4968 773.534 27.4968 769.81 Q27.4968 763.667 31.3163 760.516 Q35.1038 757.365 42.4881 757.365 Z\" fill=\"#000000\" fill-rule=\"nonzero\" fill-opacity=\"1\" /><path clip-path=\"url(#clip500)\" d=\"M14.5426 731.615 Q21.8632 735.88 29.0246 737.949 Q36.186 740.018 43.5384 740.018 Q50.8908 740.018 58.1159 737.949 Q65.3091 735.849 72.5979 731.615 L72.5979 736.708 Q65.1182 741.482 57.8931 743.869 Q50.668 746.225 43.5384 746.225 Q36.4406 746.225 29.2474 743.869 Q22.0542 741.514 14.5426 736.708 L14.5426 731.615 Z\" fill=\"#000000\" fill-rule=\"nonzero\" fill-opacity=\"1\" /><path clip-path=\"url(#clip500)\" d=\"M28.3562 724.04 L28.3562 689.888 L34.2127 689.888 L34.2127 694.376 L56.1107 694.376 Q58.4023 694.376 59.4208 693.612 Q60.4075 692.816 60.4075 691.066 Q60.4075 690.588 60.3439 689.888 Q60.2484 689.188 60.2166 688.965 L64.4498 688.965 Q64.8635 690.079 65.0545 691.257 Q65.2455 692.434 65.2455 693.612 Q65.2455 697.431 63.1766 698.896 Q61.0759 700.36 55.4741 700.36 L34.2127 700.36 L34.2127 713.505 L64.0042 713.505 L64.0042 719.489 L34.2127 719.489 L34.2127 724.04 L28.3562 724.04 Z\" fill=\"#000000\" fill-rule=\"nonzero\" fill-opacity=\"1\" /><path clip-path=\"url(#clip500)\" d=\"M28.3562 651.376 L45.7028 664.266 L64.0042 650.707 L64.0042 657.614 L49.9996 667.99 L64.0042 678.366 L64.0042 685.273 L45.3526 671.428 L28.3562 684.095 L28.3562 677.189 L41.0558 667.735 L28.3562 658.282 L28.3562 651.376 Z\" fill=\"#000000\" fill-rule=\"nonzero\" fill-opacity=\"1\" /><path clip-path=\"url(#clip500)\" d=\"M14.5426 643.355 L14.5426 638.262 Q22.0542 633.488 29.2474 631.133 Q36.4406 628.746 43.5384 628.746 Q50.668 628.746 57.8931 631.133 Q65.1182 633.488 72.5979 638.262 L72.5979 643.355 Q65.3091 639.122 58.1159 637.053 Q50.8908 634.952 43.5384 634.952 Q36.186 634.952 29.0246 637.053 Q21.8632 639.122 14.5426 643.355 Z\" fill=\"#000000\" fill-rule=\"nonzero\" fill-opacity=\"1\" /><polyline clip-path=\"url(#clip502)\" style=\"stroke:#009af9; stroke-linecap:round; stroke-linejoin:round; stroke-width:4; stroke-opacity:1; fill:none\" points=\"316.512,735.212 319.807,755.598 323.102,775.965 326.397,796.291 329.692,816.557 332.987,836.742 336.281,856.827 339.576,876.793 342.871,896.618 346.166,916.285 349.461,935.772 352.756,955.062 356.051,974.134 359.346,992.971 362.641,1011.55 365.935,1029.86 369.23,1047.88 372.525,1065.59 375.82,1082.98 379.115,1100.02 382.41,1116.7 385.705,1133 389,1148.92 392.295,1164.42 395.59,1179.5 398.884,1194.14 402.179,1208.33 405.474,1222.05 408.769,1235.3 412.064,1248.04 415.359,1260.29 418.654,1272.01 421.949,1283.2 425.244,1293.86 428.538,1303.96 431.833,1313.5 435.128,1322.47 438.423,1330.86 441.718,1338.66 445.013,1345.87 448.308,1352.47 451.603,1358.47 454.898,1363.85 458.192,1368.61 461.487,1372.74 464.782,1376.25 468.077,1379.12 471.372,1381.36 474.667,1382.96 477.962,1383.92 481.257,1384.24 484.552,1383.92 487.847,1382.96 491.141,1381.36 494.436,1379.12 497.731,1376.25 501.026,1372.74 504.321,1368.61 507.616,1363.85 510.911,1358.47 514.206,1352.47 517.501,1345.87 520.795,1338.66 524.09,1330.86 527.385,1322.47 530.68,1313.5 533.975,1303.96 537.27,1293.86 540.565,1283.2 543.86,1272.01 547.155,1260.29 550.449,1248.04 553.744,1235.3 557.039,1222.05 560.334,1208.33 563.629,1194.14 566.924,1179.5 570.219,1164.42 573.514,1148.92 576.809,1133 580.104,1116.7 583.398,1100.02 586.693,1082.98 589.988,1065.59 593.283,1047.88 596.578,1029.86 599.873,1011.55 603.168,992.971 606.463,974.134 609.758,955.062 613.052,935.772 616.347,916.285 619.642,896.618 622.937,876.793 626.232,856.827 629.527,836.742 632.822,816.557 636.117,796.291 639.412,775.965 642.706,755.598 646.001,735.212 649.296,714.826 652.591,694.459 655.886,674.133 659.181,653.867 662.476,633.682 665.771,613.597 669.066,593.631 672.361,573.806 675.655,554.139 678.95,534.652 682.245,515.362 685.54,496.289 688.835,477.453 692.13,458.87 695.425,440.56 698.72,422.541 702.015,404.831 705.309,387.446 708.604,370.405 711.899,353.724 715.194,337.419 718.489,321.507 721.784,306.003 725.079,290.923 728.374,276.281 731.669,262.092 734.963,248.37 738.258,235.129 741.553,222.381 744.848,210.139 748.143,198.415 751.438,187.221 754.733,176.568 758.028,166.466 761.323,156.925 764.618,147.955 767.912,139.565 771.207,131.763 774.502,124.556 777.797,117.951 781.092,111.956 784.387,106.576 787.682,101.816 790.977,97.6817 794.272,94.1763 797.566,91.3034 800.861,89.0661 804.156,87.4664 807.451,86.5059 810.746,86.1857 814.041,86.5059 817.336,87.4664 820.631,89.0661 823.926,91.3034 827.22,94.1763 830.515,97.6817 833.81,101.816 837.105,106.576 840.4,111.956 843.695,117.951 846.99,124.556 850.285,131.763 853.58,139.565 856.875,147.955 860.169,156.925 863.464,166.466 866.759,176.568 870.054,187.221 873.349,198.415 876.644,210.139 879.939,222.381 883.234,235.129 886.529,248.37 889.823,262.092 893.118,276.281 896.413,290.923 899.708,306.003 903.003,321.507 906.298,337.419 909.593,353.724 912.888,370.405 916.183,387.446 919.477,404.831 922.772,422.541 926.067,440.56 929.362,458.87 932.657,477.453 935.952,496.289 939.247,515.362 942.542,534.652 945.837,554.139 949.132,573.806 952.426,593.631 955.721,613.597 959.016,633.682 962.311,653.867 965.606,674.133 968.901,694.459 972.196,714.826 975.491,735.212 978.786,755.598 982.08,775.965 985.375,796.291 988.67,816.557 991.965,836.742 995.26,856.827 998.555,876.793 1001.85,896.618 1005.14,916.285 1008.44,935.772 1011.73,955.062 1015.03,974.134 1018.32,992.971 1021.62,1011.55 1024.91,1029.86 1028.21,1047.88 1031.5,1065.59 1034.8,1082.98 1038.09,1100.02 1041.39,1116.7 1044.68,1133 1047.98,1148.92 1051.27,1164.42 1054.57,1179.5 1057.86,1194.14 1061.16,1208.33 1064.45,1222.05 1067.75,1235.3 1071.04,1248.04 1074.34,1260.29 1077.63,1272.01 1080.93,1283.2 1084.22,1293.86 1087.52,1303.96 1090.81,1313.5 1094.11,1322.47 1097.4,1330.86 1100.7,1338.66 1103.99,1345.87 1107.29,1352.47 1110.58,1358.47 1113.88,1363.85 1117.17,1368.61 1120.47,1372.74 1123.76,1376.25 1127.06,1379.12 1130.35,1381.36 1133.65,1382.96 1136.94,1383.92 1140.24,1384.24 1143.53,1383.92 1146.83,1382.96 1150.12,1381.36 1153.41,1379.12 1156.71,1376.25 1160,1372.74 1163.3,1368.61 1166.59,1363.85 1169.89,1358.47 1173.18,1352.47 1176.48,1345.87 1179.77,1338.66 1183.07,1330.86 1186.36,1322.47 1189.66,1313.5 1192.95,1303.96 1196.25,1293.86 1199.54,1283.2 1202.84,1272.01 1206.13,1260.29 1209.43,1248.04 1212.72,1235.3 1216.02,1222.05 1219.31,1208.33 1222.61,1194.14 1225.9,1179.5 1229.2,1164.42 1232.49,1148.92 1235.79,1133 1239.08,1116.7 1242.38,1100.02 1245.67,1082.98 1248.97,1065.59 1252.26,1047.88 1255.56,1029.86 1258.85,1011.55 1262.15,992.971 1265.44,974.134 1268.74,955.062 1272.03,935.772 1275.33,916.285 1278.62,896.618 1281.92,876.793 1285.21,856.827 1288.51,836.742 1291.8,816.557 1295.1,796.291 1298.39,775.965 1301.69,755.598 1304.98,735.212 1308.27,714.826 1311.57,694.459 1314.86,674.133 1318.16,653.867 1321.45,633.682 1324.75,613.597 1328.04,593.631 1331.34,573.806 1334.63,554.139 1337.93,534.652 1341.22,515.362 1344.52,496.289 1347.81,477.453 1351.11,458.87 1354.4,440.56 1357.7,422.541 1360.99,404.831 1364.29,387.446 1367.58,370.405 1370.88,353.724 1374.17,337.419 1377.47,321.507 1380.76,306.003 1384.06,290.923 1387.35,276.281 1390.65,262.092 1393.94,248.37 1397.24,235.129 1400.53,222.381 1403.83,210.139 1407.12,198.415 1410.42,187.221 1413.71,176.568 1417.01,166.466 1420.3,156.925 1423.6,147.955 1426.89,139.565 1430.19,131.763 1433.48,124.556 1436.78,117.951 1440.07,111.956 1443.37,106.576 1446.66,101.816 1449.96,97.6817 1453.25,94.1763 1456.55,91.3034 1459.84,89.0661 1463.13,87.4664 1466.43,86.5059 1469.72,86.1857 1473.02,86.5059 1476.31,87.4664 1479.61,89.0661 1482.9,91.3034 1486.2,94.1763 1489.49,97.6817 1492.79,101.816 1496.08,106.576 1499.38,111.956 1502.67,117.951 1505.97,124.556 1509.26,131.763 1512.56,139.565 1515.85,147.955 1519.15,156.925 1522.44,166.466 1525.74,176.568 1529.03,187.221 1532.33,198.415 1535.62,210.139 1538.92,222.381 1542.21,235.129 1545.51,248.37 1548.8,262.092 1552.1,276.281 1555.39,290.923 1558.69,306.003 1561.98,321.507 1565.28,337.419 1568.57,353.724 1571.87,370.405 1575.16,387.446 1578.46,404.831 1581.75,422.541 1585.05,440.56 1588.34,458.87 1591.64,477.453 1594.93,496.289 1598.23,515.362 1601.52,534.652 1604.82,554.139 1608.11,573.806 1611.41,593.631 1614.7,613.597 1617.99,633.682 1621.29,653.867 1624.58,674.133 1627.88,694.459 1631.17,714.826 1634.47,735.212 1637.76,755.598 1641.06,775.965 1644.35,796.291 1647.65,816.557 1650.94,836.742 1654.24,856.827 1657.53,876.793 1660.83,896.618 1664.12,916.285 1667.42,935.772 1670.71,955.062 1674.01,974.134 1677.3,992.971 1680.6,1011.55 1683.89,1029.86 1687.19,1047.88 1690.48,1065.59 1693.78,1082.98 1697.07,1100.02 1700.37,1116.7 1703.66,1133 1706.96,1148.92 1710.25,1164.42 1713.55,1179.5 1716.84,1194.14 1720.14,1208.33 1723.43,1222.05 1726.73,1235.3 1730.02,1248.04 1733.32,1260.29 1736.61,1272.01 1739.91,1283.2 1743.2,1293.86 1746.5,1303.96 1749.79,1313.5 1753.09,1322.47 1756.38,1330.86 1759.68,1338.66 1762.97,1345.87 1766.26,1352.47 1769.56,1358.47 1772.85,1363.85 1776.15,1368.61 1779.44,1372.74 1782.74,1376.25 1786.03,1379.12 1789.33,1381.36 1792.62,1382.96 1795.92,1383.92 1799.21,1384.24 1802.51,1383.92 1805.8,1382.96 1809.1,1381.36 1812.39,1379.12 1815.69,1376.25 1818.98,1372.74 1822.28,1368.61 1825.57,1363.85 1828.87,1358.47 1832.16,1352.47 1835.46,1345.87 1838.75,1338.66 1842.05,1330.86 1845.34,1322.47 1848.64,1313.5 1851.93,1303.96 1855.23,1293.86 1858.52,1283.2 1861.82,1272.01 1865.11,1260.29 1868.41,1248.04 1871.7,1235.3 1875,1222.05 1878.29,1208.33 1881.59,1194.14 1884.88,1179.5 1888.18,1164.42 1891.47,1148.92 1894.77,1133 1898.06,1116.7 1901.36,1100.02 1904.65,1082.98 1907.95,1065.59 1911.24,1047.88 1914.54,1029.86 1917.83,1011.55 1921.12,992.971 1924.42,974.134 1927.71,955.062 1931.01,935.772 1934.3,916.285 1937.6,896.618 1940.89,876.793 1944.19,856.827 1947.48,836.742 1950.78,816.557 1954.07,796.291 1957.37,775.965 1960.66,755.598 1963.96,735.212 1967.25,714.826 1970.55,694.459 1973.84,674.133 1977.14,653.867 1980.43,633.682 1983.73,613.597 1987.02,593.631 1990.32,573.806 1993.61,554.139 1996.91,534.652 2000.2,515.362 2003.5,496.289 2006.79,477.453 2010.09,458.87 2013.38,440.56 2016.68,422.541 2019.97,404.831 2023.27,387.446 2026.56,370.405 2029.86,353.724 2033.15,337.419 2036.45,321.507 2039.74,306.003 2043.04,290.923 2046.33,276.281 2049.63,262.092 2052.92,248.37 2056.22,235.129 2059.51,222.381 2062.81,210.139 2066.1,198.415 2069.4,187.221 2072.69,176.568 2075.98,166.466 2079.28,156.925 2082.57,147.955 2085.87,139.565 2089.16,131.763 2092.46,124.556 2095.75,117.951 2099.05,111.956 2102.34,106.576 2105.64,101.816 2108.93,97.6817 2112.23,94.1763 2115.52,91.3034 2118.82,89.0661 2122.11,87.4664 2125.41,86.5059 2128.7,86.1857 2132,86.5059 2135.29,87.4664 2138.59,89.0661 2141.88,91.3034 2145.18,94.1763 2148.47,97.6817 2151.77,101.816 2155.06,106.576 2158.36,111.956 2161.65,117.951 2164.95,124.556 2168.24,131.763 2171.54,139.565 2174.83,147.955 2178.13,156.925 2181.42,166.466 2184.72,176.568 2188.01,187.221 2191.31,198.415 2194.6,210.139 2197.9,222.381 2201.19,235.129 2204.49,248.37 2207.78,262.092 2211.08,276.281 2214.37,290.923 2217.67,306.003 2220.96,321.507 2224.26,337.419 2227.55,353.724 2230.84,370.405 2234.14,387.446 2237.43,404.831 2240.73,422.541 2244.02,440.56 2247.32,458.87 2250.61,477.453 2253.91,496.289 2257.2,515.362 2260.5,534.652 2263.79,554.139 2267.09,573.806 2270.38,593.631 2273.68,613.597 2276.97,633.682 2280.27,653.867 2283.56,674.133 2286.86,694.459 2290.15,714.826 2293.45,735.212 \"/>\n",
       "<path clip-path=\"url(#clip500)\" d=\"M1918.49 1377.32 L2282.9 1377.32 L2282.9 1273.64 L1918.49 1273.64  Z\" fill=\"#ffffff\" fill-rule=\"evenodd\" fill-opacity=\"1\"/>\n",
       "<polyline clip-path=\"url(#clip500)\" style=\"stroke:#000000; stroke-linecap:round; stroke-linejoin:round; stroke-width:4; stroke-opacity:1; fill:none\" points=\"1918.49,1377.32 2282.9,1377.32 2282.9,1273.64 1918.49,1273.64 1918.49,1377.32 \"/>\n",
       "<polyline clip-path=\"url(#clip500)\" style=\"stroke:#009af9; stroke-linecap:round; stroke-linejoin:round; stroke-width:4; stroke-opacity:1; fill:none\" points=\"1941.77,1325.48 2081.48,1325.48 \"/>\n",
       "<path clip-path=\"url(#clip500)\" d=\"M2123.19 1317.59 L2123.19 1321.62 Q2121.38 1320.7 2119.44 1320.23 Q2117.49 1319.77 2115.41 1319.77 Q2112.24 1319.77 2110.64 1320.74 Q2109.07 1321.71 2109.07 1323.66 Q2109.07 1325.14 2110.2 1326 Q2111.33 1326.83 2114.76 1327.59 L2116.22 1327.92 Q2120.76 1328.89 2122.65 1330.67 Q2124.57 1332.43 2124.57 1335.6 Q2124.57 1339.21 2121.7 1341.32 Q2118.86 1343.43 2113.86 1343.43 Q2111.77 1343.43 2109.51 1343.01 Q2107.26 1342.62 2104.76 1341.81 L2104.76 1337.41 Q2107.12 1338.63 2109.41 1339.26 Q2111.7 1339.86 2113.95 1339.86 Q2116.96 1339.86 2118.58 1338.84 Q2120.2 1337.8 2120.2 1335.93 Q2120.2 1334.19 2119.02 1333.26 Q2117.86 1332.34 2113.9 1331.48 L2112.42 1331.14 Q2108.46 1330.3 2106.7 1328.59 Q2104.95 1326.85 2104.95 1323.84 Q2104.95 1320.19 2107.54 1318.2 Q2110.13 1316.2 2114.9 1316.2 Q2117.26 1316.2 2119.34 1316.55 Q2121.43 1316.9 2123.19 1317.59 Z\" fill=\"#000000\" fill-rule=\"nonzero\" fill-opacity=\"1\" /><path clip-path=\"url(#clip500)\" d=\"M2131.36 1316.83 L2135.62 1316.83 L2135.62 1342.76 L2131.36 1342.76 L2131.36 1316.83 M2131.36 1306.74 L2135.62 1306.74 L2135.62 1312.13 L2131.36 1312.13 L2131.36 1306.74 Z\" fill=\"#000000\" fill-rule=\"nonzero\" fill-opacity=\"1\" /><path clip-path=\"url(#clip500)\" d=\"M2166.08 1327.11 L2166.08 1342.76 L2161.82 1342.76 L2161.82 1327.25 Q2161.82 1323.57 2160.38 1321.74 Q2158.95 1319.91 2156.08 1319.91 Q2152.63 1319.91 2150.64 1322.11 Q2148.65 1324.31 2148.65 1328.1 L2148.65 1342.76 L2144.37 1342.76 L2144.37 1316.83 L2148.65 1316.83 L2148.65 1320.86 Q2150.18 1318.52 2152.24 1317.36 Q2154.32 1316.2 2157.03 1316.2 Q2161.5 1316.2 2163.79 1318.98 Q2166.08 1321.74 2166.08 1327.11 Z\" fill=\"#000000\" fill-rule=\"nonzero\" fill-opacity=\"1\" /><path clip-path=\"url(#clip500)\" d=\"M2184.81 1306.78 Q2181.7 1312.11 2180.2 1317.32 Q2178.69 1322.52 2178.69 1327.87 Q2178.69 1333.22 2180.2 1338.47 Q2181.73 1343.7 2184.81 1349.01 L2181.1 1349.01 Q2177.63 1343.57 2175.89 1338.31 Q2174.18 1333.06 2174.18 1327.87 Q2174.18 1322.71 2175.89 1317.48 Q2177.61 1312.25 2181.1 1306.78 L2184.81 1306.78 Z\" fill=\"#000000\" fill-rule=\"nonzero\" fill-opacity=\"1\" /><path clip-path=\"url(#clip500)\" d=\"M2190.32 1316.83 L2215.15 1316.83 L2215.15 1321.09 L2211.89 1321.09 L2211.89 1337.01 Q2211.89 1338.68 2212.44 1339.42 Q2213.02 1340.14 2214.3 1340.14 Q2214.64 1340.14 2215.15 1340.09 Q2215.66 1340.02 2215.82 1340 L2215.82 1343.08 Q2215.01 1343.38 2214.16 1343.52 Q2213.3 1343.66 2212.44 1343.66 Q2209.67 1343.66 2208.6 1342.15 Q2207.54 1340.63 2207.54 1336.55 L2207.54 1321.09 L2197.98 1321.09 L2197.98 1342.76 L2193.63 1342.76 L2193.63 1321.09 L2190.32 1321.09 L2190.32 1316.83 Z\" fill=\"#000000\" fill-rule=\"nonzero\" fill-opacity=\"1\" /><path clip-path=\"url(#clip500)\" d=\"M2243.16 1316.83 L2233.79 1329.45 L2243.65 1342.76 L2238.63 1342.76 L2231.08 1332.57 L2223.53 1342.76 L2218.51 1342.76 L2228.58 1329.19 L2219.37 1316.83 L2224.39 1316.83 L2231.26 1326.07 L2238.14 1316.83 L2243.16 1316.83 Z\" fill=\"#000000\" fill-rule=\"nonzero\" fill-opacity=\"1\" /><path clip-path=\"url(#clip500)\" d=\"M2249 1306.78 L2252.7 1306.78 Q2256.17 1312.25 2257.88 1317.48 Q2259.62 1322.71 2259.62 1327.87 Q2259.62 1333.06 2257.88 1338.31 Q2256.17 1343.57 2252.7 1349.01 L2249 1349.01 Q2252.07 1343.7 2253.58 1338.47 Q2255.11 1333.22 2255.11 1327.87 Q2255.11 1322.52 2253.58 1317.32 Q2252.07 1312.11 2249 1306.78 Z\" fill=\"#000000\" fill-rule=\"nonzero\" fill-opacity=\"1\" /></svg>\n"
      ],
      "text/html": [
       "<?xml version=\"1.0\" encoding=\"utf-8\"?>\n",
       "<svg xmlns=\"http://www.w3.org/2000/svg\" xmlns:xlink=\"http://www.w3.org/1999/xlink\" width=\"600\" height=\"400\" viewBox=\"0 0 2400 1600\">\n",
       "<defs>\n",
       "  <clipPath id=\"clip550\">\n",
       "    <rect x=\"0\" y=\"0\" width=\"2400\" height=\"1600\"/>\n",
       "  </clipPath>\n",
       "</defs>\n",
       "<path clip-path=\"url(#clip550)\" d=\"M0 1600 L2400 1600 L2400 0 L0 0  Z\" fill=\"#ffffff\" fill-rule=\"evenodd\" fill-opacity=\"1\"/>\n",
       "<defs>\n",
       "  <clipPath id=\"clip551\">\n",
       "    <rect x=\"480\" y=\"0\" width=\"1681\" height=\"1600\"/>\n",
       "  </clipPath>\n",
       "</defs>\n",
       "<path clip-path=\"url(#clip550)\" d=\"M257.204 1423.18 L2352.76 1423.18 L2352.76 47.2441 L257.204 47.2441  Z\" fill=\"#ffffff\" fill-rule=\"evenodd\" fill-opacity=\"1\"/>\n",
       "<defs>\n",
       "  <clipPath id=\"clip552\">\n",
       "    <rect x=\"257\" y=\"47\" width=\"2097\" height=\"1377\"/>\n",
       "  </clipPath>\n",
       "</defs>\n",
       "<polyline clip-path=\"url(#clip552)\" style=\"stroke:#000000; stroke-linecap:round; stroke-linejoin:round; stroke-width:2; stroke-opacity:0.1; fill:none\" points=\"316.512,1423.18 316.512,47.2441 \"/>\n",
       "<polyline clip-path=\"url(#clip552)\" style=\"stroke:#000000; stroke-linecap:round; stroke-linejoin:round; stroke-width:2; stroke-opacity:0.1; fill:none\" points=\"646.001,1423.18 646.001,47.2441 \"/>\n",
       "<polyline clip-path=\"url(#clip552)\" style=\"stroke:#000000; stroke-linecap:round; stroke-linejoin:round; stroke-width:2; stroke-opacity:0.1; fill:none\" points=\"975.491,1423.18 975.491,47.2441 \"/>\n",
       "<polyline clip-path=\"url(#clip552)\" style=\"stroke:#000000; stroke-linecap:round; stroke-linejoin:round; stroke-width:2; stroke-opacity:0.1; fill:none\" points=\"1304.98,1423.18 1304.98,47.2441 \"/>\n",
       "<polyline clip-path=\"url(#clip552)\" style=\"stroke:#000000; stroke-linecap:round; stroke-linejoin:round; stroke-width:2; stroke-opacity:0.1; fill:none\" points=\"1634.47,1423.18 1634.47,47.2441 \"/>\n",
       "<polyline clip-path=\"url(#clip552)\" style=\"stroke:#000000; stroke-linecap:round; stroke-linejoin:round; stroke-width:2; stroke-opacity:0.1; fill:none\" points=\"1963.96,1423.18 1963.96,47.2441 \"/>\n",
       "<polyline clip-path=\"url(#clip552)\" style=\"stroke:#000000; stroke-linecap:round; stroke-linejoin:round; stroke-width:2; stroke-opacity:0.1; fill:none\" points=\"2293.45,1423.18 2293.45,47.2441 \"/>\n",
       "<polyline clip-path=\"url(#clip550)\" style=\"stroke:#000000; stroke-linecap:round; stroke-linejoin:round; stroke-width:4; stroke-opacity:1; fill:none\" points=\"257.204,1423.18 2352.76,1423.18 \"/>\n",
       "<polyline clip-path=\"url(#clip550)\" style=\"stroke:#000000; stroke-linecap:round; stroke-linejoin:round; stroke-width:4; stroke-opacity:1; fill:none\" points=\"316.512,1423.18 316.512,1404.28 \"/>\n",
       "<polyline clip-path=\"url(#clip550)\" style=\"stroke:#000000; stroke-linecap:round; stroke-linejoin:round; stroke-width:4; stroke-opacity:1; fill:none\" points=\"646.001,1423.18 646.001,1404.28 \"/>\n",
       "<polyline clip-path=\"url(#clip550)\" style=\"stroke:#000000; stroke-linecap:round; stroke-linejoin:round; stroke-width:4; stroke-opacity:1; fill:none\" points=\"975.491,1423.18 975.491,1404.28 \"/>\n",
       "<polyline clip-path=\"url(#clip550)\" style=\"stroke:#000000; stroke-linecap:round; stroke-linejoin:round; stroke-width:4; stroke-opacity:1; fill:none\" points=\"1304.98,1423.18 1304.98,1404.28 \"/>\n",
       "<polyline clip-path=\"url(#clip550)\" style=\"stroke:#000000; stroke-linecap:round; stroke-linejoin:round; stroke-width:4; stroke-opacity:1; fill:none\" points=\"1634.47,1423.18 1634.47,1404.28 \"/>\n",
       "<polyline clip-path=\"url(#clip550)\" style=\"stroke:#000000; stroke-linecap:round; stroke-linejoin:round; stroke-width:4; stroke-opacity:1; fill:none\" points=\"1963.96,1423.18 1963.96,1404.28 \"/>\n",
       "<polyline clip-path=\"url(#clip550)\" style=\"stroke:#000000; stroke-linecap:round; stroke-linejoin:round; stroke-width:4; stroke-opacity:1; fill:none\" points=\"2293.45,1423.18 2293.45,1404.28 \"/>\n",
       "<path clip-path=\"url(#clip550)\" d=\"M285.98 1468.75 L315.656 1468.75 L315.656 1472.69 L285.98 1472.69 L285.98 1468.75 Z\" fill=\"#000000\" fill-rule=\"nonzero\" fill-opacity=\"1\" /><path clip-path=\"url(#clip550)\" d=\"M339.915 1466.95 Q343.271 1467.66 345.146 1469.93 Q347.044 1472.2 347.044 1475.53 Q347.044 1480.65 343.526 1483.45 Q340.007 1486.25 333.526 1486.25 Q331.35 1486.25 329.035 1485.81 Q326.744 1485.39 324.29 1484.54 L324.29 1480.02 Q326.234 1481.16 328.549 1481.74 Q330.864 1482.32 333.387 1482.32 Q337.785 1482.32 340.077 1480.58 Q342.392 1478.84 342.392 1475.53 Q342.392 1472.48 340.239 1470.77 Q338.109 1469.03 334.29 1469.03 L330.262 1469.03 L330.262 1465.19 L334.475 1465.19 Q337.924 1465.19 339.753 1463.82 Q341.581 1462.43 341.581 1459.84 Q341.581 1457.18 339.683 1455.77 Q337.808 1454.33 334.29 1454.33 Q332.368 1454.33 330.169 1454.75 Q327.97 1455.16 325.331 1456.04 L325.331 1451.88 Q327.994 1451.14 330.308 1450.77 Q332.646 1450.39 334.706 1450.39 Q340.03 1450.39 343.132 1452.83 Q346.234 1455.23 346.234 1459.35 Q346.234 1462.22 344.591 1464.21 Q342.947 1466.18 339.915 1466.95 Z\" fill=\"#000000\" fill-rule=\"nonzero\" fill-opacity=\"1\" /><path clip-path=\"url(#clip550)\" d=\"M615.944 1468.75 L645.619 1468.75 L645.619 1472.69 L615.944 1472.69 L615.944 1468.75 Z\" fill=\"#000000\" fill-rule=\"nonzero\" fill-opacity=\"1\" /><path clip-path=\"url(#clip550)\" d=\"M659.74 1481.64 L676.059 1481.64 L676.059 1485.58 L654.115 1485.58 L654.115 1481.64 Q656.777 1478.89 661.36 1474.26 Q665.967 1469.61 667.147 1468.27 Q669.392 1465.74 670.272 1464.01 Q671.175 1462.25 671.175 1460.56 Q671.175 1457.8 669.23 1456.07 Q667.309 1454.33 664.207 1454.33 Q662.008 1454.33 659.555 1455.09 Q657.124 1455.86 654.346 1457.41 L654.346 1452.69 Q657.17 1451.55 659.624 1450.97 Q662.078 1450.39 664.115 1450.39 Q669.485 1450.39 672.679 1453.08 Q675.874 1455.77 675.874 1460.26 Q675.874 1462.39 675.064 1464.31 Q674.277 1466.2 672.17 1468.8 Q671.592 1469.47 668.49 1472.69 Q665.388 1475.88 659.74 1481.64 Z\" fill=\"#000000\" fill-rule=\"nonzero\" fill-opacity=\"1\" /><path clip-path=\"url(#clip550)\" d=\"M945.248 1468.75 L974.924 1468.75 L974.924 1472.69 L945.248 1472.69 L945.248 1468.75 Z\" fill=\"#000000\" fill-rule=\"nonzero\" fill-opacity=\"1\" /><path clip-path=\"url(#clip550)\" d=\"M985.826 1481.64 L993.465 1481.64 L993.465 1455.28 L985.155 1456.95 L985.155 1452.69 L993.419 1451.02 L998.095 1451.02 L998.095 1481.64 L1005.73 1481.64 L1005.73 1485.58 L985.826 1485.58 L985.826 1481.64 Z\" fill=\"#000000\" fill-rule=\"nonzero\" fill-opacity=\"1\" /><path clip-path=\"url(#clip550)\" d=\"M1304.98 1454.1 Q1301.37 1454.1 1299.54 1457.66 Q1297.73 1461.2 1297.73 1468.33 Q1297.73 1475.44 1299.54 1479.01 Q1301.37 1482.55 1304.98 1482.55 Q1308.61 1482.55 1310.42 1479.01 Q1312.25 1475.44 1312.25 1468.33 Q1312.25 1461.2 1310.42 1457.66 Q1308.61 1454.1 1304.98 1454.1 M1304.98 1450.39 Q1310.79 1450.39 1313.85 1455 Q1316.92 1459.58 1316.92 1468.33 Q1316.92 1477.06 1313.85 1481.67 Q1310.79 1486.25 1304.98 1486.25 Q1299.17 1486.25 1296.09 1481.67 Q1293.04 1477.06 1293.04 1468.33 Q1293.04 1459.58 1296.09 1455 Q1299.17 1450.39 1304.98 1450.39 Z\" fill=\"#000000\" fill-rule=\"nonzero\" fill-opacity=\"1\" /><path clip-path=\"url(#clip550)\" d=\"M1624.85 1481.64 L1632.49 1481.64 L1632.49 1455.28 L1624.18 1456.95 L1624.18 1452.69 L1632.44 1451.02 L1637.12 1451.02 L1637.12 1481.64 L1644.76 1481.64 L1644.76 1485.58 L1624.85 1485.58 L1624.85 1481.64 Z\" fill=\"#000000\" fill-rule=\"nonzero\" fill-opacity=\"1\" /><path clip-path=\"url(#clip550)\" d=\"M1958.61 1481.64 L1974.93 1481.64 L1974.93 1485.58 L1952.99 1485.58 L1952.99 1481.64 Q1955.65 1478.89 1960.23 1474.26 Q1964.84 1469.61 1966.02 1468.27 Q1968.26 1465.74 1969.14 1464.01 Q1970.05 1462.25 1970.05 1460.56 Q1970.05 1457.8 1968.1 1456.07 Q1966.18 1454.33 1963.08 1454.33 Q1960.88 1454.33 1958.43 1455.09 Q1956 1455.86 1953.22 1457.41 L1953.22 1452.69 Q1956.04 1451.55 1958.5 1450.97 Q1960.95 1450.39 1962.99 1450.39 Q1968.36 1450.39 1971.55 1453.08 Q1974.75 1455.77 1974.75 1460.26 Q1974.75 1462.39 1973.94 1464.31 Q1973.15 1466.2 1971.04 1468.8 Q1970.46 1469.47 1967.36 1472.69 Q1964.26 1475.88 1958.61 1481.64 Z\" fill=\"#000000\" fill-rule=\"nonzero\" fill-opacity=\"1\" /><path clip-path=\"url(#clip550)\" d=\"M2297.7 1466.95 Q2301.05 1467.66 2302.93 1469.93 Q2304.83 1472.2 2304.83 1475.53 Q2304.83 1480.65 2301.31 1483.45 Q2297.79 1486.25 2291.31 1486.25 Q2289.13 1486.25 2286.82 1485.81 Q2284.52 1485.39 2282.07 1484.54 L2282.07 1480.02 Q2284.02 1481.16 2286.33 1481.74 Q2288.64 1482.32 2291.17 1482.32 Q2295.57 1482.32 2297.86 1480.58 Q2300.17 1478.84 2300.17 1475.53 Q2300.17 1472.48 2298.02 1470.77 Q2295.89 1469.03 2292.07 1469.03 L2288.04 1469.03 L2288.04 1465.19 L2292.26 1465.19 Q2295.7 1465.19 2297.53 1463.82 Q2299.36 1462.43 2299.36 1459.84 Q2299.36 1457.18 2297.46 1455.77 Q2295.59 1454.33 2292.07 1454.33 Q2290.15 1454.33 2287.95 1454.75 Q2285.75 1455.16 2283.11 1456.04 L2283.11 1451.88 Q2285.77 1451.14 2288.09 1450.77 Q2290.43 1450.39 2292.49 1450.39 Q2297.81 1450.39 2300.91 1452.83 Q2304.01 1455.23 2304.01 1459.35 Q2304.01 1462.22 2302.37 1464.21 Q2300.73 1466.18 2297.7 1466.95 Z\" fill=\"#000000\" fill-rule=\"nonzero\" fill-opacity=\"1\" /><path clip-path=\"url(#clip550)\" d=\"M1321.59 1532.4 L1308.7 1549.74 L1322.26 1568.04 L1315.36 1568.04 L1304.98 1554.04 L1294.6 1568.04 L1287.7 1568.04 L1301.54 1549.39 L1288.87 1532.4 L1295.78 1532.4 L1305.23 1545.1 L1314.69 1532.4 L1321.59 1532.4 Z\" fill=\"#000000\" fill-rule=\"nonzero\" fill-opacity=\"1\" /><polyline clip-path=\"url(#clip552)\" style=\"stroke:#000000; stroke-linecap:round; stroke-linejoin:round; stroke-width:2; stroke-opacity:0.1; fill:none\" points=\"257.204,1384.24 2352.76,1384.24 \"/>\n",
       "<polyline clip-path=\"url(#clip552)\" style=\"stroke:#000000; stroke-linecap:round; stroke-linejoin:round; stroke-width:2; stroke-opacity:0.1; fill:none\" points=\"257.204,1059.73 2352.76,1059.73 \"/>\n",
       "<polyline clip-path=\"url(#clip552)\" style=\"stroke:#000000; stroke-linecap:round; stroke-linejoin:round; stroke-width:2; stroke-opacity:0.1; fill:none\" points=\"257.204,735.212 2352.76,735.212 \"/>\n",
       "<polyline clip-path=\"url(#clip552)\" style=\"stroke:#000000; stroke-linecap:round; stroke-linejoin:round; stroke-width:2; stroke-opacity:0.1; fill:none\" points=\"257.204,410.699 2352.76,410.699 \"/>\n",
       "<polyline clip-path=\"url(#clip552)\" style=\"stroke:#000000; stroke-linecap:round; stroke-linejoin:round; stroke-width:2; stroke-opacity:0.1; fill:none\" points=\"257.204,86.1857 2352.76,86.1857 \"/>\n",
       "<polyline clip-path=\"url(#clip550)\" style=\"stroke:#000000; stroke-linecap:round; stroke-linejoin:round; stroke-width:4; stroke-opacity:1; fill:none\" points=\"257.204,1423.18 257.204,47.2441 \"/>\n",
       "<polyline clip-path=\"url(#clip550)\" style=\"stroke:#000000; stroke-linecap:round; stroke-linejoin:round; stroke-width:4; stroke-opacity:1; fill:none\" points=\"257.204,1384.24 276.102,1384.24 \"/>\n",
       "<polyline clip-path=\"url(#clip550)\" style=\"stroke:#000000; stroke-linecap:round; stroke-linejoin:round; stroke-width:4; stroke-opacity:1; fill:none\" points=\"257.204,1059.73 276.102,1059.73 \"/>\n",
       "<polyline clip-path=\"url(#clip550)\" style=\"stroke:#000000; stroke-linecap:round; stroke-linejoin:round; stroke-width:4; stroke-opacity:1; fill:none\" points=\"257.204,735.212 276.102,735.212 \"/>\n",
       "<polyline clip-path=\"url(#clip550)\" style=\"stroke:#000000; stroke-linecap:round; stroke-linejoin:round; stroke-width:4; stroke-opacity:1; fill:none\" points=\"257.204,410.699 276.102,410.699 \"/>\n",
       "<polyline clip-path=\"url(#clip550)\" style=\"stroke:#000000; stroke-linecap:round; stroke-linejoin:round; stroke-width:4; stroke-opacity:1; fill:none\" points=\"257.204,86.1857 276.102,86.1857 \"/>\n",
       "<path clip-path=\"url(#clip550)\" d=\"M114.26 1384.69 L143.936 1384.69 L143.936 1388.62 L114.26 1388.62 L114.26 1384.69 Z\" fill=\"#000000\" fill-rule=\"nonzero\" fill-opacity=\"1\" /><path clip-path=\"url(#clip550)\" d=\"M154.839 1397.58 L162.477 1397.58 L162.477 1371.22 L154.167 1372.88 L154.167 1368.62 L162.431 1366.96 L167.107 1366.96 L167.107 1397.58 L174.746 1397.58 L174.746 1401.52 L154.839 1401.52 L154.839 1397.58 Z\" fill=\"#000000\" fill-rule=\"nonzero\" fill-opacity=\"1\" /><path clip-path=\"url(#clip550)\" d=\"M184.19 1395.64 L189.075 1395.64 L189.075 1401.52 L184.19 1401.52 L184.19 1395.64 Z\" fill=\"#000000\" fill-rule=\"nonzero\" fill-opacity=\"1\" /><path clip-path=\"url(#clip550)\" d=\"M209.26 1370.04 Q205.649 1370.04 203.82 1373.6 Q202.014 1377.14 202.014 1384.27 Q202.014 1391.38 203.82 1394.94 Q205.649 1398.49 209.26 1398.49 Q212.894 1398.49 214.699 1394.94 Q216.528 1391.38 216.528 1384.27 Q216.528 1377.14 214.699 1373.6 Q212.894 1370.04 209.26 1370.04 M209.26 1366.33 Q215.07 1366.33 218.125 1370.94 Q221.204 1375.52 221.204 1384.27 Q221.204 1393 218.125 1397.61 Q215.07 1402.19 209.26 1402.19 Q203.449 1402.19 200.371 1397.61 Q197.315 1393 197.315 1384.27 Q197.315 1375.52 200.371 1370.94 Q203.449 1366.33 209.26 1366.33 Z\" fill=\"#000000\" fill-rule=\"nonzero\" fill-opacity=\"1\" /><path clip-path=\"url(#clip550)\" d=\"M115.256 1060.18 L144.931 1060.18 L144.931 1064.11 L115.256 1064.11 L115.256 1060.18 Z\" fill=\"#000000\" fill-rule=\"nonzero\" fill-opacity=\"1\" /><path clip-path=\"url(#clip550)\" d=\"M165.024 1045.52 Q161.413 1045.52 159.584 1049.09 Q157.778 1052.63 157.778 1059.76 Q157.778 1066.87 159.584 1070.43 Q161.413 1073.97 165.024 1073.97 Q168.658 1073.97 170.464 1070.43 Q172.292 1066.87 172.292 1059.76 Q172.292 1052.63 170.464 1049.09 Q168.658 1045.52 165.024 1045.52 M165.024 1041.82 Q170.834 1041.82 173.889 1046.43 Q176.968 1051.01 176.968 1059.76 Q176.968 1068.49 173.889 1073.09 Q170.834 1077.68 165.024 1077.68 Q159.214 1077.68 156.135 1073.09 Q153.079 1068.49 153.079 1059.76 Q153.079 1051.01 156.135 1046.43 Q159.214 1041.82 165.024 1041.82 Z\" fill=\"#000000\" fill-rule=\"nonzero\" fill-opacity=\"1\" /><path clip-path=\"url(#clip550)\" d=\"M185.186 1071.13 L190.07 1071.13 L190.07 1077.01 L185.186 1077.01 L185.186 1071.13 Z\" fill=\"#000000\" fill-rule=\"nonzero\" fill-opacity=\"1\" /><path clip-path=\"url(#clip550)\" d=\"M200.301 1042.45 L218.658 1042.45 L218.658 1046.38 L204.584 1046.38 L204.584 1054.85 Q205.602 1054.51 206.621 1054.34 Q207.639 1054.16 208.658 1054.16 Q214.445 1054.16 217.824 1057.33 Q221.204 1060.5 221.204 1065.92 Q221.204 1071.5 217.732 1074.6 Q214.26 1077.68 207.94 1077.68 Q205.764 1077.68 203.496 1077.31 Q201.25 1076.94 198.843 1076.19 L198.843 1071.5 Q200.926 1072.63 203.149 1073.19 Q205.371 1073.74 207.848 1073.74 Q211.852 1073.74 214.19 1071.63 Q216.528 1069.53 216.528 1065.92 Q216.528 1062.31 214.19 1060.2 Q211.852 1058.09 207.848 1058.09 Q205.973 1058.09 204.098 1058.51 Q202.246 1058.93 200.301 1059.81 L200.301 1042.45 Z\" fill=\"#000000\" fill-rule=\"nonzero\" fill-opacity=\"1\" /><path clip-path=\"url(#clip550)\" d=\"M164.028 721.011 Q160.417 721.011 158.589 724.575 Q156.783 728.117 156.783 735.247 Q156.783 742.353 158.589 745.918 Q160.417 749.46 164.028 749.46 Q167.663 749.46 169.468 745.918 Q171.297 742.353 171.297 735.247 Q171.297 728.117 169.468 724.575 Q167.663 721.011 164.028 721.011 M164.028 717.307 Q169.839 717.307 172.894 721.913 Q175.973 726.497 175.973 735.247 Q175.973 743.973 172.894 748.58 Q169.839 753.163 164.028 753.163 Q158.218 753.163 155.14 748.58 Q152.084 743.973 152.084 735.247 Q152.084 726.497 155.14 721.913 Q158.218 717.307 164.028 717.307 Z\" fill=\"#000000\" fill-rule=\"nonzero\" fill-opacity=\"1\" /><path clip-path=\"url(#clip550)\" d=\"M184.19 746.612 L189.075 746.612 L189.075 752.492 L184.19 752.492 L184.19 746.612 Z\" fill=\"#000000\" fill-rule=\"nonzero\" fill-opacity=\"1\" /><path clip-path=\"url(#clip550)\" d=\"M209.26 721.011 Q205.649 721.011 203.82 724.575 Q202.014 728.117 202.014 735.247 Q202.014 742.353 203.82 745.918 Q205.649 749.46 209.26 749.46 Q212.894 749.46 214.699 745.918 Q216.528 742.353 216.528 735.247 Q216.528 728.117 214.699 724.575 Q212.894 721.011 209.26 721.011 M209.26 717.307 Q215.07 717.307 218.125 721.913 Q221.204 726.497 221.204 735.247 Q221.204 743.973 218.125 748.58 Q215.07 753.163 209.26 753.163 Q203.449 753.163 200.371 748.58 Q197.315 743.973 197.315 735.247 Q197.315 726.497 200.371 721.913 Q203.449 717.307 209.26 717.307 Z\" fill=\"#000000\" fill-rule=\"nonzero\" fill-opacity=\"1\" /><path clip-path=\"url(#clip550)\" d=\"M165.024 396.498 Q161.413 396.498 159.584 400.062 Q157.778 403.604 157.778 410.734 Q157.778 417.84 159.584 421.405 Q161.413 424.946 165.024 424.946 Q168.658 424.946 170.464 421.405 Q172.292 417.84 172.292 410.734 Q172.292 403.604 170.464 400.062 Q168.658 396.498 165.024 396.498 M165.024 392.794 Q170.834 392.794 173.889 397.4 Q176.968 401.984 176.968 410.734 Q176.968 419.46 173.889 424.067 Q170.834 428.65 165.024 428.65 Q159.214 428.65 156.135 424.067 Q153.079 419.46 153.079 410.734 Q153.079 401.984 156.135 397.4 Q159.214 392.794 165.024 392.794 Z\" fill=\"#000000\" fill-rule=\"nonzero\" fill-opacity=\"1\" /><path clip-path=\"url(#clip550)\" d=\"M185.186 422.099 L190.07 422.099 L190.07 427.979 L185.186 427.979 L185.186 422.099 Z\" fill=\"#000000\" fill-rule=\"nonzero\" fill-opacity=\"1\" /><path clip-path=\"url(#clip550)\" d=\"M200.301 393.419 L218.658 393.419 L218.658 397.354 L204.584 397.354 L204.584 405.826 Q205.602 405.479 206.621 405.317 Q207.639 405.132 208.658 405.132 Q214.445 405.132 217.824 408.303 Q221.204 411.474 221.204 416.891 Q221.204 422.47 217.732 425.571 Q214.26 428.65 207.94 428.65 Q205.764 428.65 203.496 428.28 Q201.25 427.909 198.843 427.169 L198.843 422.47 Q200.926 423.604 203.149 424.159 Q205.371 424.715 207.848 424.715 Q211.852 424.715 214.19 422.608 Q216.528 420.502 216.528 416.891 Q216.528 413.28 214.19 411.173 Q211.852 409.067 207.848 409.067 Q205.973 409.067 204.098 409.484 Q202.246 409.9 200.301 410.78 L200.301 393.419 Z\" fill=\"#000000\" fill-rule=\"nonzero\" fill-opacity=\"1\" /><path clip-path=\"url(#clip550)\" d=\"M154.839 99.5305 L162.477 99.5305 L162.477 73.1649 L154.167 74.8316 L154.167 70.5723 L162.431 68.9057 L167.107 68.9057 L167.107 99.5305 L174.746 99.5305 L174.746 103.466 L154.839 103.466 L154.839 99.5305 Z\" fill=\"#000000\" fill-rule=\"nonzero\" fill-opacity=\"1\" /><path clip-path=\"url(#clip550)\" d=\"M184.19 97.5861 L189.075 97.5861 L189.075 103.466 L184.19 103.466 L184.19 97.5861 Z\" fill=\"#000000\" fill-rule=\"nonzero\" fill-opacity=\"1\" /><path clip-path=\"url(#clip550)\" d=\"M209.26 71.9844 Q205.649 71.9844 203.82 75.5492 Q202.014 79.0908 202.014 86.2204 Q202.014 93.3268 203.82 96.8916 Q205.649 100.433 209.26 100.433 Q212.894 100.433 214.699 96.8916 Q216.528 93.3268 216.528 86.2204 Q216.528 79.0908 214.699 75.5492 Q212.894 71.9844 209.26 71.9844 M209.26 68.2807 Q215.07 68.2807 218.125 72.8871 Q221.204 77.4704 221.204 86.2204 Q221.204 94.9472 218.125 99.5537 Q215.07 104.137 209.26 104.137 Q203.449 104.137 200.371 99.5537 Q197.315 94.9472 197.315 86.2204 Q197.315 77.4704 200.371 72.8871 Q203.449 68.2807 209.26 68.2807 Z\" fill=\"#000000\" fill-rule=\"nonzero\" fill-opacity=\"1\" /><path clip-path=\"url(#clip550)\" d=\"M29.4065 816.343 L34.9447 816.343 Q33.6716 818.826 33.035 821.499 Q32.3984 824.173 32.3984 827.037 Q32.3984 831.398 33.7352 833.594 Q35.072 835.758 37.7456 835.758 Q39.7826 835.758 40.9603 834.199 Q42.1061 832.639 43.1565 827.928 L43.6021 825.923 Q44.9389 819.685 47.3897 817.075 Q49.8086 814.433 54.1691 814.433 Q59.1344 814.433 62.0308 818.38 Q64.9272 822.295 64.9272 829.17 Q64.9272 832.034 64.3543 835.154 Q63.8132 838.241 62.6992 841.678 L56.6518 841.678 Q58.3387 838.432 59.198 835.281 Q60.0256 832.13 60.0256 829.042 Q60.0256 824.905 58.6251 822.677 Q57.1929 820.449 54.6147 820.449 Q52.2276 820.449 50.9545 822.072 Q49.6813 823.663 48.5037 829.106 L48.0262 831.143 Q46.8804 836.586 44.5251 839.005 Q42.138 841.424 38.0002 841.424 Q32.9713 841.424 30.2341 837.859 Q27.4968 834.294 27.4968 827.738 Q27.4968 824.491 27.9743 821.626 Q28.4517 818.762 29.4065 816.343 Z\" fill=\"#000000\" fill-rule=\"nonzero\" fill-opacity=\"1\" /><path clip-path=\"url(#clip550)\" d=\"M28.3562 805.107 L28.3562 799.251 L64.0042 799.251 L64.0042 805.107 L28.3562 805.107 M14.479 805.107 L14.479 799.251 L21.895 799.251 L21.895 805.107 L14.479 805.107 Z\" fill=\"#000000\" fill-rule=\"nonzero\" fill-opacity=\"1\" /><path clip-path=\"url(#clip550)\" d=\"M42.4881 757.365 L64.0042 757.365 L64.0042 763.221 L42.679 763.221 Q37.6183 763.221 35.1038 765.194 Q32.5894 767.168 32.5894 771.115 Q32.5894 775.857 35.6131 778.594 Q38.6368 781.332 43.8567 781.332 L64.0042 781.332 L64.0042 787.22 L28.3562 787.22 L28.3562 781.332 L33.8944 781.332 Q30.6797 779.231 29.0883 776.398 Q27.4968 773.534 27.4968 769.81 Q27.4968 763.667 31.3163 760.516 Q35.1038 757.365 42.4881 757.365 Z\" fill=\"#000000\" fill-rule=\"nonzero\" fill-opacity=\"1\" /><path clip-path=\"url(#clip550)\" d=\"M14.5426 731.615 Q21.8632 735.88 29.0246 737.949 Q36.186 740.018 43.5384 740.018 Q50.8908 740.018 58.1159 737.949 Q65.3091 735.849 72.5979 731.615 L72.5979 736.708 Q65.1182 741.482 57.8931 743.869 Q50.668 746.225 43.5384 746.225 Q36.4406 746.225 29.2474 743.869 Q22.0542 741.514 14.5426 736.708 L14.5426 731.615 Z\" fill=\"#000000\" fill-rule=\"nonzero\" fill-opacity=\"1\" /><path clip-path=\"url(#clip550)\" d=\"M28.3562 724.04 L28.3562 689.888 L34.2127 689.888 L34.2127 694.376 L56.1107 694.376 Q58.4023 694.376 59.4208 693.612 Q60.4075 692.816 60.4075 691.066 Q60.4075 690.588 60.3439 689.888 Q60.2484 689.188 60.2166 688.965 L64.4498 688.965 Q64.8635 690.079 65.0545 691.257 Q65.2455 692.434 65.2455 693.612 Q65.2455 697.431 63.1766 698.896 Q61.0759 700.36 55.4741 700.36 L34.2127 700.36 L34.2127 713.505 L64.0042 713.505 L64.0042 719.489 L34.2127 719.489 L34.2127 724.04 L28.3562 724.04 Z\" fill=\"#000000\" fill-rule=\"nonzero\" fill-opacity=\"1\" /><path clip-path=\"url(#clip550)\" d=\"M28.3562 651.376 L45.7028 664.266 L64.0042 650.707 L64.0042 657.614 L49.9996 667.99 L64.0042 678.366 L64.0042 685.273 L45.3526 671.428 L28.3562 684.095 L28.3562 677.189 L41.0558 667.735 L28.3562 658.282 L28.3562 651.376 Z\" fill=\"#000000\" fill-rule=\"nonzero\" fill-opacity=\"1\" /><path clip-path=\"url(#clip550)\" d=\"M14.5426 643.355 L14.5426 638.262 Q22.0542 633.488 29.2474 631.133 Q36.4406 628.746 43.5384 628.746 Q50.668 628.746 57.8931 631.133 Q65.1182 633.488 72.5979 638.262 L72.5979 643.355 Q65.3091 639.122 58.1159 637.053 Q50.8908 634.952 43.5384 634.952 Q36.186 634.952 29.0246 637.053 Q21.8632 639.122 14.5426 643.355 Z\" fill=\"#000000\" fill-rule=\"nonzero\" fill-opacity=\"1\" /><polyline clip-path=\"url(#clip552)\" style=\"stroke:#009af9; stroke-linecap:round; stroke-linejoin:round; stroke-width:4; stroke-opacity:1; fill:none\" points=\"316.512,735.212 319.807,755.598 323.102,775.965 326.397,796.291 329.692,816.557 332.987,836.742 336.281,856.827 339.576,876.793 342.871,896.618 346.166,916.285 349.461,935.772 352.756,955.062 356.051,974.134 359.346,992.971 362.641,1011.55 365.935,1029.86 369.23,1047.88 372.525,1065.59 375.82,1082.98 379.115,1100.02 382.41,1116.7 385.705,1133 389,1148.92 392.295,1164.42 395.59,1179.5 398.884,1194.14 402.179,1208.33 405.474,1222.05 408.769,1235.3 412.064,1248.04 415.359,1260.29 418.654,1272.01 421.949,1283.2 425.244,1293.86 428.538,1303.96 431.833,1313.5 435.128,1322.47 438.423,1330.86 441.718,1338.66 445.013,1345.87 448.308,1352.47 451.603,1358.47 454.898,1363.85 458.192,1368.61 461.487,1372.74 464.782,1376.25 468.077,1379.12 471.372,1381.36 474.667,1382.96 477.962,1383.92 481.257,1384.24 484.552,1383.92 487.847,1382.96 491.141,1381.36 494.436,1379.12 497.731,1376.25 501.026,1372.74 504.321,1368.61 507.616,1363.85 510.911,1358.47 514.206,1352.47 517.501,1345.87 520.795,1338.66 524.09,1330.86 527.385,1322.47 530.68,1313.5 533.975,1303.96 537.27,1293.86 540.565,1283.2 543.86,1272.01 547.155,1260.29 550.449,1248.04 553.744,1235.3 557.039,1222.05 560.334,1208.33 563.629,1194.14 566.924,1179.5 570.219,1164.42 573.514,1148.92 576.809,1133 580.104,1116.7 583.398,1100.02 586.693,1082.98 589.988,1065.59 593.283,1047.88 596.578,1029.86 599.873,1011.55 603.168,992.971 606.463,974.134 609.758,955.062 613.052,935.772 616.347,916.285 619.642,896.618 622.937,876.793 626.232,856.827 629.527,836.742 632.822,816.557 636.117,796.291 639.412,775.965 642.706,755.598 646.001,735.212 649.296,714.826 652.591,694.459 655.886,674.133 659.181,653.867 662.476,633.682 665.771,613.597 669.066,593.631 672.361,573.806 675.655,554.139 678.95,534.652 682.245,515.362 685.54,496.289 688.835,477.453 692.13,458.87 695.425,440.56 698.72,422.541 702.015,404.831 705.309,387.446 708.604,370.405 711.899,353.724 715.194,337.419 718.489,321.507 721.784,306.003 725.079,290.923 728.374,276.281 731.669,262.092 734.963,248.37 738.258,235.129 741.553,222.381 744.848,210.139 748.143,198.415 751.438,187.221 754.733,176.568 758.028,166.466 761.323,156.925 764.618,147.955 767.912,139.565 771.207,131.763 774.502,124.556 777.797,117.951 781.092,111.956 784.387,106.576 787.682,101.816 790.977,97.6817 794.272,94.1763 797.566,91.3034 800.861,89.0661 804.156,87.4664 807.451,86.5059 810.746,86.1857 814.041,86.5059 817.336,87.4664 820.631,89.0661 823.926,91.3034 827.22,94.1763 830.515,97.6817 833.81,101.816 837.105,106.576 840.4,111.956 843.695,117.951 846.99,124.556 850.285,131.763 853.58,139.565 856.875,147.955 860.169,156.925 863.464,166.466 866.759,176.568 870.054,187.221 873.349,198.415 876.644,210.139 879.939,222.381 883.234,235.129 886.529,248.37 889.823,262.092 893.118,276.281 896.413,290.923 899.708,306.003 903.003,321.507 906.298,337.419 909.593,353.724 912.888,370.405 916.183,387.446 919.477,404.831 922.772,422.541 926.067,440.56 929.362,458.87 932.657,477.453 935.952,496.289 939.247,515.362 942.542,534.652 945.837,554.139 949.132,573.806 952.426,593.631 955.721,613.597 959.016,633.682 962.311,653.867 965.606,674.133 968.901,694.459 972.196,714.826 975.491,735.212 978.786,755.598 982.08,775.965 985.375,796.291 988.67,816.557 991.965,836.742 995.26,856.827 998.555,876.793 1001.85,896.618 1005.14,916.285 1008.44,935.772 1011.73,955.062 1015.03,974.134 1018.32,992.971 1021.62,1011.55 1024.91,1029.86 1028.21,1047.88 1031.5,1065.59 1034.8,1082.98 1038.09,1100.02 1041.39,1116.7 1044.68,1133 1047.98,1148.92 1051.27,1164.42 1054.57,1179.5 1057.86,1194.14 1061.16,1208.33 1064.45,1222.05 1067.75,1235.3 1071.04,1248.04 1074.34,1260.29 1077.63,1272.01 1080.93,1283.2 1084.22,1293.86 1087.52,1303.96 1090.81,1313.5 1094.11,1322.47 1097.4,1330.86 1100.7,1338.66 1103.99,1345.87 1107.29,1352.47 1110.58,1358.47 1113.88,1363.85 1117.17,1368.61 1120.47,1372.74 1123.76,1376.25 1127.06,1379.12 1130.35,1381.36 1133.65,1382.96 1136.94,1383.92 1140.24,1384.24 1143.53,1383.92 1146.83,1382.96 1150.12,1381.36 1153.41,1379.12 1156.71,1376.25 1160,1372.74 1163.3,1368.61 1166.59,1363.85 1169.89,1358.47 1173.18,1352.47 1176.48,1345.87 1179.77,1338.66 1183.07,1330.86 1186.36,1322.47 1189.66,1313.5 1192.95,1303.96 1196.25,1293.86 1199.54,1283.2 1202.84,1272.01 1206.13,1260.29 1209.43,1248.04 1212.72,1235.3 1216.02,1222.05 1219.31,1208.33 1222.61,1194.14 1225.9,1179.5 1229.2,1164.42 1232.49,1148.92 1235.79,1133 1239.08,1116.7 1242.38,1100.02 1245.67,1082.98 1248.97,1065.59 1252.26,1047.88 1255.56,1029.86 1258.85,1011.55 1262.15,992.971 1265.44,974.134 1268.74,955.062 1272.03,935.772 1275.33,916.285 1278.62,896.618 1281.92,876.793 1285.21,856.827 1288.51,836.742 1291.8,816.557 1295.1,796.291 1298.39,775.965 1301.69,755.598 1304.98,735.212 1308.27,714.826 1311.57,694.459 1314.86,674.133 1318.16,653.867 1321.45,633.682 1324.75,613.597 1328.04,593.631 1331.34,573.806 1334.63,554.139 1337.93,534.652 1341.22,515.362 1344.52,496.289 1347.81,477.453 1351.11,458.87 1354.4,440.56 1357.7,422.541 1360.99,404.831 1364.29,387.446 1367.58,370.405 1370.88,353.724 1374.17,337.419 1377.47,321.507 1380.76,306.003 1384.06,290.923 1387.35,276.281 1390.65,262.092 1393.94,248.37 1397.24,235.129 1400.53,222.381 1403.83,210.139 1407.12,198.415 1410.42,187.221 1413.71,176.568 1417.01,166.466 1420.3,156.925 1423.6,147.955 1426.89,139.565 1430.19,131.763 1433.48,124.556 1436.78,117.951 1440.07,111.956 1443.37,106.576 1446.66,101.816 1449.96,97.6817 1453.25,94.1763 1456.55,91.3034 1459.84,89.0661 1463.13,87.4664 1466.43,86.5059 1469.72,86.1857 1473.02,86.5059 1476.31,87.4664 1479.61,89.0661 1482.9,91.3034 1486.2,94.1763 1489.49,97.6817 1492.79,101.816 1496.08,106.576 1499.38,111.956 1502.67,117.951 1505.97,124.556 1509.26,131.763 1512.56,139.565 1515.85,147.955 1519.15,156.925 1522.44,166.466 1525.74,176.568 1529.03,187.221 1532.33,198.415 1535.62,210.139 1538.92,222.381 1542.21,235.129 1545.51,248.37 1548.8,262.092 1552.1,276.281 1555.39,290.923 1558.69,306.003 1561.98,321.507 1565.28,337.419 1568.57,353.724 1571.87,370.405 1575.16,387.446 1578.46,404.831 1581.75,422.541 1585.05,440.56 1588.34,458.87 1591.64,477.453 1594.93,496.289 1598.23,515.362 1601.52,534.652 1604.82,554.139 1608.11,573.806 1611.41,593.631 1614.7,613.597 1617.99,633.682 1621.29,653.867 1624.58,674.133 1627.88,694.459 1631.17,714.826 1634.47,735.212 1637.76,755.598 1641.06,775.965 1644.35,796.291 1647.65,816.557 1650.94,836.742 1654.24,856.827 1657.53,876.793 1660.83,896.618 1664.12,916.285 1667.42,935.772 1670.71,955.062 1674.01,974.134 1677.3,992.971 1680.6,1011.55 1683.89,1029.86 1687.19,1047.88 1690.48,1065.59 1693.78,1082.98 1697.07,1100.02 1700.37,1116.7 1703.66,1133 1706.96,1148.92 1710.25,1164.42 1713.55,1179.5 1716.84,1194.14 1720.14,1208.33 1723.43,1222.05 1726.73,1235.3 1730.02,1248.04 1733.32,1260.29 1736.61,1272.01 1739.91,1283.2 1743.2,1293.86 1746.5,1303.96 1749.79,1313.5 1753.09,1322.47 1756.38,1330.86 1759.68,1338.66 1762.97,1345.87 1766.26,1352.47 1769.56,1358.47 1772.85,1363.85 1776.15,1368.61 1779.44,1372.74 1782.74,1376.25 1786.03,1379.12 1789.33,1381.36 1792.62,1382.96 1795.92,1383.92 1799.21,1384.24 1802.51,1383.92 1805.8,1382.96 1809.1,1381.36 1812.39,1379.12 1815.69,1376.25 1818.98,1372.74 1822.28,1368.61 1825.57,1363.85 1828.87,1358.47 1832.16,1352.47 1835.46,1345.87 1838.75,1338.66 1842.05,1330.86 1845.34,1322.47 1848.64,1313.5 1851.93,1303.96 1855.23,1293.86 1858.52,1283.2 1861.82,1272.01 1865.11,1260.29 1868.41,1248.04 1871.7,1235.3 1875,1222.05 1878.29,1208.33 1881.59,1194.14 1884.88,1179.5 1888.18,1164.42 1891.47,1148.92 1894.77,1133 1898.06,1116.7 1901.36,1100.02 1904.65,1082.98 1907.95,1065.59 1911.24,1047.88 1914.54,1029.86 1917.83,1011.55 1921.12,992.971 1924.42,974.134 1927.71,955.062 1931.01,935.772 1934.3,916.285 1937.6,896.618 1940.89,876.793 1944.19,856.827 1947.48,836.742 1950.78,816.557 1954.07,796.291 1957.37,775.965 1960.66,755.598 1963.96,735.212 1967.25,714.826 1970.55,694.459 1973.84,674.133 1977.14,653.867 1980.43,633.682 1983.73,613.597 1987.02,593.631 1990.32,573.806 1993.61,554.139 1996.91,534.652 2000.2,515.362 2003.5,496.289 2006.79,477.453 2010.09,458.87 2013.38,440.56 2016.68,422.541 2019.97,404.831 2023.27,387.446 2026.56,370.405 2029.86,353.724 2033.15,337.419 2036.45,321.507 2039.74,306.003 2043.04,290.923 2046.33,276.281 2049.63,262.092 2052.92,248.37 2056.22,235.129 2059.51,222.381 2062.81,210.139 2066.1,198.415 2069.4,187.221 2072.69,176.568 2075.98,166.466 2079.28,156.925 2082.57,147.955 2085.87,139.565 2089.16,131.763 2092.46,124.556 2095.75,117.951 2099.05,111.956 2102.34,106.576 2105.64,101.816 2108.93,97.6817 2112.23,94.1763 2115.52,91.3034 2118.82,89.0661 2122.11,87.4664 2125.41,86.5059 2128.7,86.1857 2132,86.5059 2135.29,87.4664 2138.59,89.0661 2141.88,91.3034 2145.18,94.1763 2148.47,97.6817 2151.77,101.816 2155.06,106.576 2158.36,111.956 2161.65,117.951 2164.95,124.556 2168.24,131.763 2171.54,139.565 2174.83,147.955 2178.13,156.925 2181.42,166.466 2184.72,176.568 2188.01,187.221 2191.31,198.415 2194.6,210.139 2197.9,222.381 2201.19,235.129 2204.49,248.37 2207.78,262.092 2211.08,276.281 2214.37,290.923 2217.67,306.003 2220.96,321.507 2224.26,337.419 2227.55,353.724 2230.84,370.405 2234.14,387.446 2237.43,404.831 2240.73,422.541 2244.02,440.56 2247.32,458.87 2250.61,477.453 2253.91,496.289 2257.2,515.362 2260.5,534.652 2263.79,554.139 2267.09,573.806 2270.38,593.631 2273.68,613.597 2276.97,633.682 2280.27,653.867 2283.56,674.133 2286.86,694.459 2290.15,714.826 2293.45,735.212 \"/>\n",
       "<path clip-path=\"url(#clip550)\" d=\"M1918.49 1377.32 L2282.9 1377.32 L2282.9 1273.64 L1918.49 1273.64  Z\" fill=\"#ffffff\" fill-rule=\"evenodd\" fill-opacity=\"1\"/>\n",
       "<polyline clip-path=\"url(#clip550)\" style=\"stroke:#000000; stroke-linecap:round; stroke-linejoin:round; stroke-width:4; stroke-opacity:1; fill:none\" points=\"1918.49,1377.32 2282.9,1377.32 2282.9,1273.64 1918.49,1273.64 1918.49,1377.32 \"/>\n",
       "<polyline clip-path=\"url(#clip550)\" style=\"stroke:#009af9; stroke-linecap:round; stroke-linejoin:round; stroke-width:4; stroke-opacity:1; fill:none\" points=\"1941.77,1325.48 2081.48,1325.48 \"/>\n",
       "<path clip-path=\"url(#clip550)\" d=\"M2123.19 1317.59 L2123.19 1321.62 Q2121.38 1320.7 2119.44 1320.23 Q2117.49 1319.77 2115.41 1319.77 Q2112.24 1319.77 2110.64 1320.74 Q2109.07 1321.71 2109.07 1323.66 Q2109.07 1325.14 2110.2 1326 Q2111.33 1326.83 2114.76 1327.59 L2116.22 1327.92 Q2120.76 1328.89 2122.65 1330.67 Q2124.57 1332.43 2124.57 1335.6 Q2124.57 1339.21 2121.7 1341.32 Q2118.86 1343.43 2113.86 1343.43 Q2111.77 1343.43 2109.51 1343.01 Q2107.26 1342.62 2104.76 1341.81 L2104.76 1337.41 Q2107.12 1338.63 2109.41 1339.26 Q2111.7 1339.86 2113.95 1339.86 Q2116.96 1339.86 2118.58 1338.84 Q2120.2 1337.8 2120.2 1335.93 Q2120.2 1334.19 2119.02 1333.26 Q2117.86 1332.34 2113.9 1331.48 L2112.42 1331.14 Q2108.46 1330.3 2106.7 1328.59 Q2104.95 1326.85 2104.95 1323.84 Q2104.95 1320.19 2107.54 1318.2 Q2110.13 1316.2 2114.9 1316.2 Q2117.26 1316.2 2119.34 1316.55 Q2121.43 1316.9 2123.19 1317.59 Z\" fill=\"#000000\" fill-rule=\"nonzero\" fill-opacity=\"1\" /><path clip-path=\"url(#clip550)\" d=\"M2131.36 1316.83 L2135.62 1316.83 L2135.62 1342.76 L2131.36 1342.76 L2131.36 1316.83 M2131.36 1306.74 L2135.62 1306.74 L2135.62 1312.13 L2131.36 1312.13 L2131.36 1306.74 Z\" fill=\"#000000\" fill-rule=\"nonzero\" fill-opacity=\"1\" /><path clip-path=\"url(#clip550)\" d=\"M2166.08 1327.11 L2166.08 1342.76 L2161.82 1342.76 L2161.82 1327.25 Q2161.82 1323.57 2160.38 1321.74 Q2158.95 1319.91 2156.08 1319.91 Q2152.63 1319.91 2150.64 1322.11 Q2148.65 1324.31 2148.65 1328.1 L2148.65 1342.76 L2144.37 1342.76 L2144.37 1316.83 L2148.65 1316.83 L2148.65 1320.86 Q2150.18 1318.52 2152.24 1317.36 Q2154.32 1316.2 2157.03 1316.2 Q2161.5 1316.2 2163.79 1318.98 Q2166.08 1321.74 2166.08 1327.11 Z\" fill=\"#000000\" fill-rule=\"nonzero\" fill-opacity=\"1\" /><path clip-path=\"url(#clip550)\" d=\"M2184.81 1306.78 Q2181.7 1312.11 2180.2 1317.32 Q2178.69 1322.52 2178.69 1327.87 Q2178.69 1333.22 2180.2 1338.47 Q2181.73 1343.7 2184.81 1349.01 L2181.1 1349.01 Q2177.63 1343.57 2175.89 1338.31 Q2174.18 1333.06 2174.18 1327.87 Q2174.18 1322.71 2175.89 1317.48 Q2177.61 1312.25 2181.1 1306.78 L2184.81 1306.78 Z\" fill=\"#000000\" fill-rule=\"nonzero\" fill-opacity=\"1\" /><path clip-path=\"url(#clip550)\" d=\"M2190.32 1316.83 L2215.15 1316.83 L2215.15 1321.09 L2211.89 1321.09 L2211.89 1337.01 Q2211.89 1338.68 2212.44 1339.42 Q2213.02 1340.14 2214.3 1340.14 Q2214.64 1340.14 2215.15 1340.09 Q2215.66 1340.02 2215.82 1340 L2215.82 1343.08 Q2215.01 1343.38 2214.16 1343.52 Q2213.3 1343.66 2212.44 1343.66 Q2209.67 1343.66 2208.6 1342.15 Q2207.54 1340.63 2207.54 1336.55 L2207.54 1321.09 L2197.98 1321.09 L2197.98 1342.76 L2193.63 1342.76 L2193.63 1321.09 L2190.32 1321.09 L2190.32 1316.83 Z\" fill=\"#000000\" fill-rule=\"nonzero\" fill-opacity=\"1\" /><path clip-path=\"url(#clip550)\" d=\"M2243.16 1316.83 L2233.79 1329.45 L2243.65 1342.76 L2238.63 1342.76 L2231.08 1332.57 L2223.53 1342.76 L2218.51 1342.76 L2228.58 1329.19 L2219.37 1316.83 L2224.39 1316.83 L2231.26 1326.07 L2238.14 1316.83 L2243.16 1316.83 Z\" fill=\"#000000\" fill-rule=\"nonzero\" fill-opacity=\"1\" /><path clip-path=\"url(#clip550)\" d=\"M2249 1306.78 L2252.7 1306.78 Q2256.17 1312.25 2257.88 1317.48 Q2259.62 1322.71 2259.62 1327.87 Q2259.62 1333.06 2257.88 1338.31 Q2256.17 1343.57 2252.7 1349.01 L2249 1349.01 Q2252.07 1343.7 2253.58 1338.47 Q2255.11 1333.22 2255.11 1327.87 Q2255.11 1322.52 2253.58 1317.32 Q2252.07 1312.11 2249 1306.78 Z\" fill=\"#000000\" fill-rule=\"nonzero\" fill-opacity=\"1\" /></svg>\n"
      ]
     },
     "execution_count": 1,
     "metadata": {},
     "output_type": "execute_result"
    }
   ],
   "source": [
    "using Plots\n",
    "x = -3:0.01:3\n",
    "y = sin.(π .* x)\n",
    "plot(x, y, label=\"sin(πx)\", xlabel=\"x\", ylabel=\"sin(πx)\")"
   ]
  },
  {
   "cell_type": "markdown",
   "id": "ffb5d73f",
   "metadata": {},
   "source": [
    "`(풀이)`"
   ]
  },
  {
   "cell_type": "markdown",
   "id": "247ee5bd",
   "metadata": {},
   "source": [
    "$B$ 는 아래와 같이 열린구간 $(a,b)$의 countable union으로 표현할 수 있다. \n",
    "\n",
    "$$B = \\dots(-2,-1) \\cup (0,1) \\cup (2,3) \\cup \\dots$$\n",
    "\n",
    "(6)에 의하여 $(a,b) \\in {\\cal R}$ 이고 시그마필드는 countable union에 닫혀있으므로 $B \\in {\\cal R}$ 이다. "
   ]
  },
  {
   "cell_type": "markdown",
   "id": "05d56eea",
   "metadata": {},
   "source": [
    "---"
   ]
  },
  {
   "cell_type": "markdown",
   "id": "3df4687b-a3c8-4b9c-918a-55d8e2c55cc9",
   "metadata": {},
   "source": [
    "# `2`. -- 50점"
   ]
  },
  {
   "cell_type": "markdown",
   "id": "3816312c-834a-4fee-b13a-c76f835d2de0",
   "metadata": {},
   "source": [
    "$\\Omega = \\{a,b,c,d\\}$ 의 부분집합들의 모임 \n",
    "\n",
    "$${\\cal A}=\\big\\{\\{a,b,c\\},\\{b,c,d\\}\\big\\}$$ \n",
    "\n",
    "를 고려하자. "
   ]
  },
  {
   "cell_type": "markdown",
   "id": "02b49e60",
   "metadata": {},
   "source": [
    "---"
   ]
  },
  {
   "cell_type": "markdown",
   "id": "d4e5a71c-5127-4414-bd90-317a62efbe88",
   "metadata": {},
   "source": [
    "`(1)` ${\\cal A}$를 포함하는 최소한의 시그마필드 즉 $\\sigma({\\cal A})$를 구하라. -- 20점"
   ]
  },
  {
   "cell_type": "markdown",
   "id": "fb841398",
   "metadata": {},
   "source": [
    "`(풀이)`"
   ]
  },
  {
   "cell_type": "markdown",
   "id": "2764563c",
   "metadata": {},
   "source": [
    "$\\sigma({\\cal A}) ={\\cal A} \\cup \\big\\{\\emptyset, \\Omega, \\{b,c\\},\\{a\\},\\{d\\},\\{a,d\\}\\big\\}$ "
   ]
  },
  {
   "cell_type": "markdown",
   "id": "7b433340",
   "metadata": {},
   "source": [
    "---"
   ]
  },
  {
   "cell_type": "markdown",
   "id": "7a7aa924-e8a7-4dee-b6f1-61b5bf123db8",
   "metadata": {},
   "source": [
    "`(2)` 함수 $\\tilde{P}: {\\cal A} \\to [0,1]$ 을 아래와 같이 정의하자. \n",
    "\n",
    "- $\\tilde{P}(\\{a,b,c\\}) = \\frac{3}{4}$\n",
    "- $\\tilde{P}(\\{b,c,d\\}) = \\frac{3}{4}$\n",
    "\n",
    "$\\tilde{P}$ 를 확장하여 확률측도의 정의를 만족하는 적당한 함수 $\\mathbb{P}:\\sigma({\\cal A}) \\to [0,1]$ 를 유일하게 만들 수 있는가? -- 30점\n",
    "\n",
    "::: {.callout-note} \n",
    "단, 여기에서 $\\tilde{P}$를 확장하여 $\\mathbb{P}$를 만든다는 의미는 아래가 성립하도록 한다는 의미이다. \n",
    "\n",
    "$$\\forall A \\in {\\cal A}: \\tilde{P}(A) = \\mathbb{P}(A)$$\n",
    ":::"
   ]
  },
  {
   "cell_type": "markdown",
   "id": "c5a2d8e0",
   "metadata": {},
   "source": [
    "`(풀이)`"
   ]
  },
  {
   "cell_type": "markdown",
   "id": "716a35c5",
   "metadata": {},
   "source": [
    "$\\tilde{P}$를 확장해서 만들어야 하므로 $A \\in {\\cal A}$ 에서 $\\mathbb{P}(A)$ 의 값은 아래와 같이 설정해야한다. \n",
    "\n",
    "- $\\mathbb{P}(\\{a,b,c\\}) = \\tilde{P}(\\{a,b,c\\})=\\frac{3}{4}$\n",
    "- $\\mathbb{P}(\\{b,c,d\\})=\\tilde{P}(\\{b,c,d\\}) =\\frac{3}{4}$\n"
   ]
  },
  {
   "cell_type": "markdown",
   "id": "dcb08b19",
   "metadata": {},
   "source": [
    "이제 $A \\in \\big(\\sigma({\\cal A}) - {\\cal A}\\big)$ 에서의 $\\mathbb{P}(A)$의 값을 정의하여 보자. 즉 아래의 값을 결정해야한다. \n",
    "\n",
    "1. $\\mathbb{P}(\\emptyset)=??$ \n",
    "2. $\\mathbb{P}(\\Omega)=??$ \n",
    "3. $\\mathbb{P}(\\{b,c\\})=??$ \n",
    "4. $\\mathbb{P}(\\{a\\})=??$ \n",
    "5. $\\mathbb{P}(\\{d\\})=??$ \n",
    "6. $\\mathbb{P}(\\{a,d\\})=??$ \n",
    "\n",
    "여기에서 $??$에 해당하는 값들을 확률의 공리에 모순되지 않게 결정할 수 있다면 \"확장가능\" 이고, $??$의 값을 확률의 공리에 모순되지 않게 정할 수 있는 값이 단 하나라면 \"확장가능\" & \"유일\" 이라고 볼 수 있다. \n",
    "\n",
    "- 항목1,2 는 $\\mathbb{P}(\\emptyset)=0$, $\\mathbb{P}(\\Omega)=1$ 이외의 다른 선택지가 없다. \n",
    "- 항목4는 $\\mathbb{P}(\\{a\\})=1-\\mathbb{P}(\\{b,c,d\\})=\\frac{1}{4}$  이어야 하므로 이 역시 다른 선택지가 없다. \n",
    "- 항목5는 항목4와 마찬가지로 $\\mathbb{P}(\\{d\\})=1-\\mathbb{P}(\\{d\\})=\\frac{1}{4}$ 이어야 하므로 이 역시 다른 선택지가 없다. \n",
    "- 항목6은 항목4와 항목5에 의하여 $\\mathbb{P}(\\{a,d\\})=\\mathbb{P}(\\{a\\})+\\mathbb{P}(\\{d\\})=\\frac{1}{2}$ 이어야 한다. 그래서 항목6 역시 다른 선택지가 없다. \n",
    "- 항목3은 항목6에 의하여 $\\mathbb{P}(\\{b,c\\})=1-\\mathbb{P}(\\{a,d\\})=\\frac{1}{2}$ 이어야 하고 이 역시 다른 선택지는 없다.\n",
    "\n",
    " 위에서 논의된 값들을 정리하면 \n",
    "\n",
    "1. $\\mathbb{P}(\\emptyset)=0$ \n",
    "2. $\\mathbb{P}(\\Omega)=1$ \n",
    "3. $\\mathbb{P}(\\{b,c\\})=\\frac{1}{2}$ \n",
    "4. $\\mathbb{P}(\\{a\\})=\\frac{1}{4}$ \n",
    "5. $\\mathbb{P}(\\{d\\})=\\frac{1}{4}$ \n",
    "6. $\\mathbb{P}(\\{a,d\\})=\\frac{1}{2}$ \n",
    "\n",
    "와 같이 만들 수 있다. 이러한 함수 $\\mathbb{P}$는 $\\sigma({\\cal A})$ 에서 확률의 정의를 만족한다. 따라서 확장가능하다. 또한 위의 숫자들 이외에 다른선택지가 없었으므로 이 확장은 유일하다. "
   ]
  }
 ],
 "metadata": {
  "kernelspec": {
   "display_name": "Python 3 (ipykernel)",
   "language": "python",
   "name": "python3"
  },
  "language_info": {
   "codemirror_mode": {
    "name": "ipython",
    "version": 3
   },
   "file_extension": ".py",
   "mimetype": "text/x-python",
   "name": "python",
   "nbconvert_exporter": "python",
   "pygments_lexer": "ipython3",
   "version": "3.12.2"
  }
 },
 "nbformat": 4,
 "nbformat_minor": 5
}
