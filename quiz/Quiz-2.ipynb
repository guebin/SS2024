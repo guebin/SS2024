{
 "cells": [
  {
   "cell_type": "raw",
   "id": "48dfa79b-4b9c-4497-9d36-ba4fc8406765",
   "metadata": {
    "vscode": {
     "languageId": "raw"
    }
   },
   "source": [
    "---\n",
    "title: \"**Quiz-2 (2024.09.24)** // 범위: 02wk 까지\"\n",
    "author: \"최규빈\"\n",
    "date: \"09/24/2024\"\n",
    "reference-location: margin\n",
    "citation-location: margin\n",
    "cap-location: margin\n",
    "comments: false\n",
    "---"
   ]
  },
  {
   "cell_type": "markdown",
   "id": "9740fc3f-fecb-4c4d-b2e4-0b2e2b0faa57",
   "metadata": {},
   "source": [
    "# `1`. 수학과의 표현 -- 20점"
   ]
  },
  {
   "cell_type": "markdown",
   "id": "4757dab6-3c67-4691-8d4a-c0224ad992c8",
   "metadata": {},
   "source": [
    "아래의 명제를 읽고 참 거짓을 판단하라. "
   ]
  },
  {
   "cell_type": "markdown",
   "id": "2d03f216",
   "metadata": {},
   "source": [
    "> 단, 이 문제에서 $\\mathbb{N}$는 자연수의 집합 $\\mathbb{N}_{even}$은 짝수의 집합을 의미한다. "
   ]
  },
  {
   "cell_type": "markdown",
   "id": "f3d2e36c-6d23-47a6-b807-ac5f07efd17b",
   "metadata": {},
   "source": [
    "`(1)` $a+b \\in \\mathbb{N}, \\forall a,b \\in \\mathbb{N}$"
   ]
  },
  {
   "cell_type": "markdown",
   "id": "833a2c3d",
   "metadata": {
    "vscode": {
     "languageId": "raw"
    }
   },
   "source": [
    "(풀이) $a+b$는 자연수이다, 단 여기에서 $a,b$ 는 임의의 자연수. (임의의 자연수를 더하면 자연수라는 의미) $\\to$ 참"
   ]
  },
  {
   "cell_type": "markdown",
   "id": "9410907a-5e8b-422b-8cae-9e159e35b48f",
   "metadata": {},
   "source": [
    "`(2)` $a-b \\in \\mathbb{N}, \\forall a,b \\in \\mathbb{N}$ "
   ]
  },
  {
   "cell_type": "markdown",
   "id": "f45087c1",
   "metadata": {},
   "source": [
    "(풀이) $a-b$는 자연수이다, 단 여기에서 $a,b$ 는 임의의 자연수. (임의의 자연수를 뺴면 자연수라는 의미) $\\to$ 거짓"
   ]
  },
  {
   "cell_type": "markdown",
   "id": "40cf4ed4-eefd-4c11-8ee9-f48be0324cdf",
   "metadata": {},
   "source": [
    "`(3)` $k \\in \\mathbb{N} \\Rightarrow 2k \\in \\mathbb{N}_{even}$"
   ]
  },
  {
   "cell_type": "markdown",
   "id": "872c42e2",
   "metadata": {},
   "source": [
    "(풀이) $k$가 자연수라면, $2k$는 짝수이다. (자연수를 2배하면 항상 짝수가 된다는 의미) $\\to$ 참"
   ]
  },
  {
   "cell_type": "markdown",
   "id": "cbf56ff6-850d-46a0-89ea-e15895d53747",
   "metadata": {},
   "source": [
    "`(4)` $\\forall m \\in \\mathbb{N}_{even}~ \\exists k \\in \\mathbb{N}$ such that $2k=m$. "
   ]
  },
  {
   "cell_type": "markdown",
   "id": "a34cff5c",
   "metadata": {},
   "source": [
    "(풀이) 임의의 짝수 $m$에 대하여, 항상 $2k=m$ 를 만족하는 적당한 $k$가 존재한다. (임의의 짝수는 항상 자연수와 2의 곱으로 표현할 수 있다는 의미) $\\to$ 참"
   ]
  },
  {
   "cell_type": "markdown",
   "id": "de167b7b-44b4-4355-addb-392be09d9655",
   "metadata": {},
   "source": [
    "# 2. 수학과의 표현 -- 20점 "
   ]
  },
  {
   "cell_type": "markdown",
   "id": "c4138cf3-cba1-4d1e-8d2a-f67618a1064c",
   "metadata": {},
   "source": [
    "아래가 의미하는 바를 한국어로 자연스럽게 작성하라.\n",
    "\n",
    "> 단, 이 문제에서 $\\mathbb{N}$은 자연수의 집합, $\\mathbb{N}_{even}$은 짝수의 집합, $\\mathbb{N}_{odd}$는 홀수의 집합, 그리고 $\\mathbb{Q}^+$는 양의 유리수 집합을 의미한다.\n",
    "\n",
    "`(1)` $a \\in \\mathbb{N}_{even}, b \\in \\mathbb{N}_{odd} \\Rightarrow a \\times b \\in \\mathbb{N}_{even}$\n",
    "\n",
    "(풀이) $a$가 짝수이고, $b$가 홀수라면 $a\\times b$는 짝수이다. (짝수와 홀수를 곱하면 짝수라는 의미)\n",
    "\n",
    "`(2)` $\\forall q \\in \\mathbb{Q}^+~ \\exists m, n \\in \\mathbb{N}$ such that $q = \\frac{n}{m}$.\n",
    "\n",
    "(풀이) 임의의 양의 유리수 $q$에 대하여, 항상 $q=\\frac{n}{m}$ 을 만족하는 두 자연수 $m,n$ 이 존재한다. (임의의 양의 유리수는 항상 두 자연수의 비로 나타낼수 있다는 의미)"
   ]
  },
  {
   "cell_type": "markdown",
   "id": "60f2621a-a122-480b-82db-ec2892cb2fea",
   "metadata": {},
   "source": [
    "# `3`. 전단사함수 -- 40점"
   ]
  },
  {
   "cell_type": "markdown",
   "id": "85593e05-4a46-4ffc-a042-2c72098ae654",
   "metadata": {},
   "source": [
    "`(1)` 함수 $f$는 $X = \\{1,2,3,4\\}$ 에서 $Y = \\{1,2,3,4\\}$ 로 매핑되며, 매핑은 다음과 같다:\n",
    "\n",
    "- $f(1) = 1$\n",
    "- $f(2) = 1$\n",
    "- $f(3) = 2$\n",
    "- $f(4) = 2$\n",
    "\n",
    "이 함수가 전사인지 아닌지, 단사인지 아닌지 판단하고 판단의 근거를 설명하라. "
   ]
  },
  {
   "cell_type": "markdown",
   "id": "6880fdcf",
   "metadata": {
    "vscode": {
     "languageId": "raw"
    }
   },
   "source": [
    "(풀이) $1 \\neq 2$ 이지만 $f(1)=f(2)$ 이므로 단사가 아니고, $f(x)=3$을 만족하는 $x$값이 없으므로 전사가 아니다. "
   ]
  },
  {
   "cell_type": "markdown",
   "id": "32dc2ca9-6229-4b47-85a1-ac8f16efcf2d",
   "metadata": {},
   "source": [
    "`(2)` 함수 $f$는 $X = \\{1,2,3,4\\}$ 에서 $Y = \\{1,2\\}$ 로 매핑되며, 매핑은 다음과 같다:\n",
    "\n",
    "- $f(1) = 1$\n",
    "- $f(2) = 1$\n",
    "- $f(3) = 2$\n",
    "- $f(4) = 2$\n",
    "\n",
    "이 함수가 전사인지 아닌지, 단사인지 아닌지 판단하고 판단의 근거를 설명하라. "
   ]
  },
  {
   "cell_type": "markdown",
   "id": "8f30ef57",
   "metadata": {},
   "source": [
    "(풀이) $1 \\neq 2$ 이지만 $f(1)=f(2)$ 이므로 단사가 아니다. $f(x)=1$ 을 만족하는 $x$값은 1,2 그리고 $f(x)=2$ 를 만족하는 $x$값은 3,4 이므로 모든 $y \\in Y$ 에 대해 $f(x)=y$를 만족하는 $x \\in X$ 가 존재한다. 따라서 전사이다. "
   ]
  },
  {
   "cell_type": "markdown",
   "id": "ef941155-a62e-4dbb-992f-3e1d815b183c",
   "metadata": {},
   "source": [
    "# `4`. 카디널리티 -- 20점"
   ]
  },
  {
   "cell_type": "markdown",
   "id": "928292aa-d87c-4bbb-9b2a-4d24cb154c88",
   "metadata": {},
   "source": [
    "짝수들의 집합 $\\mathbb{N}_{even}$ 와 홀수들의 집합 $\\mathbb{N}_{odd}$ 의 카디널리티가 동일함을 보여라. "
   ]
  },
  {
   "cell_type": "markdown",
   "id": "aed4d5c7",
   "metadata": {
    "vscode": {
     "languageId": "raw"
    }
   },
   "source": [
    "(풀이) $f(x)=x-1$ 은 $\\mathbb{N}_{even}$ 에서 $\\mathbb{N}_{odd}$ 로의 전단사함수이므로 두 집합의 카디널리티는 동일하다. "
   ]
  }
 ],
 "metadata": {
  "kernelspec": {
   "display_name": "hf",
   "language": "python",
   "name": "python3"
  },
  "language_info": {
   "codemirror_mode": {
    "name": "ipython",
    "version": 3
   },
   "file_extension": ".py",
   "mimetype": "text/x-python",
   "name": "python",
   "nbconvert_exporter": "python",
   "pygments_lexer": "ipython3",
   "version": "3.12.4"
  }
 },
 "nbformat": 4,
 "nbformat_minor": 5
}
