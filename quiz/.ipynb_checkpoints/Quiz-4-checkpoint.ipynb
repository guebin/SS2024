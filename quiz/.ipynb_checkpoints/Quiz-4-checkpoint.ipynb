{
 "cells": [
  {
   "cell_type": "raw",
   "id": "9535e23f-d32c-446c-8473-9cfd3c5895b0",
   "metadata": {
    "vscode": {
     "languageId": "raw"
    }
   },
   "source": [
    "---\n",
    "title: \"**Quiz-4 (2024.10.22)** // 범위: 05wk 까지\"\n",
    "author: \"최규빈\"\n",
    "date: \"10/22/2024\"\n",
    "reference-location: margin\n",
    "citation-location: margin\n",
    "cap-location: margin\n",
    "comments: false\n",
    "---"
   ]
  },
  {
   "cell_type": "markdown",
   "id": "001e4756-0ba8-438d-8f26-91de22f7d5bc",
   "metadata": {},
   "source": [
    "# `1`. -- 50점"
   ]
  },
  {
   "cell_type": "markdown",
   "id": "39693e5a-8882-44ab-87a4-b56337a037a9",
   "metadata": {},
   "source": [
    "$\\Omega = \\mathbb{R}$ 의 부분집합들의 모임 \n",
    "\n",
    "$${\\cal A}= \\{[a,b]: a< b,  \\text{ where } a,b \\in \\mathbb{R} \\}$$ \n",
    "\n",
    "를 고려하자. 그리고 ${\\cal R}=\\sigma({\\cal A})$ 라고 하자. "
   ]
  },
  {
   "cell_type": "markdown",
   "id": "6588d44e-5a9d-4924-b4fd-1d3bf89a9356",
   "metadata": {},
   "source": [
    "`(1)` 임의의 실수 $c$ 만을 포함하는 집합 $\\{c\\}$ 가 ${\\cal R}$의 원소임을 보여라. 즉 $\\{c\\} \\in {\\cal R}$ 임을 보여라."
   ]
  },
  {
   "cell_type": "markdown",
   "id": "4aeaabbb-b57e-4c4e-97a2-cded14a837cf",
   "metadata": {},
   "source": [
    "`(2)` $\\mathbb{Q} \\in {\\cal R}$ 임을 보여라. "
   ]
  },
  {
   "cell_type": "markdown",
   "id": "94e22cc8-3c4f-4bb7-ac16-086187c7778e",
   "metadata": {},
   "source": [
    "`(3)` $\\mathbb{Q}^c \\in {\\cal R}$ 임을 보여라. "
   ]
  },
  {
   "cell_type": "markdown",
   "id": "bca8e55d-87dc-43e1-a7ce-7b6dd342ab2b",
   "metadata": {},
   "source": [
    "`(4)` $\\mathbb{Q}^+ \\in {\\cal R}$ 임을 보여라. 단, 여기에서 $\\mathbb{Q}^+$ 은 양의 유리수집합을 의미한다. 즉 $\\mathbb{Q}^+=\\{q: q \\in \\mathbb{Q},~ q>0\\}$ 이다. "
   ]
  },
  {
   "cell_type": "markdown",
   "id": "b89ae6a4-6f86-4520-a452-4f0e7dc8c479",
   "metadata": {},
   "source": [
    "`(5)` $\\mathbb{R}^+ \\in {\\cal R}$ 임을 보여라. 단 여기에서 $\\mathbb{R}^+$은 양의 실수를 의미한다. 즉 $\\mathbb{R}^+ = \\{x: x \\in \\mathbb{R}, ~x>0\\}$ 이다. "
   ]
  },
  {
   "cell_type": "markdown",
   "id": "63ff1d59-b859-4363-bf9d-bea2f60cd193",
   "metadata": {},
   "source": [
    "`(6)` $a<b$ 인 임의의 실수 $a,b$ 에 대하여 $(a,b] \\in {\\cal R}$, $(a,b) \\in {\\cal R}$, $[a,b) \\in {\\cal R}$ 임을 보여라. "
   ]
  },
  {
   "cell_type": "markdown",
   "id": "c81d7045-8dc4-4560-bbed-b88a4dfaf00c",
   "metadata": {},
   "source": [
    "`(7)` 임의의 실수 $x$에 대하여 $(-\\infty, x] \\in {\\cal R}$, $(-\\infty,x) \\in {\\cal R}$, $(x,\\infty) \\in {\\cal R}$, $[x,\\infty) \\in {\\cal R}$ 임을 보여라. "
   ]
  },
  {
   "cell_type": "markdown",
   "id": "896e6b2a-a2e5-4e4c-8914-e4e31e5728b7",
   "metadata": {},
   "source": [
    "`(8)` $\\mathbb{N} \\in {\\cal R}$ 임을 보여라. "
   ]
  },
  {
   "cell_type": "markdown",
   "id": "22235f02-8af7-4459-8191-8cfa38b8e8f2",
   "metadata": {},
   "source": [
    "`(9)` $A = \\{x: x \\geq 0, x \\notin \\mathbb{Q}\\} \\in {\\cal R}$ 임을 보여라. "
   ]
  },
  {
   "cell_type": "markdown",
   "id": "0c5495f1-c29e-4d87-a424-ad510bd99573",
   "metadata": {},
   "source": [
    "`(10)` $B = \\{x: \\sin(\\pi x) > 0, x\\in \\mathbb{R} \\} \\in {\\cal R}$ 임을 보여라.  "
   ]
  },
  {
   "cell_type": "markdown",
   "id": "a9095b39-71ec-432a-a343-b775eb1def54",
   "metadata": {},
   "source": [
    "**hint:** 10번의 집합 $B$에 대한 힌트\n",
    "\n",
    "`1`. $\\sin(\\pi x)$ 는 주기가 2인 함수이다. \n",
    "\n",
    "`2`. $\\sin(\\pi x)$ 의 그래프는 아래와 같다. "
   ]
  },
  {
   "cell_type": "code",
   "execution_count": 1,
   "id": "4592488b-5682-4d16-aae2-e2734664d4cd",
   "metadata": {},
   "outputs": [
    {
     "ename": "SyntaxError",
     "evalue": "invalid syntax (4286638783.py, line 1)",
     "output_type": "error",
     "traceback": [
      "\u001b[0;36m  Cell \u001b[0;32mIn[1], line 1\u001b[0;36m\u001b[0m\n\u001b[0;31m    using Plots\u001b[0m\n\u001b[0m          ^\u001b[0m\n\u001b[0;31mSyntaxError\u001b[0m\u001b[0;31m:\u001b[0m invalid syntax\n"
     ]
    }
   ],
   "source": [
    "using Plots\n",
    "x = -3:0.01:3\n",
    "y = sin.(π .* x)\n",
    "plot(x, y, label=\"sin(πx)\", xlabel=\"x\", ylabel=\"sin(πx)\")"
   ]
  },
  {
   "cell_type": "markdown",
   "id": "3df4687b-a3c8-4b9c-918a-55d8e2c55cc9",
   "metadata": {},
   "source": [
    "# `2`. -- 50점"
   ]
  },
  {
   "cell_type": "markdown",
   "id": "3816312c-834a-4fee-b13a-c76f835d2de0",
   "metadata": {},
   "source": [
    "$\\Omega = \\{a,b,c,d\\}$ 의 부분집합들의 모임 \n",
    "\n",
    "$${\\cal A}=\\big\\{\\{a,b,c\\},\\{b,c,d\\}\\big\\}$$ \n",
    "\n",
    "를 고려하자. "
   ]
  },
  {
   "cell_type": "markdown",
   "id": "d4e5a71c-5127-4414-bd90-317a62efbe88",
   "metadata": {},
   "source": [
    "`(1)` ${\\cal A}$를 포함하는 최소한의 시그마필드 즉 $\\sigma({\\cal A})$를 구하라. -- 20점"
   ]
  },
  {
   "cell_type": "markdown",
   "id": "7a7aa924-e8a7-4dee-b6f1-61b5bf123db8",
   "metadata": {},
   "source": [
    "`(2)` 함수 $\\tilde{P}: {\\cal A} \\to [0,1]$ 을 아래와 같이 정의하자. \n",
    "\n",
    "- $\\tilde{P}(\\{a,b,c\\}) = \\frac{3}{4}$\n",
    "- $\\tilde{P}(\\{b,c,d\\}) = \\frac{3}{4}$\n",
    "\n",
    "$\\tilde{P}$ 를 확장하여 확률측도의 정의를 만족하는 적당한 함수 $P:\\sigma({\\cal A}) \\to [0,1]$ 를 유일하게 만들 수 있는가? -- 30점\n",
    "\n",
    "::: {.callout-note} \n",
    "단, 여기에서 $\\tilde{P}$를 확장하여 $P$를 만든다는 의미는 아래가 성립하도록 한다는 의미이다. \n",
    "\n",
    "$$\\forall A \\in {\\cal A}: \\tilde{P}(A) = P(A)$$\n",
    ":::"
   ]
  }
 ],
 "metadata": {
  "kernelspec": {
   "display_name": "Python 3 (ipykernel)",
   "language": "python",
   "name": "python3"
  },
  "language_info": {
   "codemirror_mode": {
    "name": "ipython",
    "version": 3
   },
   "file_extension": ".py",
   "mimetype": "text/x-python",
   "name": "python",
   "nbconvert_exporter": "python",
   "pygments_lexer": "ipython3",
   "version": "3.12.2"
  }
 },
 "nbformat": 4,
 "nbformat_minor": 5
}
