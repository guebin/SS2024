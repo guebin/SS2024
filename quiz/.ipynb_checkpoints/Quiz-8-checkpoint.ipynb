{
 "cells": [
  {
   "cell_type": "raw",
   "id": "5344be1c-4d23-4832-834d-80f21ce69149",
   "metadata": {
    "vscode": {
     "languageId": "raw"
    }
   },
   "source": [
    "---\n",
    "title: \"**Quiz-8 (2024.11.26)** // 범위: 10wk 까지\"\n",
    "author: \"최규빈\"\n",
    "date: \"11/26/2024\"\n",
    "reference-location: margin\n",
    "citation-location: margin\n",
    "cap-location: margin\n",
    "comments: false\n",
    "---"
   ]
  },
  {
   "cell_type": "markdown",
   "id": "0b362340-47a2-403f-814b-082ca4970c61",
   "metadata": {},
   "source": [
    "# 1. -- 40점"
   ]
  },
  {
   "cell_type": "markdown",
   "id": "f2fb08d3-f2ff-4f75-a0a8-1ead2d4a6843",
   "metadata": {
    "slideshow": {
     "slide_type": "slide"
    }
   },
   "source": [
    "$X$를 확률공간 $(\\Omega, {\\cal F}, \\mathbb{P})$ 에서 정의된 확률변수라고 하자. \n",
    "\n",
    "`(1)` $\\mu_X:{\\cal R} \\to [0,1]$ 는 언제나 모순없이 잘 정의됨을 설명하라. \n",
    "\n",
    "`(2)` $\\mu_X:{\\cal R} \\to [0,1]$ 는 확률측도의 정의를 만족함을 보여라. "
   ]
  },
  {
   "cell_type": "markdown",
   "id": "014bf201-09a0-43f3-9636-0c872bfff217",
   "metadata": {},
   "source": [
    "# 2. -- 40점"
   ]
  },
  {
   "cell_type": "markdown",
   "id": "119ba0eb-ce45-4d15-9eb5-31f59e9433b4",
   "metadata": {},
   "source": [
    "이제 아래와 같은 함수 $f$를 고려하자. "
   ]
  },
  {
   "cell_type": "markdown",
   "id": "625a3846-4bf7-4836-98f4-b7bd95bbaeb5",
   "metadata": {},
   "source": [
    "$$f(x) = \\begin{cases} 1 & x \\in [0,1] \\cap \\mathbb{Q}  \\\\ 0 & x \\in [0,1] \\cap \\mathbb{Q}^c \\end{cases}$$ "
   ]
  },
  {
   "cell_type": "markdown",
   "id": "4d150187-8fa4-43d0-bd08-e7ff957e9156",
   "metadata": {},
   "source": [
    "`(1)` 이 함수가 리만적분 불가능한 이유를 설명하라. "
   ]
  },
  {
   "cell_type": "markdown",
   "id": "f066fb2f-de8e-4df9-bdc9-aab6db2a450a",
   "metadata": {},
   "source": [
    "`(2)` 이 함수의 르벡적분값은 얼마인가? "
   ]
  },
  {
   "cell_type": "markdown",
   "id": "51440d58-3f96-4a26-bc70-22e098d3dc9b",
   "metadata": {},
   "source": [
    "# 2. -- 20점"
   ]
  },
  {
   "cell_type": "markdown",
   "id": "7c216fe3-1e14-4249-8043-8f6da79df3d8",
   "metadata": {},
   "source": [
    "다음을 읽고 참 거짓을 판단하라. "
   ]
  },
  {
   "cell_type": "markdown",
   "id": "1ea2dd92-0e53-4b35-ad60-d3b9f19a0d56",
   "metadata": {},
   "source": [
    "`(1)` $X$를 확률공간 $(\\Omega, {\\cal F}, \\mathbb{P})$에서 정의된 확률변수라고 하자. 그리고 $(\\mathbb{R}, {\\cal R}, \\mu_X)$를 $X$에 의하여 유도된 확률공간이라고 하자. $F_X: \\mathbb{R} \\to [0,1]$ 인 함수를 아래와 같이 정의하자. \n",
    "\n",
    "$$F_X(x) = \\mu_X((-\\infty, x])$$\n",
    "\n",
    "함수 모든 $x \\in \\mathbb{R}$에 대하여 $F_X(x)$의 값을 정할 수 있으면 임의의 $B \\in {\\cal R})$ 에 대하여 $\\mu_X(B)$의 값을 결정할 수 있다. "
   ]
  },
  {
   "cell_type": "markdown",
   "id": "91d93e7b-df78-4fcd-a3ca-e1d8fd3d4e9b",
   "metadata": {},
   "source": [
    "`(2)` 아래의 함수는 거의 모든곳에서 연속이다. \n",
    "\n",
    "$$f(x) = \\begin{cases} 1 & x \\in [0,1] \\cap \\mathbb{Q}  \\\\ 2 & x \\in [0,1] \\cap \\mathbb{Q}^c \\\\ 0 & o.w. \\end{cases}$$ "
   ]
  }
 ],
 "metadata": {
  "kernelspec": {
   "display_name": "Python 3 (ipykernel)",
   "language": "python",
   "name": "python3"
  },
  "language_info": {
   "codemirror_mode": {
    "name": "ipython",
    "version": 3
   },
   "file_extension": ".py",
   "mimetype": "text/x-python",
   "name": "python",
   "nbconvert_exporter": "python",
   "pygments_lexer": "ipython3",
   "version": "3.12.2"
  }
 },
 "nbformat": 4,
 "nbformat_minor": 5
}
