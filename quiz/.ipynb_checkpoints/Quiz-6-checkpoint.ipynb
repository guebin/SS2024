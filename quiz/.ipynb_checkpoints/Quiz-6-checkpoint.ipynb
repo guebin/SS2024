{
 "cells": [
  {
   "cell_type": "raw",
   "id": "5344be1c-4d23-4832-834d-80f21ce69149",
   "metadata": {
    "vscode": {
     "languageId": "raw"
    }
   },
   "source": [
    "---\n",
    "title: \"**Quiz-6 (2024.11.12)** // 범위: 08wk 까지\"\n",
    "author: \"최규빈\"\n",
    "date: \"11/12/2024\"\n",
    "reference-location: margin\n",
    "citation-location: margin\n",
    "cap-location: margin\n",
    "comments: false\n",
    "---"
   ]
  },
  {
   "cell_type": "markdown",
   "id": "773bfd73-a1bb-47f5-8a95-1f09abdf7078",
   "metadata": {},
   "source": [
    "# 1. -- $\\sigma$-finite"
   ]
  },
  {
   "cell_type": "markdown",
   "id": "6f2844d8-518f-4faa-9426-6949802e66c4",
   "metadata": {},
   "source": [
    "> (1)은 답만 써도 됩니다. (2),(3)은 이유를 함께 써야합니다. "
   ]
  },
  {
   "cell_type": "markdown",
   "id": "ac234ed5-4d4c-4fad-9a0c-4f4e22d4f06b",
   "metadata": {},
   "source": [
    "잴 수 있는 공간 $(\\mathbb{N}, 2^{\\mathbb{N}})$ 에 대하여, 아래와 같은 집합함수 $m:2^{\\mathbb{N}} \\to [0,\\infty]$ \n",
    "\n",
    "$$m(A) = \\begin{cases} |A| & \\text{$A$ 는 유한집합} \\\\ \n",
    "\\infty & \\text{$A$ 는 무한집합}\n",
    "\\end{cases}$$\n",
    "\n",
    "를 고려하자. 여기에서 $|A|$는 $|A|$의 cardinal number를 의미한다. 함수 $m$을 적용한 예시는 아래와 같다. \n",
    "\n",
    "- $m(\\emptyset) = 0$\n",
    "- $m(\\{1,10\\}) = 2$\n",
    "- $m(\\{2,4,6,8,\\dots\\})=\\infty$\n",
    "- $m\\big(\\{n: 0<n\\leq 10, n \\in \\mathbb{N} \\}\\big)=10$\n",
    "\n",
    "즉 함수 $m$은 유한집합에서는 원소의 숫자를, 무한집합에서는 $\\infty$를 리턴하는 함수라고 생각 할 수 있다. "
   ]
  },
  {
   "cell_type": "markdown",
   "id": "f3536d2a-cc8f-46cd-9625-d0d1ad0a3e4e",
   "metadata": {},
   "source": [
    "`(1)` $m$이 $(\\mathbb{N}, 2^{\\mathbb{N}})$ 에서 $\\sigma$-additivity 를 만족하는지 판단하라. -- 5점"
   ]
  },
  {
   "cell_type": "markdown",
   "id": "4dc70fe5",
   "metadata": {
    "vscode": {
     "languageId": "raw"
    }
   },
   "source": [
    "`(풀이)`"
   ]
  },
  {
   "cell_type": "markdown",
   "id": "094dd0e2",
   "metadata": {
    "vscode": {
     "languageId": "raw"
    }
   },
   "source": [
    "만족한다. 서로 겹치지 않는 두 집합 $A$, $B$에 대하여 $A\\cup B$ 의 원소수는  $A$의 원소수와 $B$의 원소수를 각각 더한것과 같기 때문. "
   ]
  },
  {
   "cell_type": "markdown",
   "id": "a16d16b4-3d28-456a-a556-1d5222b9a3b9",
   "metadata": {},
   "source": [
    "`(2)` $m$은 $(\\mathbb{N},2^\\mathbb{N})$에서 측도의 정의를 만족하는지 판단하고 판단한 근거를 설명하라. -- 5점"
   ]
  },
  {
   "cell_type": "markdown",
   "id": "3c02ac2a",
   "metadata": {},
   "source": [
    "`(풀이)` \n"
   ]
  },
  {
   "cell_type": "markdown",
   "id": "fc30fc9b",
   "metadata": {},
   "source": [
    "\n",
    "(1) 에 의하여 $\\sigma$-additivity를 만족하고 $m(\\emptyset)=0$ 이므로 measure의 조건을 만족한다."
   ]
  },
  {
   "cell_type": "markdown",
   "id": "b4a09db4-11b9-482f-863b-8f8baed9cd20",
   "metadata": {},
   "source": [
    "`(3)` $m$이 $(\\mathbb{N},2^\\mathbb{N})$에서 시그마유한 측도의 정의를 만족하는지 판단하고 그렇게 판단한 근거를 서술하라. -- 10점"
   ]
  },
  {
   "cell_type": "markdown",
   "id": "249f5410",
   "metadata": {
    "vscode": {
     "languageId": "raw"
    }
   },
   "source": [
    "`(풀이)`"
   ]
  },
  {
   "cell_type": "markdown",
   "id": "5f5a64c4",
   "metadata": {
    "vscode": {
     "languageId": "raw"
    }
   },
   "source": [
    "$\\Omega_1 = \\{1\\}, \\Omega_2 = \\{2\\}, \\dots$ 와 같이 잡으면 $\\cup_{i=1}^{\\infty}\\Omega_i = \\Omega = \\mathbb{N}$ 이고 모든 $i$에 대하여 $m(\\Omega_i)=1 < \\infty$ 가 성립하므로 $m$은 시그마유한측도이다. "
   ]
  },
  {
   "cell_type": "markdown",
   "id": "382ee303-a609-4078-b1de-6ef8ed361a5a",
   "metadata": {},
   "source": [
    "# 2. -- 확장이론"
   ]
  },
  {
   "cell_type": "markdown",
   "id": "5ab08d88-74aa-421d-9449-bf282e04f526",
   "metadata": {},
   "source": [
    "$\\Omega$ 는 전체집합, ${\\cal A}$ 는 $\\Omega$의 부분집합들을 원소로 하는 collection이라고 하자. 그리고 $\\tilde{P}:{\\cal A} \\to [0,1]$ 는 ${\\cal A}$ 에서 $\\sigma$-additive 하고 $\\tilde{P}(\\emptyset)=0, \\tilde{P}(\\Omega)=1$ 인 집합함수라고 하자. $\\tilde{P}$ 는 $(\\Omega, \\sigma({\\cal A}))$ 에서의 확장가능하며, 그 확장은 유일한가? 유일한 확장이 가능하다면 이유를 설명하라. 유일한 확장이 가능하지 않다면 반례를 들어라. -- 20점"
   ]
  },
  {
   "cell_type": "markdown",
   "id": "abecce96",
   "metadata": {
    "vscode": {
     "languageId": "raw"
    }
   },
   "source": [
    "`(풀이)`"
   ]
  },
  {
   "cell_type": "markdown",
   "id": "607ad129",
   "metadata": {
    "vscode": {
     "languageId": "raw"
    }
   },
   "source": [
    "유일한 확장을 보장하지는 않는다. 반례는 07wk-08wk 강의노트 3-A의 예제5를 그대로 쓰면 된다. "
   ]
  },
  {
   "cell_type": "markdown",
   "id": "e9c4703e-5e89-4eb3-a711-49cabd35811c",
   "metadata": {},
   "source": [
    "# 3. -- O/X"
   ]
  },
  {
   "cell_type": "markdown",
   "id": "103ad679-13d2-4693-a34d-bdd0945e8d27",
   "metadata": {},
   "source": [
    "아래를 참거짓을 판단하고 근거를 함께 서술하라. "
   ]
  },
  {
   "cell_type": "markdown",
   "id": "7f8f2fb8-825d-4468-a1fd-a9ceb9a746e8",
   "metadata": {},
   "source": [
    "`(1)` 전체집합 $\\Omega=\\{a,b,c\\}$에 대한 collection ${\\cal A}=\\{\\emptyset, \\{a\\},\\{b\\}\\}$ 를 고려하자. $\\tilde{P}:{\\cal A} \\to [0,1]$ 는 ${\\cal A}$에서 $\\sigma$-additive 하고 $\\tilde{P}(\\emptyset)=0, \\tilde{P}(\\Omega)=1$ 인 집합함수라고 하자. 우연히 $\\tilde{P}$를 확장하여 $(\\Omega, \\sigma({\\cal A}))$ 에서의 확률측도 $\\mathbb{P}$를 하나 얻었다고 하자. 이때 $\\mathbb{P}$는 $\\tilde{P}$를 확장하여 얻은 유일한 확률측도라고 주장할 수 있는가? -- 20점"
   ]
  },
  {
   "cell_type": "markdown",
   "id": "fb96ed4d",
   "metadata": {
    "vscode": {
     "languageId": "raw"
    }
   },
   "source": [
    "`(풀이)`"
   ]
  },
  {
   "cell_type": "markdown",
   "id": "b27af3d3",
   "metadata": {
    "vscode": {
     "languageId": "raw"
    }
   },
   "source": [
    "${\\cal A}$는 파이시스템이므로, $\\tilde{P}$의 확장가능성이 보장되면 유일성은 자동보장된다. // 확장이론2 참고 "
   ]
  },
  {
   "cell_type": "markdown",
   "id": "8e2fb85a-02ed-4d38-ba8f-de9210b8ec38",
   "metadata": {},
   "source": [
    "`(2)` $\\Omega = \\{a, b\\}$ 이라고 하고 $\\mathcal{A} = \\{\\emptyset, \\{a\\}\\}$ 라고 하자. 여기에서 $\\mathcal{A}$는 세미링이다. 이때 집합함수 $\\tilde{m} : \\mathcal{A} \\rightarrow [0, 1]$ 를 아래와 같이 정의하자.\n",
    "\n",
    "- $\\tilde{m}(\\emptyset) = 0$\n",
    "- $\\tilde{m}(\\{a\\}) = \\frac{1}{2}$\n",
    "\n",
    "이 함수는 $\\tilde{m}$은 $(\\Omega, \\sigma(\\mathcal{A}))$에서의 측도로 확장 가능할까? -- 20점"
   ]
  },
  {
   "cell_type": "markdown",
   "id": "a200e917",
   "metadata": {
    "vscode": {
     "languageId": "raw"
    }
   },
   "source": [
    "`(풀이)`"
   ]
  },
  {
   "cell_type": "markdown",
   "id": "7ea02473",
   "metadata": {
    "vscode": {
     "languageId": "raw"
    }
   },
   "source": [
    "확장가능하다. (그렇지만 유일성을 보장하지 않는다.) 확장의 예시는 07wk-08wk 강의노트 3-A의 예제6을 참고하라. "
   ]
  },
  {
   "cell_type": "markdown",
   "id": "9c3a6f36-c116-43d9-b3fe-e71f1c88fdab",
   "metadata": {},
   "source": [
    "`(3)` Measure space $(\\mathbb{R}, {\\cal R}, \\lambda)$를 고려하자. 여기에서 ${\\cal R}$은 보렐시그마필드이며 $\\lambda$은 르벡메저이다. 이제 아래와 같은 집합함수 $\\tilde{\\lambda}: {\\cal A} \\to [0,1]$\n",
    "\n",
    "$$\\tilde{\\lambda}([a,b]) = b-a$$\n",
    "\n",
    "를 고려하자. 여기에서 ${\\cal A}=\\{[a,b]: -\\infty<a<b<\\infty\\}$ 이다. 집합함수 $\\tilde{\\lambda}$를 $(\\mathbb{R}, {\\cal R})$에서의 측도로 확장하고자 한다. 르벡메저가 아닌 다른 메저로 확장가능한가? -- 20점"
   ]
  },
  {
   "cell_type": "markdown",
   "id": "cc7edb01",
   "metadata": {
    "vscode": {
     "languageId": "raw"
    }
   },
   "source": [
    "`(풀이)`"
   ]
  },
  {
   "cell_type": "markdown",
   "id": "98a3f8ca",
   "metadata": {},
   "source": [
    "$\\forall A \\in {\\cal A}$에 대하여 $\\tilde{\\lambda}([a,b])=\\lambda([a,b])$이므로 $\\lambda$는 $\\tilde{\\lambda}$의 확장이다. 그런데 ${\\cal A} \\cup \\{\\emptyset\\}$ 이 파이시스템이므로 확장의 유일성이 보장된다. 따라서 다른메저로의 확장은 불가능하다. "
   ]
  }
 ],
 "metadata": {
  "kernelspec": {
   "display_name": "Python 3 (ipykernel)",
   "language": "python",
   "name": "python3"
  },
  "language_info": {
   "codemirror_mode": {
    "name": "ipython",
    "version": 3
   },
   "file_extension": ".py",
   "mimetype": "text/x-python",
   "name": "python",
   "nbconvert_exporter": "python",
   "pygments_lexer": "ipython3",
   "version": "3.12.2"
  }
 },
 "nbformat": 4,
 "nbformat_minor": 5
}
