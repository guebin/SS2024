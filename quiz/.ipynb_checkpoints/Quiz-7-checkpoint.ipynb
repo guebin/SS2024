{
 "cells": [
  {
   "cell_type": "raw",
   "id": "5344be1c-4d23-4832-834d-80f21ce69149",
   "metadata": {
    "vscode": {
     "languageId": "raw"
    }
   },
   "source": [
    "---\n",
    "title: \"**Quiz-7 (2024.11.19)** // 범위: 09wk 까지\"\n",
    "author: \"최규빈\"\n",
    "date: \"11/19/2024\"\n",
    "reference-location: margin\n",
    "citation-location: margin\n",
    "cap-location: margin\n",
    "comments: false\n",
    "---"
   ]
  },
  {
   "cell_type": "markdown",
   "id": "dc29d115-8020-41d3-9d82-cecfbe9c59a9",
   "metadata": {},
   "source": [
    ":::{.callout-important}\n",
    "\n",
    "모든 문항은 답과함께 근거를 명확하게 쓸 경우만 정답으로 인정함.\n",
    "\n",
    "답만 쓴 경우는 부분점수 인정하지 않음. \n",
    "\n",
    ":::"
   ]
  },
  {
   "cell_type": "markdown",
   "id": "d82e93d4",
   "metadata": {
    "vscode": {
     "languageId": "raw"
    }
   },
   "source": [
    "# 1. -- 30점\n",
    "\n",
    "아래와 같은 예제를 고려하자. \n",
    "\n",
    "- outcomes: $\\omega \\in [0,1]$\n",
    "- sample space: $\\Omega = [0,1]$\n",
    "- event: $A \\in {\\cal R}|_{\\Omega}$\n",
    "- $\\sigma$-field: ${\\cal R}|_{\\Omega}$"
   ]
  },
  {
   "cell_type": "markdown",
   "id": "f7ec50d5",
   "metadata": {
    "vscode": {
     "languageId": "raw"
    }
   },
   "source": [
    "`(1)` 아래와 같은 함수 $X:\\Omega \\to \\mathbb{R}$ 는 확률변수인가? \n",
    "\n",
    "$$X(\\omega)=\\omega$$"
   ]
  },
  {
   "cell_type": "markdown",
   "id": "c2fc2df2-0f6e-4160-83fe-9fb21702c0b9",
   "metadata": {},
   "source": [
    "`(풀이)`"
   ]
  },
  {
   "cell_type": "markdown",
   "id": "1515ba72-d45b-428d-8ed6-914b633420a4",
   "metadata": {},
   "source": [
    "$\\forall B \\in {\\cal R}$ 에 대하여 아래와 같이 분해할 수 있다. \n",
    "\n",
    "$$B = (B \\cap [0,1]) \\uplus (B \\cap [0,1]^c) := B_1 \\uplus B_2$$"
   ]
  },
  {
   "cell_type": "markdown",
   "id": "7818b57a-217b-4ef3-8e58-ff70072648a7",
   "metadata": {},
   "source": [
    "$B_1$에 대한 역상은 $B_1$이고 $B_2$에 대한 역상은 $\\emptyset$ 이므로 모든 $B \\in {\\cal R}$의 역상은 ${\\cal R}|_{\\Omega}$에 포함된다. 따라서 $X$는 확률변수이다. "
   ]
  },
  {
   "cell_type": "markdown",
   "id": "5ba6817a",
   "metadata": {},
   "source": [
    "`(2)` 아래와 같은 함수 $X:\\Omega \\to \\mathbb{R}$ 는 확률변수인가? \n",
    "\n",
    "$$X(\\omega)=\\begin{cases} 1 & \\omega = 0 \\\\ 0 & \\omega\\neq 0 \\end{cases}$$"
   ]
  },
  {
   "cell_type": "markdown",
   "id": "a95650af-307c-4256-962d-73acf08d3920",
   "metadata": {},
   "source": [
    "`(풀이)`"
   ]
  },
  {
   "cell_type": "markdown",
   "id": "e64b568d-241b-4cb5-b12a-0b78afa80434",
   "metadata": {},
   "source": [
    "$X$의 역상은 $\\emptyset, \\{0\\}, \\Omega - \\{0\\}, \\Omega$ 중 하나이므로 모든 역상이 ${\\cal R}|_{\\Omega}$에 포함된다. 따라서 $X$는 확률변수이다. "
   ]
  },
  {
   "cell_type": "markdown",
   "id": "6145af19",
   "metadata": {},
   "source": [
    "# 2. -- 30점\n",
    "\n",
    "아래와 같은 예제를 고려하자. \n",
    "\n",
    "- outcomes: $1,2$\n",
    "- sample space: $\\Omega = \\{1,2\\}$\n",
    "- event: $\\emptyset, \\{1\\}, \\{2\\}, \\Omega$\n",
    "- $\\sigma$-field: $\\{\\emptyset, \\{1\\}, \\{2\\}, \\Omega\\}$"
   ]
  },
  {
   "cell_type": "markdown",
   "id": "818fd47b",
   "metadata": {},
   "source": [
    "`(1)` 아래와 같은 함수 $X:\\Omega \\to \\mathbb{R}$ 는 확률변수인가? \n",
    "\n",
    "$$X(\\omega)=\\omega$$"
   ]
  },
  {
   "cell_type": "markdown",
   "id": "d948bf84-4314-48f1-be1d-9e15aab752da",
   "metadata": {},
   "source": [
    "`(풀이)`"
   ]
  },
  {
   "cell_type": "markdown",
   "id": "9d37e71d-56fa-462e-ac73-ed200c9cb9da",
   "metadata": {},
   "source": [
    "$X$의 역상은 $\\emptyset, \\{0\\}, \\{1\\}, \\Omega$ 중 하나이므로 모든 역상이 $\\{\\emptyset, \\{0\\}, \\{1\\}, \\Omega\\}$에 포함된다. 따라서 $X$는 확률변수이다. "
   ]
  },
  {
   "cell_type": "markdown",
   "id": "5301a204",
   "metadata": {},
   "source": [
    "`(2)` 아래와 같은 함수 $X:\\Omega \\to \\mathbb{R}$ 는 확률변수인가? \n",
    "\n",
    "$$X(\\omega)=0$$"
   ]
  },
  {
   "cell_type": "markdown",
   "id": "53ac9c01-8c0f-49af-8a3c-64575c0405d0",
   "metadata": {},
   "source": [
    "`(풀이)`"
   ]
  },
  {
   "cell_type": "markdown",
   "id": "3122172c-7a05-466c-92b7-7970ee7e1fdc",
   "metadata": {},
   "source": [
    "$X$의 역상은 $\\emptyset, \\Omega$ 중 하나이므로 모든 역상이 $\\{\\emptyset, \\{0\\}, \\{1\\}, \\Omega\\}$에 포함된다. 따라서 $X$는 확률변수이다. "
   ]
  },
  {
   "cell_type": "markdown",
   "id": "4d4a711e",
   "metadata": {},
   "source": [
    "# 3. -- 30점\n",
    "\n",
    "아래와 같은 예제를 고려하자. \n",
    "\n",
    "- outcomes: $1,2,3,4$\n",
    "- sample space: $\\Omega = \\{1,2,3,4\\}$\n",
    "- collection: ${\\cal A} = \\{\\{1\\}\\}$\n",
    "- event: $A \\in \\sigma({\\cal A})$ \n",
    "- $\\sigma$-field: $\\sigma({\\cal A})$"
   ]
  },
  {
   "cell_type": "markdown",
   "id": "3429b9d7",
   "metadata": {},
   "source": [
    "`(1)` 아래와 같은 함수 $X:\\Omega \\to \\mathbb{R}$ 는 확률변수인가? \n",
    "\n",
    "$$X(\\omega)=\\omega$$"
   ]
  },
  {
   "cell_type": "markdown",
   "id": "b4e56acc-193f-466e-9b7f-cafbd63a68cd",
   "metadata": {},
   "source": [
    "`(풀이)`"
   ]
  },
  {
   "cell_type": "markdown",
   "id": "51560a65-dc78-4572-95c3-9945fefc2bdc",
   "metadata": {},
   "source": [
    "$B=\\{2\\} \\in {\\cal R}$에 대한 역상은 $\\{2\\}$ 인데 이것은 $\\sigma({\\cal A})$의 원소가 아니므로 $X$는 확률변수가 아니다. "
   ]
  },
  {
   "cell_type": "markdown",
   "id": "b1f700ee",
   "metadata": {},
   "source": [
    "`(2)` 아래와 같은 함수 $X:\\Omega \\to \\mathbb{R}$ 는 확률변수인가? \n",
    "\n",
    "$$X(\\omega)=\\begin{cases} 1  & \\omega \\in \\{1\\} \\\\  2 & \\omega \\in \\{2,3,4\\}\\end{cases}$$"
   ]
  },
  {
   "cell_type": "markdown",
   "id": "d31fa1fc-1afb-4c83-ba4b-8973f2553efc",
   "metadata": {},
   "source": [
    "`(풀이)`"
   ]
  },
  {
   "cell_type": "markdown",
   "id": "8000c3de-57e2-4383-8cd0-11de2136a32a",
   "metadata": {},
   "source": [
    "$X$의 역상은 $\\{1\\}, \\{2,3,4\\}, \\emptyset, \\Omega$ 인데 이는 모두 $\\sigma({\\cal A})$의 원소이므로 $X$는 확률변수이다. "
   ]
  },
  {
   "cell_type": "markdown",
   "id": "ed33c349",
   "metadata": {
    "vscode": {
     "languageId": "raw"
    }
   },
   "source": [
    "# 4. -- 10점"
   ]
  },
  {
   "cell_type": "markdown",
   "id": "7734cb5d",
   "metadata": {
    "vscode": {
     "languageId": "raw"
    }
   },
   "source": [
    " 다음중 가능한 표현을 모두 고르라. (모두 맞출경우만 정답으로 인정)"
   ]
  },
  {
   "cell_type": "markdown",
   "id": "3e20f980",
   "metadata": {},
   "source": [
    "아래와 같은 예제를 고려하자. \n",
    "\n",
    "- outcomes: $1,2,3,4$\n",
    "- sample space: $\\Omega = \\{1,2,3,4\\}$\n",
    "- event: $\\emptyset, \\Omega, \\{1,2\\}, \\{3,4\\}$\n",
    "- $\\sigma$-field: ${\\cal F} = \\{\\emptyset, \\Omega, \\{1,2\\}, \\{3,4\\}\\}$\n",
    "- probability: $\\mathbb{P}: {\\cal F} \\to [0,1]$ such that $\\mathbb{P}(\\{1,2\\}) =\\mathbb{P}(\\{3,4\\}) = \\frac{1}{2}$.\n",
    "- function: $X: \\Omega \\to \\mathbb{R}$ such that $X(\\omega)=\\omega$.\n",
    "\n",
    "다음중 모순없이 정의가능한 표현은? \n",
    "\n",
    "1. $\\mathbb{P}(X=1)$\n",
    "2. $\\mathbb{P}(X=2)$\n",
    "3. $\\mathbb{P}(X\\leq 2)$\n",
    "4. $\\mathbb{P}(X\\leq 4)$\n"
   ]
  },
  {
   "cell_type": "markdown",
   "id": "1da2ab73-d394-453c-b450-839708bc2082",
   "metadata": {},
   "source": [
    "`(풀이)`"
   ]
  },
  {
   "cell_type": "markdown",
   "id": "1408c738-5a23-4edd-980b-5ed60f852d4c",
   "metadata": {},
   "source": [
    "3,4만 모순없이 정의가능하다. \n",
    "\n",
    "1. $\\mathbb{P}(X=1) = \\mathbb{P}(\\{1\\}), \\quad \\{1\\} \\notin {\\cal F}$\n",
    "2. $\\mathbb{P}(X=2) = \\mathbb{P}(\\{2\\}), \\quad \\{2\\} \\notin {\\cal F}$\n",
    "3. $\\mathbb{P}(X\\leq 2) = \\mathbb{P}(\\{1,2\\}) = \\frac{1}{2}, \\quad \\{1,2\\} \\in {\\cal F}$\n",
    "4. $\\mathbb{P}(X\\leq 4) = \\mathbb{P}(\\Omega) = 1, \\quad \\Omega \\in {\\cal F}$"
   ]
  }
 ],
 "metadata": {
  "kernelspec": {
   "display_name": "Python 3 (ipykernel)",
   "language": "python",
   "name": "python3"
  },
  "language_info": {
   "codemirror_mode": {
    "name": "ipython",
    "version": 3
   },
   "file_extension": ".py",
   "mimetype": "text/x-python",
   "name": "python",
   "nbconvert_exporter": "python",
   "pygments_lexer": "ipython3",
   "version": "3.12.2"
  }
 },
 "nbformat": 4,
 "nbformat_minor": 5
}
