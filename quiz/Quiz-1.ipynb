{
 "cells": [
  {
   "cell_type": "raw",
   "metadata": {
    "vscode": {
     "languageId": "raw"
    }
   },
   "source": [
    "---\n",
    "title: \"**Quiz-1 (2024.09.10)** // 범위: ~ 01wk\"\n",
    "author: \"최규빈\"\n",
    "date: \"09/04/2024\"\n",
    "reference-location: margin\n",
    "citation-location: margin\n",
    "cap-location: margin\n",
    "comments: false\n",
    "---"
   ]
  },
  {
   "cell_type": "markdown",
   "metadata": {
    "vscode": {
     "languageId": "raw"
    }
   },
   "source": [
    "우리는 단순한 시계 하나를 생각해볼 수 있다. 이 시계에는 바늘이 하나 있고, 이 바늘을 무작위로 돌렸을 때, 바늘이 시계에서 어떤 위치에 멈추게 될 확률을 계산하는 상황을 상상해보자.\n",
    "\n",
    "여기서 시계의 위치를 **각도**로 나타낸다. 시계의 각도는 $0$에서 $2\\pi$ 사이로 표현된다. 즉, 시계바늘이 12시를 가리킬 때는 각도가 $0$이고, 시계바늘이 시계 방향으로 6시를 가리킬 때는 각도가 $\\pi$이다. 이 문제에서 전체 각도 공간을 **sample space** $\\Omega$로 정의한다. $\\Omega = [0, 2\\pi)$는 시계의 모든 각도를 나타내는 구간이다. \n",
    "\n",
    "\n",
    "시계바늘이 $0$부터 $2\\pi$ 사이의 각도를 랜덤하게 가리킨다고 가정할 때, 우리는 특정 각도 범위에 바늘이 있을 확률을 계산할 수 있다. 예를들어 바늘이 **12시부터 6시까지**, 즉 각도 범위로 보면 $[0, \\pi)$ 사이에 바늘이 위치할 확률을 구하는 과정을 살펴보자. \n",
    "\n",
    "- 전체 각도 범위는 $0$에서 $2\\pi$까지이므로, 전체 가능성의 범위 $\\Omega$의 길이(측도)는 $m(\\Omega) = 2\\pi$이다.\n",
    "- 바늘이 12시부터 6시 사이에 있을 각도 구간을 $\\Omega^*$로 정의할 수 있다. $\\Omega^* = [0, \\pi)$이며, 이 구간의 길이(측도)는 $m(\\Omega^*) = \\pi$이다.\n",
    "  \n",
    "확률을 구하는 방법은, 우리가 원하는 범위 $\\Omega^*$의 길이를 전체 표본 공간 $\\Omega$의 길이로 나누는 것이다. 즉, 확률 $P(\\Omega^*)$는 다음과 같이 정의된다:\n",
    "\n",
    "$$\n",
    "P(\\Omega^*) = \\frac{m(\\Omega^*)}{m(\\Omega)}\n",
    "$$\n",
    "\n",
    "따라서, 바늘이 12시에서 6시 사이에 있을 확률은 다음과 같다:\n",
    "\n",
    "$$\n",
    "P(\\Omega^*) = \\frac{\\pi}{2\\pi} = \\frac{1}{2}\n",
    "$$\n",
    "\n",
    "즉, 시계바늘을 무작위로 돌렸을 때 바늘이 12시에서 6시 사이에 있을 확률은 **1/2**이다.\n",
    "\n",
    "**기호 설명:**\n",
    "\n",
    "- $\\Omega$: 전체 표본 공간으로, 시계바늘이 가리킬 수 있는 모든 각도 범위 $[0, 2\\pi)$를 나타낸다.\n",
    "- $\\Omega^*$: 바늘이 12시에서 6시까지 있을 각도 범위로, $[0, \\pi)$ 구간을 나타낸다.\n",
    "- $m(\\Omega)$: 표본 공간 $\\Omega$의 측도로, 전체 각도 구간의 길이를 의미한다. 여기서는 $m(\\Omega) = 2\\pi$이다.\n",
    "- $m(\\Omega^*)$: 구간 $\\Omega^*$의 측도로, 바늘이 12시부터 6시까지 있을 각도 구간의 길이를 의미한다. 여기서는 $m(\\Omega^*) = \\pi$이다.\n",
    "- $P(\\Omega^*)$: 확률로, 바늘이 12시부터 6시까지 있을 확률을 나타낸다. 이는 $P(\\Omega^*) = \\frac{m(\\Omega^*)}{m(\\Omega)}$로 계산된다.\n"
   ]
  },
  {
   "cell_type": "markdown",
   "metadata": {
    "vscode": {
     "languageId": "raw"
    }
   },
   "source": [
    "`(1)` 길이를 재는 함수 $m$에 대하여 아래와 같은 약속을 하자. \n",
    "\n",
    "- 약속1: 구간 $(a,b)$의 길이는 $b-a$이다. 즉 $m((a,b))=b-a$ 이다. \n",
    "- 약속2:  한 점의 길이는 0이다. \n",
    "- 약속3:  점을 무한히 합치면 선이 되는것 처럼, 점의 길이를 무한히 합치면 0이 아니라 0보다 큰 어떠한 수가 된다. \n",
    "- 약속4:  구간 $(a,b)$사이의 모든 유리수의 길이는 $b-a$ 이다. \n",
    "\n",
    "이와 같은 방식으로 길이를 잰다면 확률을 정의함에 있어서 모순이 일어나지 않는가? 모순이 일어나지 않으면 모순이 없다고 답을 쓰고 모순이 일어난다면 모순이 일어나는 이유를 설명하라. "
   ]
  },
  {
   "cell_type": "markdown",
   "metadata": {
    "vscode": {
     "languageId": "raw"
    }
   },
   "source": [
    "`(풀이)`"
   ]
  },
  {
   "cell_type": "markdown",
   "metadata": {
    "vscode": {
     "languageId": "raw"
    }
   },
   "source": [
    "구간 $(a,b)$ 사이의 모든 유리수의 집합은 $\\mathbb{Q}$, 모든 무리수의 집합은 $\\mathbb{Q}^c$ 라고 하자. 그렇다면 아래의 식이 성립한다. \n",
    "\n",
    "$$\\mathbb{P}\\big((a,b)\\big)=\\mathbb{P}\\big(\\mathbb{Q} \\cup \\mathbb{Q}^c \\big)=\\mathbb{P}(\\mathbb{Q}) +\\mathbb{P}(\\mathbb{Q}^c)= \\frac{m(\\mathbb{Q})}{2\\pi}+\\frac{m(\\mathbb{Q}^c)}{2\\pi}=\\frac{b-a}{2\\pi}$$\n",
    "\n",
    "여기에서 첫번쨰 등호가 성립하는 이유는 $\\mathbb{Q}$의 정의, 그리고 두번째 등호가 성리하는 이유는 서로소인 집합에 대한 확률의 공리, 세번째 등호가 성립하는 이유는 문제에서 주어진 식 $\\mathbb{P}(\\Omega^*)=\\frac{m(\\Omega^*)}{m(\\Omega)}$ 때문이며, 네번쪠 등호가 성립하는 이유는 약속1에 의하여 $P((a,b))=\\frac{m((a,b))}{2\\pi}=\\frac{b-a}{2\\pi}$ 이 성립하기 때문이다. 그런데 약속4에 의하여 $m(\\mathbb{Q})=b-a$를 대입하면 $m(\\mathbb{Q}^c)=0$ 이 되어야하는데 이는 약속3에 모순이 된다. "
   ]
  },
  {
   "cell_type": "markdown",
   "metadata": {},
   "source": [
    "`(2)` 길이를 재는 함수 $m$에 대하여 아래와 같은 약속을 하자. \n",
    "\n",
    "- 약속1: 구간 $(a,b)$의 길이는 $b-a$이다. 즉 $m((a,b))=b-a$ 이다. \n",
    "- 약속2:  한 점의 길이는 0이다. \n",
    "- 약속3:  점을 무한히 합치면 선이 되는것 처럼, 점의 길이를 무한히 합치면 0이 아니라 0보다 큰 어떠한 수가 된다. \n",
    "- 약속4:  구간 $(a,b)$사이의 모든 유리수의 길이는 $\\frac{b-a}{2}$ 이다. \n",
    "\n",
    "이와 같은 방식으로 길이를 잰다면 확률을 정의함에 있어서 모순이 일어나지 않는가? 모순이 일어나지 않으면 모순이 없다고 답을 쓰고 모순이 일어난다면 모순이 일어나는 이유를 설명하라. "
   ]
  },
  {
   "cell_type": "markdown",
   "metadata": {},
   "source": [
    "`(풀이)`"
   ]
  },
  {
   "cell_type": "markdown",
   "metadata": {},
   "source": [
    "구간 $(0,2\\pi)$ 사이의 모든 유리수의 집합은 $\\mathbb{Q}$, 모든 무리수의 집합을 $\\mathbb{Q}^c$ 라고 하자. $2\\pi$에서 $q$의 모든 원소를 뺀 집합을 $\\mathbb{Q}^\\star$ 라고 하자. 즉 \n",
    "\n",
    "$$\\mathbb{Q}^\\star = \\{2\\pi-q : q \\in \\mathbb{Q} \\}$$\n",
    "\n",
    "이다. 이제 아래의 식을 관찰하자. \n",
    "\n",
    "$$\\mathbb{P}(\\mathbb{Q}^c)=\\mathbb{P}\\big(\\mathbb{Q}^\\star \\cup (\\mathbb{Q}^c-\\mathbb{Q}^\\star)\\big)= \\mathbb{P}(\\mathbb{Q}^\\star) +\\mathbb{P}(\\mathbb{Q}^c-\\mathbb{Q}^\\star) = \\frac{m(\\mathbb{Q}^\\star)}{2\\pi} +\\frac{m(\\mathbb{Q}^c-\\mathbb{Q}^\\star)}{2\\pi}  = \\frac{b-a}{4\\pi}$$"
   ]
  },
  {
   "cell_type": "markdown",
   "metadata": {
    "vscode": {
     "languageId": "raw"
    }
   },
   "source": [
    "여기에서 첫번째 등호는 집합의 성질에 의하여, 두번째 등호는 서로소인 사건에 대한 확률의 공리에 의하여, 세번째등호는 식 $\\mathbb{P}(\\Omega^*)=\\frac{m(\\Omega^*)}{m(\\Omega)}$에 의하여, 네번째 등호는 약속4에 의하여 성립한다. 그런데 $\\mathbb{Q}^\\star$는 $\\mathbb{Q}$를 $\\pi$를 기준으로 플립(대칭이동)한 것이므로 $m(\\mathbb{Q})=m(\\mathbb{Q}^\\star)=\\frac{b-a}{2}$ 가 성립하고 이에 따라 $m(\\mathbb{Q}^c-\\mathbb{Q}^\\star)=0$ 이어야 한다. 그런데 집합 $\\mathbb{Q}^c-\\mathbb{Q}^\\star$는 무한집합이므로 약속3에 따라서 0이 아닌 길이가 있어야 하는데 이는 모순이다. "
   ]
  }
 ],
 "metadata": {
  "kernelspec": {
   "display_name": "Python 3 (ipykernel)",
   "language": "python",
   "name": "python3"
  },
  "language_info": {
   "codemirror_mode": {
    "name": "ipython",
    "version": 3
   },
   "file_extension": ".py",
   "mimetype": "text/x-python",
   "name": "python",
   "nbconvert_exporter": "python",
   "pygments_lexer": "ipython3",
   "version": "3.12.4"
  }
 },
 "nbformat": 4,
 "nbformat_minor": 4
}
