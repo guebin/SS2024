{
 "cells": [
  {
   "cell_type": "raw",
   "id": "9535e23f-d32c-446c-8473-9cfd3c5895b0",
   "metadata": {
    "vscode": {
     "languageId": "raw"
    }
   },
   "source": [
    "---\n",
    "title: \"**Quiz-5 (2024.11.05)** // 범위: 06wk 까지\"\n",
    "author: \"최규빈\"\n",
    "date: \"11/05/2024\"\n",
    "reference-location: margin\n",
    "citation-location: margin\n",
    "cap-location: margin\n",
    "comments: false\n",
    "---"
   ]
  },
  {
   "cell_type": "markdown",
   "id": "93597485-43d2-4af2-a772-9742ba00aae2",
   "metadata": {},
   "source": [
    "# 1. 증명 -- 30점"
   ]
  },
  {
   "cell_type": "markdown",
   "id": "777137d9",
   "metadata": {
    "vscode": {
     "languageId": "raw"
    }
   },
   "source": [
    "`(1)` 전체집합 $\\Omega$에 대한 부분집합들의 모임 ${\\cal A}$를 고려하자. $\\sigma({\\cal A})$ 와 같은 표현이 항상 존재함을 보여라. -- 10점"
   ]
  },
  {
   "cell_type": "markdown",
   "id": "bc24bbcf",
   "metadata": {
    "vscode": {
     "languageId": "raw"
    }
   },
   "source": [
    "`(2)` 딘킨의 $\\pi$-$\\lambda$ 정리를 증명하라. -- 20점"
   ]
  },
  {
   "cell_type": "markdown",
   "id": "f84514f4",
   "metadata": {
    "vscode": {
     "languageId": "raw"
    }
   },
   "source": [
    "# 2. O/X -- 70점 "
   ]
  },
  {
   "cell_type": "markdown",
   "id": "253a5a84",
   "metadata": {
    "vscode": {
     "languageId": "raw"
    }
   },
   "source": [
    "다음을 읽고 참/거짓을 판단하라."
   ]
  },
  {
   "cell_type": "markdown",
   "id": "7a9f8304",
   "metadata": {
    "vscode": {
     "languageId": "raw"
    }
   },
   "source": [
    "`(1)` 전체집합 $\\Omega$가 아래와 같이 서로소인 집합열 $B_1,B_2,\\dots,B_n$ 으로 표현된다고 하자. \n",
    "\n",
    "$$\\Omega=B_1 \\uplus B_2 \\uplus \\dots \\uplus B_n$$ \n",
    "\n",
    "아래와 같은 집합들의 집합 ${\\cal A}$를 고려하자. \n",
    "\n",
    "$${\\cal A}=\\{\\emptyset, B_1,B_2,\\dots, B_n\\}$$ \n",
    "\n",
    "${\\cal A}$는 항상 세미링의 정의를 만족한다. "
   ]
  },
  {
   "cell_type": "markdown",
   "id": "7f718d12",
   "metadata": {
    "vscode": {
     "languageId": "raw"
    }
   },
   "source": [
    "`(2)` ${\\cal F}_1,{\\cal F}_2 \\subset 2^\\Omega$ 이 $\\Omega$에 대한 시그마필드이면 ${\\cal F}_1 \\cap {\\cal F}_2$ 역시 $\\Omega$에 대한 시그마필드이다. "
   ]
  },
  {
   "cell_type": "markdown",
   "id": "0f0cba8f",
   "metadata": {},
   "source": [
    "`(3)` ${\\cal P}\\subset 2^\\Omega$이 파이시스템이라고 하자. $l({\\cal P}) \\subset \\sigma({\\cal P})$ 는 항상 성립한다. "
   ]
  }
 ],
 "metadata": {
  "kernelspec": {
   "display_name": "Python 3 (ipykernel)",
   "language": "python",
   "name": "python3"
  },
  "language_info": {
   "codemirror_mode": {
    "name": "ipython",
    "version": 3
   },
   "file_extension": ".py",
   "mimetype": "text/x-python",
   "name": "python",
   "nbconvert_exporter": "python",
   "pygments_lexer": "ipython3",
   "version": "3.12.2"
  }
 },
 "nbformat": 4,
 "nbformat_minor": 5
}
