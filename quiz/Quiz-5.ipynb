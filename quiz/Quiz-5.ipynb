{
 "cells": [
  {
   "cell_type": "raw",
   "id": "9535e23f-d32c-446c-8473-9cfd3c5895b0",
   "metadata": {
    "vscode": {
     "languageId": "raw"
    }
   },
   "source": [
    "---\n",
    "title: \"**Quiz-5 (2024.11.05)** // 범위: 06wk 까지\"\n",
    "author: \"최규빈\"\n",
    "date: \"11/05/2024\"\n",
    "reference-location: margin\n",
    "citation-location: margin\n",
    "cap-location: margin\n",
    "comments: false\n",
    "---"
   ]
  },
  {
   "cell_type": "markdown",
   "id": "93597485-43d2-4af2-a772-9742ba00aae2",
   "metadata": {},
   "source": [
    "# 1. 증명 -- 30점"
   ]
  },
  {
   "cell_type": "markdown",
   "id": "777137d9",
   "metadata": {
    "vscode": {
     "languageId": "raw"
    }
   },
   "source": [
    "`(1)` 전체집합 $\\Omega$에 대한 부분집합들의 모임 ${\\cal A}$를 고려하자. $\\sigma({\\cal A})$ 와 같은 표현이 항상 존재함을 보여라. -- 10점"
   ]
  },
  {
   "cell_type": "markdown",
   "id": "e8c72e1a",
   "metadata": {},
   "source": [
    "> 해설은 강의노트 참고"
   ]
  },
  {
   "cell_type": "markdown",
   "id": "bc24bbcf",
   "metadata": {
    "vscode": {
     "languageId": "raw"
    }
   },
   "source": [
    "`(2)` 딘킨의 $\\pi$-$\\lambda$ 정리를 증명하라. -- 20점"
   ]
  },
  {
   "cell_type": "markdown",
   "id": "cbb47155",
   "metadata": {},
   "source": [
    "> 해설은 강의노트 참고"
   ]
  },
  {
   "cell_type": "markdown",
   "id": "f84514f4",
   "metadata": {
    "vscode": {
     "languageId": "raw"
    }
   },
   "source": [
    "# 2. O/X -- 70점 "
   ]
  },
  {
   "cell_type": "markdown",
   "id": "253a5a84",
   "metadata": {
    "vscode": {
     "languageId": "raw"
    }
   },
   "source": [
    "다음을 읽고 참/거짓을 판단하라."
   ]
  },
  {
   "cell_type": "markdown",
   "id": "7a9f8304",
   "metadata": {
    "vscode": {
     "languageId": "raw"
    }
   },
   "source": [
    "`(1)` 전체집합 $\\Omega$가 아래와 같이 서로소인 집합열 $B_1,B_2,\\dots,B_n$ 으로 표현된다고 하자. \n",
    "\n",
    "$$\\Omega=B_1 \\uplus B_2 \\uplus \\dots \\uplus B_n$$ \n",
    "\n",
    "아래와 같은 집합들의 집합 ${\\cal A}$를 고려하자. \n",
    "\n",
    "$${\\cal A}=\\{\\emptyset, B_1,B_2,\\dots, B_n\\}$$ \n",
    "\n",
    "${\\cal A}$는 항상 세미링의 정의를 만족한다. "
   ]
  },
  {
   "cell_type": "markdown",
   "id": "8ab788b9",
   "metadata": {},
   "source": [
    "```Julia\n",
    "true\n",
    "```"
   ]
  },
  {
   "cell_type": "markdown",
   "id": "d6f9b044",
   "metadata": {
    "vscode": {
     "languageId": "raw"
    }
   },
   "source": [
    "> (1) ${\\cal A}$의 원소는 공집합을 포함한다. (2) ${\\cal A}$의 원소는 모두 서로소이므로 원소간의 교집합은 항상 공집합이다. ${\\cal A}$는 공집합을 포함하므로 교집합에 닫혀있다. (3) ${\\cal A}$의 원소는 모두 서로소이므로, 임의의 두 원소의 차집합은 항상 공집합이다. ${\\cal A}$는 공집합을 포함하므로 차집합에 닫혀있다. (따라서 차집합에 반쯤 닫혀있다.) (1)-(3)에 따라서 ${\\cal A}$는 세미링이다. "
   ]
  },
  {
   "cell_type": "markdown",
   "id": "7f718d12",
   "metadata": {
    "vscode": {
     "languageId": "raw"
    }
   },
   "source": [
    "`(2)` ${\\cal F}_1,{\\cal F}_2 \\subset 2^\\Omega$ 이 $\\Omega$에 대한 시그마필드이면 ${\\cal F}_1 \\cap {\\cal F}_2$ 역시 $\\Omega$에 대한 시그마필드이다. "
   ]
  },
  {
   "cell_type": "markdown",
   "id": "11ee05b8",
   "metadata": {},
   "source": [
    "```Julia\n",
    "true\n",
    "```"
   ]
  },
  {
   "cell_type": "markdown",
   "id": "bb472d69",
   "metadata": {
    "vscode": {
     "languageId": "raw"
    }
   },
   "source": [
    "> 해설은 강의노트 참고 "
   ]
  },
  {
   "cell_type": "markdown",
   "id": "0f0cba8f",
   "metadata": {},
   "source": [
    "`(3)` ${\\cal P}\\subset 2^\\Omega$이 파이시스템이라고 하자. $l({\\cal P}) \\subset \\sigma({\\cal P})$ 는 항상 성립한다. "
   ]
  },
  {
   "cell_type": "markdown",
   "id": "8ba6e9cc",
   "metadata": {},
   "source": [
    "```Julia\n",
    "true\n",
    "```"
   ]
  },
  {
   "cell_type": "markdown",
   "id": "e78620e4",
   "metadata": {
    "vscode": {
     "languageId": "raw"
    }
   },
   "source": [
    "> ${\\cal P}$를 포함하는 람다시스템 $l({\\cal P})$에서 $\\cap$-closed 를 만족하도록 원소를 추가해야 시그마필드의 정의를 만족하므로 이는 당연하다. "
   ]
  },
  {
   "cell_type": "markdown",
   "id": "eefe24cd",
   "metadata": {
    "vscode": {
     "languageId": "raw"
    }
   },
   "source": [
    "`(4)` 임의의 집합 ${\\cal A} \\subset 2^\\Omega$ 에 대하여 $l({\\cal A})$가 시그마필드이면 항상 $l({\\cal A})\\supset \\sigma({\\cal A})$ 가 성립한다. "
   ]
  },
  {
   "cell_type": "markdown",
   "id": "2cf56ea5",
   "metadata": {},
   "source": [
    "```Julia\n",
    "true\n",
    "```"
   ]
  },
  {
   "cell_type": "markdown",
   "id": "23fcaa40",
   "metadata": {},
   "source": [
    "> $\\sigma({\\cal A})$는 ${\\cal A}$를 포함하는 가장 작은 시그마필드이다. 그런데 $l({\\cal A})$ 는 ${\\cal A}$를 포함하고 있으며 시그마필드이므로 $\\sigma({\\cal A}) \\subset l({\\cal A})$ 이 성립"
   ]
  },
  {
   "cell_type": "markdown",
   "id": "f9296597",
   "metadata": {
    "vscode": {
     "languageId": "raw"
    }
   },
   "source": [
    "`(5)` ${\\cal F}$가 $\\Omega$에 대한 시그마필드이면, $\\forall E \\in {\\cal F}: {\\cal D}_E=\\{F: E\\cap F \\in {\\cal F}, F\\in {\\cal F}\\} = \\emptyset$ 이다. "
   ]
  },
  {
   "cell_type": "markdown",
   "id": "95362292",
   "metadata": {},
   "source": [
    "```Julia\n",
    "false\n",
    "```"
   ]
  },
  {
   "cell_type": "markdown",
   "id": "47caaf9d",
   "metadata": {
    "vscode": {
     "languageId": "raw"
    }
   },
   "source": [
    "> 시그마필드는 교집합에 닫혀있으므로 $\\forall E \\in {\\cal F}: {\\cal D}_E = {\\cal F}$ 이다. "
   ]
  },
  {
   "cell_type": "markdown",
   "id": "c30a1421",
   "metadata": {
    "vscode": {
     "languageId": "raw"
    }
   },
   "source": [
    "`(6)` 임의의 ${\\cal A} \\subset 2^\\Omega$에 대하여 ${\\cal A}$가 시그마필드이면 ${\\cal A}$는 람다시스템이다. "
   ]
  },
  {
   "cell_type": "markdown",
   "id": "4789544b",
   "metadata": {},
   "source": [
    "```Julia\n",
    "true\n",
    "```"
   ]
  },
  {
   "cell_type": "markdown",
   "id": "9531eb6e",
   "metadata": {
    "vscode": {
     "languageId": "raw"
    }
   },
   "source": [
    "> 람다시스템에서 추가로 $\\cap$-closed가 만족해야 시그마필드이므로, 시그마필드이면 이미 람다시스템의 조건을 만족한다. "
   ]
  },
  {
   "cell_type": "markdown",
   "id": "a69ecc13",
   "metadata": {},
   "source": [
    "`(7)` 임의의 ${\\cal A} \\subset 2^\\Omega$에 대하여 ${\\cal A}$가 세미링이면 ${\\cal A}$는 파이시스템이다. "
   ]
  },
  {
   "cell_type": "markdown",
   "id": "f7c0c591",
   "metadata": {},
   "source": [
    "```Julia\n",
    "true\n",
    "```"
   ]
  },
  {
   "cell_type": "markdown",
   "id": "d953226e",
   "metadata": {},
   "source": [
    "> 세미링은 $\\cap$-closed를 만족하므로 파이시스템의 조건을 만족한다. "
   ]
  }
 ],
 "metadata": {
  "kernelspec": {
   "display_name": "hf",
   "language": "python",
   "name": "python3"
  },
  "language_info": {
   "codemirror_mode": {
    "name": "ipython",
    "version": 3
   },
   "file_extension": ".py",
   "mimetype": "text/x-python",
   "name": "python",
   "nbconvert_exporter": "python",
   "pygments_lexer": "ipython3",
   "version": "3.12.2"
  }
 },
 "nbformat": 4,
 "nbformat_minor": 5
}
