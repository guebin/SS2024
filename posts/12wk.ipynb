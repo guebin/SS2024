{
 "cells": [
  {
   "cell_type": "raw",
   "id": "5839276f-379e-44a7-aacb-6825b1b12a73",
   "metadata": {
    "vscode": {
     "languageId": "raw"
    }
   },
   "source": [
    "---\n",
    "title: \"12wk: 밀도함수\"\n",
    "author: \"최규빈\"\n",
    "date: \"11/23/2024\"\n",
    "draft: true\n",
    "---"
   ]
  },
  {
   "cell_type": "markdown",
   "id": "635323db-59d9-4313-8c5d-1754fadf04db",
   "metadata": {},
   "source": [
    "# 강의영상 "
   ]
  },
  {
   "cell_type": "markdown",
   "id": "9a423dbc-b388-4f47-99b5-810c3a937b70",
   "metadata": {},
   "source": [
    "> youtube: <https://youtube.com/playlist?list=PLQqh36zP38-xzs1sJhhsXTzssLICsc9t6>"
   ]
  },
  {
   "cell_type": "markdown",
   "id": "b82598eb-4d51-4692-8571-fdea7ac5d1a1",
   "metadata": {},
   "source": [
    "# 칸토어집합  "
   ]
  },
  {
   "cell_type": "markdown",
   "id": "a7b3ac50-96bd-46e5-9263-b7a4cffb0bdf",
   "metadata": {},
   "source": [
    "ref: <https://en.wikipedia.org/wiki/Cantor_set>"
   ]
  },
  {
   "cell_type": "markdown",
   "id": "a751bd6c-24f5-4d0d-9633-2a5d8f40c758",
   "metadata": {},
   "source": [
    "## 정의"
   ]
  },
  {
   "cell_type": "markdown",
   "id": "7f27581f-98f8-4ddb-a03d-4420856f8adf",
   "metadata": {},
   "source": [
    "`-` 아래의 집합열 $C_n$의 극한 ${\\cal C}=\\lim_{n\\to\\infty} C_n$를 생각하자. "
   ]
  },
  {
   "cell_type": "markdown",
   "id": "6522acad-c5f3-47e7-84f2-18efbd0f1cba",
   "metadata": {},
   "source": [
    "**실제수열** "
   ]
  },
  {
   "cell_type": "markdown",
   "id": "009ce9b3-67cd-474b-90ba-e51474b6f006",
   "metadata": {},
   "source": [
    "- $C_0=[0,1]$\n",
    "- $C_1=[0,\\frac{1}{3}] \\cup [\\frac{2}{3},1]$\n",
    "- $C_2=\\big([0,\\frac{1}{9}]\\cup[\\frac{2}{9},\\frac{1}{3}] \\big) \\cup \\big([\\frac{2}{3},\\frac{7}{9}]\\cup [\\frac{8}{9},1] \\big)$\n",
    "- $\\dots$ "
   ]
  },
  {
   "cell_type": "markdown",
   "id": "955ce46b-308d-4e3f-aab6-cdacc9065170",
   "metadata": {},
   "source": [
    "**언어버전:** created by iteratively deleting the open middle third from a set of line segments. "
   ]
  },
  {
   "cell_type": "markdown",
   "id": "bdf8fe30-2ca4-466b-8537-bddfb1cf6019",
   "metadata": {},
   "source": [
    "- $C_0$: $[0,1]$\n",
    "- $C_1$: $C_0$에서 정의된 line을 3등분한뒤 가운데를 제거\n",
    "- $C_2$: $C_1$에서 정의된 line segments를 각각 3등분한뒤 각각 가운데를 제거 \n",
    "- $\\dots$ "
   ]
  },
  {
   "cell_type": "markdown",
   "id": "aebe37a7-7bf2-403a-bfd6-25078d104f23",
   "metadata": {},
   "source": [
    "**수식버전** "
   ]
  },
  {
   "cell_type": "markdown",
   "id": "dc2bbbc4-103c-4741-89e7-5fc5f6629e18",
   "metadata": {},
   "source": [
    "- $C_0=[0,1]$\n",
    "- $C_1=\\frac{C_{0}}{3}\\cup(\\frac{2}{3}+\\frac{C_{0}}{3})$\n",
    "- $C_2=\\frac{C_{1}}{3}\\cup(\\frac{2}{3}+\\frac{C_{1}}{3})$\n",
    "- $\\dots$\n",
    "- $C_n=\\frac{C_{n-1}}{3}\\cup(\\frac{2}{3}+\\frac{C_{n-1}}{3})$ "
   ]
  },
  {
   "cell_type": "markdown",
   "id": "95cdd8ce-dc93-4482-af64-10bb6fa75410",
   "metadata": {},
   "source": [
    "단, 여기에서 \n",
    "\n",
    "- $\\frac{1}{3}[a,b]= [\\frac{a}{3},\\frac{b}{3}]$\n",
    "- $\\frac{2}{3}+[a,b]= [\\frac{2}{3}+a,\\frac{2}{3}+b]$\n",
    "\n",
    "와 같이 정의한다. "
   ]
  },
  {
   "cell_type": "markdown",
   "id": "f5a67ad8-803d-4a4c-9799-ffce04717164",
   "metadata": {},
   "source": [
    "**그림버전**"
   ]
  },
  {
   "cell_type": "markdown",
   "id": "ff9621a1-f135-402c-a746-30c7f2512562",
   "metadata": {},
   "source": [
    "![그림1: 칸토어 집합](https://upload.wikimedia.org/wikipedia/commons/thumb/5/56/Cantor_set_in_seven_iterations.svg/2880px-Cantor_set_in_seven_iterations.svg.png)"
   ]
  },
  {
   "cell_type": "markdown",
   "id": "02cf3fac-4901-4764-9ef3-5b6470ca3c94",
   "metadata": {},
   "source": [
    "## 성질"
   ]
  },
  {
   "cell_type": "markdown",
   "id": "6e280859-e5a9-44a8-bc8d-9663aec3c733",
   "metadata": {},
   "source": [
    "`-` 3진법의 표기: 칸토어 집합의 원소는 $[0,1]$사이의 원소를 삼진법으로 표현할때 모든 자리수가 0 또는 2가 되는 수만 모은 집합이다. \n",
    "\n",
    "1. $[0,1]$ 사이의 모든 실수를 3진법을 표현한다고 생각하자. \n",
    "2. $C_1$은 $0.1xxxx\\dots_{3}$와 같은 숫자가 빠지고, $C_2$에서는 $0.01xxx\\dots_{3}$ 혹은 $0.21xxx\\dots_{3}$ 에 대응하는 숫자가 빠지는 과정이 반복적으로 일어난다고 볼 수 있다. \n",
    "3. 2의 결과를 잘 생각하면 칸토어 집합에 포함되는 수는 삼전법 소수로 표기했을 때 모든 자리수가 0 또는 2가 된다는 점을 쉽게 눈치챌 수 있다. "
   ]
  },
  {
   "cell_type": "markdown",
   "id": "4a2b7d75-ed72-4ba8-8b33-f9033f9974c1",
   "metadata": {},
   "source": [
    "`-` 카디널리티: 칸토어 집합의 카디널리티는 구간 $[0,1]$의 카디널리티와 같다. 즉 $2^{\\aleph_0}$ 이다. \n",
    "\n",
    "1. $y\\in [0,1]$ 사이의 모든 실수는 임의의 2진수로 표현할 수 있다. \n",
    "2. 예를들어 $y=\\frac{3}{5}=0.100110011001..._{2}$와 같이 표현할 수 있다.\n",
    "3. 만약에 2의 결과에서 $1$을 모두 $2$로 바꾸어 3진법수를 만들면 $0.200220022002..._{3}=\\frac{7}{10}$와 같이 쓸 수 있는데, 이는 칸토르 집합의 원소가 된다. \n",
    "4. 3을 2의 출력으로 바꾸는 과정을 수행하는 함수 $f$를 정의하자. 즉 이 예제의 경우 $f(\\frac{7}{10})=\\frac{3}{5}$. \n",
    "5. $f$는 전사함수이므로 ${\\sf card}([0,1]) \\leq {\\sf card}({\\cal C})$. \n"
   ]
  },
  {
   "cell_type": "markdown",
   "id": "265eb9b8-ba0e-4061-99af-abbf4531d41b",
   "metadata": {},
   "source": [
    "`-` 잴 수 있는 집합: ${\\cal C} \\in {\\cal R}$ \n",
    "\n",
    "1. $C_0,C_1,C_2\\dots \\in {\\cal R}$\n",
    "2. ${\\cal C} = \\lim_{n\\to \\infty} C_n = \\cap_{n=0}^{\\infty} C_n$ ($C_0,C_1,C_2,\\dots$ 이 감소하는 집합열임을 이용) \n",
    "3. 시그마필드 ${\\cal R}$은 countable intersection에 닫혀있으므로 ${\\cal C} \\in {\\cal R}$ "
   ]
  },
  {
   "cell_type": "markdown",
   "id": "7755f633-55f1-470e-b34d-1293020f631b",
   "metadata": {},
   "source": [
    "`-` 르벡측도값(길이): $\\lambda({\\cal C})=0$이다. 여기에서 $\\lambda$은 르벡측도이다. 즉 칸토어집합의 길이는 0이다. \n",
    "\n",
    "1. 칸토어 집합을 만드는 과정에서 제외되는 집합의 길이는 순서대로 $\\frac{1}{3}, \\frac{2}{9}, \\frac{4}{27} \\dots$ 이다. \n",
    "2. 이것은 첫째항이 $\\frac{1}{3}$이고 공비가 $\\frac{2}{3}$인 등비수열이므로 무한등비급수의 합을 이용하면 제외되는 길이의 합은 $1$이 됨을 계산할 수 있다. "
   ]
  },
  {
   "cell_type": "markdown",
   "id": "775f2415-67d1-4d41-89bc-98434bb73719",
   "metadata": {},
   "source": [
    "`-` 굉장히 오래전에 만들었던 표 "
   ]
  },
  {
   "cell_type": "markdown",
   "id": "edd84724-bb61-4506-8757-a66cc6cb0bd5",
   "metadata": {},
   "source": [
    "|집합|카디널리티|분류|르벡메져|\n",
    "|:-:|:-:|:-:|:-:|\n",
    "|$\\{1,2,3\\}$|3|가산집합|0|\n",
    "|$\\mathbb{N}$|$\\aleph_0$|가산집합|0|\n",
    "|$\\mathbb{Z}$|$\\aleph_0$|가산집합|0|\n",
    "|$\\mathbb{Q}$|$\\aleph_0$|가산집합|0|\n",
    "|$[0,1]$|$2^{\\aleph_0}$|비가산집합|1|\n",
    "|$[0,1]\\cap \\mathbb{Q}$|$\\aleph_0$|가산집합|0|\n",
    "|$[0,1]\\cup \\mathbb{Q}$|$2^{\\aleph_0}$|비가산집합|1|\n",
    "|$[0,1]\\cap \\mathbb{Q}^c$|$2^{\\aleph_0}$|비가산집합|1|\n",
    "|$[0,\\infty)$|$2^{\\aleph_0}$|비가산집합|$\\infty$|\n",
    "|비탈리집합|$2^{\\aleph_0}$|비가산집합|NA|\n",
    "|칸토어집합|$2^{\\aleph_0}$|비가산집합|0|"
   ]
  },
  {
   "cell_type": "markdown",
   "id": "1f4b7d04-3081-4a3f-9301-ed28addfe4c5",
   "metadata": {},
   "source": [
    "::: {.callout-warning}\n",
    "## 강의설명 오류 정정\n",
    "\n",
    "이부분의 설명에서 제가 “가산집합이면 대부분 르벡메져가 0이다” 라는 식으로 설명했는데요, 이는 잘못된 설명입니다. 대부분의 가산집합이 르벡메져가 0이 아니고 “모든 가산집합은 무조건 르벡메져가 0입니다.” 왜냐하면 임의의 가산집합 $A$는 아래와 같이 한점의 집합의 countable union으로 \n",
    "\n",
    "$$A = \\cup_{i=1}^{\\infty} \\{a_i\\}$$\n",
    "\n",
    "으로 표현가능한데요, 여기에 르벡메져를 취하면 \n",
    "\n",
    "$$\\lambda(A) = \\lambda\\big(\\cup_{i=1}^{\\infty} \\{a_i\\}\\big)=\\sum_{i=1}^{\\infty}\\lambda( \\{a_i\\})=0$$\n",
    "\n",
    "와 같이 됩니다. 두번째 등호는 메져의 정의 ($\\sigma$-additivity) 에 의하여 성립합니다. 강의오류에 발견에 도움을 준 김보람학생 감사합니다.\n",
    "\n",
    ":::"
   ]
  },
  {
   "cell_type": "markdown",
   "id": "3db2416a-3147-4edc-8dbd-501717d9fb4b",
   "metadata": {},
   "source": [
    "# 밀도함수 (density function) "
   ]
  },
  {
   "cell_type": "markdown",
   "id": "672f264f-8e95-41ce-82e1-c377c5728e93",
   "metadata": {},
   "source": [
    "## 정의 "
   ]
  },
  {
   "cell_type": "markdown",
   "id": "c384e7ef-2cba-497f-af2b-4849fc355df9",
   "metadata": {},
   "source": [
    "`-` **(정의)** $X$를 확률공간 $(\\Omega, {\\cal F}, P)$에서 정의된 확률변수라고 하고 $F_X$를 $X$의 분포함수 라고 하자. 만약에 $F_X$가 아래와 같은 방식으로 표현된다면 $f_X$를 $X$를 밀도함수 (density function) 이라고 한다. \n",
    "\n",
    "$$F_X(x)=\\int_{-\\infty}^xf_X(y)dy$$ \n",
    "\n"
   ]
  },
  {
   "cell_type": "markdown",
   "id": "54616eb4-1577-4119-b304-dda2f1efca02",
   "metadata": {},
   "source": [
    "`-` 저런 표현이 존재하지 않는다면 어쩌지? \n",
    "\n",
    "- $F_X(x)$가 불연속인 경우: 미분 불가능 \n",
    "- $F_X(x)$가 연속인 경우: 미분가능할 수도 있고, 아닐 수도 있고"
   ]
  },
  {
   "cell_type": "markdown",
   "id": "e0b6fffe-95e5-4d2e-8183-d9d84dbb5ded",
   "metadata": {},
   "source": [
    "# 밀도함수 (density function) "
   ]
  },
  {
   "cell_type": "markdown",
   "id": "b779b000-0ff3-4e55-aa2e-4afc43da9ded",
   "metadata": {},
   "source": [
    "## 정의 "
   ]
  },
  {
   "cell_type": "markdown",
   "id": "e722d7a1-845e-400c-a672-c3921c58ceed",
   "metadata": {},
   "source": [
    "`-` **(정의)** $X$를 확률공간 $(\\Omega, {\\cal F}, P)$에서 정의된 확률변수라고 하고 $F_X$를 $X$의 분포함수 라고 하자. 만약에 $F_X$가 아래와 같은 방식으로 표현된다면 $f_X$를 $X$를 밀도함수 (density function) 이라고 한다. \n",
    "\n",
    "$$F_X(x)=\\int_{-\\infty}^xf_X(y)dy$$ \n",
    "\n"
   ]
  },
  {
   "cell_type": "markdown",
   "id": "7b9135a3-3382-42f7-89b1-ebfacb8fca12",
   "metadata": {},
   "source": [
    "`-` 저런 표현이 존재하지 않는다면 어쩌지? \n",
    "\n",
    "- $F_X(x)$가 불연속인 경우: 미분 불가능 \n",
    "- $F_X(x)$가 연속인 경우: 미분가능할 수도 있고, 아닐 수도 있고"
   ]
  },
  {
   "cell_type": "markdown",
   "id": "9cd54497-f3ef-43fa-81a9-a3cf8e07cd9c",
   "metadata": {},
   "source": [
    "## 다양한 밀도함수 예시"
   ]
  },
  {
   "cell_type": "markdown",
   "id": "34635008-b6af-40ff-8259-839f5272e82a",
   "metadata": {},
   "source": [
    "`-` 교양: 함수 $F_X(x)$가 연속인 경우는 연속확률변수 $X$의 분포함수 (distribution fucntion) 혹은 CDF라고 하고 함수 $F_X(x)$가 jump만 존재하는 불연속인 경우는 이산확률변수의 분포함수 (distribution function) 혹은 CDF라고 한다."
   ]
  },
  {
   "cell_type": "markdown",
   "id": "ae93fc63-717e-4a90-839c-2f5c41c6f5ba",
   "metadata": {},
   "source": [
    "**(예제1)** -- 균등분포\n",
    "\n",
    "아래와 같은 distribution function $F_X$을 가지는 확률변수 $X$를 고려하자. "
   ]
  },
  {
   "cell_type": "markdown",
   "id": "899a645e-3340-47a5-b3dd-b1810ffd3b37",
   "metadata": {},
   "source": [
    "$$F_X(x) = \\begin{cases} 0 & x<0\\\\ x & 0\\leq x \\leq 1 \\\\ 1 & 1<x\\end{cases}$$"
   ]
  },
  {
   "cell_type": "markdown",
   "id": "6cb33c4e-8b9c-4ed2-a50c-ab0102057787",
   "metadata": {},
   "source": [
    "이러한 함수 $F_X$의 density가 존재하는가? "
   ]
  },
  {
   "cell_type": "markdown",
   "id": "a18ea383-ede4-4c96-a68b-dce40e374097",
   "metadata": {},
   "source": [
    "체크: 일단 $F_x(x)$는 (1) 비감소하며 (2) $\\lim_{x\\to -\\infty}F_X(x) = F_X(0) = 0$, $\\lim_{x\\to \\infty}F_X(x) = F_X(1) = 1$ (3) 오른쪽연속 (그냥 연속임) 이므로 분포함수의 정의를 만족한다. 따라서 $F_X(x)$에 대응하는 확률변수 $X$가 있다. "
   ]
  },
  {
   "cell_type": "markdown",
   "id": "6e98bfb9-70b9-475d-8fb8-e2024ee2b289",
   "metadata": {},
   "source": [
    "(해설) "
   ]
  },
  {
   "cell_type": "markdown",
   "id": "633886c3-6bff-4a10-aee4-202e6eaa4cdb",
   "metadata": {},
   "source": [
    "1. 대충 생각하면 (진짜 말 그대로 대충) 아래와 같이 생각할 수 있다. \n",
    "\n",
    "$$f_X(x) = \\frac{d}{dx}F_x(x)$$\n",
    "\n",
    "2. 즉 $f_X(x)$는 $F_x(x)$의 도함수 같은 것으로 생각할 수 있다. \n",
    "3. 문제는 $F_X(x)$는 연속이지만 $x=0$과 $x=1$에서 미분가능하지는 않다는 점이다. \n",
    "4. 그래서 $F_X(x)$는 미분가능하지 않다. \n",
    "5. 하지만 미분가능의 개념을 \"함수\"에 적용하는 것이 아니라 \"하나의 포인트\"에 적용한다면 어떨까? \n",
    "6. $F_X(x)$는 $x=0$과 $x=1$을 제외한 모든 점에서 미분가능하며 그 도함수는 대략적으로 아래와 같이 표현할 수 있다. \n",
    "\n",
    "$$f_X(x) = \\begin{cases} 0 & x<0 \\\\ ?? & x=0 \\\\ 1 & 0<x<1 \\\\ ?? & x=1 \\\\ 0 & 1<x \\end{cases}$$\n",
    "\n",
    "7. 어차피 유한개의 점을 제외하여도 적분값에 영향이 없으므로 ??의 값은 아무값이나 넣어도 상관없다. 편의상 아래와 같은 $f_X(x)$를 고려하자. \n",
    "\n",
    "$$f_X(x) = \\begin{cases}  1 & 0\\leq x \\leq 1 \\\\ 0 & o.w. \\end{cases}$$\n",
    "\n",
    "8. 위와 같은 $f_X(x)$에 대하여 아래식이 성립한다고 볼 수 있다. \n",
    "$$F_X(x) = \\int_{-\\infty}^x f_X(y)dy$$ "
   ]
  },
  {
   "cell_type": "markdown",
   "id": "013b2f47-34a1-4c65-b662-0b9f10cf434a",
   "metadata": {},
   "source": [
    "> $F_X(x)$는 미분불가능하지만 또 어떠한 의미에서는 가능하다고 볼 수 도 있다. "
   ]
  },
  {
   "cell_type": "markdown",
   "id": "42dfb427-37a3-4f6a-b5d9-4c78aaa5aae0",
   "metadata": {},
   "source": [
    ":::\n",
    "\n",
    "![(a) 균등분포의 cdf](https://upload.wikimedia.org/wikipedia/commons/thumb/6/63/Uniform_cdf.svg/1920px-Uniform_cdf.svg.png)\n",
    "\n",
    "![(b) 균등분포의 pdf](https://upload.wikimedia.org/wikipedia/commons/thumb/9/96/Uniform_Distribution_PDF_SVG.svg/1920px-Uniform_Distribution_PDF_SVG.svg.png)\n",
    "\n",
    "그림2: 위키에서 긁어온 균등분포의 pdf, cdf 그림. 실제로는 $x=0,1$에서 $F_X'(x)$의 값이 존재하지 않으나 편의상 정의함.\n",
    "\n",
    ":::"
   ]
  },
  {
   "cell_type": "markdown",
   "id": "f970205a-1327-4ee7-9409-9b3c50c78a4e",
   "metadata": {},
   "source": [
    "**(예제1의 정답에 대한 의문)** "
   ]
  },
  {
   "cell_type": "markdown",
   "id": "e67c2500-ab8c-4e2f-ab46-0787d90eba0e",
   "metadata": {},
   "source": [
    "만약에 누군가가 아래와 같은 $f_X(x)$들이 pdf라고 주장한다면? "
   ]
  },
  {
   "cell_type": "markdown",
   "id": "4f36b443-5297-4354-8a23-d6c35c7cbefc",
   "metadata": {},
   "source": [
    "1. $f_X(x) = \\begin{cases}  1 & 0< x <1 \\\\ 0 & o.w. \\end{cases}$\n",
    "2. $f_X(x) = \\begin{cases}  1 & 0\\leq x < 1 \\\\ 0 & o.w. \\end{cases}$\n",
    "3. $f_X(x) = \\begin{cases}  1 & 0< x \\leq 1 \\\\ 0 & o.w. \\end{cases}$"
   ]
  },
  {
   "cell_type": "markdown",
   "id": "dbf620f1-98ef-4c62-b534-7168aa9985a5",
   "metadata": {},
   "source": [
    "별로 상관없을듯 하다. 어차피 $\\lambda(\\{0\\})=\\lambda(\\{1\\})=0$ 이므로 넓이에 영향이 없다. 위의 함수는 $x=0,1$을 제외한 모든곳에서는 함수값이 일치하므로 거의 같다고 보아도 무방하다. 즉 아래의 함수들은 ***거의 모든 곳에서 같다.***"
   ]
  },
  {
   "cell_type": "markdown",
   "id": "c0abd1fd-b7d2-4f62-a890-735eac7f338d",
   "metadata": {},
   "source": [
    "1. $f_X(x) = \\begin{cases}  1 & 0< x <1 \\\\ 0 & o.w. \\end{cases}$\n",
    "2. $f_X(x) = \\begin{cases}  1 & 0\\leq x < 1 \\\\ 0 & o.w. \\end{cases}$\n",
    "3. $f_X(x) = \\begin{cases}  1 & 0< x \\leq 1 \\\\ 0 & o.w. \\end{cases}$\n",
    "4. $f_X(x) = \\begin{cases}  1 & 0\\leq  x \\leq 1 \\\\ 0 & o.w. \\end{cases}$"
   ]
  },
  {
   "cell_type": "markdown",
   "id": "4630c28d-101d-4c4e-93eb-9a884ae45a9a",
   "metadata": {},
   "source": [
    "여기에서 ***두 함수 $f$, $g$가 거의 모든 곳에서 같다***라는 표현은 \n",
    "\n",
    "$$\\lambda\\big(\\{x: f(x) \\neq g(x)\\}\\big)=0$$\n",
    "\n",
    "을 의미한다. 즉 함수값이 다른 집합의 르벡측도값이 0이라는 의미이다. "
   ]
  },
  {
   "cell_type": "markdown",
   "id": "91efe01b-08b8-43bc-8f6f-7d364e1a0478",
   "metadata": {},
   "source": [
    "**(예제2)** -- 혼합된 균등분포\n",
    "\n",
    "아래와 같은 distribution function $F_X$을 가지는 확률변수 $X$를 고려하자. "
   ]
  },
  {
   "cell_type": "markdown",
   "id": "bdedfd29-64c4-46a1-9396-78fd81ee7495",
   "metadata": {},
   "source": [
    "$$F_X(x) = \\begin{cases} 0 & x<0\\\\ \\frac{3}{2}x & 0\\leq x < \\frac{1}{2} \\\\ \\frac{1}{2}+\\frac{1}{2}x & \\frac{1}{2}\\leq x<1 \\\\ 1 & 1\\leq x\\end{cases}$$"
   ]
  },
  {
   "cell_type": "markdown",
   "id": "9786a958-2ad3-41d6-822a-dc1bb8a58d05",
   "metadata": {},
   "source": [
    "이러한 함수 $F_X$의 density가 존재하는가? "
   ]
  },
  {
   "cell_type": "markdown",
   "id": "a89ae5c7-2173-48b0-a630-ef51a1fad212",
   "metadata": {},
   "source": [
    "체크: 일단 $F_x(x)$는 (1) 비감소하며 (2) $\\lim_{x\\to -\\infty}F_X(x) = F_X(0) = 0$, $\\lim_{x\\to \\infty}F_X(x) = F_X(1) = 1$ (3) 오른쪽연속 (그냥 연속임) 이므로 분포함수의 정의를 만족한다. 따라서 $F_X(x)$에 대응하는 확률변수 $X$가 있다. "
   ]
  },
  {
   "cell_type": "markdown",
   "id": "a9cc44f6-06ae-4c74-80b7-004cdc14424b",
   "metadata": {},
   "source": [
    "(해설) "
   ]
  },
  {
   "cell_type": "markdown",
   "id": "3c981bcb-f22f-4549-b4fc-b841fdf60246",
   "metadata": {},
   "source": [
    "함수 $F_X(x)$는 $x=0,\\frac{1}{2},1$ 에서 미분불가능하지만 어차피 미분불가능한 점이 countable 하므로 여기에서는 무시하고 $f_X(x)$ 값을 편의상 정의하여도 무방하다. 따라서 아래와 같은 함수 $f_X(x)$가 pdf가 될 수 있다. "
   ]
  },
  {
   "cell_type": "markdown",
   "id": "76c60a54-4c9e-41cb-83e7-9fc26ab26b74",
   "metadata": {},
   "source": [
    "$$f_X(x) = \\begin{cases}  \\frac{3}{2} & 0 \\leq x <\\frac{1}{2} \\\\ \\frac{1}{2} & \\frac{1}{2}< x < 1 \\end{cases}$$"
   ]
  },
  {
   "cell_type": "markdown",
   "id": "c1275fb3-e341-4a1e-997d-92e557034baf",
   "metadata": {},
   "source": [
    "그 외에도 $x=0,\\frac{1}{2}, 1$에서의 함수값을 어떻게 정의하느냐에 따라서 여러개의 정답이 있을 수 있지만, 그러한 함수들은 $f_X(x)$와 ***거의 모든 곳에서 같은*** 함수이다. "
   ]
  },
  {
   "cell_type": "markdown",
   "id": "a809ec6a-f4a1-48e0-b510-444a159e0226",
   "metadata": {},
   "source": [
    "> 여기서도 $F_X(x)$는 미분불가능하지만 또 어떠한 의미에서는 가능하다고 볼 수 도 있다. "
   ]
  },
  {
   "cell_type": "markdown",
   "id": "bf945061-8407-4871-8e69-bcc3e620c5d6",
   "metadata": {},
   "source": [
    "`-` 주장: $F_X(x)$가 ***모든 곳에서 연속*** 이고 ***거의 모든 곳에서*** 미분가능하다고 가능하면 아래를 만족하는 (도함수 비스무리한) $f_X(x)$가 존재한다. \n",
    "\n",
    "$$F_X(x) = \\int_{-\\infty}^{x} f_X(x) dx$$ \n",
    "\n",
    "이때 $F_X(x)$가 미분가능하지 않은 집합에 대하여서는 적분을 정의함에 있어서 제외하고 정의해도 무방하다. "
   ]
  },
  {
   "cell_type": "markdown",
   "id": "2066da03-663a-4936-bc03-8aa92b1f44ae",
   "metadata": {},
   "source": [
    "> 엄청 그럴듯해보이지만 칸토어함수의 존재로 인하여 이 주장은 틀렸다. "
   ]
  },
  {
   "cell_type": "markdown",
   "id": "65d450e1-9d29-4c82-9e83-fd468672cc62",
   "metadata": {},
   "source": [
    "## 칸토어함수, 칸토어분포"
   ]
  },
  {
   "cell_type": "markdown",
   "id": "484aa233-83e9-4c3b-90be-b13bd8759b42",
   "metadata": {},
   "source": [
    "`-` 아래와 같은 과정으로 얻어지는 함수 $F_0, F_1, F_2, \\dots$를 고려하자. "
   ]
  },
  {
   "cell_type": "markdown",
   "id": "38770f02-4c55-4b05-9b02-5d833ef93d2d",
   "metadata": {},
   "source": [
    "![그림3: 위키에서 긁어온 칸토어함수의 생성예제](https://upload.wikimedia.org/wikipedia/commons/e/e1/Cantor_function_sequence.png)"
   ]
  },
  {
   "cell_type": "markdown",
   "id": "d2d769ac-5308-4f47-89dc-0a7619c8fe3e",
   "metadata": {},
   "source": [
    "그림에서는 $f_0, f_1, f_2$ 와 같이 표현하였지만 우리는 편의상 $F_0, F_1, F_2$와 같이 표현하도록 하겠다. "
   ]
  },
  {
   "cell_type": "markdown",
   "id": "d0138383-e405-49be-92b5-70ecc23c328e",
   "metadata": {},
   "source": [
    "`-` 이제 이러한 함수의 극한을 $F$라고 하자. 즉 \n",
    "\n",
    "$$F(x) = \\lim_{n\\to \\infty} F_n(x)$$ \n",
    "\n",
    "이다. 이것을 기호로 간단하기 $F_n \\to F$ 와 같이 표현하기도 한다. 여기에서 $F_n \\to F$의 의미는 $F_n$의 임의의 고정된 점 $x^\\star$에 대하여 $F_n(x^\\star) \\to F(x^\\star)$라는 의미이다. "
   ]
  },
  {
   "cell_type": "markdown",
   "id": "d7e70453-3d27-428e-94fe-aa84375b726a",
   "metadata": {},
   "source": [
    "`-` 함수 $F_n$의 정의역을 칸토르 집합 ${\\cal C}$와 연계하여 이해하면 아래와 같은 사실을 관찰할 수 있다.\n",
    "\n",
    "1. $F_0$은 $C_0$에서는 양의 기울기를 가지고 $[0,1]-C_0$ 에서는 기울기가 0이다. \n",
    "2. $F_1$은 $C_1$에서는 양의 기울기를 가지고 $[0,1]-C_1$ 에서는 기울기가 0이다. \n",
    "3. $F_2$은 $C_2$에서는 양의 기울기를 가지고 $[0,1]-C_2$ 에서는 기울기가 0이다. \n",
    "\n",
    "따라서 아래의 사실을 유추할 수 있다. \n",
    "\n",
    "- $F$는 ${\\cal C}$에서는 양의 기울기를 가지고 $[0,1]-{\\cal C}$ 에서는 기울기가 0이다. "
   ]
  },
  {
   "cell_type": "markdown",
   "id": "df76e8c7-b020-4193-bf8d-c119ce936b3e",
   "metadata": {},
   "source": [
    "`-` 함수 $F$를 칸토어 함수라고 부른다. 칸토어함수는 아래와 같은 특징이 있다. \n",
    "\n",
    "1. 칸토어 함수는 ***모든 곳에서*** 연속이다. \n",
    "2. 칸토어 집합의 외부 $[0,1]-{\\cal C}$에서는 상수함수이다. 즉 칸토어집합의 외부에서는 기울기가 0이다. $m({\\cal C})=0$ 이므로 이 함수는 ***거의 모든 곳에서*** 기울기가 0이다. \n",
    "3. $F$는 비감소함수이다. \n",
    "4. $F(0)=0$ 이고 $F(1)=1$이다. "
   ]
  },
  {
   "cell_type": "markdown",
   "id": "6e9416e9-aab1-4352-b2a0-6e19795086c2",
   "metadata": {},
   "source": [
    "`-` 1,3,4에 의하여 $F$는 분포함수의 정의를 만족한다. 1에 의하여 $F$는 연속형확률변수의 분포함수가 된다. 칸토어 집합의 외부에서 (그러니까 ***[0,1]의 거의 모든 점에서***) 도함수는 $0$ 이므로 \n",
    "\n",
    "$$\\frac{d}{dx}F(x)=f(x)=0,\\quad \\sf{a.e.}$$\n",
    "\n",
    "이다. 하지만 $f(x)$는 pdf의 정의를 만족하지 않는다. "
   ]
  },
  {
   "cell_type": "markdown",
   "id": "858226ce-931d-49b8-a566-8fa256507639",
   "metadata": {},
   "source": [
    "`-` 요약\n",
    "\n",
    "- 칸토어함수 $F$는 분포함수의 정의를 만족한다. 따라서 $F$에 대응하는 확률변수 $X$가 반드시 있다.\n",
    "- 심지어 칸토어함수는 연속함수이므로, $F$에 대응하는 확률변수 $X$는 연속형 확률변수가 된다. \n",
    "- $F$는 ***거의 모든 점에서 도함수가 존재하지만*** 그 도함수의 적분이 아니다. \n",
    "- 그래서 $X$의 pdf는 존재하지 않는다. "
   ]
  },
  {
   "cell_type": "markdown",
   "id": "55515c21-54aa-4448-bd31-5dec9c14a879",
   "metadata": {},
   "source": [
    "> 칸토어함수는 미적분학의 기본정리 성립하지 않는 반례를 찾기 위해 고안되었다. 즉 어떠한 함수 $F$가 ***거의 모든 곳에서*** 미분가능하며, 그 도함수를 $f$가 ***르벡적분 가능*** 할지라도 $\\int_{-\\infty}^{x} f(y) dy= F(x)$ 가 성립하지 않을 수 있다. "
   ]
  },
  {
   "cell_type": "markdown",
   "id": "3e926c9a-bc24-4a07-84a2-cfa4657d8250",
   "metadata": {},
   "source": [
    "## 절대연속"
   ]
  },
  {
   "cell_type": "markdown",
   "id": "28d7e4d6-9ccc-48f7-9f32-fd2a583339c7",
   "metadata": {},
   "source": [
    "`-` 모티브\n",
    "\n",
    "1. $F_X$의 \"도함수 비슷한 함수\"를 일반화 할 수 없을까? $\\Rightarrow$ 라돈니코딤 도함수\n",
    "2. $F_X$의 1과 같이 도함수 비슷한 함수가 언제 존재하는지 조건을 알 수 있을까? $\\Rightarrow$ 절대연속 "
   ]
  },
  {
   "cell_type": "markdown",
   "id": "26f550e6-90a9-4ace-814b-d25b2284cda2",
   "metadata": {},
   "source": [
    "|함수|도함수|라돈니코딤 도함수|\n",
    "|:-:|:-:|:-:|\n",
    "|연속|X|X^[칸토어함수!!!]|\n",
    "|절대연속|X|O|\n",
    "|미분가능|O|O|"
   ]
  },
  {
   "cell_type": "markdown",
   "id": "f80d848e-dc67-450b-9707-8198bc42951f",
   "metadata": {},
   "source": [
    "> 암기: 절대연속은 연속보다 강하고, 미분가능보다 약한 조건이다. "
   ]
  },
  {
   "cell_type": "markdown",
   "id": "08d698c5-6f8f-4571-b8b2-4c43dbb63c68",
   "metadata": {},
   "source": [
    "`-` **정의**: 함수 $F_X(x)$가 분포함수의 정의를 만족한다고 가정하자.^[원래는 이러한 가정이 없음] $F_X(x)$에 대응하는 분포 $\\mu_X:{\\cal R} \\to [0,1]$를 생각하자. $F_X(x)$가 절대연속이라는 뜻은 아래가 성립한다는 의미이다. \n",
    "\n",
    "$$\\forall B \\in {\\cal R}: \\lambda(B) =0 \\Rightarrow \\mu_X(B)=0$$"
   ]
  },
  {
   "cell_type": "markdown",
   "id": "e2aa6013-0830-4c7a-89c4-0b748ed40b2e",
   "metadata": {},
   "source": [
    "이럴 경우 아래와 같이 표현한다. \n",
    "\n",
    "- A measure $\\mu_X$ is abosolutely continous with respect to Lebesgue measure $\\lambda$\n",
    "- $\\mu_X << \\lambda$"
   ]
  },
  {
   "cell_type": "markdown",
   "id": "0129c219-8c85-4ca6-9b71-851a4ae36360",
   "metadata": {},
   "source": [
    "`-` **정의:** 좀 더 일반적으로는 아래와 같이 정의할 수 있다. [@durrett2019probability, p 470]"
   ]
  },
  {
   "cell_type": "markdown",
   "id": "c181408a-2dee-4e8b-af19-4ea67aa6640c",
   "metadata": {},
   "source": [
    "가측공간 $(\\mathbb{R},{\\cal R})$를 고려하고 $\\mu$, $\\lambda$를 $(\\mathbb{R},{\\cal R})$에서의 메져라고 하자. $\\mu$가 ***absolutely continuous w.r.t. $\\lambda$*** 라는 의미는 \n",
    "\n",
    "$$\\forall B \\in {\\cal R}:~ \\lambda(B) =0 \\Rightarrow \\mu(B)=0$$\n",
    "\n",
    "라는 의미이며 기호로는 $\\mu << \\lambda$ 와 같이 나타낸다. "
   ]
  },
  {
   "cell_type": "markdown",
   "id": "419827a9-2554-432c-8118-74531b4e6de5",
   "metadata": {},
   "source": [
    "> 여기에서 공간 $(\\mathbb{R},{\\cal R})$ 은 이해를 돕기위해서 제한한 것이며, 대부분 교재에서는 좀 더 일반적인 가측공간에서 절대연속을 정의한다. "
   ]
  },
  {
   "cell_type": "markdown",
   "id": "24acec6d-ac6f-4943-88a4-70a31a17c7c1",
   "metadata": {},
   "source": [
    "`-` 절대연속의 예제를 살펴보기전에 필요한 예비학습 "
   ]
  },
  {
   "cell_type": "markdown",
   "id": "c662566e-5083-4790-85b5-7901279a9c4c",
   "metadata": {},
   "source": [
    "이런게 있었거든요.. // 7주차 강의노트 \n",
    "\n",
    "함수 $\\mu$가 잴 수 있는 공간 $(\\Omega, {\\cal F})$에서 정의된 메져라고 하자. \n",
    "\n",
    "- $A_i \\uparrow A$ $\\Rightarrow$ $\\mu(\\lim_{n\\to \\infty}A_n) = \\lim_{n \\to \\infty}\\mu(A_n)$ \n",
    "- $A_i \\downarrow A$ with $\\mu(A_1)<\\infty$ $\\Rightarrow$ $\\mu(\\lim_{n\\to \\infty}A_n) = \\lim_{n \\to \\infty}\\mu(A_n)$\n",
    "- 감소하거나 증가하는 집합열에서는 $\\lim$을 넣거나 뺼 수 있다. (정확하지 않은 state, 그냥 기억을 위한 문장) "
   ]
  },
  {
   "cell_type": "markdown",
   "id": "9dfed897-c3e1-4c84-b67f-0f048a5ee943",
   "metadata": {},
   "source": [
    "`-` 예제1: -- 베르누이\n",
    "\n",
    "아래와 같은 함수를 고려하자. \n",
    "\n",
    "$$F_X(x) = \\begin{cases} \n",
    "0 & x<0 \\\\ \n",
    "\\frac{1}{2} & 0\\leq x< 1 \\\\ \n",
    "1 & x \\geq 1 \\\\ \n",
    "\\end{cases}$$"
   ]
  },
  {
   "cell_type": "markdown",
   "id": "a0610aba-2dd6-4ac2-a3a7-a96a1b39409b",
   "metadata": {},
   "source": [
    "이 함수는 르벡메져에 대하여 ***absolutely continuous*** 하지 않다. "
   ]
  },
  {
   "cell_type": "markdown",
   "id": "d75a8a84-710f-4f0b-ade6-b38b553ae52e",
   "metadata": {},
   "source": [
    "(해설1) "
   ]
  },
  {
   "cell_type": "markdown",
   "id": "9e5fda83-14c0-4459-8342-1bb4122c46f2",
   "metadata": {},
   "source": [
    "연속이 아니므로 절대연속이 아니다. "
   ]
  },
  {
   "cell_type": "markdown",
   "id": "e8959e64-8c85-4d38-a8a5-56bba0145d9e",
   "metadata": {},
   "source": [
    "(해설2)"
   ]
  },
  {
   "cell_type": "markdown",
   "id": "5c7b59a5-7162-4e84-be22-bd55af8819cd",
   "metadata": {},
   "source": [
    "임의의 $\\{x\\}$에 대하여 $\\mu_X(\\{x\\})$를 계산하기 위해서는 아래와 같이 하면 된다. "
   ]
  },
  {
   "cell_type": "markdown",
   "id": "25b79c02-87fb-4d64-937f-4dbcf38a18ed",
   "metadata": {},
   "source": [
    "1. $\\mu_{X}(\\{x\\})=\\mu_{X}\\big(\\lim_{n\\to\\infty}(x-\\frac{1}{n},x]\\big)=\\lim_{n\\to\\infty}\\mu_{X}\\big((x-\\frac{1}{n},x]\\big)$\n",
    "2. $(x-\\frac{1}{n}, x]= (-\\infty, x] - (-\\infty,x-\\frac{1}{n}]$ \n",
    "3. $\\mu_{X}\\big((x-\\frac{1}{n},x]\\big)=F_X(x)-F_X(x-\\frac{1}{n})$\n",
    "4. $\\mu_{X}(\\{x\\})=F_X(x)-\\lim_{n\\to\\infty}F_X(x-\\frac{1}{n})$"
   ]
  },
  {
   "cell_type": "markdown",
   "id": "583033af-2757-4f25-a339-51f906a8a0a0",
   "metadata": {},
   "source": [
    "이를 이용하면 "
   ]
  },
  {
   "cell_type": "markdown",
   "id": "6735bf1f-2405-4d9c-981f-35b9f6a62367",
   "metadata": {},
   "source": [
    "- $\\lambda(\\{0\\})=0 \\not \\Rightarrow \\mu_X(\\{0\\})=F_X(0)-\\lim_{n\\to\\infty}F_X(-\\frac{1}{n})=\\frac{1}{2}-0$ \n",
    "- $\\lambda(\\{1\\})=0 \\not \\Rightarrow \\mu_X(\\{1\\})=F_X(1)-\\lim_{n\\to\\infty}F_X(1-\\frac{1}{n})=1-\\frac{1}{2}$ \n",
    "- $\\lambda(\\{0,1\\})=0 \\not \\Rightarrow \\mu_X(\\{0,1\\}) =\\mu_X(\\{0\\})+\\mu_X(\\{1\\})=1$\n",
    "\n",
    "> 위에서 언급한 경우 이외에서는 연속임. $\\lambda(\\{0.77\\})=0 \\Rightarrow \\mu_X(\\{0.77\\})=F_X(0.77)-\\lim_{n\\to\\infty}F_X(0.77-\\frac{1}{n})=\\frac{1}{2}-\\frac{1}{2}$ \n"
   ]
  },
  {
   "cell_type": "markdown",
   "id": "9920d9da-aa6e-41a9-bb66-34eedbe2cc8a",
   "metadata": {},
   "source": [
    "`-` 예제2: -- 균등분포 \n",
    "\n",
    "아래와 같은 함수를 고려하자. \n",
    "\n",
    "$$F_X(x) = \\begin{cases} \n",
    "0 & x<0 \\\\ \n",
    "x & 0\\leq  x \\leq  1 \\\\ \n",
    "1 & x> 1 \\\\ \n",
    "\\end{cases}$$"
   ]
  },
  {
   "cell_type": "markdown",
   "id": "b5644f8e-56fc-41a8-ba10-5a2d7d1de6db",
   "metadata": {},
   "source": [
    "이 함수는 르벡메져에 대하여 ***absolutely continuous*** 하다. "
   ]
  },
  {
   "cell_type": "markdown",
   "id": "5310a06e-91a9-460e-a4a5-c913b68a2412",
   "metadata": {},
   "source": [
    "(해설) "
   ]
  },
  {
   "cell_type": "markdown",
   "id": "18a95619-c75b-425a-af0f-0ef9e3b7c937",
   "metadata": {},
   "source": [
    "$\\forall B\\in {\\cal R}: \\mu_X(B) \\leq \\lambda(B)$ 이므로 자명함"
   ]
  },
  {
   "cell_type": "markdown",
   "id": "bac9cb3c-304f-4373-99ae-6b3f668b57c9",
   "metadata": {},
   "source": [
    "`-` 예제3 -- 혼합된 균등분포\n",
    "\n",
    "아래와 같은 distribution function $F_X$을 가지는 확률변수 $X$를 고려하자. "
   ]
  },
  {
   "cell_type": "markdown",
   "id": "51c7bc4c-2200-4a02-ab07-16f13d0a2f5d",
   "metadata": {},
   "source": [
    "$$F_X(x) = \\begin{cases} 0 & x<0\\\\ \\frac{3}{2}x & 0\\leq x < \\frac{1}{2} \\\\ \\frac{1}{2}+\\frac{1}{2}x & \\frac{1}{2}\\leq x<1 \\\\ 1 & 1\\leq x\\end{cases}$$"
   ]
  },
  {
   "cell_type": "markdown",
   "id": "a73a1b15-4953-4897-9d90-e1ca2d4d51c9",
   "metadata": {},
   "source": [
    "이러한 함수 $F_X$는 르벡메져에 대하여 absolutely continuous 한가?"
   ]
  },
  {
   "cell_type": "markdown",
   "id": "5e175d1d-4581-4336-ba6d-9c0817513603",
   "metadata": {},
   "source": [
    "(해설) "
   ]
  },
  {
   "cell_type": "markdown",
   "id": "23785642-7070-437e-bbf7-fa4e46bc3833",
   "metadata": {},
   "source": [
    "$\\forall B \\in {\\cal R}: \\mu_X(B) \\leq \\frac{3}{2}\\lambda(B)$ 이므로 자명함. "
   ]
  },
  {
   "cell_type": "markdown",
   "id": "8976dbcc-d51f-4c7b-b2bc-2fc608f528c8",
   "metadata": {},
   "source": [
    "> 예제2,3으로 관찰하고 착각할 수 있는 것: 그냥 연속이면 다 절대연속 아니야? "
   ]
  },
  {
   "cell_type": "markdown",
   "id": "66a64904-2430-49be-b7df-c411736eb6eb",
   "metadata": {},
   "source": [
    "`-` 예제3 -- 칸토어함수\n",
    "\n",
    "칸토어함수 $F_X$는 르벡메져에 대하여 ***absolutely continuous*** 하지 않다. "
   ]
  },
  {
   "cell_type": "markdown",
   "id": "96762d04-f26b-413f-b96e-dc92dc04395a",
   "metadata": {},
   "source": [
    "(해설)"
   ]
  },
  {
   "cell_type": "markdown",
   "id": "cf6b76aa-1cc7-4d77-8329-62559ec72720",
   "metadata": {},
   "source": [
    "칸토어함수 $F_X$가 ***absolutely continuous*** 하다고 하자. 그러면 $\\mu_X((a,b]) = \\mu_X([a,b])$ 가 성립한다. "
   ]
  },
  {
   "cell_type": "markdown",
   "id": "0b4609e0-2ef2-4aea-bebf-40066ad361c9",
   "metadata": {},
   "source": [
    "$n=0$: \n",
    "\n",
    "- $C_0=[0,1]$\n",
    "- $\\mu_X(C_0)=\\mu_X((0,1])=F_X(1)-F_X(0)=1$ "
   ]
  },
  {
   "cell_type": "markdown",
   "id": "a7798dd0-553b-4f3b-ba5b-a791b6d01598",
   "metadata": {},
   "source": [
    "$n=1$: \n",
    "\n",
    "- $C_1=[0,\\frac{1}{3}] \\cup [\\frac{2}{3},1]$\n",
    "- $\\mu_X(C_1)=\\mu_X((0,\\frac{1}{3}])+\\mu_X((\\frac{2}{3},1])=F_X(\\frac{1}{3})-F_X(0)+F_X(1)-F_X(\\frac{2}{3})=1$ "
   ]
  },
  {
   "cell_type": "markdown",
   "id": "5d8f4303-ce09-4778-9e8d-945ec49b5d34",
   "metadata": {},
   "source": [
    "정리하면 아래와 같다. "
   ]
  },
  {
   "cell_type": "markdown",
   "id": "1f6ac1b9-f490-4eaa-b5a1-b0a4cb1b1e10",
   "metadata": {},
   "source": [
    "|$n$|$C_n$|$\\mu_X(C_n)$|\n",
    "|:-:|:-:|:-:|\n",
    "|$0$|$[0,1]$|$1$|\n",
    "|$1$|$[0,\\frac{1}{3}] \\cup [\\frac{2}{3},1]$|$1$|\n",
    "|$2$|$[0,\\frac{1}{9}]\\cup[\\frac{2}{9},\\frac{1}{3}] \\cup[\\frac{2}{3},\\frac{7}{9}]\\cup [\\frac{8}{9},1]$|$1$|\n",
    "|$\\dots$|$\\dots$|$1$|"
   ]
  },
  {
   "cell_type": "markdown",
   "id": "4a851bb9-43a6-49f3-acea-4530e366517a",
   "metadata": {},
   "source": [
    "그런데 $\\lambda({\\cal C})=0$ 이지만 $\\mu_X(\\lim_{n\\to \\infty}C_n)=\\mu_X({\\cal C})=1$ 이므로 $\\mu<<\\lambda$에 모순이다. "
   ]
  },
  {
   "cell_type": "markdown",
   "id": "750c68a0-f77e-4123-a561-b29820dc8c74",
   "metadata": {},
   "source": [
    "## 라돈니코딤 정리 "
   ]
  },
  {
   "cell_type": "markdown",
   "id": "340c05a5-55ae-4e81-86f0-79e5646e8cbf",
   "metadata": {},
   "source": [
    "`-` **이론**: 분포함수 $F_X:\\mathbb{R} \\to [0,1]$가 (르벡메져에 대하여) 절대연속이라면 아래를 만족하는 함수 $f_X:\\mathbb{R} \\to \\mathbb{R}^+$가 존재한다. \n",
    "\n",
    "$$F_X = \\int_{(-\\infty,x]}f_Xd\\lambda$$ "
   ]
  },
  {
   "cell_type": "markdown",
   "id": "c2ab5b5a-0f1d-407d-8b0b-d08b481d9efb",
   "metadata": {},
   "source": [
    "여기에서 함수 $f_X$를 $F_X$의 밀도함수 (density function) 이라고 한다. 일반적으로 밀도함수 $f_X$는 유일하지 않지만, 르벡측도로 재었을때 0인 집합을 제외한 부분에서는 유일하게 결정된다. (요약: 분포함수 $F_X$가 절대연속이면 밀도함수 $f_X$가 존재하고, ***거의*** 유일함) "
   ]
  },
  {
   "cell_type": "markdown",
   "id": "e0f1b466-c318-4426-8fed-3e1d397221d8",
   "metadata": {},
   "source": [
    "> 위에서 \"르벡측도로 재었을때 0인 집합을 제외한 부분에서는 유일하게 결정된다\"라는 부분은 \"르벡메져 $\\lambda$에 대하여 ***거의 유일하다***\" 라고 이해해도 무방. 엄밀하게 쓰면 \"분포함수 $F_X$가 있다면 밀도함수의 정의하는 만족하는 함수가 반드시 하나는 존재한다. 만약에 두 함수 $f$와 $g$가 모두 밀도함수의 정의를 만족한다면 '$f=g$ ***a.e. with respect to*** $\\lambda$' 가 성립한다.\" 와 같은 식으로 쓸 수 있음. "
   ]
  },
  {
   "cell_type": "markdown",
   "id": "58843b9b-7df4-4c84-9dbb-bcc478cf00a9",
   "metadata": {},
   "source": [
    "> 위에서 $f$의 공역이 $\\mathbb{R}^+$인 이유는 $F_X$가 증가함수라서.."
   ]
  },
  {
   "cell_type": "markdown",
   "id": "de1c95c6-a97c-4e56-99eb-7e1997944b71",
   "metadata": {},
   "source": [
    "`-` **Thm** (라돈니코딤 정리)[@durrett2019probability, Thm A.4.8.]: 가측공간 $(S,{\\cal S})$를 고려하자. 그리고 $\\mu$와 $\\lambda$가 $(S,{\\cal S})$에서의 $\\sigma$-finite measure 라고 하자. 만약에 $\\mu << \\lambda$ 이라면 아래를 만족하는 가측함수 $f:(S,{\\cal S}) \\to (\\mathbb{R}^+,{\\cal R}^+)$가 **거의 유일하게 (w.r.t. $\\lambda$)** 존재한다. \n",
    "\n",
    "$$\\forall B \\in {\\cal S}:~ \\mu(B) = \\int_B f d\\lambda.$$\n",
    "\n",
    "여기에서 $f$를 ***Radon-Nikodym derivative of $\\mu$ w.r.t. $\\lambda$*** 라고 하며, 이러한 의미에서 $f=\\frac{d\\mu}{d\\lambda}$와 같이 표현하기도 한다."
   ]
  },
  {
   "cell_type": "markdown",
   "id": "0667f9a5-451b-4855-a0a3-40b542585934",
   "metadata": {},
   "source": [
    "::: {.callout-warning}\n",
    "## 강의 오류 정정\n",
    "\n",
    "$f: (S,{\\cal S}) \\to (S, {\\cal S})$를 $f:(S,{\\cal S}) \\to (\\mathbb{R}^+, {\\cal R}^+)$로 정정합니다.\n",
    "\n",
    ":::"
   ]
  },
  {
   "cell_type": "markdown",
   "id": "1ea1655d-8616-47d8-847f-aa6848514b89",
   "metadata": {},
   "source": [
    "`-` 예제1 -- 균등분포 \n",
    "\n",
    "아래와 같은 함수를 고려하자. \n",
    "\n",
    "$$F_X(x) = \\begin{cases} \n",
    "0 & x<0 \\\\ \n",
    "x & 0\\leq  x \\leq  1 \\\\ \n",
    "1 & x> 1 \\\\ \n",
    "\\end{cases}$$\n",
    "\n",
    "또한 아래와 같은 함수 $f_X: \\mathbb{R} \\to \\mathbb{R}$ 를 고려하자. \n",
    "\n",
    "$$f_X(x) = \\begin{cases} 1 & 0 \\leq x \\leq 1 \\\\ 0 & o.w. \\end{cases}$$\n",
    "\n",
    "$f_X(x)$가 $F_X(x)$의 라돈니코딤 도함수임을 설명하라."
   ]
  },
  {
   "cell_type": "markdown",
   "id": "98587668-b323-450e-9e99-74760d6f4968",
   "metadata": {},
   "source": [
    "(해설) \n",
    "\n",
    "1. $\\mu_X$와 $\\lambda$는 모두 $(\\mathbb{R},{\\cal R})$에서 $\\sigma$-finite 하다. \n",
    "2. $\\mu_X << \\lambda$이다. 따라서 적당한 ${\\cal R} \\to {\\cal R}^+$ measurable function이 존재하여 라돈니코딤 도함수의 조건을 만족함을 알 수 있다. \n",
    "3. 우리가 생각하는 후보는 $f_X$인데 이것이 만약에 (1) ${\\cal R} \\to {\\cal R}^+$ 가측함수이고 (2) 라돈니코딤 도함수의 조건을 만족한다면 $f_X$는 $F_X$의 거의 유일한 (***w.r.t. $\\lambda$***) 밀도함수라고 주장할 수 있다. \n",
    "4. $f_X$는 simple function이므로 ${\\cal R} \\to {\\cal R}^+$ 가측함수이다. \n",
    "5. 임의의 $x$에 대하여 $F_X(x)=\\mu_X((-\\infty,x])=\\int_{(-\\infty,x]}f_Xd\\lambda$ 이 성립한다. \n",
    "6. 5와 $\\pi$-$\\lambda$ thm을 이용하면 모든 $B \\in {\\cal R}$에 대하여 $\\mu_X(B) = \\int_B f_X d\\lambda$ 가 성립한다. [(풀이참고)](https://github.com/guebin/AP2023/blob/main/posts/II.%20%ED%99%95%EB%A5%A0%EB%A1%A0%EA%B8%B0%EC%B4%88/supp_13wk_1.pdf)\n",
    "7. 따라서 $f_X$는 $F_X$의 밀도함수이다. "
   ]
  },
  {
   "cell_type": "markdown",
   "id": "65de3db6-adbc-4b2a-8b76-249405f68a0f",
   "metadata": {},
   "source": [
    "`-` 예제2 -- 베르누이 분포\n",
    "\n",
    "아래와 같은 함수를 고려하자. \n",
    "\n",
    "$$F_X(x) = \\begin{cases} \n",
    "0 & x<0 \\\\ \n",
    "\\frac{1}{2} & 0 \\leq  x <1 \\\\\n",
    "1 & x \\geq 1\n",
    "\\end{cases}$$"
   ]
  },
  {
   "cell_type": "markdown",
   "id": "5d60d015-3a33-478d-aa6e-c54ef8f250e7",
   "metadata": {},
   "source": [
    "이 함수에 대응하는 $\\mu_X$를 아래와 같이 정의하자. \n",
    "\n",
    "- $\\mu_X(\\emptyset)=0$\n",
    "- $\\mu_X(\\{0\\})=\\frac{1}{2}$ \n",
    "- $\\mu_X(\\{1\\})=\\frac{1}{2}$ \n",
    "- $\\mu_X(\\{0,1\\})=1$ \n",
    "- $\\mu_X(B)=0$ , $B \\in {\\cal R} - \\{0,1\\} - \\{0\\} - \\{1\\}$"
   ]
  },
  {
   "cell_type": "markdown",
   "id": "79b27bb8-eb3a-4015-abb5-8fc73f95d510",
   "metadata": {},
   "source": [
    "$\\mu_X$는 $\\lambda$에 대한 라돈니코딤 도함수를 가지지 않음을 보여라. "
   ]
  },
  {
   "cell_type": "markdown",
   "id": "53b8eda8-bcf4-4897-a677-3aa689d17a8e",
   "metadata": {},
   "source": [
    "(해설) -- 절대연속이 안되는걸? "
   ]
  }
 ],
 "metadata": {
  "kernelspec": {
   "display_name": "Python 3 (ipykernel)",
   "language": "python",
   "name": "python3"
  },
  "language_info": {
   "codemirror_mode": {
    "name": "ipython",
    "version": 3
   },
   "file_extension": ".py",
   "mimetype": "text/x-python",
   "name": "python",
   "nbconvert_exporter": "python",
   "pygments_lexer": "ipython3",
   "version": "3.12.2"
  }
 },
 "nbformat": 4,
 "nbformat_minor": 5
}
