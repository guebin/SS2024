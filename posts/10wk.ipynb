{
 "cells": [
  {
   "cell_type": "raw",
   "id": "0561ea25-50bf-4360-8a45-1feb52d70859",
   "metadata": {
    "vscode": {
     "languageId": "raw"
    }
   },
   "source": [
    "---\n",
    "title: \"10wk: 분포와 분포함수, 밀도함수는 어려워, 르벡적분 맛보기\"\n",
    "author: \"최규빈\"\n",
    "date: \"11/14/2024\"\n",
    "reference-location: margin\n",
    "citation-location: margin\n",
    "cap-location: margin\n",
    "draft: false\n",
    "---"
   ]
  },
  {
   "cell_type": "markdown",
   "id": "abd86da7-1110-4df1-b839-5500703fd745",
   "metadata": {},
   "source": [
    "# 1. 강의영상 "
   ]
  },
  {
   "cell_type": "markdown",
   "id": "59cd8aca-0369-40bd-a775-59d21f6101f1",
   "metadata": {},
   "source": [
    "{{< video https://youtu.be/playlist?list=PLQqh36zP38-xvCw7AvD-Kl4gqkPGB5hYL&si=RYyoh3s5IjJXMwoH >}}"
   ]
  },
  {
   "cell_type": "markdown",
   "id": "4215fe1c-94e5-43a7-92d7-7d586f1c575c",
   "metadata": {},
   "source": [
    "# 2. Preview "
   ]
  },
  {
   "cell_type": "markdown",
   "id": "d4831054-ed76-438a-8910-e5674aa7acc2",
   "metadata": {},
   "source": [
    "`-` 확률변수 $X$는 $\\Omega$의 모든 원소를 적절한 숫자로 \"잘\" 연결하는 어떠한 맵핑이라는 느낌은 이해했다. 하지만 말 그대로 확률변수 $X$는 두 measurable space $(\\Omega, {\\cal F})$와 $(\\mathbb{R},{\\cal R})$을 잘 연결하는 어떠한 맵핑일 뿐이라서 우리가 그동안 가지고 있던 \"랜덤성\"에 대한 정의는 $X$에서 빠져있다. 즉 $\\omega \\in \\Omega$의 값이 고정이면 $X(\\omega)$의 값도 고정이다. 하지만 우리는 $X$가 랜덤으로 숫자가 바뀌는 (잘못된) 느낌을 가지고 살고 있었는데, 그렇다면 이러한 \"랜덤성\"은 어디에서 비롯한 것일까? "
   ]
  },
  {
   "cell_type": "markdown",
   "id": "2f96778b-9785-4e97-9f6f-9c9c7eb15dec",
   "metadata": {},
   "source": [
    "`-` $X$의 입력이 결정되면 출력이 고정되므로 $X$가 가지고 있는 \"출력이 랜덤으로 변화하는 느낌\"을 위해서는 함수 $X$의 입력 $\\omega$가 랜덤으로 변화해야 한다. 이렇게 $\\omega$를 랜덤하게 선택할 수 있게 만들어주는 장치가 확률측도 $\\mathbb{P}$이며 $\\mathbb{P}(\\{\\omega\\})$는 $\\Omega$에서 $\\{\\omega\\}$가 선택될 확률을 의미한다. 따라서 $\\mathbb{P}$는 $\\omega$를 랜덤으로 선택할 수 있게 해주고 그 결과 $X(\\omega)$의 출력 역시 랜덤하게 나올 수 있도록 해준다. "
   ]
  },
  {
   "cell_type": "markdown",
   "id": "9e5ef6b4-1fd4-4dac-9fa0-6f27aac87215",
   "metadata": {},
   "source": [
    "`-` 저번시간에서는 $X$에 초점을 맞추었다. 즉 $\\Omega$와 $\\mathbb{R}$을 \"잘 연결\" 하는 작업에 초점을 맞추었다. 그 결과 $X$의 임의의 inverse image에 대하여 $\\mathbb{P}$로 그 길이를 재는데 모순됨이 없도록 하였다. "
   ]
  },
  {
   "cell_type": "markdown",
   "id": "cdd85631-8c96-4b8b-8de2-6a5886a9ea49",
   "metadata": {},
   "source": [
    "`-` 이번시간에는 $P$가 가지는 랜덤성에 초점을 맞추도록 하겠다. 특히 서로 다른 확률공간 $(\\Omega, {\\cal F}, \\mathbb{P})$ 와 $(\\Omega',{\\cal F}',\\mathbb{P}')$ 이 비슷한 랜덤성을 가질때, 이러한 랜덤성을 효과적으로 서술하는 \"분포\"라는 개념을 구체화하고 나아가 \"분포함수\", \"밀도함수\"의 개념을 소개한다. "
   ]
  },
  {
   "cell_type": "markdown",
   "id": "0c0a6f5e-3a6f-41a4-9dc0-512f5d8c87c6",
   "metadata": {},
   "source": [
    "# 3. 분포 (distribution)"
   ]
  },
  {
   "cell_type": "markdown",
   "id": "d6025d39-0931-40cd-a553-ac004f12c887",
   "metadata": {},
   "source": [
    "`# 예제1` -- 동전예제 "
   ]
  },
  {
   "cell_type": "markdown",
   "id": "05be4a9d-71d1-4e29-9929-0cfd2f42f9c1",
   "metadata": {},
   "source": [
    " 동전을 던지는 예제로 만들어지는 아래와 같은 확률공간 $(\\Omega,{\\cal F},\\mathbb{P})$ 를 생각하자. \n",
    "\n",
    "- $\\Omega = \\{H,T\\}$\n",
    "- ${\\cal F} = 2^\\Omega$\n",
    "- $\\mathbb{P}(\\{H\\})=\\mathbb{P}(\\{T\\})=\\frac{1}{2}$^[이렇게만 해도 확률이 정의되는 이유는 카라테오도리 확장정리 덕분]"
   ]
  },
  {
   "cell_type": "markdown",
   "id": "c4cdf6d7-d959-4d72-94ef-d5b96d9e4aa1",
   "metadata": {},
   "source": [
    "확률변수 $X:\\Omega \\to \\mathbb{R}$를 아래와 같이 정의하자. \n",
    "\n",
    "- $X(H)=1$\n",
    "- $X(T)=0$"
   ]
  },
  {
   "cell_type": "markdown",
   "id": "c3067b6f-5031-4ded-bbad-79a9e2c1d25d",
   "metadata": {
    "slideshow": {
     "slide_type": "slide"
    }
   },
   "source": [
    "이제 $B \\in {\\cal R}$ 에 대하여 아래와 같은 표현들을 고려하자. \n",
    "\n",
    "1. $\\mathbb{P}(X \\in B)$ // 친숙한 표현\n",
    "2. $\\mathbb{P}(\\{\\omega: X(\\omega) \\in B\\})$ // 1의 엄밀한 표현\n",
    "3. $\\mathbb{P}(X^{-1}(B))$ // 2의 다른 버전, inverse image의 느낌이 확 살아 있음. 여기에서 $X^{-1}: {\\cal R} \\to {\\cal F}$ 인 함수로 생각하자. \n",
    "4. $(\\mathbb{P} \\circ X^{-1})(B)$ // 생각해보니까 이것도 가능함. $\\mathbb{P}$, $X^{-1}$ 모두 함수였잖아? "
   ]
  },
  {
   "cell_type": "markdown",
   "id": "9d869707-ded8-41a2-9953-8872b089e2dc",
   "metadata": {
    "slideshow": {
     "slide_type": "slide"
    }
   },
   "source": [
    "표현4를 좀 더 살펴보자. 기호를 간단하게 하기위해서 $\\mu_X:=\\mathbb{P}\\circ X^{-1}$로 정의하자. (정의에 따라서 $\\mu_X$는 ${\\cal R}\\to [0,1]$인 집합함수가 된다.)\n",
    "\n",
    "- $\\mathbb{P}(\\emptyset) = 0 \\Leftrightarrow \\mu_X(\\mathbb{R}-\\{0,1\\}) = 0$\n",
    "- $\\mathbb{P}(\\{H\\}) = \\frac{1}{2} \\Leftrightarrow \\mu_X(\\{0\\}) = \\frac{1}{2}$\n",
    "- $\\mathbb{P}(\\{T\\}) = \\frac{1}{2} \\Leftrightarrow \\mu_X(\\{1\\}) = \\frac{1}{2}$\n",
    "- $\\mathbb{P}(\\{H,T\\}) = 1 \\Leftrightarrow \\mu_X(\\{0,1\\}) = 1$"
   ]
  },
  {
   "cell_type": "markdown",
   "id": "48bfe0ce-d05d-4fcc-bb58-51f24959a8ba",
   "metadata": {},
   "source": [
    "`#`"
   ]
  },
  {
   "cell_type": "markdown",
   "id": "b4f6e53f-7f02-4974-9c83-6c9bffe9df1e",
   "metadata": {},
   "source": [
    "`# 예제2` -- 주머니 예제"
   ]
  },
  {
   "cell_type": "markdown",
   "id": "38defd78-30b9-4a2b-acd7-a77eda0a9bd3",
   "metadata": {},
   "source": [
    "주머니에 하얀공과 빨간공이 하나씩 있다고 하자. 주머니에 손을 넣어 이중 하나의 공을 뽑는 시행을 한다고 하자. 이러한 상황으로 만들어지는 아래와 같은 확률공간 $(\\Omega,{\\cal F},\\mathbb{P})$ 를 생각하자. \n",
    "\n",
    "- $\\Omega = \\{R,W\\}$\n",
    "- ${\\cal F} = 2^\\Omega$\n",
    "- $\\mathbb{P}(\\{R\\})=\\mathbb{P}(\\{W\\})=\\frac{1}{2}$"
   ]
  },
  {
   "cell_type": "markdown",
   "id": "dfe314e3-5e00-4a7e-be05-33f45f5c46a2",
   "metadata": {},
   "source": [
    "확률변수 $X:\\Omega \\to \\mathbb{R}$를 아래와 같이 정의하자. \n",
    "\n",
    "- $X(R)=1$\n",
    "- $X(W)=0$"
   ]
  },
  {
   "cell_type": "markdown",
   "id": "9b324a2b-18a2-4342-8501-b73894eb9603",
   "metadata": {
    "slideshow": {
     "slide_type": "slide"
    }
   },
   "source": [
    "이제 $B \\in {\\cal R}$ 에 대하여 아래와 같은 표현들을 고려하자. \n",
    "\n",
    "1. $\\mathbb{P}(X \\in B)$\n",
    "2. $(\\mathbb{P} \\circ X^{-1})(B)=\\mu_X(B)$ "
   ]
  },
  {
   "cell_type": "markdown",
   "id": "6791619a-f801-4936-9065-877d89ac0e09",
   "metadata": {
    "slideshow": {
     "slide_type": "slide"
    }
   },
   "source": [
    "두 표현을 비교하여 살펴보자. \n",
    "\n",
    "- $\\mathbb{P}(\\emptyset) = 0 \\Leftrightarrow \\mu_X(\\mathbb{R}-\\{0,1\\}) = 0$\n",
    "- $\\mathbb{P}(\\{R\\}) = \\frac{1}{2} \\Leftrightarrow \\mu_X(\\{0\\}) = \\frac{1}{2}$\n",
    "- $\\mathbb{P}(\\{W\\}) = \\frac{1}{2} \\Leftrightarrow \\mu_X(\\{1\\}) = \\frac{1}{2}$\n",
    "- $\\mathbb{P}(\\{R,W\\}) = 1 \\Leftrightarrow \\mu_X(\\{0,1\\}) = 1$"
   ]
  },
  {
   "cell_type": "markdown",
   "id": "692de4c1-eb94-423f-b72a-5fac8b66d9ba",
   "metadata": {},
   "source": [
    "`#`"
   ]
  },
  {
   "cell_type": "markdown",
   "id": "d6113f8d-5538-4af2-a03d-4a8a9cd472d0",
   "metadata": {},
   "source": [
    "`# 생각의 시간1`: 예제1,2를 관찰하며 생각 \n",
    "\n",
    "예제1과 예제2는 분명히 다른예제이다. 하지만 사실 같은 예제인 것 같다는 느낌이 있다. 구체적으로 \"확률과 관련된 시행이 어떠한 결과로 나타나는지\"에 관련한 본질적인 면에서 같다 느껴진다. (우리는 이것을 **\"분포가 같다\"**라 부르기로 했어요)\n",
    "\n",
    "- 예제1,2의 차이점: Outcome, event, $\\sigma$-field, $\\mathbb{P}$, $X$가 다름.\n",
    "- 예제1,2의 공통점: $\\mu_X$는 똑같음!\n",
    "- **아이디어**: $\\mu_X$ 가 $\\mathbb{P}$ 보다 예제1,2의 공통속성 (우리가 이미 \"분포\"라고 알고 있는 개념) 을 나타내기에 유리한 것 같은데?"
   ]
  },
  {
   "cell_type": "markdown",
   "id": "d2157039-b41c-4859-8155-cb4a66e95aea",
   "metadata": {},
   "source": [
    "`#`"
   ]
  },
  {
   "cell_type": "markdown",
   "id": "66633b7c-2b09-46b0-a36d-525ff2dbcc42",
   "metadata": {
    "slideshow": {
     "slide_type": "slide"
    }
   },
   "source": [
    "`# 생각의 시간2`: $\\mu_X:{\\cal R} \\to [0,1]$ 는 언제나 모순없이 잘 정의되는가? \n",
    "\n",
    "이론?: $(\\Omega,{\\cal F}, \\mathbb{P})$가 확률공간이고 $X:\\Omega \\to \\mathbb{R}$이 확률변수라면, $\\mu_X:=\\mathbb{P}\\circ X^{-1}$는 언제나 잘 정의된다. \n",
    "\n",
    "- **시그마필드**: 모든 $B \\in {\\cal R}$에 대하여 $X^{-1}(B)$가 시그마필드의 원소가 아닐 수 없다. (만약 그렇다면 $X$는 확률변수가 아닌걸?) \n",
    "- **메져**: 모든 $B \\in {\\cal R}$에 대하여 $\\mathbb{P}(X^{-1}(B))$의 값을 모순되게 정의할 수 없다. (만약 그렇다면 $(\\Omega, {\\cal F}, P)$는 확률공간이 아닌걸?)\n",
    "\n",
    "결론: $\\mu_X$는 안전해!"
   ]
  },
  {
   "cell_type": "markdown",
   "id": "f8dc8768-abcd-4ff1-8dfe-6f07a209ba77",
   "metadata": {},
   "source": [
    "`#`"
   ]
  },
  {
   "cell_type": "markdown",
   "id": "5b3097eb-112e-4334-87c9-630872ac3cc3",
   "metadata": {
    "slideshow": {
     "slide_type": "slide"
    }
   },
   "source": [
    "`# 생각의 시간3`: $\\mu_X:{\\cal R} \\to [0,1]$ 는 확률측도의 조건을 만족한다. 구체적으로는 $(\\mathbb{R}, {\\cal R})$에서의 확률측도가 된다. 아래를 체크하자. \n",
    "\n",
    "1. 정의역: $\\mu_X$는 시그마필드를 정의역으로 가진다. \n",
    "2. 함수값: $\\mu_X(\\emptyset)=0$, $\\mu_X(\\mathbb{R})=1$ 이며 $\\mu_X(\\cdot)$은 항상 양의값을 가진다. \n",
    "3. $\\sigma$-add: $\\mu_X$는 ${\\cal R}$의 모든 서로소인 집합에 대하여 $\\sigma$-additivity 가 성립한다.^[서로소인 두 집합 $A,B \\in {\\cal R}$ 에서의 inverse image는 겹치지 않죠, 귀류법을 써서 겹친다고 가정하고 논리전개하면 $X$가 함수가 아니게 되어 모순이 됩니다]\n",
    "\n",
    "따라서 $\\mathbb{P}$가 $(\\Omega,{\\cal F})$에서의 확률측도이듯이 $\\mu_X$는 $(\\mathbb{R}, {\\cal R})$에서의 확률측도이다. \n",
    "\n",
    "`#`"
   ]
  },
  {
   "cell_type": "markdown",
   "id": "a106138d-097d-456e-a2b0-9e3d208c1c02",
   "metadata": {},
   "source": [
    "`# 정의`: $X$를 확률공간 $(\\Omega, {\\cal F}, \\mathbb{P})$에서 정의된 확률변수라고 하자. 이때 $\\mu_X:=P \\circ X^{-1}$로 정의가능한 함수 $\\mu_X: {\\cal R} \\to [0,1]$ 를 $X$의 distribution 라고 부른다."
   ]
  },
  {
   "cell_type": "markdown",
   "id": "44d65911-378a-4c18-b2a7-bc38fcf28598",
   "metadata": {},
   "source": [
    "> 여기에서 \"$X$를 확률공간 $(\\Omega, {\\cal F}, \\mathbb{P})$에서의 확률변수\"라는 말이 얼마나 많은 구질구질한 선언을 대신 하는지 생각해보라. 제대로 쓰려면 아마\n",
    ">\n",
    "> \"$\\Omega$를 어떠한 실험에 의하여 발생한 outcome들의 집합이라고 하자. 그리고 ${\\cal F}$를 $\\Omega$에 대한 시그마필드라고 하자. 즉 ${\\cal F}$는 ... 을 만족하는 집합이다. $(\\Omega, {\\cal F})$을 묶어서 가측공간이라고 하자. $\\mathbb{P}$는 잴 수 있는 공간 $(\\Omega, {\\cal F})$에 대한 확률측도라고 하자. 즉 $\\mathbb{P}$는 ... 를 만족하는 함수이다. 그리고 $X$는 $(\\Omega,{\\cal F}) \\to (\\mathbb{R}, {\\cal R})$인 확률변수라고 하자. 즉 $X$는 임의의 $B \\in {\\cal R}$에 대하여 ... 를 만족하는 함수이다. 여기에서 ${\\cal R}$은 Borel $\\sigma$-field이다. 즉 ${\\cal R}$은 ... 를 만족하는 집합이다.\"\n",
    ">\n",
    "> 와 같은 방식으로 써야할 것이다."
   ]
  },
  {
   "cell_type": "markdown",
   "id": "13b4128b-4fc7-479d-88e4-327def960588",
   "metadata": {},
   "source": [
    "`#`"
   ]
  },
  {
   "cell_type": "markdown",
   "id": "9e76a2c4-6331-456e-aff7-63ca5661085e",
   "metadata": {},
   "source": [
    "`-` $\\mu_X$는 $(\\mathbb{R}, {\\cal R})$에서의 확률측도이므로 $(\\mathbb{R},{\\cal R},\\mu_X)$는 확률공간이 된다. 그런데 $\\mu_X$가 $X$에 의하여 정의되므로, 확률공간 $(\\mathbb{R},{\\cal R},\\mu_X)$ 역시 $X$에 의하여 정의되는데 이러한 이유로 확률공간 $(\\mathbb{R}, {\\cal R}, \\mu_X)$를 $X$에 의하여 유도된 확률공간이라고 표현하기도 한다. "
   ]
  },
  {
   "cell_type": "markdown",
   "id": "5167d989-e4d3-41e4-97af-15943c52bd47",
   "metadata": {},
   "source": [
    "`-` **$(\\mathbb{R}, {\\cal R}, \\mu_X)$가 $X$에 의하여 유도된 확률공간이라는 선언의 숨은 의미**^[사실 교재가 숨긴적은 없고요, 제가 그냥 몰랐던거에요.]: 함수 $X$가 잘 정의된다면 ($X$가 확률변수라면!) 공간 $(\\Omega, {\\cal F}, P)$와 공간 $(\\mathbb{R}, {\\cal R}, \\mu_X)$는 대등한 역할을 한다. 즉 $\\Omega$의 임의의 원소는 $\\mathbb{R}$의 임의의 원소로 바꾸어 생각할 수 있고, ${\\cal F}$의 임의의 원소는 ${\\cal R}$의 임의의 원소로 대치할 수 있으며, ${\\cal F}$의 임의의 원소(event)를 측도 $\\mathbb{P}$로 재는 일은 ${\\cal R}$의 임의의 원소를 측도 $\\mu_X$로 재는 일과 동치로 해석할 수 있다. "
   ]
  },
  {
   "cell_type": "markdown",
   "id": "4fb3a22f-ae36-4884-a9e6-ee86669c1f02",
   "metadata": {},
   "source": [
    "# 4. 분포함수 (distribution function) "
   ]
  },
  {
   "cell_type": "markdown",
   "id": "da45cc87-6d47-4a2d-bb94-77618050068b",
   "metadata": {},
   "source": [
    "`-` 모티브: $\\mu_X:{\\cal R} \\to [0,1]$ 는 정의역이 집합이라서 아쉬움. (솔직히 우리한테 친숙한 형태는 아님) 만약에 \n",
    "\n",
    "- 집합 $\\to$ 숫자\n",
    "\n",
    "와 같은 방식으로 랜덤성을 정의하지 않고 \n",
    "\n",
    "- 숫자 $\\to$ 숫자\n",
    "\n",
    "와 같은 방식으로 랜덤성을 정의할 수 있다면 어떨까? "
   ]
  },
  {
   "cell_type": "markdown",
   "id": "033ad8e2-6033-425c-a866-4b3e9860c174",
   "metadata": {},
   "source": [
    "`-` 결국 랜덤성을 기술하려면 $\\mathbb{P}$ 를 기술해야한다. 그런데 $\\mathbb{P}$ 를 기술하기가 좀 까다로울 경우가 많은데 그것을 단순화 하기 위한 노력의 시작은 카라테오도리의 확장정리였다.^[이 정리가 없었다면 단순히 주사위를 던지는 사건에 대한 $\\mathbb{P}$ 를 기술하기 위해서 $2^6$개의 모든 ${\\cal F}=2^\\Omega, \\Omega=\\{1,2,3,4,5,6\\}$에 대하여 \"집합 -> 숫자\"를 일일히 기록해야 했을 것이다.] 그리고 이 노력의 마지막은 이제 소개하는 분포함수이다. "
   ]
  },
  {
   "cell_type": "markdown",
   "id": "a50e0565-eef0-4957-bf3c-af2dd79ff181",
   "metadata": {},
   "source": [
    "`# 예제1` -- 동전예제 다시"
   ]
  },
  {
   "cell_type": "markdown",
   "id": "428e944a-482a-40c4-9e39-1858a6e0d6b8",
   "metadata": {},
   "source": [
    " 동전을 던지는 예제로 만들어지는 아래와 같은 확률공간 $(\\Omega,{\\cal F},\\mathbb{P})$ 를 생각하자. \n",
    "\n",
    "- $\\Omega = \\{H,T\\}$\n",
    "- ${\\cal F} = 2^\\Omega$\n",
    "- $\\mathbb{P}(\\{H\\})=\\mathbb{P}(\\{T\\})=\\frac{1}{2}$"
   ]
  },
  {
   "cell_type": "markdown",
   "id": "9b592f2e-73eb-48b2-b575-f0d2e8806219",
   "metadata": {},
   "source": [
    "확률변수 $X:\\Omega \\to \\mathbb{R}$를 아래와 같이 정의하자. \n",
    "\n",
    "- $X(H)=1$\n",
    "- $X(T)=0$"
   ]
  },
  {
   "cell_type": "markdown",
   "id": "b64f0e73-cd7b-4471-b89d-f275bd155747",
   "metadata": {},
   "source": [
    "이제 아래와 같은 함수를 정의하자. \n",
    "\n",
    "$$\\mu_X((-\\infty,x])=F_X(x)=\\begin{cases} 0 & x<0 \\\\ \\frac{1}{2} & 0\\leq x < 1 \\\\ 1 & 1 \\leq x \\end{cases}$$"
   ]
  },
  {
   "cell_type": "markdown",
   "id": "61bc206a-56a1-475f-90e9-e4c119a4eff3",
   "metadata": {},
   "source": [
    "이 함수는 동전예제가 가지는 랜덤성을 완전히 설명한다. 즉 $F_X:\\mathbb{R} \\to [0,1]$를 정의하는 일은 $\\mathbb{P}:{\\cal F} \\to [0,1]$를 정의하는 일과 동치이다. 왜 그런지 논의하라. "
   ]
  },
  {
   "cell_type": "markdown",
   "id": "4a9bb75a-6ca7-415f-b93c-cc59f6785fc8",
   "metadata": {},
   "source": [
    "`(해설)`"
   ]
  },
  {
   "cell_type": "markdown",
   "id": "8a0e04e8-829a-4aa8-87eb-0b9f7559c4a1",
   "metadata": {},
   "source": [
    "**해설을 위한 준비**"
   ]
  },
  {
   "cell_type": "markdown",
   "id": "b695e7cf-08f3-4d81-ad9a-de056b07312d",
   "metadata": {},
   "source": [
    "아래의 이론을 한번 떠올려보자.. "
   ]
  },
  {
   "cell_type": "markdown",
   "id": "0b600de6-0d65-4b76-89d3-3f4b23120725",
   "metadata": {},
   "source": [
    "> **확장이론2**: $\\big(\\Omega, \\sigma({\\cal A}), \\mathbb{P}\\big)$ 가 확률공간이라고 하자. 그리고 ${\\cal A}$는 $\\pi$-system이라고 하자. 확률측도 $\\mathbb{P}: \\sigma({\\cal A}) \\to [0,1]$ 의 값은 ${\\cal A}$ 에서의 값으로 유일하게 결정된다. "
   ]
  },
  {
   "cell_type": "markdown",
   "id": "67604bd8-f25d-445d-8866-cb418ba44599",
   "metadata": {},
   "source": [
    "그리고 아래의 내용을 체크하자. \n",
    "\n",
    ">$\\mu_X$는 $(\\mathbb{R}, {\\cal R})$에서의 확률측도이다. 따라서 $(\\mathbb{R}, {\\cal R}, \\mu_X)$는 확률공간이다. "
   ]
  },
  {
   "cell_type": "markdown",
   "id": "b7727d2f-62eb-48f3-a843-277676dd0368",
   "metadata": {},
   "source": [
    "**진짜해설**"
   ]
  },
  {
   "cell_type": "markdown",
   "id": "0c6079f5-1137-4616-83df-4ca1342cbd33",
   "metadata": {},
   "source": [
    "$F_X(x)=\\mu_X((-\\infty,x])$로 쓸 수 있다. 따라서 모든 실수 $x\\in \\mathbb{R}$에 대하여 $F_X(x)$의 값을 정의하는 일은 모든 ${\\cal A}=\\{(-\\infty,x]: x\\in \\mathbb{R}\\}$ 에서 $\\mu_X:{\\cal A} \\to [0,1]$ 을 정의하는 일과 동치이다. 그런데 ${\\cal A}$는 파이시스템이므로 ${\\cal A}$에서의 $\\mu_X$값만 결정해도 ${\\cal R}$의 모든 집합에서의 $\\mu_X$값이 올바르게 결정된다. 그런데 공간 $(\\mathbb{R}, {\\cal R}, \\mu_X)$는 $X$에 의하여 유도된 공간이므로 $(\\mathbb{R}, {\\cal R})$에서 $\\mu_X$를 정의하는 일은 $\\mathbb{P}$를 정의하는 일과 같다. "
   ]
  },
  {
   "cell_type": "markdown",
   "id": "4ec03a22-6cf8-48d2-ab40-4fee81f0fc8a",
   "metadata": {},
   "source": [
    "> $\\mathbb{R}$에서 $F_X(x)$를 정의 $\\Leftrightarrow$ ${\\cal A}$에서 $\\mu_X$를 정의 $\\Leftrightarrow$ ${\\cal R}$에서 $\\mu_X$를 정의  $\\Leftrightarrow$ ${\\cal F}$에서 $\\mathbb{P}$를 정의 "
   ]
  },
  {
   "cell_type": "markdown",
   "id": "7635e711-8bf3-422c-82a6-8989e50a8fb6",
   "metadata": {},
   "source": [
    "`#`"
   ]
  },
  {
   "cell_type": "markdown",
   "id": "ccd24149-2c02-4345-a396-6e355747da47",
   "metadata": {},
   "source": [
    "**`# 정의`**: $X$를 확률공간 $(\\Omega, {\\cal F}, \\mathbb{P})$에서 정의된 확률변수라고 하자. 그리고 $(\\mathbb{R}, {\\cal R}, \\mu_X)$를 $X$에 의하여 유도된 확률공간이라고 하자. $F_X: \\mathbb{R} \\to [0,1]$ 인 함수를 아래와 같이 정의하자. \n",
    "\n",
    "$$F_X(x) = \\mu_X((-\\infty, x])$$\n",
    "\n",
    "함수 $F_X$를 확률변수 $X$의 distribution function 혹은 cumulative distribution function (CDF) 라고 부른다. 그리고 $\\mu_X((-\\infty,x])=\\mathbb{P}(X\\leq x)$^[$\\mu_X(B) = \\mathbb{P}(X \\in B)$] 임을 떠올리면 함수 $F_X(x)$를 $F_X(x) = \\mathbb{P}(X\\leq x)$로 표현할 수도 있음을 알 수 있다.^[반가운 표현의 등장]\n",
    "\n",
    "`#`"
   ]
  },
  {
   "cell_type": "markdown",
   "id": "7c74c213-5587-4bfa-b388-bee20936b278",
   "metadata": {},
   "source": [
    "`# 약속1`: $X$를 확률공간 $(\\Omega, {\\cal F}, \\mathbb{P})$에서 정의된 확률변수라고 하자. 아래와 같은 표현을 약속하자. \n",
    "\n",
    "- $X \\sim \\mu_X$ $\\Leftrightarrow$ $X$의 distribution 이 $\\mu_X$이다. \n",
    "- $X \\sim F_X$ $\\Leftrightarrow$ $X$의 distribution function이 $F_X$이다.\n",
    "\n",
    "`#`"
   ]
  },
  {
   "cell_type": "markdown",
   "id": "8645c730-d411-478e-9845-efd44fcd9109",
   "metadata": {},
   "source": [
    "`# 약속2`: $X$를 확률공간 $(\\Omega_X, {\\cal F}_X, \\mathbb{P}_X)$에서 정의된 확률변수라고 하고, $Y$를 확률공간 $(\\Omega_Y, {\\cal F}_Y, \\mathbb{P}_Y)$에서 정의된 확률변수라고 하자. \n",
    "\n",
    "- $X \\overset{d}{=} Y$ $\\Leftrightarrow$ $\\forall B \\in {\\cal R}: \\mu_X(B) = \\mu_Y(B)$\n",
    "- $X \\overset{d}{=} Y$ $\\Leftrightarrow$ $\\forall c \\in {\\mathbb R}: F_X(c) = F_Y(c)$\n",
    "- $X \\overset{d}{=} Y$ $\\Leftrightarrow$ $\\forall c \\in {\\mathbb R}: \\mathbb{P}_X(X\\leq c) = \\mathbb{P}_Y(Y\\leq c)$\n",
    "\n",
    "> 만약에 랜덤성을 기술하는 언어가 $P$하나 뿐이었다면 \"같은 분포를 가진다\" 혹은 \"점근적으로 같은 분포를 가진다\"와 같은 개념을 수식화 하기 불리하다. "
   ]
  },
  {
   "cell_type": "markdown",
   "id": "ec32e48e-aa58-4ac3-b8c7-2d65062ac9f0",
   "metadata": {},
   "source": [
    "`#`"
   ]
  },
  {
   "cell_type": "markdown",
   "id": "309b5df0-0b53-4aaf-97ba-e1521ac7a1e0",
   "metadata": {},
   "source": [
    "`# 이론`: 임의의 분포함수 $F:\\mathbb{R} \\to [0,1]$는 (1) 비감소 (2) $\\lim_{x \\to -\\infty}F(x)=0$ and $\\lim_{x \\to \\infty}F(x)=1$ (3) 오른쪽연속의 성질을 가진다. "
   ]
  },
  {
   "cell_type": "markdown",
   "id": "9022fb56-89b7-4498-9fcd-5329ad531df7",
   "metadata": {},
   "source": [
    "`# 이론`: 임의의 함수 $F:\\mathbb{R} \\to \\mathbb{R}$가 (1) 비감소 (2) $\\lim_{x \\to -\\infty}F(x)=0$ and $\\lim_{x \\to \\infty}F(x)=1$ (3) 오른쪽연속의 성질을 가진다면, $F$는 어떠한 확률변수 $X$의 분포함수이다. "
   ]
  },
  {
   "cell_type": "markdown",
   "id": "9c4665b1-b552-4513-baf2-56b7cf4912b3",
   "metadata": {
    "tags": []
   },
   "source": [
    "# 5. 밀도함수는 어려워"
   ]
  },
  {
   "cell_type": "markdown",
   "id": "e0db4de9-5c82-4576-ae8f-569cef73ff48",
   "metadata": {},
   "source": [
    "`# 정의(?)` -- $X$를 확률공간 $(\\Omega, {\\cal F}, \\mathbb{P})$에서 정의된 확률변수라고 하고 $F_X$를 $X$의 분포함수 라고 하자. 만약에 $F_X$가 아래와 같은 방식으로 표현된다면 $f_X$를 $X$를 density function 혹은 probability density function (PDF) 이라고 한다. \n",
    "\n",
    "$$F_X(x)=\\int_{-\\infty}^xf_X(y)dy$$ \n",
    "\n",
    "\n",
    "**그런데 이 정의 너무 쌔지않어? $F_X$가 미분불가능인 순간 끝나는데??**\n",
    "\n",
    "`#`"
   ]
  },
  {
   "cell_type": "markdown",
   "id": "421c6b70-77c4-4ad3-9504-50b903a50010",
   "metadata": {},
   "source": [
    "`-` 걱정: 저런 표현이 존재하지 않는다면 어쩌지? \n",
    "\n",
    "- $F_X(x)$가 불연속인 경우: 미분 불가능 \n",
    "- $F_X(x)$가 연속인 경우: 미분가능할 수도 있고, 아닐 수도 있고.. "
   ]
  },
  {
   "cell_type": "markdown",
   "id": "1c0dafe9-06e2-4e36-9f54-292975c31285",
   "metadata": {},
   "source": [
    "`-` 앞으로의 할일: 밀도함수의 이해\n",
    "\n",
    "1. 르벡적분: $\\int_{-\\infty}^{x}f_X(y)dy$ 를 좀 더 깊이 이해하자.\n",
    "2. 절대연속: $F_X(x)$ 가 미분가능하길 기대하는건 너무 까다롭다.. 좀 더 약한조건 있을까? \n",
    "3. 라돈니코딤도함수: 수리통계에서는 pdf와 pmf를 분리하여 배웠는데, 이를 통합하여 하나의 정의로 만들 수 있을까? "
   ]
  },
  {
   "cell_type": "markdown",
   "id": "07e9bf81-8c1e-47cb-a637-99d0d8d38b43",
   "metadata": {},
   "source": [
    "# 6. 르벡적분 맛보기"
   ]
  },
  {
   "cell_type": "markdown",
   "id": "724219a5-b618-44fe-9308-726aecbc1c36",
   "metadata": {},
   "source": [
    "## A. motivating EX"
   ]
  },
  {
   "cell_type": "markdown",
   "id": "d7087606-46ca-480b-bfca-3b8c0f7bf096",
   "metadata": {},
   "source": [
    "`# 예제1` -- 사각형의 넓이 "
   ]
  },
  {
   "cell_type": "markdown",
   "id": "e94b3d9e-cb2d-4409-8cff-4726a4e13c69",
   "metadata": {},
   "source": [
    "아래와 같은 함수의 밑면적을 계산해보자. "
   ]
  },
  {
   "cell_type": "markdown",
   "id": "659bc9ad-fc2b-4a7f-8f67-1abb4c6efb8e",
   "metadata": {},
   "source": [
    "$$f(x)= \\begin{cases} 1 &  0 \\leq x \\leq 1 \\\\ 0 & o.w. \\end{cases}$$ "
   ]
  },
  {
   "cell_type": "markdown",
   "id": "9785793a-fa30-49c6-a9d1-808fb4641cbe",
   "metadata": {},
   "source": [
    "답은 1이다. 이것을 적분을 이용하여 구하는 과정을 서술해라. "
   ]
  },
  {
   "cell_type": "markdown",
   "id": "76729144-9876-4741-a429-dd0ba8597451",
   "metadata": {},
   "source": [
    "`(서술1)` -- 고등학생이 하는 그 풀이 "
   ]
  },
  {
   "cell_type": "markdown",
   "id": "19139a13-8e4d-4c5a-96ae-d49bb0355691",
   "metadata": {},
   "source": [
    "$$\\int_{-\\infty}^{\\infty} f(x)dx = \\int_0^1 f(x) dx = \\int_{0}^{1}dx = 1$$"
   ]
  },
  {
   "cell_type": "markdown",
   "id": "e2f7ea11-acd4-4bf6-b600-a4024a431a46",
   "metadata": {},
   "source": [
    "`(서술2)` -- 르벡메저를 이용한 풀이 "
   ]
  },
  {
   "cell_type": "markdown",
   "id": "72e75d46-f4aa-47fa-af27-57c178ea39fb",
   "metadata": {},
   "source": [
    "그런데 이 예제의 경우 구간 $[0,1]$에서 함수 $f(x)$의 값이 모두 $f(x)=1$로 같고 그 외의 구간에서는 모두 $f(x)=0$이므로 아래와 같이 수식을 쓰는 것도 가능하다. "
   ]
  },
  {
   "cell_type": "markdown",
   "id": "6219d66e-f512-4092-af96-d3dfd25bc037",
   "metadata": {},
   "source": [
    "$$\\lambda([0,1]) \\times 1= 1$$"
   ]
  },
  {
   "cell_type": "markdown",
   "id": "5dde2fbb-9781-4703-ba0c-669b5b6c5cec",
   "metadata": {},
   "source": [
    "`#`"
   ]
  },
  {
   "cell_type": "markdown",
   "id": "4020dad0-f96a-45c7-9e23-1643363499c1",
   "metadata": {},
   "source": [
    "`# 예제2` -- 사각형의 넓이 (2)"
   ]
  },
  {
   "cell_type": "markdown",
   "id": "a8d07d21-d3a8-4d64-8204-9893f440f78a",
   "metadata": {},
   "source": [
    "이제 아래와 같은 함수의 밑면적을 고려하자. "
   ]
  },
  {
   "cell_type": "markdown",
   "id": "da27c5cc-6e2b-4f7c-b6e8-825f91408499",
   "metadata": {},
   "source": [
    "$$g(x)= \\begin{cases} 1 &  0 < x < 1 \\\\ 0 & o.w. \\end{cases}$$ "
   ]
  },
  {
   "cell_type": "markdown",
   "id": "e423bbfd-79bb-4b39-99b0-c09521b7f5f3",
   "metadata": {},
   "source": [
    "이것을 적분을 이용하여 구하는 과정을 서술하고 기호를 살펴보자. "
   ]
  },
  {
   "cell_type": "markdown",
   "id": "89ba175c-8187-49a9-94aa-c2a9bf057f83",
   "metadata": {},
   "source": [
    "`(틀린서술)`"
   ]
  },
  {
   "cell_type": "markdown",
   "id": "0297ee6c-cacf-446e-9b48-b137085fb85a",
   "metadata": {},
   "source": [
    "$$\\int_{-\\infty}^{\\infty} g(x)dx=\\int_0^1 g(x)dx = \\int_0^1dx=1$$ "
   ]
  },
  {
   "cell_type": "markdown",
   "id": "3bb4c0ad-5e5e-4df9-8aff-0921cf8968f4",
   "metadata": {},
   "source": [
    "-- 틀린이유? $\\int_0^1$은 폐구간 $[0,1]$를 의미함. 이러한 구간에서는 $g(x)$의 값이 일괄적으로 1이라고 주장할 수 없다. "
   ]
  },
  {
   "cell_type": "markdown",
   "id": "e66c2b90-0d3e-4b13-ba7d-391d4d387f80",
   "metadata": {},
   "source": [
    "`(서술1)` -- 약간 말장난인데? "
   ]
  },
  {
   "cell_type": "markdown",
   "id": "cb82cd19-40e1-4974-a007-2d9660ca1722",
   "metadata": {},
   "source": [
    "구간 $[0,1]$에서 $g(x)$의 밑면적은 구간 $[0,1]$에서 $f(x)$의 밑면적과 같으므로 1이다. "
   ]
  },
  {
   "cell_type": "markdown",
   "id": "5b63a407-78f4-431a-aba5-e822afa17881",
   "metadata": {},
   "source": [
    "`(서술2)` -- 르벡메저를 이용한 풀이 "
   ]
  },
  {
   "cell_type": "markdown",
   "id": "f854c62d-a7ef-460c-ba1d-bb3115da55be",
   "metadata": {},
   "source": [
    "이 예제의 경우 구간 $(0,1)$에서 함수 $g(x)$의 값이 모두 $g(x)=1$로 같고 그 외의 구간에서는 모두 $g(x)=0$이므로 아래와 같이 수식을 쓸 수 있다. "
   ]
  },
  {
   "cell_type": "markdown",
   "id": "8ae4a46b-6cef-4bd9-97da-dc8268cc16f1",
   "metadata": {},
   "source": [
    "$$\\lambda((0,1)) \\times 1= 1$$"
   ]
  },
  {
   "cell_type": "markdown",
   "id": "48c97ff3-23eb-40db-9c04-b83c7057e227",
   "metadata": {},
   "source": [
    "`#`"
   ]
  },
  {
   "cell_type": "markdown",
   "id": "6114c733-5c08-4315-9233-9474a337312b",
   "metadata": {},
   "source": [
    "`# 예제3` -- 사각형의 넓이 (3)"
   ]
  },
  {
   "cell_type": "markdown",
   "id": "70899159-df07-477a-874b-682ec9049cfc",
   "metadata": {},
   "source": [
    "이제 아래와 같은 함수 $f(x)$에 대한 밑면적을 계산하고 싶다고 생각해보자. \n",
    "\n",
    "$$f(x)= \\begin{cases} \n",
    "1 & 0<x<1/2 \\\\ \n",
    "2 & 1/2 \\leq x < 1 \\\\ \n",
    "\\frac{1}{3} & 1<x<3 \\\\ \n",
    "0 & o.w \n",
    "\\end{cases}$$ "
   ]
  },
  {
   "cell_type": "markdown",
   "id": "758c0feb-0f17-423e-a518-43c1e6895746",
   "metadata": {},
   "source": [
    "예제1,2에서 소개한 서술1,2에 근거하여 $f$의 밑면적을 구하는 방법을 논의하라. "
   ]
  },
  {
   "cell_type": "markdown",
   "id": "eb2f6c20-930b-4117-9166-a4e515f34598",
   "metadata": {},
   "source": [
    "`(서술1)` -- 많이 들어본 논리.. 이해는 되지만.. 애매한 논리.."
   ]
  },
  {
   "cell_type": "markdown",
   "id": "d73d20e8-cd4c-4bd1-b5b8-e716ec80bb53",
   "metadata": {},
   "source": [
    "$f$의 밑면적 $S$를 적분으로 나타내면 "
   ]
  },
  {
   "cell_type": "markdown",
   "id": "26cbfa51-7aa4-40e4-b972-e39f1cb21bcc",
   "metadata": {},
   "source": [
    "$$S=\\int_{0}^{\\frac{1}{2}}dx + \\int_{\\frac{1}{2}}^{1} 2dx + \\int_{1}^{3} \\frac{1}{3}dx$$ "
   ]
  },
  {
   "cell_type": "markdown",
   "id": "4d5b2017-50d1-448f-b3a7-ae15b8b539cd",
   "metadata": {},
   "source": [
    "사실 $\\int_{a}^{b}f(x)dx$ 와 같은 형태는 일반적으로 함수가 $f$가 폐구간 $[a,b]$ 에서 정의된다고 가정하고 사용하므로 위의 기호는 정확하지 않다. \n",
    "\n",
    "1. $x=\\frac{1}{2},1,3$에 해당하는 영역은 중복혜서 계산된다. \n",
    "2. $x=\\frac{1}{2}$에 해당하는 영역은 함수값을 1로 보기도 하고 2로 보기도 한다. \n",
    "3. $x=1$에 해당하는 영역은 함수값을 2로 보기도 하고 3으로 보기도 한다. \n",
    "4. $x=0$에 해당하는 영역은 실제로는 함수값이 0이지만 계산상으로는 1로 생각한다. \n",
    "5. $x=1$에 해당하는 영역은 실제로는 함수값이 0이지만 계산상으로는 2 혹은 $\\frac{1}{3}$로 생각한다. \n",
    "6. $x=3$에 해당하는 영역은 실제로는 함수값이 0이지만 계산상으로는 $\\frac{1}{3}$로 생각한다. "
   ]
  },
  {
   "cell_type": "markdown",
   "id": "fde3aa43-78fb-4ee2-a8fa-057ad6085243",
   "metadata": {},
   "source": [
    "하지만 이러한 사소한점을 무시해도 계산결과는 여전히 $S$이다. "
   ]
  },
  {
   "cell_type": "markdown",
   "id": "1fe96b49-c41f-4e5f-b970-bb21bce073ce",
   "metadata": {},
   "source": [
    "`(서술2)`"
   ]
  },
  {
   "cell_type": "markdown",
   "id": "56fca498-5070-4e19-b8cb-afe1ada9f521",
   "metadata": {},
   "source": [
    "함수 $f$의 면적 $S$는 아래와 같이 나타낼 수 있다. "
   ]
  },
  {
   "cell_type": "markdown",
   "id": "99ed3063-01fd-4960-ab45-060db8012030",
   "metadata": {},
   "source": [
    "$$S = 1\\times \\lambda(A_1) + 2 \\times \\lambda(A_2) + \\frac{1}{3} \\lambda(A_3)$$"
   ]
  },
  {
   "cell_type": "markdown",
   "id": "df5b186d-daf3-467f-8c9e-49e3a92853ba",
   "metadata": {},
   "source": [
    "단, 여기에서 $A_1=(0,\\frac{1}{2}), A_2=[\\frac{1}{2},1), A_3=(1,3)$ 이다. "
   ]
  },
  {
   "cell_type": "markdown",
   "id": "b4c2fb15-f679-43cd-848e-2d2888e596e0",
   "metadata": {},
   "source": [
    "**`(소감)`**"
   ]
  },
  {
   "cell_type": "markdown",
   "id": "17fdc75d-16e2-480c-9115-be3308ebbe4e",
   "metadata": {},
   "source": [
    "르벡메져를 이용하여 넓이를 정의하니까 애매한 점 없이 매우 깔끔하다. 단지 $A_1,A_2,A_3$이 르벡측도로 잴 수 있는 집합이어야 하므로 $A_1,A_2,A_3 \\in {\\cal R}$ 정도만 체크해주면 될 것 같다. "
   ]
  },
  {
   "cell_type": "markdown",
   "id": "6464e46d-887f-4e40-abc4-f9b745dbcf57",
   "metadata": {},
   "source": [
    "`#`"
   ]
  },
  {
   "cell_type": "markdown",
   "id": "4812c7f5-1c43-4482-a90d-3037d36260c5",
   "metadata": {},
   "source": [
    "`# 예제4` -- 리만적분 vs 르벡적분 "
   ]
  },
  {
   "cell_type": "markdown",
   "id": "53ff32c5-2285-46eb-bfca-912a404cd2e1",
   "metadata": {},
   "source": [
    "이제 아래와 같은 함수 $f$의 밑면적을 계산하는 방식을 고려하여 보자. "
   ]
  },
  {
   "cell_type": "markdown",
   "id": "4b176e5f-3c9c-427e-bc33-a6437e409f36",
   "metadata": {},
   "source": [
    "$$f(x) = \\begin{cases} 1 & x \\in [0,1] \\cap \\mathbb{Q}  \\\\ 2 & x \\in [0,1] \\cap \\mathbb{Q}^c \\\\ 0 & o.w. \\end{cases}$$ "
   ]
  },
  {
   "cell_type": "markdown",
   "id": "01edba86-5359-450f-aac9-7df21dc5860c",
   "metadata": {},
   "source": [
    "`(서술1)` -- 리만적분 "
   ]
  },
  {
   "cell_type": "markdown",
   "id": "fc605d09-65b6-421a-8c95-eb3a24c5e8c8",
   "metadata": {},
   "source": [
    "***적분이 불가능하다. 그 이유를 엄밀하지 않게 서술하면 아래와 같다.***"
   ]
  },
  {
   "cell_type": "markdown",
   "id": "9a1331e7-cea6-4eee-bcac-3018b0d8df1c",
   "metadata": {},
   "source": [
    "1. 우리가 알고 있는 \"적분\"이라는 것은 본래 $x$축을 잘게 쪼개서 아주 작은 구간을 만든뒤에 그 구간에서 $f(x)$의 값들이 비슷함을 이용하여 $f(x)$의 밑면적을 사각형넓이들의 합으로 근사시키는 방식이다. \n",
    "2. 이것은 아주 작은 구간에서는 $f(x)$의 값이 다른값을 가져봤자 그 차이는 미미하고 그래서 거의 상수처럼 생각할 수 있다는 직관을 이용하는 것이다. \n",
    "3. 일반적인 함수는 구간의 크기를 작게 만들수록 $f(x)$의 값은 점점 상수화되고 그 결과 사각형들의 합으로 근사된 넓이는 함수 $f$의 밑면적으로 수렴한다. \n",
    "4. 그런데 이 예제의 경우 아무리 작은 구간을 잡아도 그 사이에는 수많은 유리수와 수많은 무리수가 있으므로 함수값 $f(x)$은 안정화 되지 않으며 1과 2사이를 \"널뛴다.\"\n",
    "5. 따라서 적분값은 안정화되지 않는다. "
   ]
  },
  {
   "cell_type": "markdown",
   "id": "8afdef13-eb54-4a64-a7e1-b060bf270f20",
   "metadata": {},
   "source": [
    "> 구간에서의 $f(x)$의 대표값을 양 끝점중 하나로 설정한다고 하자. 만약 구간의 양끝점을 유리수로만 설정하면 넓이는 1로 계산되고, 무리수로만 설정하면넓이는 2로 계산될 것이다. "
   ]
  },
  {
   "cell_type": "markdown",
   "id": "08edf349-53dc-4313-9e97-1d1265749b22",
   "metadata": {},
   "source": [
    "`(서술2)` -- 르벡적분 "
   ]
  },
  {
   "cell_type": "markdown",
   "id": "caa1e64c-f343-412a-a719-f6cb41933ebf",
   "metadata": {},
   "source": [
    "함수 $f$의 면적 $S$는 아래와 같이 나타낼 수 있다. "
   ]
  },
  {
   "cell_type": "markdown",
   "id": "c56348d3-11ba-4ad7-a1d5-c4d81b358028",
   "metadata": {},
   "source": [
    "$$S = 1\\times \\lambda(A_1) + 2 \\times \\lambda(A_2)$$"
   ]
  },
  {
   "cell_type": "markdown",
   "id": "32401f1b-78fe-42e2-b93a-513cef097cfa",
   "metadata": {},
   "source": [
    "단, 여기에서 $A_1=[0,1] \\cap \\mathbb{Q}, A_2=[0,1] \\cap \\mathbb{Q}^c$ 이다. 집합 $A_1,A_2$ 는 모두 ${\\cal R}$-measurable 하므로 $\\lambda(A_1), \\lambda(A_2)$의 값이 각각 0과 1로 잘 정의된다. 따라서 $S=2$로 계산할 수 있다. "
   ]
  },
  {
   "cell_type": "markdown",
   "id": "12936dea-6c1c-4db3-baba-b64c54aa2603",
   "metadata": {},
   "source": [
    "`#`"
   ]
  },
  {
   "cell_type": "markdown",
   "id": "a53b712a-6d97-4b6e-9277-75953b1127c3",
   "metadata": {},
   "source": [
    "## B. 리만적분 vs 르벡적분 "
   ]
  },
  {
   "cell_type": "markdown",
   "id": "e6c57d71-0ddf-49c3-86b0-eb895713b445",
   "metadata": {},
   "source": [
    "`-` 느낌: 리만적분은 정의역을 잘게 쪼개는 느낌이지만, 르벡적분은 치역을 잘게 쪼개는 느낌이다. (리만적분을 밑넓이를 세로로 나누어 계산하고, 르벡적분은 가로로 나누어 계산한다.) "
   ]
  },
  {
   "cell_type": "markdown",
   "id": "0d206b43-ee97-4500-9ebc-05a61e505684",
   "metadata": {},
   "source": [
    "![그림1: 위키에서 긁은 그림..  르벡적분은 $y$ 에 대응하는 $x$ 의 영역을 찾는다..](https://upload.wikimedia.org/wikipedia/commons/thumb/2/2f/Lebesgueintegralsimplefunctions_finer-dotted.svg/1280px-Lebesgueintegralsimplefunctions_finer-dotted.svg.png)"
   ]
  },
  {
   "cell_type": "markdown",
   "id": "93bcf5b2-cd69-4037-8ec8-644e9a95cb34",
   "metadata": {},
   "source": [
    "![그림2: 유튜브에서 긁은 그림, 리만적분과 르벡적분을 비교한다. 리만적분은 $x$값에 대응하는 $y$를 찾고, 르벡적분은 $y$값에 대응하는 $x$값을 찾는다](https://i.ytimg.com/vi/PGPZ0P1PJfw/hq720.jpg?sqp=-oaymwEhCK4FEIIDSFryq4qpAxMIARUAAAAAGAElAADIQj0AgKJD&rs=AOn4CLCiqxilKPxSiW1OV3g_vg1e8ODKzw)"
   ]
  },
  {
   "cell_type": "markdown",
   "id": "f533960c-2141-4fb5-838f-a78305894227",
   "metadata": {},
   "source": [
    "ref: <https://www.youtube.com/watch?app=desktop&v=PGPZ0P1PJfw>"
   ]
  },
  {
   "cell_type": "markdown",
   "id": "2e61351e-eaa7-4e98-94ca-3e6ee22be37a",
   "metadata": {},
   "source": [
    "## C. 거의 모든 곳에서.. "
   ]
  },
  {
   "cell_type": "markdown",
   "id": "0f3793e8-0c65-46e0-b239-87b2b7ac0c0b",
   "metadata": {},
   "source": [
    "`# 복습?` 아래예제의 서술을 다시 살펴보자. "
   ]
  },
  {
   "cell_type": "markdown",
   "id": "91d24d80-9417-4d0e-8fac-e0533102c0ee",
   "metadata": {},
   "source": [
    "**# 예제** -- 사각형의 넓이 (2)"
   ]
  },
  {
   "cell_type": "markdown",
   "id": "a6ad647a-579e-408b-962f-537310804033",
   "metadata": {},
   "source": [
    "이제 아래와 같은 함수의 밑면적을 고려하자. "
   ]
  },
  {
   "cell_type": "markdown",
   "id": "a9238db2-83c4-41de-859f-b2086e4dc1f1",
   "metadata": {},
   "source": [
    "$$g(x)= \\begin{cases} 1 &  0 < x < 1 \\\\ 0 & o.w. \\end{cases}$$ "
   ]
  },
  {
   "cell_type": "markdown",
   "id": "018a4690-4483-4997-8182-65a1c3ac8d59",
   "metadata": {},
   "source": [
    "이것을 적분을 이용하여 구하는 과정을 서술하고 기호를 살펴보자. "
   ]
  },
  {
   "cell_type": "markdown",
   "id": "abc9f3bc-29fb-44dc-ae4e-a3f8408c5b95",
   "metadata": {},
   "source": [
    "**서술1** -- 약간 말장난인데? "
   ]
  },
  {
   "cell_type": "markdown",
   "id": "3fe6fee0-c0d5-45af-a518-cdcbb6c109c0",
   "metadata": {},
   "source": [
    "구간 $[0,1]$에서 $g(x)$의 밑면적은 구간 $[0,1]$에서 $f(x)$의 밑면적과 같으므로 1이다. "
   ]
  },
  {
   "cell_type": "markdown",
   "id": "7b6cf24b-bff5-43bd-b40a-57d220463abf",
   "metadata": {},
   "source": [
    "`#`"
   ]
  },
  {
   "cell_type": "markdown",
   "id": "de86eef4-4985-4c19-a4d0-d694558a7d9c",
   "metadata": {},
   "source": [
    "`-` 느낌: $f(x)$와 $g(x)$는 **거의** 같으니까 $\\int_{-\\infty}^{\\infty}f(x)dx = \\int_{-\\infty}^{\\infty}g(x)dx$ 라고 계산해도 된다는 논리.. "
   ]
  },
  {
   "cell_type": "markdown",
   "id": "8a3194bd-235b-4b39-a049-1577611c178d",
   "metadata": {},
   "source": [
    "`-` **거의 같다**의 엄밀한 의미?? "
   ]
  },
  {
   "cell_type": "markdown",
   "id": "cb7e37f5-890c-487b-8d9a-5052c2f6f477",
   "metadata": {},
   "source": [
    ":::{.callout-note}\n",
    "르벡측도 0인 곳을 제외하고는 어떠한 명제가 성립할때 ***거의 모든 곳에서*** 라는 수식어를 붙인다. 영어로는 ***almost everywhere*** 라고 하며 기호로는 ***a.e.*** 라고 표현한다. 좀더 엄밀하게는 ***with repect to $\\lambda$*** 라는 표현을 추가하기도 한다.ㄴ\n",
    ":::"
   ]
  },
  {
   "cell_type": "markdown",
   "id": "5147cb32-a3f5-4743-8535-071ae089019b",
   "metadata": {},
   "source": [
    "`# 예시1` -- 아래와 같은 함수 $f$를 고려하자. \n",
    "\n",
    "$$f(x) = \\begin{cases} 1 & x\\in \\mathbb{Q} \\\\ 0 & x\\in \\mathbb{R}-\\mathbb{Q} \\end{cases}$$\n",
    "\n",
    "이 함수는 ***거의 모든 곳에서*** 0이다. "
   ]
  },
  {
   "cell_type": "markdown",
   "id": "90f20c24-b35f-47e1-801b-b962377a470c",
   "metadata": {},
   "source": [
    "> 기호로는 $f \\overset{a.e.}{=} 0$ 혹은 $f \\overset{a.e.}{=} 0$ ***w.r.t. $\\lambda$*** 와 같이 표현한다. "
   ]
  },
  {
   "cell_type": "markdown",
   "id": "268a3818-4069-4247-9ce9-f81237a5b3ca",
   "metadata": {},
   "source": [
    "`#`"
   ]
  },
  {
   "cell_type": "markdown",
   "id": "d59d7a50-afd1-476d-a7ae-cd0f49d7ae16",
   "metadata": {},
   "source": [
    "`# 예시2` -- 아래와 같은 함수 $f,g$를 고려하자. \n",
    "\n",
    "$$f(x) = \\begin{cases} 1 & x\\in \\mathbb{Q} \\\\ 0 & x\\in \\mathbb{R}-\\mathbb{Q} \\end{cases}$$\n",
    "\n",
    "$$g(x) = \\begin{cases} 2 & x\\in \\mathbb{Q} \\\\ 0 & x \\in \\mathbb{R}-\\mathbb{Q} \\end{cases}$$\n",
    "\n",
    "함수 $f$와 $g$는 ***거의 모든 곳에서*** 같다. "
   ]
  },
  {
   "cell_type": "markdown",
   "id": "f2c6591f-a869-411b-a6d8-ba9af61b4845",
   "metadata": {},
   "source": [
    "> 기호로는 $f\\overset{a.e.}{=} g$ 혹은 $f\\overset{a.e.}{=} g$ ***w.r.t. $\\lambda$*** 와 같이 표현한다. "
   ]
  },
  {
   "cell_type": "markdown",
   "id": "809f51cb-1e2f-4b1d-9399-97dc784d4484",
   "metadata": {},
   "source": [
    "`#`"
   ]
  },
  {
   "cell_type": "markdown",
   "id": "40727303-febe-4364-8a2e-f455125b6885",
   "metadata": {},
   "source": [
    "`# 예시3` -- 아래와 같은 함수 $f,g$를 고려하자. \n",
    "\n",
    "$$f(x) = \\begin{cases} 0 & x\\in \\mathbb{Q} \\\\ 1 & x\\in \\mathbb{R}-\\mathbb{Q} \\end{cases}$$\n",
    "\n",
    "함수 $f$는 ***거의 모든 곳에서 양수이다.*** "
   ]
  },
  {
   "cell_type": "markdown",
   "id": "a324ff78-74e8-45ce-b89c-f2f720e8e357",
   "metadata": {},
   "source": [
    "> 기호로는 $f\\overset{a.e.}{>} 0$ 혹은 $f\\overset{a.e.}{>} g$ ***w.r.t. $\\lambda$*** 와 같이 표현한다. "
   ]
  },
  {
   "cell_type": "markdown",
   "id": "6b67121f-464a-418f-8e72-ffac61e2a10a",
   "metadata": {},
   "source": [
    "`#`"
   ]
  },
  {
   "cell_type": "markdown",
   "id": "d180a9c4-450b-49a8-8fb3-94a71a39efec",
   "metadata": {},
   "source": [
    "`# 예시4` -- 아래와 같은 함수 $f,g$를 고려하자. \n",
    "\n",
    "$$f(x) = \\begin{cases} 0 & x\\in \\mathbb{Q} \\\\ 1 & x\\in \\mathbb{R}-\\mathbb{Q} \\end{cases}$$\n",
    "\n",
    "$$g(x) = \\begin{cases} 0 & x\\in \\mathbb{Q} \\\\ 2 & x \\in \\mathbb{R}-\\mathbb{Q} \\end{cases}$$\n",
    "\n",
    "함수 $f$는 ***거의 모든 곳에서*** $g$보다 작다. "
   ]
  },
  {
   "cell_type": "markdown",
   "id": "3adf15e3-61a0-4aba-9bf1-396574867a85",
   "metadata": {},
   "source": [
    "> 기호로는 $f\\overset{a.e.}{<} g$ 혹은 $f\\overset{a.e.}{<} g$ ***w.r.t. $\\lambda$*** 와 같이 표현한다. "
   ]
  },
  {
   "cell_type": "markdown",
   "id": "49fb068e-e061-483a-9987-f2c2a98c06a0",
   "metadata": {},
   "source": [
    "`#`"
   ]
  },
  {
   "cell_type": "markdown",
   "id": "d250de2d-2646-4f79-b360-9a08ee9cf1cf",
   "metadata": {},
   "source": [
    "`# 예시5` -- 만약에 아래와 같은 함수 $f,g$가 있다면 \n",
    "\n",
    "$$f(x) = \\begin{cases} 1 & x\\in \\mathbb{Q} \\\\ 0 & x\\in \\mathbb{R}-\\mathbb{Q} \\end{cases}$$\n",
    "\n",
    "$$g(x) = \\begin{cases} 1 & x\\in \\mathbb{Q} \\\\ 0 & x \\in \\mathbb{R}-\\mathbb{Q} \\end{cases}$$\n",
    "\n",
    "함수 $f$와 $g$는 ***모든 곳에서*** 같다라고 할 수 있겠다. (보통 그냥 같다라고 하죠..)"
   ]
  },
  {
   "cell_type": "markdown",
   "id": "c32aa1bd-0ef0-414e-947c-37754632f742",
   "metadata": {},
   "source": [
    "`#`"
   ]
  }
 ],
 "metadata": {
  "kernelspec": {
   "display_name": "Python 3 (ipykernel)",
   "language": "python",
   "name": "python3"
  },
  "language_info": {
   "codemirror_mode": {
    "name": "ipython",
    "version": 3
   },
   "file_extension": ".py",
   "mimetype": "text/x-python",
   "name": "python",
   "nbconvert_exporter": "python",
   "pygments_lexer": "ipython3",
   "version": "3.12.2"
  }
 },
 "nbformat": 4,
 "nbformat_minor": 5
}
