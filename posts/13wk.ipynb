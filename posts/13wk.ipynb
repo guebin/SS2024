{
 "cells": [
  {
   "cell_type": "raw",
   "id": "d9641504-c194-4f07-bb0b-db2ddaa3954a",
   "metadata": {
    "vscode": {
     "languageId": "raw"
    }
   },
   "source": [
    "---\n",
    "title: \"13wk: 일반화된 밀도함수, 르벡분해정리 // 2023 고급확률론강의 업로드\"\n",
    "author: \"최규빈\"\n",
    "date: \"11/28/2024\"\n",
    "draft: false\n",
    "---"
   ]
  },
  {
   "cell_type": "markdown",
   "id": "6606f399-34e6-411d-813b-404cc5716048",
   "metadata": {},
   "source": [
    "# 1. 강의영상 "
   ]
  },
  {
   "cell_type": "markdown",
   "id": "8c48da0f-80a2-4f07-8b9c-d0b59056d2dd",
   "metadata": {},
   "source": [
    "{{< video https://youtube.com/playlist?list=PLQqh36zP38-wThZpnzJAP_aOtJzBl1Ij_ >}}m"
   ]
  },
  {
   "cell_type": "markdown",
   "id": "14a6a79a-b94a-4c2c-89a3-18bd4c9b928e",
   "metadata": {},
   "source": [
    "# 2. 일반화된 밀도함수"
   ]
  },
  {
   "cell_type": "markdown",
   "id": "1865c0c8-74de-4a52-8224-44fc42d078d5",
   "metadata": {},
   "source": [
    "`-` 라돈니코딤 정리는 꼭 르벡메져일 경우에만 성립하는 것이 아니다. "
   ]
  },
  {
   "cell_type": "markdown",
   "id": "048f98d2-26a4-4555-a700-8394f8fcd6e5",
   "metadata": {},
   "source": [
    "## A. 이산확률변수"
   ]
  },
  {
   "cell_type": "markdown",
   "id": "80ff8e09-752a-49f1-8d2a-7625a21afcaf",
   "metadata": {},
   "source": [
    "`-` 예제1 -- 베르누이 (with 카운팅메져)\n",
    "\n",
    "아래와 같은 함수를 고려하자. \n",
    "\n",
    "$$F_X(x) = \\begin{cases} \n",
    "0 & x<0 \\\\ \n",
    "\\frac{1}{2} & 0 \\leq  x <1 \\\\\n",
    "1 & x \\geq 1\n",
    "\\end{cases}$$"
   ]
  },
  {
   "cell_type": "markdown",
   "id": "01e4921c-2aaf-4866-864a-80430a391cf8",
   "metadata": {},
   "source": [
    "이제 $S=\\{0,1\\}$, ${\\cal S}=\\{\\emptyset, \\{0\\},\\{1\\},\\{1,2\\}\\}$로 구성된 measurable space $(S,{\\cal S})$를 생각하자. 함수 $\\tilde{\\mu}_X: {\\cal S} \\to [0,1]$를 아래와 같이 정의하면 \n",
    "\n",
    "- $\\tilde{\\mu}_X(\\emptyset)= 0$ \n",
    "- $\\tilde{\\mu}_X(\\{0\\})= \\frac{1}{2}$ \n",
    "- $\\tilde{\\mu}_X(\\{1\\})= \\frac{1}{2}$ \n",
    "- $\\tilde{\\mu}_X(\\{0,1\\})= 1$ \n",
    "\n",
    "함수 $\\tilde{\\mu}_X$는 $(S,{\\cal S})$에서의 메져가 되며, 이것은 $F_X$에 대응하는 분포 ${\\mu}_X$와 같은 역할을 한다. 이제 measurable space $(S,{\\cal S})$에 대하여 아래와 같은 함수 $\\#: {\\cal S} \\to \\mathbb{R}$을 고려하자. \n",
    "\n",
    "- $\\#(\\emptyset)=0$ \n",
    "- $\\#(\\{0\\})= 1$ \n",
    "- $\\#(\\{1\\})= 1$ \n",
    "- $\\#(\\{0,1\\})= 2$ \n"
   ]
  },
  {
   "cell_type": "markdown",
   "id": "7972d2dc-43c1-420e-ae0a-7ee007c4641e",
   "metadata": {},
   "source": [
    "이때 함수 $\\#$은 $(S,{\\cal S})$ 에서의 메져가 되며, 이러한 메져를 특별히 ***카운팅메져(counting measure)*** 라고 한다. 이제 아래의 함수 $f_X:S \\to \\mathbb{R}$를 고려하자. \n",
    "\n",
    "- $f_X(0)=\\frac{1}{2}$\n",
    "- $f_X(1)=\\frac{1}{2}$\n",
    "\n",
    "함수 $f_X$는 카운팅메져 $\\#$에 대한 $\\tilde{\\mu}_X$의 라돈니코딤 도함수임을 보여라. "
   ]
  },
  {
   "cell_type": "markdown",
   "id": "1d8b7edf-570c-4d00-92c9-ecbfe8448c41",
   "metadata": {},
   "source": [
    "(해설) "
   ]
  },
  {
   "cell_type": "markdown",
   "id": "026dcb20-18ef-4245-8f01-f78710929831",
   "metadata": {},
   "source": [
    "1. $\\tilde{\\mu}_X$, $\\#$는 모두 $(S,{\\cal S})$ 에서의 $\\sigma$-finite 메져이다. \n",
    "2. $\\tilde{\\mu}_X << \\#$이 성립한다. 따라서 적당한 ${\\cal S} - {\\cal R}^+$ measurable function이 존재하여 라돈니코딤 도함수의 조건을 만족함을 알 수 있다. \n",
    "3. 우리가 생각하는 후보는 $f_X$인데 이것이 만약에 (1) ${\\cal S} - {\\cal R}^+$ 가측함수이고 (2) 라돈니코딤 도함수의 조건^[$\\forall B \\in {\\cal S}: \\mu(B)=\\int_B f_X d\\#$]을 만족한다면 $f_X$는 카운팅메져 $\\#$에 대한 $\\mu$의 거의 유일한 (***w.r.t. $\\#$***) 밀도함수라고 주장할 수 있다.\n",
    "4. $f_X$는 ${\\cal S} \\to {\\cal R}^+$ 가측함수이다. (simple function)\n",
    "5. $\\forall B \\in {\\cal S}: \\mu(B)=\\int_B f_X d\\#=\\sum_{x \\in B} f_X(x)$ 를 만족한다. "
   ]
  },
  {
   "cell_type": "markdown",
   "id": "c1b48c68-806a-4610-868b-d49fcd91bebc",
   "metadata": {},
   "source": [
    "`-` 예제1에서 제안한 $f_X$의 경우 어떠한 의미에서는 **밀도함수**라고 해석할 수 있다. \n",
    "\n",
    "1. 학부수준의 이해: 이산형확률변수는 확률질량함수를 가지며, 연속형확률변수는 확률밀도함수를 가진다. \n",
    "2. 대학원수준의 이해: 이산형확률변수의 밀도함수는 $\\#$에 대한 라돈니코딤 도함수로 해석할 수 있으며, 연속형확률변수의 밀도함수는 $\\lambda$에 대한 라돈니코딤 도함수로 해석할 수 있다. "
   ]
  },
  {
   "cell_type": "markdown",
   "id": "b5506a85-3c4e-48ed-bc75-47619245433b",
   "metadata": {},
   "source": [
    "`-` 찝찝한점1: 예제1에서는 왜 $\\mu_X$ 대신에 $\\tilde{\\mu}_X$를 사용했을까? "
   ]
  },
  {
   "cell_type": "markdown",
   "id": "b946983e-8f2e-447c-ab66-8fae9951a09f",
   "metadata": {},
   "source": [
    "사실 예제1에서의 $\\tilde{\\mu}_X$는 $F_X$에 대응하는 distribution $\\mu_X$와 유사하지만 미세한 차이가 있음"
   ]
  },
  {
   "cell_type": "markdown",
   "id": "ccd7473c-e68b-4a06-a6d7-35aacfb8d69f",
   "metadata": {},
   "source": [
    "**$\\mu_X:{\\cal R} \\to [0,1]$**\n",
    "\n",
    "- $\\mu_X(\\emptyset)=0$\n",
    "- $\\mu_X(\\{0\\})=\\frac{1}{2}$ \n",
    "- $\\mu_X(\\{1\\})=\\frac{1}{2}$ \n",
    "- $\\mu_X(\\{0,1\\})=1$ \n",
    "- $\\mu_X(B)=0$ , $B \\in {\\cal R} - \\{0,1\\} - \\{0\\} - \\{1\\}$"
   ]
  },
  {
   "cell_type": "markdown",
   "id": "ca7404b3-f35d-4e0e-bfe9-87c76c65d11e",
   "metadata": {},
   "source": [
    "**$\\tilde{\\mu}_X:{\\cal S} \\to [0,1]$**\n",
    "\n",
    "- $\\tilde{\\mu}_X(\\emptyset)= 0$ \n",
    "- $\\tilde{\\mu}_X(\\{0\\})= \\frac{1}{2}$ \n",
    "- $\\tilde{\\mu}_X(\\{1\\})= \\frac{1}{2}$ \n",
    "- $\\tilde{\\mu}_X(\\{0,1\\})= 1$ \n"
   ]
  },
  {
   "cell_type": "markdown",
   "id": "b8c6d912-088c-4364-b3fe-e090509a7688",
   "metadata": {},
   "source": [
    "`-` 찝찝한점2: 예제1에서는 왜 $(\\mathbb{R},{\\cal R})$를 고려하지 않고 $(S,{\\cal S})$를 고려하였을까? "
   ]
  },
  {
   "cell_type": "markdown",
   "id": "3db7c14b-9e14-4ff3-b854-a610da234b5b",
   "metadata": {},
   "source": [
    "> 이건 사실 $\\mu_X$대신 $\\tilde{\\mu}_X$를 쓴 이유와 연관이 있다. $\\mu_X$는 ${\\cal R}$에서 정의되고 $\\tilde{\\mu}_X$는 ${\\cal S}$에서 정의되는데 예제에서는 $\\mu_X$대신 $\\tilde{\\mu}_X$를 썻기 때문에 자연스럽게 $(\\mathbb{R}, {\\cal R})$ 대신에 $(S,{\\cal S})$를 고려하게 되는 것 "
   ]
  },
  {
   "cell_type": "markdown",
   "id": "4c0bce34-f06f-4299-908e-2919f59bb4c0",
   "metadata": {},
   "source": [
    "`-` 찝찝한점의 해결: \n",
    "\n",
    "1. 라돈니코딤 도함수의 존재에 필요한 조건 중 하나는 라돈니코딤 도함수를 정의하는 두개의 메져^[분자, 분모에 들어가는 두개의 메져] $\\sigma$-finite measure이어야 한다는 것임.\n",
    "2. $\\mu_X,\\lambda$ on $(\\mathbb{R},{\\cal R})$을 고려 $\\Rightarrow$ $\\mu_X,\\lambda$ 은 모두 $(\\mathbb{R},{\\cal R})$에서 $\\sigma$-finite 조건을 만족함. \n",
    "3. $\\tilde{\\mu}_X,\\#$ on $(S,{\\cal S})$을 고려 $\\Rightarrow$ $\\tilde{\\mu}_X,\\#$ 은 모두 $(S,{\\cal S})$에서 $\\sigma$-finite 조건을 만족함. \n",
    "4. $\\mu_X, \\#$ on $(\\mathbb{R},{\\cal R})$을 고려 $\\Rightarrow$ $\\mu_X$ 는 $(\\mathbb{R},{\\cal R})$에서 $\\sigma$-finite 하지만 $\\#$는 $(\\mathbb{R},{\\cal R})$에서 $\\sigma$-finite 하지 않음."
   ]
  },
  {
   "cell_type": "markdown",
   "id": "42009661-2e3d-4288-97aa-b933d2443f15",
   "metadata": {},
   "source": [
    "따라서, $(\\mathbb{R},{\\cal R})$에서의 두 메져 $\\mu_X,\\lambda$를 고려하거나, $(S,{\\cal S})$에서의 두 메져 $\\tilde{\\mu}_X,\\#$ 를 고려해야 라돈니코딤 도함수를 따져볼 수 있다. "
   ]
  },
  {
   "cell_type": "markdown",
   "id": "e2bc0a9e-2a30-4036-99f7-5be1d08bc227",
   "metadata": {},
   "source": [
    "모티브: 그런데 $(S,{\\cal S})$ 말고 그냥 $(\\mathbb{R},{\\cal R})$에서 적당히 $\\mu_X, \\tilde{\\#}$를 고려할 수는 없을까? "
   ]
  },
  {
   "cell_type": "markdown",
   "id": "221657c2-c9eb-4b37-aaca-25ae290b7baa",
   "metadata": {},
   "source": [
    "`-` 예제2 -- 베르누이 (with 디렉메져)\n",
    "\n",
    "아래와 같은 함수를 고려하자. \n",
    "\n",
    "$$F_X(x) = \\begin{cases} \n",
    "0 & x<0 \\\\ \n",
    "\\frac{1}{2} & 0 \\leq  x <1 \\\\\n",
    "1 & x \\geq 1\n",
    "\\end{cases}$$"
   ]
  },
  {
   "cell_type": "markdown",
   "id": "42b5d0db-b43d-469a-8c13-7ec7093bd48a",
   "metadata": {},
   "source": [
    "$F_X$에 대응하는 분포 $\\mu_X:{\\cal R} \\to [0,1]$를 고려하자. \n",
    "\n",
    "- $\\mu_X(\\emptyset)=0$\n",
    "- $\\mu_X(\\{0\\})=\\frac{1}{2}$ \n",
    "- $\\mu_X(\\{1\\})=\\frac{1}{2}$ \n",
    "- $\\mu_X(\\{0,1\\})=1$ \n",
    "- $\\mu_X(B)=0$ , $B \\in {\\cal R} - \\{0,1\\} - \\{0\\} - \\{1\\}$\n",
    "\n",
    "그리고 아래와 같은 메져를 고려하라. $\\#_X: {\\cal R} \\to \\mathbb{N}$ 을 고려하자. \n",
    "\n",
    "- $\\#_X(\\emptyset)=0$ \n",
    "- $\\#_X(\\{0\\})=1$ \n",
    "- $\\#_X(\\{1\\})=1$ \n",
    "- $\\#_X(\\{0,1\\})=2$ \n",
    "- $\\#_X(B)=0$, $B \\in {\\cal R}-\\{0,1\\}-\\{0\\}-\\{1\\}$ \n"
   ]
  },
  {
   "cell_type": "markdown",
   "id": "d31c16f4-9027-4e7a-9062-41b08779b06f",
   "metadata": {},
   "source": [
    "이때 함수 $\\#_X:{\\cal R} \\to \\mathbb{N}$ 는 $(\\mathbb{R},{\\cal R})$ 에서의 $\\sigma$-finite 메져가 된다. 또한 $\\mu_X << \\#_X$ 가 성립한다.^[함수 $\\#_X$은 확률변수 $X$의 support 에서만 값이 정의되는 카운팅메져라고 생각할 수 있음] 이제 아래의 함수 $f_X:\\mathbb{R} \\to \\mathbb{R}^+$를 고려하자. \n",
    "\n",
    "$$f_X(x)=\\begin{cases}\n",
    "\\frac{1}{2} & x=0,1 \\\\\n",
    "0 & o.w.\n",
    "\\end{cases}$$\n",
    "\n",
    "함수 $f_X$는 ${\\cal R}-{\\cal R}^+$ 가측함수이고 (simple function 이므로)\n",
    "\n",
    "$$\\forall B \\in {\\cal R}: \\mu_X(B)= \\int fd\\#_X$$\n",
    "\n",
    "를 만족한다. 따라서 \n",
    "\n",
    "$$f_X=\\frac{d\\mu_X}{d\\#_X}$$\n",
    "\n",
    "이다. 즉 $f_X$는 $\\#_X$에 대한 $\\mu_X$의 라돈니코딤 도함수로 해석할 수 있다. "
   ]
  },
  {
   "cell_type": "markdown",
   "id": "81e55583-efb9-4bec-8a3d-3b967c23e6b3",
   "metadata": {},
   "source": [
    "`-` **정의** (디렉메져): 가측공간 $(\\mathbb{R}, {\\cal R})$에서 디렉메져 $\\delta_x$는  \n",
    "\n",
    "$$\\forall B \\in {\\cal R}: ~\\delta_{x}(B)=\\mathbb{1}_B(x)=\\mathbb{1}(x \\in B)$$\n",
    "\n",
    "로 정의되는 메져이다. "
   ]
  },
  {
   "cell_type": "markdown",
   "id": "873fab20-c901-495a-a9c4-599a2e7d0638",
   "metadata": {},
   "source": [
    "`-` 디랙메져의 표현법에 따르면 예제2의 경우 $\\#_X := \\delta_0 + \\delta_1$ 로 표현할 수 있다. 여기에서 $\\delta_x$는 $(\\mathbb{R},{\\cal R})$에서의 디랙메져이다. "
   ]
  },
  {
   "cell_type": "markdown",
   "id": "0aa031d3-63f1-4af2-b086-6cd009b3c564",
   "metadata": {},
   "source": [
    "`-` 꼭 베르누이와 같은 상황이 아니라도 임의의 이산확률변수 $X$에 대한 분포 $\\mu_X$를 dominating하는 적절한 $\\sigma$-finite한 메져 $\\#_X$를 $(\\mathbb{R}, {\\cal R})$에서 정의할 수 있다. 예를들면 주사위예제의 경우 \n",
    "\n",
    "$$\\#_X = \\delta_1+\\delta_2+\\delta_3+\\delta_4+\\delta_5+\\delta_6$$\n",
    "\n",
    "와 같은 방식으로 정의할 수 있다. 즉 임의의 이산확률변수 $X$에 대하여 아래를 만족하는 $\\#_X$를 항상 잡을 수 있다. \n",
    "\n",
    "1. $\\#_X$ is $\\sigma$-finite\n",
    "2. $\\mu_X << \\#_X$ \n",
    "\n",
    "따라서 $\\frac{d\\mu_X}{d\\#_X}$는 언제나 잘 정의되며 이는 우리가 알고 있는 pmf의 정의와 일치한다. "
   ]
  },
  {
   "cell_type": "markdown",
   "id": "1fccb6b5-f2c5-455c-b40c-52c2794a7fce",
   "metadata": {},
   "source": [
    "`-` 결국 이산형 확률변수의 밀도함수를 설명하는 방법은 크게 3가지가 있는 셈이다. "
   ]
  },
  {
   "cell_type": "markdown",
   "id": "3a35097b-49a9-4ec8-8cef-ac9d9a1686e0",
   "metadata": {},
   "source": [
    "1. 이산형확률변수는 밀도함수가 없다. \n",
    "2. 이산형확률변수의 밀도함수는 $\\frac{d}{d\\#}\\tilde{\\mu}_X$ 으로 정의할 수 있다. \n",
    "2. 이산형확률변수의 밀도함수는 $\\frac{d}{d\\#_X}\\mu_X$ 으로 정의할 수 있다. "
   ]
  },
  {
   "cell_type": "markdown",
   "id": "2cc82dba-9d3d-4c58-82e5-986fe1608b44",
   "metadata": {},
   "source": [
    "설명1,2,3은 각각의 장단점이 있다. "
   ]
  },
  {
   "cell_type": "markdown",
   "id": "bf006237-7ed2-412b-a1ef-a81db42a8743",
   "metadata": {},
   "source": [
    "**설명1**: 라돈니코딤 도함수에 대한 이해가 없어도 된다는 점에서 장점이 있다. (그래서 학부수준에서는 가장 일반적으로 사용하는 설명) \n",
    "\n",
    "**설명2**: 연속형은 르벡메져에 대한 라돈니코딤 도함수, 이산형은 카운팅메져에 대한 라돈니코딤 도함수로 구분하여 설명할 수 있다는 점에서는 클리어하지만 분포함수 $\\mu_X$를 활용하지 못한다는 점과 그에 따라서 이산형 확률변수의 support $S$에 맞추어 가측공간 $(S,{\\cal S})$를 재설정해야한다는 불편함이 있다. 이러한 방식으로 유도되는 베르누이 분포의 pmf는 아래와 같이 정의된다. \n",
    "\n",
    "- $f_X(x)=p_X(x)=\\begin{cases} 1-p & x=0 \\\\ p & x=1 \\end{cases}$\n",
    "\n",
    "**설명3**: 연속형은 르벡메져에 대한 라돈니코딤 도함수, 이산형은 카운팅메져에 대한 라돈니코딤 도함수로 구분하여 설명할 수는 없으며 확률변수 $X$에 따라서 $\\#_X$를 그때 그때 정의해야하는 지저분함이 있다. 하지만 분포함수 $\\mu_X$를 활용할 수 있고 가측공간 $(\\mathbb{R},{\\cal R})$를 그대로 활용한다는 장점이 있다. 이러한 방식으로 유도되는 베르누이분포의 pmf는 아래와 같이 정의된다. \n",
    "\n",
    "- $f_X(x)=p_X(x)=\\begin{cases} 1-p & x=0 \\\\ p & x=1 \\\\ 0 & o.w.  \\end{cases}$"
   ]
  },
  {
   "cell_type": "markdown",
   "id": "8958a634-a1f2-42a9-be00-cbe96d978124",
   "metadata": {},
   "source": [
    "> 여기에서 $p_X(x)$는 학부때 배우는 pmf"
   ]
  },
  {
   "cell_type": "markdown",
   "id": "36d835b2-9798-428b-b81d-56b292bcae9b",
   "metadata": {},
   "source": [
    "## B. 혼합형확률변수 "
   ]
  },
  {
   "cell_type": "markdown",
   "id": "3dbe0e8a-5cd0-4d6a-9c2e-9b4a7eaaba93",
   "metadata": {},
   "source": [
    "`-` 예제1: 아래와 같은 분포함수 $F_X$를 고려하자."
   ]
  },
  {
   "cell_type": "markdown",
   "id": "aae6be80-8939-42a9-b826-69ea2e4df736",
   "metadata": {},
   "source": [
    "$$F_X(x) = \\begin{cases} 0 & x< 0 \\\\ \\frac{1}{2} & 0 \\leq x < \\frac{1}{2} \\\\ x & \\frac{1}{2} \\leq x \\leq 1 \\\\ 1 & x>1  \\end{cases}$$"
   ]
  },
  {
   "cell_type": "markdown",
   "id": "7c3f403d-1a4a-42fe-8475-d112429c2c1a",
   "metadata": {},
   "source": [
    "이 분포함수는 동전을 던져 앞면이 나오면 $X=0$으로 결정하고 뒷면이 나오면 균등분포 $[0.5,1]$에서 확률변수 $X$를 생성하는 실험을 상상하면 쉽게 이해할 수 있다. 아래와 같은 함수 \n",
    "\n",
    "$$f_X(x) = \\begin{cases} \\frac{1}{2} & x=0 \\\\ 1 & \\frac{1}{2} \\leq x \\leq 1 \\\\ 0 & o.w. \\end{cases}$$\n",
    "\n",
    "가 $F_X$의 밀도함수가 될 수 있음을 설명하라. "
   ]
  },
  {
   "cell_type": "markdown",
   "id": "eb904f14-58cd-4d8c-9f24-d04f291f2525",
   "metadata": {},
   "source": [
    "(해설) "
   ]
  },
  {
   "cell_type": "markdown",
   "id": "07e5be8d-e676-40c4-a417-37997ffbfcc1",
   "metadata": {},
   "source": [
    "1. $\\nu:= \\lambda + \\delta_0$ 이라고 정의하자. \n",
    "2. $\\nu$는 $\\sigma$-finite 하며 $\\mu_X << \\nu$ 를 만족한다. \n",
    "3. 함수 $f_X(x)$는 가측함수이며 (simple function) $\\forall B \\in {\\cal R}$에 대하여 아래를 만족한다. \n",
    "\n",
    "$$\\mu_X(B)=\\int_B f_X d\\nu =\\int_B f_X d(\\lambda+\\delta_0)=\\int_B f_X d\\lambda + \\int_B f_X d\\delta_0$$ "
   ]
  },
  {
   "cell_type": "markdown",
   "id": "6a1fffc0-5967-43ad-b565-dc111511ae7f",
   "metadata": {},
   "source": [
    "> $B = (-\\infty,x]$와 같은 꼴에서만 성립함을 보이고 나머지는 $\\pi$-$\\lambda$ thm 쓰면 되죠?"
   ]
  },
  {
   "cell_type": "markdown",
   "id": "84f80d18-b544-436a-9d56-7ece800695ca",
   "metadata": {},
   "source": [
    "::: {.callout-note}\n",
    "## 위의 3에 대한 추가설명. \n",
    "\n",
    "결국 임의의 $B=(-\\infty,x]$와 같은 꼴에서 $\\mu_X(B) = \\int_Bf_Xd\\lambda + \\int_B f_Xd\\delta_0$ 임을 보이면 된다. \n",
    "\n",
    "편의상 아래와 같이 정의하자. \n",
    "\n",
    "- $LHS = \\mu_X(B)$\n",
    "- $RHS_1 = \\int_B f_Xd\\lambda$\n",
    "- $RHS_2 = \\int_B f_Xd\\delta_0$\n",
    "\n",
    "**case1**: $x < 0$ \n",
    "\n",
    "- $LHS = F_X(x)=0$\n",
    "- $RHS_1 = 0$\n",
    "- $RHS_2 = 0$\n",
    "\n",
    "**case2**: $x = 0$ \n",
    "\n",
    "- $LHS = F_X(x)=\\frac{1}{2}$\n",
    "- $RHS_1 = \\int_{-\\infty}^0f_X(x)dx = 0$\n",
    "- $RHS_2 = \\int_{\\{0\\}}f_Xd\\delta_0 = f_X(0)\\delta_0(\\{0\\}) = \\frac{1}{2}$\n",
    "\n",
    "**case3**: $0<x< \\frac{1}{2}$ \n",
    "\n",
    "- $LHS = F_X(x)=\\frac{1}{2}$\n",
    "- $RHS_1 = \\int_{-\\infty}^{0}f_X(x)dx+ \\int_{0}^{x}f_X(x)dx= 0$\n",
    "- $RHS_2 = \\int_{\\{0\\}}f_Xd\\delta_0 = f_X(0)\\delta_0(\\{0\\}) = \\frac{1}{2}$\n",
    "\n",
    "**case4**: $\\frac{1}{2}<x< 1$ \n",
    "\n",
    "- $LHS = F_X(x)=x$\n",
    "- $RHS_1 =\\int_{-\\infty}^{1/2}f_X(x)dx+ \\int_{1/2}^xf_X(x)dx = \\int_{1/2}^xf_X(x)dx=\\int_{1/2}^xdx= x-\\frac{1}{2}$\n",
    "- $RHS_2 = \\int_{\\{0\\}}f_Xd\\delta_0 = f_X(0)\\delta_0(\\{0\\}) = \\frac{1}{2}$\n",
    "\n",
    "**case5**: $x>1$ \n",
    "\n",
    "- $LHS = F_X(x)=1$\n",
    "- $RHS_1 =\\int_{-\\infty}^{1/2}f_X(x)dx+ \\int_{1/2}^{1}f_X(x)dx = \\int_{1/2}^1f_X(x)dx=\\int_{1/2}^1dx= 1-\\frac{1}{2}$\n",
    "- $RHS_2 = \\int_{\\{0\\}}f_Xd\\delta_0 = f_X(0)\\delta_0(\\{0\\}) = \\frac{1}{2}$\n",
    "\n",
    ":::\n"
   ]
  },
  {
   "cell_type": "markdown",
   "id": "e52eaa23-1b0c-45b6-aa47-1f165527929e",
   "metadata": {},
   "source": [
    "# 3. 르벡분해정리 "
   ]
  },
  {
   "cell_type": "markdown",
   "id": "43fdc69f-5e9e-409f-90a6-ec94b7a48146",
   "metadata": {},
   "source": [
    "`-` **Thm**: 분포함수의 정의를 만족하는 임의의 $F$는 항상 아래와 같이 분해가능하다.\n",
    "\n",
    "$$F = F_{ac}+F_{pp}+F_{sing}$$"
   ]
  },
  {
   "cell_type": "markdown",
   "id": "dc7c15e8-fd85-4206-9574-1c96978ceca4",
   "metadata": {},
   "source": [
    "여기에서 $F_{ac}$는 르벡메져에 대하여 절대연속이고 $F_{pp}$는 카운팅메져에 대하여 절대연속이다. 따라서 $F_{ac}$와 $F_{pp}$는 각각 르벡메져와 카운팅메져에 대응하는 밀도함수가 존재한다. $F_{sing}$는 칸토어분포와 같이 밀도함수가 존재하지 않는 경우이다. "
   ]
  },
  {
   "cell_type": "markdown",
   "id": "4bac02f9-4f19-4c0e-bb0d-931d48512e63",
   "metadata": {},
   "source": [
    "> 여기에서 $ac$는 absolutely continuous 의 약자이고, $pp$ pure point 의 약자이며 $sing$은 singular continuous 약자이다."
   ]
  },
  {
   "cell_type": "markdown",
   "id": "1d21bf4a-a5f0-4f91-8e0d-0d00ab88cbf6",
   "metadata": {},
   "source": [
    "`-` 의미: $F_{ac}$는 우리가 일반적으로 생각하는 singular하지 않은 연속함수를 상상하면 된다.^[칸토어처럼 이상한 연속함수 말고 상식적인 수준의 연속함수라는 의미] $F_{pp}$는 완벽한 불연속이며 오직 jump를 통해서만 증가하는 함수라 생각하면 된다. 즉 우리가 익숙한 이산형확률변수의 cdf를 상상하면 된다. "
   ]
  },
  {
   "cell_type": "markdown",
   "id": "72f0aacf-0f38-444a-b3a0-01570aba5c1a",
   "metadata": {},
   "source": [
    "`-` 이론: $F_{pp}$는 기껏해야 countable한 불연속점을 가진다. (jump 하는 point는 countable이라는 의미, 결국 이산형확률변수의 support는 countable이라는 의미)"
   ]
  },
  {
   "cell_type": "markdown",
   "id": "9e384936-0bb9-4859-a5e5-62404189d5ec",
   "metadata": {},
   "source": [
    "`-` 이론: 분포함수 정의를 만족하는 임의의 $F$가 아래와 같다면 \n",
    "\n",
    "$$F=F_{ac}$$\n",
    "\n",
    "$F$에 대응하는 연속형 확률변수 $X$가 존재하고 그에 대응하는 pdf가 존재한다. "
   ]
  },
  {
   "cell_type": "markdown",
   "id": "21c7e179-7b05-4c5a-b2ce-b22ca43a0cdb",
   "metadata": {},
   "source": [
    "`-` 이론: 분포함수 정의를 만족하는 임의의 $F$가 아래와 같다면 \n",
    "\n",
    "$$F=F_{pp}$$\n",
    "\n",
    "$F$에 대응하는 이산형 확률변수 $X$가 존재하고 그에 대응하는 (일반화된) pdf 혹은 pmf가 존재한다. "
   ]
  },
  {
   "cell_type": "markdown",
   "id": "c379fc1b-5c0e-412f-8cd1-acba40b96d89",
   "metadata": {},
   "source": [
    "`-` 이론: 분포함수 정의를 만족하는 임의의 $F$가 아래와 같다면 \n",
    "\n",
    "$$F=F_{ac}+F_{pp}$$\n",
    "\n",
    "$F$에 대응하는 혼합형 확률변수 $X$가 존재하고 그에 대응하는 (일반화된) pdf가 존재한다. "
   ]
  },
  {
   "cell_type": "markdown",
   "id": "bc5efebc-3112-4340-b16d-b0458cfafb36",
   "metadata": {
    "tags": []
   },
   "source": [
    "# 4. 기대값"
   ]
  },
  {
   "cell_type": "markdown",
   "id": "28a462b5-9c66-4573-88a8-b74f4c03777f",
   "metadata": {},
   "source": [
    "`-` 예제1: $(\\Omega,{\\cal F},P)$를 확률공간이라고 하고 $\\Omega=\\{H,T\\}$, ${\\cal F}=2^\\Omega$, $P(H)=P(T)=\\frac{1}{2}$라고 하자.^[이렇게 정의해도 되는 이유는 카라테오도리 확장정리덕분] 확률변수 $X(H)=0$, $X(T)=1$를 정의하자. 이 확률변수의 기대값 $\\mathbb{E}(X)$를 계산하여 보자. "
   ]
  },
  {
   "cell_type": "markdown",
   "id": "34dc0c7c-6cc5-4440-b2e1-1042921b5801",
   "metadata": {},
   "source": [
    "|$X$|$X=0$|$X=1$|\n",
    "|:-:|:-:|:-:|\n",
    "|$P(X=x)$|$\\frac{1}{2}$|$\\frac{1}{2}$|"
   ]
  },
  {
   "cell_type": "markdown",
   "id": "9f04dd0f-7d65-4865-ab60-342b958672b9",
   "metadata": {},
   "source": [
    "(풀이) "
   ]
  },
  {
   "cell_type": "markdown",
   "id": "8d2dddf3-1e4c-410a-be03-7898871b4209",
   "metadata": {},
   "source": [
    "아래와 같이 계산할 수 있다. (고등학교 수준)"
   ]
  },
  {
   "cell_type": "markdown",
   "id": "6adb7a5a-1bd4-4663-bb1e-9e726191eadd",
   "metadata": {},
   "source": [
    "$$\\mathbb{E}(X)= 0 \\times \\frac{1}{2} + 1\\times \\frac{1}{2}$$"
   ]
  },
  {
   "cell_type": "markdown",
   "id": "94dd3811-7f91-4ee4-a37f-75e6927b336c",
   "metadata": {},
   "source": [
    "이를 다른표현으로 써보면 "
   ]
  },
  {
   "cell_type": "markdown",
   "id": "a33431ae-934e-46c4-a045-294feeaae64e",
   "metadata": {},
   "source": [
    "1. $\\mathbb{E}(X)= 0 \\times (P\\circ X^{-1})(\\{0\\}) + 1\\times (P\\circ X^{-1})(\\{1\\})$\n",
    "2. $\\mathbb{E}(X)= 0 \\times \\mu_X(\\{0\\}) + 1\\times \\mu_X(\\{1\\})$\n",
    "3. $\\mathbb{E}(X)= \\sum_{x=0}^{1} x \\times \\mu_X(\\{x\\})$\n",
    "5. $\\mathbb{E}(X)= \\int_{\\mathbb{R}} x d\\mu_X:=\\int_{\\mathbb{R}}xdF_X$\n",
    "6. $\\mathbb{E}(X)= \\int_{\\mathbb{R}} x \\frac{d\\mu_X}{d \\#_X}d\\#_X$\n",
    "7. $\\mathbb{E}(X)= \\int_{\\mathbb{R}} x p_X(x)\n",
    "d\\#_X$\n",
    "8. $\\mathbb{E}(X)= \\int_{\\{0,1\\}} x p_X(x)\n",
    "d\\#_X$\n",
    "9. $\\mathbb{E}(X)= \\sum_{x=0}^{1} xp_X(x)$"
   ]
  },
  {
   "cell_type": "markdown",
   "id": "47b5183a-2acd-4f15-858f-fe03714476f0",
   "metadata": {},
   "source": [
    "또는 아래와 같이 볼 수 도 있다. "
   ]
  },
  {
   "cell_type": "markdown",
   "id": "8ee193fb-7fad-4437-9fc7-03e46b31cf8c",
   "metadata": {},
   "source": [
    "1. $\\mathbb{E}(X)= 0 \\times (P\\circ X^{-1})(\\{0\\}) + 1\\times (P\\circ X^{-1})(\\{1\\})$\n",
    "2. $\\mathbb{E}(X)= X(H) \\times P(\\{H\\}) + X(T)\\times P(\\{T\\})$\n",
    "3. $\\mathbb{E}(X)= \\int X dP = \\int_{\\Omega} X dP = \\int_{\\omega \\in \\Omega}X(\\omega)dP(\\omega)$"
   ]
  },
  {
   "cell_type": "markdown",
   "id": "8cee8d21-d25e-4c6c-946d-82cf6d5b7ec9",
   "metadata": {},
   "source": [
    "::: {.callout-note}\n",
    "## 위의 2 $\\to$ 3에 대한 추가설명. \n",
    "\n",
    "아래와 같은 함수 $f(x)$를 다시 고려하자. \n",
    "\n",
    "$$f(x) = \\begin{cases} 1 & \\mathbb{Q} \\cap [0,1] := A_1 \\\\ 0 & \\mathbb{Q}^c \\cap [0,1]: =A_2 \\end{cases}$$\n",
    "\n",
    "이 함수의 밑면적을 계산하기 위해서 \n",
    "\n",
    "- $\\int f d\\lambda = 1 \\times \\lambda(A_1) + 0 \\times \\lambda(A_2)$ \n",
    "\n",
    "와 같은 계산을 정의하였다. 이를 다시 평이한 언어로 표현하면 \n",
    "\n",
    "- 적분값 = $\\big($ $x \\in A_1$에서의 함수값 $f(x)$ $\\big)$ $\\times$ $\\big($ $A_1$을 $\\lambda$로 잰 길이$\\big)$ + $\\big($ $x \\in A_2$에서의 함수값 $f(x)$$\\big)$ $\\times$ $\\big($ $A_2$을 $\\lambda$로 잰 길이$\\big)$\n",
    "\n",
    "와 같은 방식으로 서술할 수 있다. 이제 가측함수 $f$에 대응하는 가측함수 $X$와, 메져 $\\lambda$에 대응하는 메져 $P$를 고려하자. 즉 \n",
    "\n",
    "1. $f: [0,1] \\to \\mathbb{R}$ 인 measurable function such that $f(x) = \\begin{cases} 1 & \\mathbb{Q} \\cap [0,1] := A_1 \\\\ 0 & \\mathbb{Q}^c \\cap [0,1]: =A_2 \\end{cases}$\n",
    "2. $X: \\Omega \\to \\mathbb{R}$ 인 measurable function such that $X(\\omega) = \\begin{cases} 1 & \\omega \\in \\{H\\} := A_1 \\\\ 0 & \\omega \\in \\{T\\}: =A_2 \\end{cases}$\n",
    "3. $\\lambda: {\\cal R} \\cap [0,1] \\to [0,\\infty]$ 는 measure on $([0,1], {\\cal R} \\cap [0,1])$. \n",
    "4. $P : {\\cal F} \\to [0,1]$ 는 measure on $(\\Omega, {\\cal F})$. \n",
    "\n",
    "에서 1대신 2를, 3대신 4를 생각하자는 의미이다. 그렇다면 \n",
    "\n",
    "- 적분값 = $\\big($ $x \\in A_1$에서의 함수값 $f(x)$ $\\big)$ $\\times$ $\\big($ $A_1$을 $\\lambda$로 잰 길이$\\big)$ + $\\big($ $x \\in A_2$에서의 함수값 $f(x)$$\\big)$ $\\times$ $\\big($ $A_2$을 $\\lambda$로 잰 길이$\\big)$\n",
    "\n",
    "은 아래와 같이 대응하여 바꿀 수 있고 \n",
    "\n",
    "- 적분값 = $\\big($ $\\omega \\in A_1$에서의 함수값 $X(\\omega)$ $\\big)$ $\\times$ $\\big($ $A_1$을 $P$로 잰 길이$\\big)$ + $\\big($ $\\omega \\in A_2$에서의 함수값 $X(\\omega)$$\\big)$ $\\times$ $\\big($ $A_2$을 $P$로 잰 길이$\\big)$\n",
    "\n",
    "이것은 다시 \n",
    "\n",
    "- 적분값 = $X(H)\\times P(\\{H\\}) + X(T)\\times P(\\{T\\})$\n",
    "\n",
    "로 쓸 수 있다. 아래의 수식\n",
    "\n",
    "- $\\int f d\\lambda = 1 \\times \\lambda(A_1) + 0 \\times \\lambda(A_2)$ \n",
    "\n",
    "에 대응하여 다시 상기하면 \n",
    "\n",
    "- $\\int X dP = X(H)\\times P(\\{H\\}) + X(T)\\times P(\\{T\\})$ \n",
    "\n",
    "로 쓸 수 있다. \n",
    ":::\n"
   ]
  },
  {
   "cell_type": "markdown",
   "id": "a9dd4760-414b-4808-98c4-dbc2c3514282",
   "metadata": {},
   "source": [
    "`-` 예제2: $(\\Omega,{\\cal F},P)$를 확률공간이라고 하고 $\\Omega=[0,2\\pi)$, ${\\cal F}={\\cal R} \\cap [0,2\\pi)$^[${\\cal R} \\cap [0,2\\pi) := \\{B \\cap [0,2\\pi): B \\in {\\cal R}\\}$], $P([0,x))=\\frac{x}{2\\pi}$라고 하자.^[이렇게 정의해도 되는 이유는 카라테오도리 확장정리덕분] 확률변수 $X(\\omega)=\\omega$에 대한 기대값 $\\mathbb{E}(X)$를 계산하여 보자. "
   ]
  },
  {
   "cell_type": "markdown",
   "id": "f1a18591-441b-407a-b54b-0f1a47e96b00",
   "metadata": {},
   "source": [
    "(풀이) "
   ]
  },
  {
   "cell_type": "markdown",
   "id": "9f6d620c-19d4-495a-8404-506393567e07",
   "metadata": {},
   "source": [
    "아래와 같이 계산할 수 있다. (고등학교 수준)"
   ]
  },
  {
   "cell_type": "markdown",
   "id": "fb4a8522-c3bc-468b-b87b-79bab967f0ba",
   "metadata": {},
   "source": [
    "$$\\mathbb{E}(X)=\\int_0^{2\\pi} x \\frac{1}{2\\pi}dx$$"
   ]
  },
  {
   "cell_type": "markdown",
   "id": "239f38d6-deb6-4364-b238-94dacefd363f",
   "metadata": {},
   "source": [
    "이는 아래와 같이 변형할 수 있다. "
   ]
  },
  {
   "cell_type": "markdown",
   "id": "edb1567a-d61d-4df9-8c40-528b89fc0c17",
   "metadata": {},
   "source": [
    "1. $\\mathbb{E}(X)= \\int_0^{2\\pi}xf_X(x)dx$, where $f_X(x)=\\frac{1}{2\\pi}$.\n",
    "2. $\\mathbb{E}(X)= \\int_{\\mathbb{R}}xf_Xd\\lambda$. \n",
    "3. $\\mathbb{E}(X)= \\int_{\\mathbb{R}}x\\frac{d\\mu_X}{d\\lambda}d\\lambda$. \n",
    "4. $\\mathbb{E}(X)= \\int_{\\mathbb{R}}xd\\mu_X:=\\int_{\\mathbb{R}}xdF_X$."
   ]
  },
  {
   "cell_type": "markdown",
   "id": "c683c70f-58cf-4f09-be63-3241a505dda6",
   "metadata": {},
   "source": [
    "혹은 아래와 같이 변형할 수 있다. \n",
    "\n",
    "1. $\\mathbb{E}(X)= \\int_{\\mathbb{R}} xd\\mu_X=\\int_{[0,2\\pi)}xd\\mu_X(x)$\n",
    "2. $\\mathbb{E}(X)= \\int_\\Omega X(\\omega)dP(\\omega)=\\int X dP$"
   ]
  },
  {
   "cell_type": "markdown",
   "id": "4798445c-acbc-4ad2-9cbf-0f0446ff6217",
   "metadata": {},
   "source": [
    "::: {.callout-note}\n",
    "\n",
    "## 위의 1 $\\to$ 2, 즉 $\\int_{[0,2\\pi)} x d\\mu_X(x) = \\int_\\Omega X dP$ 에 대한 이해의 추가설명 (강의에 너무 대충 설명해서..)\n",
    "\n",
    "이 예제에서는 $X: [0,2\\pi) \\to [0,2\\pi)$가 항등함수이므로, \n",
    "                          \n",
    "$$\\mu_X:= P \\circ X^{-1} = P$$ \n",
    "                          \n",
    "가 성립하는 특이한 경우이다. 이는 이해를 용이하게 위해서 이 예제에서 특별하게 설정된 상황이다. 하지만 이 성질은 꼭 $X$가 항등함수가 아닐지라도 일반적으로 성립한다.\n",
    "\n",
    ":::"
   ]
  },
  {
   "cell_type": "markdown",
   "id": "308c9971-0a3f-4d48-999b-269641d97028",
   "metadata": {},
   "source": [
    "`-` 정의: $X$가 확률공간 $(\\Omega,{\\cal F},P)$에서 정의된 확률변수라고 할때 그 기대값 $\\mathbb{E}(X)$는 아래와 같이 정의한다.\n",
    "\n",
    "$$\\mathbb{E}(X) = \\int_{\\Omega} X dP$$\n",
    "\n",
    "여기에서 $X$는 이산형, 연속형, 혼합형등 어떠한 형태의 확률변수라도 상관없다. 위의 기대값은 항상 아래와 같이 표현할 수 있다. \n",
    "\n",
    "$$\\mathbb{E}(X) = \\int_{\\mathbb{R}} x d\\mu_X:=\\int_{\\mathbb{R}} x dF_X$$\n",
    "\n",
    "만약 $F_X$가 절대연속인 경우 (즉 $\\mu_X << \\lambda$ 인 경우) 아래와 같이 표현가능하다. \n",
    "\n",
    "$$\\mathbb{E}(X) = \\int_{-\\infty}^{\\infty} xf_X(x)dx$$\n",
    "\n",
    "만약에 $F_X$가 countable한 jump로만 구성되어 있다면 $\\mu_X$는 jump point에서 support로 가지는 수정된 카운팅메져 $\\#_X$에 대하여 절대연속이 되며 (즉 $\\mu_X << \\#_X$) 이 경우 기대값은 아래와 같이 표현가능하다. \n",
    "\n",
    "$$\\mathbb{E}(X) = \\sum_{x}x p_X(x)$$\n",
    "\n",
    "여기에서 $f_X(x)$와 $p_X(x)$는 각각 확률변수 $X$의 pdf, pmf가 된다. (혹은 $\\lambda$와 $\\#_X$에 대한 라돈니코딤 도함수)"
   ]
  },
  {
   "cell_type": "markdown",
   "id": "7e669b06-7f67-41d5-b8c6-d08044ec4631",
   "metadata": {},
   "source": [
    "`-` 요약"
   ]
  },
  {
   "cell_type": "markdown",
   "id": "6d4f1d12-d145-43bd-9337-946c6d3fccdc",
   "metadata": {},
   "source": [
    "- 학부수준: 연속형확률변수의 기대값과 이산형확률변수의 기대값이 서로 다르게 정의된다. \n",
    "- 대학원수준: 두 경우 모두 $\\mathbb{E}(X) = \\int X dP$로 정의된다. "
   ]
  },
  {
   "cell_type": "markdown",
   "id": "8f77e43f-2581-4eb2-9eb7-e8fb0fda8cee",
   "metadata": {},
   "source": [
    "# 5. Appendix"
   ]
  },
  {
   "cell_type": "markdown",
   "id": "b75c65ae-af8e-43d7-bd84-19f3be8da3af",
   "metadata": {},
   "source": [
    "`-` [생존분석 강의노트](https://github.com/guebin/AP2023/blob/main/posts/II.%20%ED%99%95%EB%A5%A0%EB%A1%A0%EA%B8%B0%EC%B4%88/supp_14wk_surv.pdf)"
   ]
  },
  {
   "cell_type": "markdown",
   "id": "858c2637-700a-423d-95e6-eeb0aae166ac",
   "metadata": {},
   "source": [
    "`-` [WGAN](https://github.com/guebin/AP2023/blob/main/posts/II.%20%ED%99%95%EB%A5%A0%EB%A1%A0%EA%B8%B0%EC%B4%88/supp_14wk_WGAN.pdf)"
   ]
  },
  {
   "cell_type": "markdown",
   "id": "4e4ebdea-08ca-4748-b41f-637b4dcba76f",
   "metadata": {},
   "source": [
    "`-` [시계열교재](https://github.com/guebin/AP2023/blob/main/posts/II.%20%ED%99%95%EB%A5%A0%EB%A1%A0%EA%B8%B0%EC%B4%88/supp_14wk_ts.pdf)"
   ]
  }
 ],
 "metadata": {
  "kernelspec": {
   "display_name": "Python 3 (ipykernel)",
   "language": "python",
   "name": "python3"
  },
  "language_info": {
   "codemirror_mode": {
    "name": "ipython",
    "version": 3
   },
   "file_extension": ".py",
   "mimetype": "text/x-python",
   "name": "python",
   "nbconvert_exporter": "python",
   "pygments_lexer": "ipython3",
   "version": "3.12.2"
  }
 },
 "nbformat": 4,
 "nbformat_minor": 5
}
