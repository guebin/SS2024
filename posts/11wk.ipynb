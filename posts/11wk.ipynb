{
 "cells": [
  {
   "cell_type": "raw",
   "id": "5839276f-379e-44a7-aacb-6825b1b12a73",
   "metadata": {
    "vscode": {
     "languageId": "raw"
    }
   },
   "source": [
    "---\n",
    "title: \"11wk: 르벡적분 맛보기2, 르벡적분의 정의\"\n",
    "author: \"최규빈\"\n",
    "date: \"11/23/2024\"\n",
    "draft: false\n",
    "---"
   ]
  },
  {
   "cell_type": "markdown",
   "id": "a6007d3c-cfaf-4954-8084-b4e3446f4bf9",
   "metadata": {},
   "source": [
    "# 1. 강의영상 "
   ]
  },
  {
   "cell_type": "markdown",
   "id": "5efbee74-cac2-458e-bbfb-73dc80df6838",
   "metadata": {},
   "source": [
    "{{< https://youtu.be/playlist?list=PLQqh36zP38-ylPlXv_PN9QIA9eoHEEq8b&si=CJ4Y0DP9dCmmI-n8 >}}"
   ]
  },
  {
   "cell_type": "markdown",
   "id": "60a1cad8-d16e-4dbe-813d-143f65b0164e",
   "metadata": {},
   "source": [
    "# 2. 예비학습"
   ]
  },
  {
   "cell_type": "markdown",
   "id": "50175f80-7525-4e53-992d-dfd91d5df2b0",
   "metadata": {},
   "source": [
    "## A. 확장된 실수공간 "
   ]
  },
  {
   "cell_type": "markdown",
   "id": "8e3f7d7c-35a7-4239-8680-295019accc82",
   "metadata": {},
   "source": [
    "`-` 교재에 따라서 확장된 실수공간 $\\bar{\\mathbb{R}}$를 고려하기도 한다. [@durrett2019probability, p 14]\n",
    "\n",
    "$$\\bar{\\mathbb{R}} = \\mathbb{R} \\cup \\{-\\infty\\} \\cup \\{\\infty\\}$$ "
   ]
  },
  {
   "cell_type": "markdown",
   "id": "b38a470a-f5b9-4eda-afc4-c247c7ecc03a",
   "metadata": {},
   "source": [
    "`-` 또한 확장된 실수공간에 대응하는 보렐셋 $\\bar{\\cal R}$ 을 정의하기도 한다. "
   ]
  },
  {
   "cell_type": "markdown",
   "id": "d6fd181f-200a-48ed-b245-642e5f944e50",
   "metadata": {},
   "source": [
    "## B. $\\sup$, $\\inf$"
   ]
  },
  {
   "cell_type": "markdown",
   "id": "defdb510-2573-488b-8da2-f9711751df23",
   "metadata": {},
   "source": [
    "`-` 집합 $A=\\{1,2,3\\}$ 에 대하여 아래의 표현을 살펴보자. \n",
    "\n",
    "- $\\max A =3$ \n",
    "- $\\min A =1$"
   ]
  },
  {
   "cell_type": "markdown",
   "id": "bd6785a1-56c0-4195-aa88-722f34771e56",
   "metadata": {},
   "source": [
    "`-` 집합 $A=[0,2]$ 에 대하여 아래의 표현을 살펴보자. \n",
    "\n",
    "- $\\max A =2$ \n",
    "- $\\min A =0$"
   ]
  },
  {
   "cell_type": "markdown",
   "id": "ae101763-ae3b-4d35-a47d-721786d066e9",
   "metadata": {},
   "source": [
    "`-` 집합 $A=(0,2)$ 라면? \n",
    "\n",
    "- $\\max A =???$^[2라고 하고싶은데 2라고 할 수 없다. (즉 정의할 수 없다.)]\n",
    "- $\\min A =???$^[0이라 하고싶은데 0이라고 할 수 없다. (즉 정의할 수 없다.)] \n",
    "- $\\sup A = 2$ \n",
    "- $\\inf A = 0$ "
   ]
  },
  {
   "cell_type": "markdown",
   "id": "debce708-0b4f-499e-a4eb-6ec9d77d2058",
   "metadata": {},
   "source": [
    "# 3. 르벡적분 맛보기2"
   ]
  },
  {
   "cell_type": "markdown",
   "id": "72b386c1-d06b-410b-8443-1b902477c9f6",
   "metadata": {},
   "source": [
    "## A. 대략적 수식화"
   ]
  },
  {
   "cell_type": "markdown",
   "id": "3d9534b2-bde6-4e46-99cb-3810aacf685b",
   "metadata": {},
   "source": [
    "`-` 리만적분이 정의역을 잘게 쪼개는 방식이라면, 르벡적분은 치역을 잘게 쪼개는 방식이다. $\\int f d\\lambda$ 가 계산되는 원리를 대략적으로 수식화하면 아래와 같다.\n",
    "\n",
    "$$\\int f d\\lambda \\approx \\sum_{n=1}^{N} \\Big(a_n \\times \\lambda(A_n)\\Big),\\quad \\text{where $A_n:=\\{x: f(x)=a_n\\}$} $$\n",
    "\n",
    "여기에서 $A_n$은 $\\{a_n\\}$ 에 대한 $f$ 의 inverse image 라고 해석할 수 있다.^[그래서 취향에 따라 $A_n = f^{-1}(\\{a_n\\})$ 라고 쓸 수도 있음] 우변의 값은 $N$이 커질수록 좌변과 비슷해진다. (그리고 $\\lambda (A_n)$의 값은 점점 작아지겠지.. 그래서 나중에 $d\\lambda$로 표현!)"
   ]
  },
  {
   "cell_type": "markdown",
   "id": "2c678214-2221-4f34-a38c-e986a4231776",
   "metadata": {},
   "source": [
    "## B. 기호의 비교 "
   ]
  },
  {
   "cell_type": "markdown",
   "id": "cdc71797-f4d4-4188-b820-bf61aa0b31b5",
   "metadata": {},
   "source": [
    "`-` 리만적분($dx$)과 르벡적분($d\\lambda$)를 연결하여 보자. "
   ]
  },
  {
   "cell_type": "markdown",
   "id": "3c60b6fd-56d8-4c4f-8c9e-13bc03508e60",
   "metadata": {},
   "source": [
    "`# 예제1` -- 친숙한 예제로, 까다로운 기호를 정리해보자. \n",
    "\n",
    "아래와 같은 함수 $f(x)$를 고려하자. \n",
    "\n",
    "$$f(x) = \\begin{cases} \\alpha & x \\in [0,1]  \\\\  o.w \\end{cases}$$"
   ]
  },
  {
   "cell_type": "markdown",
   "id": "bf1080bc-0fa2-4632-9a2b-1d4cfac20dae",
   "metadata": {},
   "source": [
    "이 함수에 한정하여 아래는 모두 같은 표현이다. \n",
    "\n",
    "`1`. $\\int_{-\\infty}^{\\infty} f(x) dx$ \n",
    "\n",
    "`2`. $\\int_0^1f(x)dx$ \n",
    "\n",
    "`3`. $\\int_0^1 \\alpha dx$ \n",
    "\n",
    "`4`. $\\alpha \\int_0^1 dx$\n",
    "\n",
    "`5`. $\\alpha \\times 1$\n",
    "\n",
    "\n",
    "그런데 `5`에서 $\\alpha$를 높이 혹은 함수값으로 해석한다면 $1$은 밑변의길이 혹은 \"함수값에 대응하는 역상의 길이\"로 해석할 수 있다. 함수값에 대응하는 역상을 $A = \\{x: f(x)=\\alpha\\} = [0,1]$ 라고 정의하고 역상의 길이를 르벡측도로 \"재서\" $\\lambda(A)$ 로 표현한다면 `5`는 아래와 같이 쓸 수 있다. \n",
    "\n",
    "`6`. $\\alpha \\times \\lambda(A)$ \n",
    "\n",
    "여기에서 `5`,`6`은 서로 대응되는 표현이다. 그렇다면 `1` ~ `4`에 대한 대응되는 표현도 존재할텐데 보통 아래와 같이 사용한다. \n",
    "\n",
    "`7`. $\\alpha\\int_{A}d\\lambda$ \n",
    "\n",
    "`8`. $\\int_{A}\\alpha d\\lambda$ \n",
    "\n",
    "`9`. $\\int_{A}f d\\lambda$ \n",
    "\n",
    "`10`. $\\int_{\\mathbb{R}} f d\\lambda$ \n"
   ]
  },
  {
   "cell_type": "markdown",
   "id": "f1d53688-b224-433b-ab8c-d83ba49b39a6",
   "metadata": {},
   "source": [
    "정리하면 아래와 같다. "
   ]
  },
  {
   "cell_type": "markdown",
   "id": "2e7f59d2-33b5-4e38-b5a7-469cbf1d2c65",
   "metadata": {},
   "source": [
    "|리만적분|르벡적분|\n",
    "|:-:|:-:|\n",
    "|$\\int_{-\\infty}^{\\infty} f(x) dx$| $\\int_{\\mathbb{R}} f d\\lambda$ |\n",
    "|$\\int_{0}^{1} f(x) dx$| $\\int_{A} f d\\lambda$ |\n",
    "|$\\int_{0}^{1} \\alpha dx$| $\\int_{A} \\alpha d\\lambda$ |\n",
    "|$\\alpha\\int_{0}^{1} dx$| $\\alpha \\int_{A} d\\lambda$ |\n",
    "|$\\alpha \\times 1$| $\\alpha \\times \\lambda(A)$ |"
   ]
  },
  {
   "cell_type": "markdown",
   "id": "1284c66b-f82c-46ec-a214-966e72eb802b",
   "metadata": {},
   "source": [
    "`#`"
   ]
  },
  {
   "cell_type": "markdown",
   "id": "aef96745-a765-4156-a652-4c75b6bc890e",
   "metadata": {},
   "source": [
    "`-` 생략표현 \n",
    "\n",
    "- $\\int_{\\mathbb{R}} f d\\lambda$ 는 특별히 $\\int f d\\lambda$ 로 간단히 표현하기도 한다.\n",
    "- 사실 $\\int_{-\\infty}^{\\infty} f(x) dx$ 역시 줄여서 $\\int f(x)dx$ 로 표현하기도 하지만 이건 적분연산 자체를 의미하는 부정적분과 혼돈될 우려가 있어 사용을 지양하는 편이다. "
   ]
  },
  {
   "cell_type": "markdown",
   "id": "9686c479-13f9-4a03-addf-df2b07ada323",
   "metadata": {},
   "source": [
    "## C. 르벡적분의 매력"
   ]
  },
  {
   "cell_type": "markdown",
   "id": "7396863e-e8c4-495c-9035-7143452c472a",
   "metadata": {},
   "source": [
    "`# 예제1` -- 표현을 좀 더 엄밀하게 "
   ]
  },
  {
   "cell_type": "markdown",
   "id": "3263d1d1-a535-4c10-bf3e-c97a23d7503d",
   "metadata": {},
   "source": [
    "아래와 같은 문장이 있다고 하자. \n",
    "\n",
    "> 아래와 같은 함수 $f(x)$를 고려하자. \n",
    "> $$f(x) = \\begin{cases} \\alpha & x \\in [0,1]  \\\\  o.w \\end{cases}$$\n",
    "> 이러한 함수에서 아래의 표현을 고려하자. \n",
    "> $$\\int f d\\lambda$$\n"
   ]
  },
  {
   "cell_type": "markdown",
   "id": "24488fa9-9e9c-42f7-8284-56194b629c00",
   "metadata": {},
   "source": [
    "여기에서 $\\lambda$는 르벡메저이다. 르벡메저는 $(\\mathbb{R}, {\\cal R})$ 의 존재가 있어야 정의가능하므로 사실 위의 문장은 엄밀하게 쓰여진 것이 아니다. 이를 좀 더 엄밀한 언어로 쓰면 아래와 같다. \n",
    "\n",
    "\n",
    "> 측도공간 $(\\mathbb{R}, {\\cal R}, \\lambda)$ 를 고려하자. 그리고 함수 $f: \\mathbb{R} \\to \\mathbb{R}$ 을 아래와 같이 정의하자. \n",
    "> $$f(x)=\\begin{cases} \\alpha & x \\in [0,1] \\\\ o.w\\end{cases}$$ \n",
    "> 여기에서 $\\alpha \\in \\mathbb{R}$ 이다. 이제 아래의 표현을 고려하자.\n",
    "> $$\\int f d\\lambda$$ \n"
   ]
  },
  {
   "cell_type": "markdown",
   "id": "12bc34f0-edb3-45d0-b40a-8a61c7764378",
   "metadata": {},
   "source": [
    "`#`"
   ]
  },
  {
   "cell_type": "markdown",
   "id": "ccdc035f-cf73-4dfc-a439-5e54e79e08b5",
   "metadata": {},
   "source": [
    "`# 예제2` -- 르벡적분의 우수성\n",
    "\n",
    "예제1의 표현들에서 $d\\lambda$ 와 같은 표현은 르벡메져가 아닌 일반적인 메져에서도 표현가능하다. 만약 가측공간 $(\\mathbb{R},{\\cal R})$ 에 아래와 같은 메져 $\\mu$가 존재한다고 하자. \n",
    "\n",
    "$$\\mu(A) = 2\\lambda(A),\\quad \\forall A \\in {\\cal R}$$\n",
    "\n",
    "여기에서 $\\lambda$는 르벡메져이다. 그렇다면 아래가 성립한다. \n",
    "\n",
    "$$\\int_A f d\\mu = \\alpha \\times \\mu(A) =  2\\alpha \\times \\lambda(A) = 2\\int_A f d\\lambda,\\quad\\forall A \\in {\\cal R}$$ \n",
    "\n",
    "`#`"
   ]
  },
  {
   "cell_type": "markdown",
   "id": "9b8551ae-ab7b-4830-ae5c-f53ad8973f3b",
   "metadata": {},
   "source": [
    "`-` 좀 더 일반적으로는 측도공간 $(\\Omega,{\\cal F},\\mu)$ 에서 함수 $f:\\Omega \\to \\mathbb{\\bar R}$ 에 대하여 아래의 표현을 \n",
    "\n",
    "$$\\int f d\\mu$$"
   ]
  },
  {
   "cell_type": "markdown",
   "id": "8e506e42-c900-44cc-8d6a-c86f0d09cf64",
   "metadata": {},
   "source": [
    "고려해볼 수 있다. (이때 $\\int f d\\mu$ 라는 표현이 언제나 잘 정의될지 의문이 남지만 잘 정의된다고 치자..) "
   ]
  },
  {
   "cell_type": "markdown",
   "id": "00ac1dbc-4dea-4a00-bd7d-6a1dbaba326d",
   "metadata": {},
   "source": [
    "`# 예제3` -- $\\int dx$\n",
    "\n",
    "$(\\Omega, {\\cal F}, \\mu)$ 가 $(\\mathbb{R}, {\\cal R}, \\lambda)$ 이면\n",
    "\n",
    "1. $\\int f(x)dx = \\int f d\\lambda$ \n",
    "2. $\\int_a^b f(x)dx = \\int_E fd\\lambda$\n",
    "\n",
    "와 같이 사용한다. 단, 여기에서 $E=[a,b]$. [@durrett2019probability, p 23]\n",
    "\n",
    ":::{.callout-note}\n",
    "\n",
    "$\\int_E fd\\lambda$는 종종 \n",
    "\n",
    "- $\\int_E f(x)\\lambda(dx)=\\int_E f(x)d\\lambda(x)$ \n",
    "- $\\int_E f(y)\\lambda(dy)=\\int_E f(y)d\\lambda(y)$ \n",
    "\n",
    "와 같이 표현하기도 한다. 이러한 표현은 때때로 유용하다. 예를들어 \n",
    "\n",
    "- $\\int_{(0,1)}x^y \\lambda(dx)=\\int_{(0,1)}x^y d\\lambda(x)$ 는 함수 $x \\mapsto x^y$ 에 대한 적분을 \n",
    "- $\\int_{(0,1)}x^y \\lambda(dy)=\\int_{(0,1)}x^y d\\lambda(y)$ 는 함수 $y \\mapsto x^y$ 에 대한 적분을\n",
    "\n",
    "의미한다. [@makarov2013real, p 125], [@durrett2019probability, p 32, p 38]\n",
    ":::"
   ]
  },
  {
   "cell_type": "markdown",
   "id": "8a226f8e-6174-42da-9f57-f464e181085d",
   "metadata": {},
   "source": [
    "`#`"
   ]
  },
  {
   "cell_type": "markdown",
   "id": "dd742e4a-a2e9-4fc5-8b34-b8e46dfadd16",
   "metadata": {},
   "source": [
    "`# 예제4` -- $\\sum_{i}$ "
   ]
  },
  {
   "cell_type": "markdown",
   "id": "ef4e0d20-b0e4-47b4-a13d-000f6586c5be",
   "metadata": {},
   "source": [
    "측도공간 $(\\mathbb{N}, 2^{\\mathbb{N}},\\#)$ 을 고려하자. 여기에서 $\\#: 2^{\\mathbb{N}} \\to [0,\\infty]$ 는 counting measure 이다. 즉 $\\#$ 은 아래를 만족하는 집합함수이다. \n",
    "\n",
    "$$\\#(A) = \\begin{cases} |A| & \\text{$A$ 는 유한집합} \\\\ \n",
    "\\infty & \\text{$A$ 는 무한집합}\n",
    "\\end{cases}$$\n",
    "\n",
    "이때 $f(n)=(1/2)^n$ 일 때 아래를 계산하라. \n",
    "\n",
    "$$\\int f d\\#$$\n",
    "\n",
    "`(풀이)`\n",
    "\n",
    "$f$의 치역은 $\\{1/2, 1/4, 1/8, \\dots \\}$ 이며, 치역의 각 값에 대응하는 $A_1, A_2, A_3 \\dots$ 는 \n",
    "\n",
    "- $A_1=\\{1\\}$\n",
    "- $A_2=\\{2\\}$\n",
    "- $A_3=\\{3\\}$\n",
    "- $\\dots$\n",
    "\n",
    "이다. 따라서 $\\int f d\\#$ 은 아래와 같이 쓸 수 있다. \n",
    "\n",
    "$$\\begin{align*}\n",
    "\\int f d\\# &= \\int \\frac{1}{2^n} d\\#\\\\\n",
    "&=\\left(\\frac{1}{2}\\times \\#(A_1)\\right) + \\left(\\frac{1}{4}\\times \\#(A_2)\\right) + \\left(\\frac{1}{8}\\times \\#(A_3)\\right)+ \\cdots \\\\\n",
    "&=\\frac{1}{2}+\\frac{1}{4}+\\frac{1}{8}+ \\cdots \\\\\n",
    "&=\\sum_{i=1}^{\\infty}\\frac{1}{2^n}=1\n",
    "\\end{align*}$$"
   ]
  },
  {
   "cell_type": "markdown",
   "id": "3a8311da-0b59-4cb1-bfad-2c5c1a91702f",
   "metadata": {},
   "source": [
    ":::{.callout-note}\n",
    "\n",
    "1. $\\Omega$: a countable set\n",
    "2. ${\\cal F}$: $2^\\Omega$\n",
    "3. $\\#$: counting measure \n",
    "\n",
    "라고 하자. 그러면 \n",
    "\n",
    "- $\\int f d\\# = \\sum_{i \\in \\Omega} f(i)$ \n",
    "\n",
    "이 성립한다. [@durrett2019probability, p 23]\n",
    "\n",
    ":::"
   ]
  },
  {
   "cell_type": "markdown",
   "id": "0fd32940-78de-43e6-b617-646d6b8ac516",
   "metadata": {},
   "source": [
    "`#`"
   ]
  },
  {
   "cell_type": "markdown",
   "id": "d35c5155-7192-42c1-9cf7-0417f56385c8",
   "metadata": {},
   "source": [
    "> 느낌: 르벡적분은 리만적분과 시그마를 통합하여 서술할 수 있는 언어이다. "
   ]
  },
  {
   "cell_type": "markdown",
   "id": "9aa1090a-46eb-4183-948c-609551099849",
   "metadata": {},
   "source": [
    "`# 예제5` -- 기대값"
   ]
  },
  {
   "cell_type": "markdown",
   "id": "d77a6b33-d81c-4541-aecb-d6267c9b2c3e",
   "metadata": {},
   "source": [
    "$(\\Omega,{\\cal F},\\mathbb{P})$를 확률공간이라고 하고 $\\Omega=\\{H,T\\}$, ${\\cal F}=2^\\Omega$, $\\mathbb{P}(H)=\\mathbb{P}(T)=\\frac{1}{2}$라고 하자. 확률변수 $X(H)=0$, $X(T)=1$를 정의하자. 이 확률변수의 기대값 $\\mathbb{E}(X)$를 계산하여 보자. "
   ]
  },
  {
   "cell_type": "markdown",
   "id": "fb601515-571b-408b-bd56-09e51700ae61",
   "metadata": {},
   "source": [
    "`(풀이)`"
   ]
  },
  {
   "cell_type": "markdown",
   "id": "d26455cc-ecd1-4e9a-9551-4afbcf4307db",
   "metadata": {},
   "source": [
    "아래와 같이 계산할 수 있다. (고등학교 수준)"
   ]
  },
  {
   "cell_type": "markdown",
   "id": "40e5a614-98bb-4e3f-b1de-7d793e70a5cc",
   "metadata": {},
   "source": [
    "$$\\mathbb{E}(X)= \\sum_{x=0}^{1} x \\mathbb{P}(X=x) = 0 \\times \\frac{1}{2} + 1\\times \\frac{1}{2}$$"
   ]
  },
  {
   "cell_type": "markdown",
   "id": "f1bc5e41-d8de-45de-b05d-4c63bcccf929",
   "metadata": {},
   "source": [
    "또는 아래와 같이 볼 수 도 있다. (여기서부터 대학원수준)"
   ]
  },
  {
   "cell_type": "markdown",
   "id": "c6edd61d-e35c-422d-ac95-395beb1ed92e",
   "metadata": {},
   "source": [
    "$$\n",
    "\\begin{align}\n",
    "\\mathbb{E}(X)&= 0 \\times \\mathbb{P}(\\{\\omega: X(\\omega)=0\\}) + 1 \\times \\mathbb{P}(\\{\\omega: X(\\omega)=1\\})\\\\\n",
    "&=0 \\times \\mathbb{P}\\big(X^{-1}(\\{0\\})\\big) + 1\\times \\mathbb{P}\\big(X^{-1}(\\{1\\})\\big) \\quad \\cdots(\\star)\n",
    "\\end{align}\n",
    "$$"
   ]
  },
  {
   "cell_type": "markdown",
   "id": "7cf4568f-d692-44c5-9984-678e2c5028f4",
   "metadata": {},
   "source": [
    "$(\\star)$의 해석1: $\\star$ 에서 \n",
    "\n",
    "- $0=X(H)$\n",
    "- $1=X(T)$\n",
    "- $X^{-1}(\\{0\\})= \\{H\\}$\n",
    "- $X^{-1}(\\{1\\})= \\{T\\}$\n",
    "\n",
    "를 대입하면 $(\\star)$는 $X(H)\\mathbb{P}(\\{H\\}) + X(T)\\mathbb{P}(\\{T\\})$ 로 정리된다. 이를 정리하면 \n",
    "\n",
    "$$\\mathbb{E}(X) = X(H)\\mathbb{P}(\\{H\\}) + X(T)\\mathbb{P}(\\{T\\})$$\n",
    "\n",
    "로 표현가능한데, 이것은 의미상 \n",
    "\n",
    "> $H$를 숫자화한 값 $\\times$ 사건 $\\{H\\}$가 발생할 확률 $+$ $T$를 숫자화한 값 $\\times$ 사건 $\\{T\\}$가 발생할 확률\n",
    "\n",
    "을 의미하므로 평균의 뜻과 잘 맞다. "
   ]
  },
  {
   "cell_type": "markdown",
   "id": "26e771b0-17a2-4913-933a-a68629c113d9",
   "metadata": {},
   "source": [
    "$(\\star)$의 해석2: $(\\star)$ 에서 $0$을 $X$에 대한 함수값으로 해석하고, $X^{-1}(\\{0\\})$을 함수값 0에 대한 역상으로 해석할 수 있다. 동일하게 $1$역시 $X$에 대한 함수값으로 해석하고, $X^{-1}(\\{1\\})$ 역시 1에 대한 역상으로 이해할 수 있다. 그렇다면 $(\\star)$는 $\\int X d\\mathbb{P}$ 로 쓸 수 있다. 따라서 기대값을 르벡적분으로 표현하면 아래와 같이 표현할 수 있다. \n",
    "\n",
    "$$\\mathbb{E}(X)=\\int X d\\mathbb{P}$$"
   ]
  },
  {
   "cell_type": "markdown",
   "id": "f2e4195a-a1f1-431c-a2b4-b22bf90c9e0e",
   "metadata": {},
   "source": [
    "$(\\star)$의 해석3: $(\\star)$ 에서 \n",
    "\n",
    "$$\\mathbb{P}\\big(X^{-1}(\\{0\\})\\big) = \\mu_X(\\{0\\})$$ \n",
    "\n",
    "으로 해석하면, 아래와 같이 쓸 수 있다. \n",
    "\n",
    "$$(\\star) = 0\\times \\mu_X(\\{0\\}) + 1 \\times \\mu_X(\\{1\\})$$\n",
    "\n",
    "여기에서 함수 $g(x)=x$를 고려하면 상과 역상이 같아지므로 아래와 같이 사용할 수 있다. \n",
    "\n",
    "$$(\\star) = \\int g(x) d\\mu_X=\\int x d\\mu_X$$"
   ]
  },
  {
   "cell_type": "markdown",
   "id": "e06bf65b-2fac-4496-a82a-c665b7820ff4",
   "metadata": {},
   "source": [
    "이때 $\\mu_X$는 사실 $F_X$로 유일하게 결정할 수 있으므로 (확장이론2) 위에서 $\\mu_X$ 대신에 $F_X$를 쓰기도 한다. 따라서 평균은 아래와 같이 표혈할 수 있다. "
   ]
  },
  {
   "cell_type": "markdown",
   "id": "76727820-2ad2-4f34-b00c-68b96da1e796",
   "metadata": {},
   "source": [
    "$$\\mathbb{E}(X) = \\int x d\\mu_X = \\int x dF_X$$"
   ]
  },
  {
   "cell_type": "markdown",
   "id": "17c7cab6-aab1-4809-bf11-20cf64274188",
   "metadata": {},
   "source": [
    ":::{.callout-note}\n",
    "위의 서술은 모두 $X$가 연속형이든 이산형이든 상관없이 사용할 수 있다. \n",
    ":::"
   ]
  },
  {
   "cell_type": "markdown",
   "id": "8af6dcce-19f4-4ce6-96e9-07aaceabbfb3",
   "metadata": {},
   "source": [
    ":::{.callout-note}\n",
    "만약에 $\\frac{d \\mu_X}{d\\lambda}$ 의 역할을 해주는 어떠한 함수 $f$ 가 존재한다면 ($X$가 연속형 확률변수일 경우 이러한 일이 생김) 아래와 같이 쓸 수 있다. \n",
    "\n",
    "$$\\mathbb{E}(X) = \\int x d\\mu_X = \\int x fd\\lambda = \\int x f(x)dx$$\n",
    ":::"
   ]
  },
  {
   "cell_type": "markdown",
   "id": "d85e4109-5093-4b36-8ddf-97f50842ea52",
   "metadata": {},
   "source": [
    "`#`"
   ]
  },
  {
   "cell_type": "markdown",
   "id": "4715d117-f590-4a85-969d-c4e75d72bf5b",
   "metadata": {},
   "source": [
    "## D. $\\int f d\\mu$의 존재성 "
   ]
  },
  {
   "cell_type": "markdown",
   "id": "209b66ee-cec4-43c7-9572-0c7d1c3699bb",
   "metadata": {},
   "source": [
    "`-` 의문 (PTSD): 리만적분 불가능한 함수는 살펴보았다.^[유리수에서 1을, 무리수에서 0을 가지는 함수] 그러하면 르벡적분 불가능한 함수는 존재할까? 즉 임의의 함수 $f$ 에 대하여 \n",
    "\n",
    "$$\\int f d\\mu$$\n",
    "\n",
    "라는 표현이 지칭하는 값은 언제나 모순없이 정의가능할까? "
   ]
  },
  {
   "cell_type": "markdown",
   "id": "36a71676-df7c-4796-8476-ca2405f4a51b",
   "metadata": {},
   "source": [
    "`# Rationale`: \n",
    "\n",
    "$\\int f d\\mu$ 가 계산되는 원리를 대략적으로 살펴보아 수식화하면 아래와 같다. \n",
    "\n",
    "$$\\int f d\\mu \\approx \\sum_{n=1}^{N} \\Big(a_n \\times \\mu(A_n)\\Big),\\quad \\text{where $A_n:=\\{x: f(x)=a_n\\}$} $$"
   ]
  },
  {
   "cell_type": "markdown",
   "id": "4fdeec7c-e7f6-4556-b3e9-21e5ee9a4808",
   "metadata": {},
   "source": [
    "여기에서 $A_n$은 $\\{a_n\\}$ 에 대한 $f$의 inverse image 라고 해석할 수 있다.^[그래서 취향에 따라 $A_n = f^{-1}(\\{a_n\\})$ 라고 쓸 수도 있음] 우변의 값은 $N$이 커질수록 좌변과 비슷해질 것이므로 결국 우변의 값이 잘 정의되면 좌변의 값도 잘 정의된다고 볼 수 있다. 우변의 값이 잘 정의되지 않는 경우를 생각해보자. \n",
    "\n",
    "`1`. $\\mu(A_n)$ 이라는 표현자체가 불가능한 경우, 즉 $A_n$이 잴 수 없는 집합일 경우.\n",
    "\n",
    "당연히 이 경우에는 우변의 표현이 불가능하다. 이 상황을 피하기 위해서는 $f$ 의 역상이 모두 잴 수 있음을 보장하면 되므로 $f$ 가 measurable function 이라는 조건을 주면 충분할 것 같다. 따라서 $(\\Omega, {\\cal F}, \\mu)$ 를 측도공간이라 하고 $f: (\\Omega, {\\cal F}) \\to (\\mathbb{R}, {\\cal R})$ measurable function 이라는 조건을 주면 충분할 것 같다. \n",
    "\n",
    "`2`. $\\mu(A_n)$ 이라는 표현은 가능하지만, 어떠한 $n$에 대해서는 $\\mu(A_n)=\\infty$ 인 경우. \n",
    "\n",
    "이러면 $\\int f \\mu$ 를 근사한 우변의 값이 $\\infty - \\infty$ 꼴이 될 수 있으므로 값을 정의할 수 없다. 따라서 이럴 경우는 피해야한다. 이를 피하기 위해서는 $\\mu$가 유한측도이면 좋겠는데, 이는 너무 강한 조건이다. 생각해보니까 모든 $n$에 대하여 $\\mu(A_n)<\\infty$ 이기만 하면 되므로 유한측도가 아니더라도 시그마유한측도이면 충분할 것 같다. \n",
    "\n",
    "`3`. $\\mu(A_n)$ 이라는 표현은 가능하고, 모든 $n$에 대해서는 $\\mu(A_n)<\\infty$ 이지만, $N \\to \\infty$ 일때 $\\sum_{n=1}^{N}\\Big(a_n \\times \\mu(A_n)\\Big)$ 이 수렴안하는 경우.. \n",
    "\n",
    "뭐 그럴수도 있지 않겠어요?.. $1-2+4-8+16+\\dots..$ 이런 경우?? \n",
    "\n",
    "> 주의: $1+2+4+8+\\dots$와 같은 경우 그냥 $\\int f\\mu = \\infty$로 정의하면 그만이므로 $\\int f\\mu$ 라는 표현이 모순되는 문제는 없음.. 마찬가지로 $-1-2-4-8\\dots$와 같은 경우도 그냥 $\\int f \\mu = -\\infty$라고 하면 되므로 이 경우에도 $\\int f\\mu$ 라는 표현이 모순되는 문제는 없음.. 그런데 예시의 수열의 경우 $1+(-2+4)+(-8+16)+\\dots$ 으로 해석하면 양의 무한대로 발산하고 $(1-2)+(4-8)+\\dots$ 으로 해석하면 음의 무한대로 발산하므로 정의자체를 할 수 없음. "
   ]
  },
  {
   "cell_type": "markdown",
   "id": "8ff2fc62-4150-4417-b608-67310d14bb72",
   "metadata": {},
   "source": [
    "`#`"
   ]
  },
  {
   "cell_type": "markdown",
   "id": "7da60eae-bb2b-4f4a-b28d-d3480b443c8a",
   "metadata": {},
   "source": [
    "# 4. 르벡적분의 정의"
   ]
  },
  {
   "cell_type": "markdown",
   "id": "ffe4f730-e5a4-4a42-935f-b8d56920fe3f",
   "metadata": {},
   "source": [
    "## A. 목표"
   ]
  },
  {
   "cell_type": "markdown",
   "id": "d3343190-9776-48b9-aadd-f3dfc14244ff",
   "metadata": {},
   "source": [
    "`-` 개론: 두 개의 잴 수 있는 공간 $(\\Omega, {\\cal F})$, $(\\mathbb{R}, {\\cal R})$을 고려하자. 함수 $\\mu:{\\cal F} \\to [0,\\infty]$을 $(\\Omega, {\\cal F})$ 에서 정의된 시그마유한측도라고 하자. 또한 함수 $f$ 를 $(\\Omega,{\\cal F}) \\to (\\mathbb{R},{\\cal R})$ measurable fucntion 이라고 하자. 이러한 조건하에서 아래와 같은 표현이 의미하는 값을 명확하게 \n",
    "\n",
    "$$\\int f d\\mu$$ \n",
    "\n",
    "정의하고 싶다. \n",
    "\n",
    "> 여기에서 $\\int f d\\mu$ 를 \"$f$ 의 $\\mu$에 대한 적분 ***(intergral of $f$ w.r.t. $\\mu$)***\" 이라고 부른다. "
   ]
  },
  {
   "cell_type": "markdown",
   "id": "45a45158-f2bc-42bd-ba60-4865b1fab658",
   "metadata": {},
   "source": [
    ":::{.callout-note}\n",
    "\n",
    "$\\int f d\\mu$ 라는 기호를 논의하기 전에 (1) $\\mu$ 가 $\\sigma$-finite msr on $(\\Omega, {\\cal F})$ 임을 체크해야하고 (2) $f$는 $(\\Omega,{\\cal F}) \\to (\\mathbb{R}, {\\cal R})$ measurable function 임을 체크해야 한다. 이게 중요함!\n",
    "\n",
    ":::"
   ]
  },
  {
   "cell_type": "markdown",
   "id": "1220420a-4c1c-496b-956e-b44c53fd4388",
   "metadata": {},
   "source": [
    "## B. $f$ 가 simple function 일때"
   ]
  },
  {
   "cell_type": "markdown",
   "id": "edbcc175-798a-49c3-81e4-184972505617",
   "metadata": {},
   "source": [
    "`# 정의` -- simple function \n",
    "\n",
    "$(\\Omega,{\\cal F})$가 잴 수 있는 공간이라고 하자. 서로소인 집합열 $A_1,A_2, \\dots, A_n {\\cal F}$ 에 대한 지표함수의 **유한**가중합으로 표현되는 함수 $f$ 를 simple function 이라고 한다. 즉 함수 $f:\\Omega \\to \\mathbb{R}$ 가 아래와 같이 표현된다면 $f$ 를 simple function 이라고 한다. \n",
    "\n",
    "$$f(\\omega)=\\sum_{i=1}^{n} a_i \\mathbb{1}_{A_i}(\\omega)$$\n",
    "\n",
    "이때, $a_1,a_2,\\dots,a_n \\in \\mathbb{R}$ 이다. \n",
    "\n",
    "`#`"
   ]
  },
  {
   "cell_type": "markdown",
   "id": "65ff22ca-6cbb-402b-a77f-827a43a4b44c",
   "metadata": {},
   "source": [
    "`# 약속`: $f(\\omega)=\\sum_{i=1}^{n} a_i \\mathbb{1}_{A_i}(\\omega)$ 를 간단히 아래와 같이 표현하기도 한다.\n",
    "\n",
    "$$f=\\sum_{i=1}^{n} a_i \\mathbb{1}_{A_i}$$"
   ]
  },
  {
   "cell_type": "markdown",
   "id": "72f7bc5b-abfb-4f50-9113-bd278f263d9c",
   "metadata": {},
   "source": [
    "`# 이론`: $f(\\omega)=\\sum_{i=1}^{n}a_i \\mathbb{1}_{A_i}(\\omega)$ 는 ${\\cal F}-{\\cal R}$ measurable map 이다. "
   ]
  },
  {
   "cell_type": "markdown",
   "id": "e0143ed4-5500-45ae-8abb-7dfa01ea1514",
   "metadata": {},
   "source": [
    "`(증명)` "
   ]
  },
  {
   "cell_type": "markdown",
   "id": "e2847eb7-21fe-4081-bf0e-55368b9b671a",
   "metadata": {},
   "source": [
    "$n=2$ 일 때만 따져보자. $f$ 의 상과 역상을 정리하면 아래와 같다. \n",
    "\n",
    "|역상|상|\n",
    "|:-:|:-:|\n",
    "|$\\Omega-A_1-A_2$|$\\{0\\}$|\n",
    "|$A_1$|$\\{\\alpha_1\\}$|\n",
    "|$A_2$|$\\{\\alpha_2\\}$|\n",
    "|$\\Omega - A_2$|$\\{0,\\alpha_1\\}$|\n",
    "|$\\Omega - A_1$|$\\{0,\\alpha_2\\}$|\n",
    "|$A_1 \\uplus A_2$|$\\{\\alpha_1,\\alpha_2\\}$|\n",
    "|$\\Omega$|$\\{0,\\alpha_1,\\alpha_2\\}$|\n",
    "|$\\emptyset$|.|\n",
    "\n",
    "사고의 편의상 상과 역상을 서로 대응되는것 처럼 작성했지만 실제로는 꼭 대응되는 개념은 아님을 유의하라. 예를들어 $A_1$은 $\\{\\alpha_1\\}$ 의 역상이기도 하지만 $\\mathbb{R}-\\{0,\\alpha_2\\}$ 의 역상이기도 하다. 따라서 사실 아래의 표가 더 정확하다.\n",
    "\n",
    "|$B ~(B \\in {\\cal R})$|역상|\n",
    "|:-:|:-:|\n",
    "|$0 \\in B, \\alpha_1 \\notin B, \\alpha_2 \\notin B$|$\\Omega-A_1-A_2$|\n",
    "|$0 \\notin B, \\alpha_1 \\in B, \\alpha_2 \\notin B$|$A_1$|\n",
    "|$0 \\notin B, \\alpha_1 \\notin B, \\alpha_2 \\in B$|$A_2$|\n",
    "|$0 \\in B, \\alpha_1 \\in B, \\alpha_2 \\notin B$|$\\Omega - A_2$|\n",
    "|$0 \\in B, \\alpha_1 \\notin B, \\alpha_2 \\in B$|$\\Omega - A_1$|\n",
    "|$0 \\notin B, \\alpha_1 \\in B, \\alpha_2 \\in B$|$A_1 \\uplus A_2$|\n",
    "|$0 \\in B, \\alpha_1 \\in B, \\alpha_2 \\in B$|$\\Omega$|\n",
    "|$0 \\notin B, \\alpha_1 \\notin B, \\alpha_2 \\notin B$|$\\emptyset$|"
   ]
  },
  {
   "cell_type": "markdown",
   "id": "9cdd434a-7e05-46fc-b8a5-212f9f1b2bcf",
   "metadata": {},
   "source": [
    "아무튼 발생가능한 모든 역상 8개의 역상이 ${\\cal F}$ 의 원소이므로 $f$ 는 $(\\Omega, {\\cal F}) \\to (\\mathbb{R},{\\cal R})$ 인 잴 수 있는 함수이다. "
   ]
  },
  {
   "cell_type": "markdown",
   "id": "c2403aec-9218-4849-bc57-f9ef531a9827",
   "metadata": {},
   "source": [
    "`#`"
   ]
  },
  {
   "cell_type": "markdown",
   "id": "57984e13-9d52-44fe-9d67-5833aca75e78",
   "metadata": {},
   "source": [
    "**`# 정의1` ($\\star$)** -- $f$ 가 simple function일 경우 $\\int f d\\mu$ 의 정의\n",
    "\n",
    "시그마유한측도공간 $(\\Omega,{\\cal F},\\mu)$ 를 고려하자. 만약 $f:\\Omega \\to \\mathbb{R}$ 가 simple function 이라면 (즉 $f=\\sum_{i=1}^{n}a_i \\mathbb{1}_{A_i}$ 와 같이 표현가능하다면) 기호 $\\int f d\\mu$ 의 값은 아래와 같이 정의한다. \n",
    "\n",
    "$$\\int f d\\mu = \\sum_{i=1}^{n}a_i \\mu(A_i)$$\n",
    "\n",
    "> 즉 기호 $\\int f d\\mu$ 의 값은 $\\mu$가 시그마유한이고 $f$가 simple function일 경우 모순되지 않게 항상 정의할 수 있다. \n",
    "\n",
    "`#`"
   ]
  },
  {
   "cell_type": "markdown",
   "id": "250e3642-2cee-4a8e-b78c-806ec72cc380",
   "metadata": {},
   "source": [
    "`-` 참고사항: 동일한 simple function $f$ 에 대한 표현 $\\sum_{i=1}^{n}\\alpha_i \\mu(A_i)$ 는 유일하지 않다. (왜냐하면 $\\alpha_i$가 서로 다른값이라는 가정을 한 것은 아니므로) 아래를 관찰하면 그 이유를 쉽게 알 수 있다. \n",
    "\n",
    "$$a\\mathbb{1}_{(0,2]}=a\\mathbb{1}_{(0,1]}+a\\mathbb{1}_{(1,2]}$$ \n",
    "\n",
    "하지만 앞으로의 논리전개에서 이러한 점은 별로 문제되지 않는다. 찝찝하다면 아래의 이론을 확인하고 넘어가도 무방. "
   ]
  },
  {
   "cell_type": "markdown",
   "id": "c2f82b84-e233-449f-99df-9e324236b065",
   "metadata": {},
   "source": [
    "`# 이론` --   \n",
    "\n",
    "$(\\Omega,{\\cal F})$ 가 잴 수 있는 공간이라고 하자. 함수 $\\mu:{\\cal F} \\to [0,\\infty]$을 $(\\Omega, {\\cal F})$ 에서 정의된 $\\sigma$-finite measure 라고 하자. 만약 $f$ 를 아래와 같은 두가지 방법으로 표현 가능하다면 \n",
    "\n",
    "$$f=\\sum_{i=1}^{n}a_i \\mathbb{1}_{A_i}=\\sum_{j=1}^{m}b_j \\mathbb{1}_{B_j}$$ \n",
    "\n",
    "아래가 성립한다. \n",
    "\n",
    "$$\\int f d\\mu =\\sum_{i=1}^{n}a_i\\mu(A_i)=\\sum_{j=1}^{m}b_j \\mu(B_j)$$ \n",
    "\n",
    "즉 $f$ 가 서로 다른 형태의 simple function으로 표현될 수 있으나 $\\int f d\\mu$ 가 지칭하는 값은 같다."
   ]
  },
  {
   "cell_type": "markdown",
   "id": "614ce1d1-e561-43b0-99ad-4e8d71c87d64",
   "metadata": {},
   "source": [
    "> 하여튼 $f$가 simple function일 경우는 $\\int f d\\mu$ 가 의미하는 것이 아주 명확하다는 의미. "
   ]
  },
  {
   "cell_type": "markdown",
   "id": "4124d549-7b07-47fb-a306-f46cc49e77ec",
   "metadata": {},
   "source": [
    "`#`"
   ]
  },
  {
   "cell_type": "markdown",
   "id": "7f7f41ab-f3e3-4f54-a3b1-fa7eea6ad02d",
   "metadata": {},
   "source": [
    "`# 예제1` -- 사각형의 넓이 "
   ]
  },
  {
   "cell_type": "markdown",
   "id": "f32e1a38-7de6-46eb-a760-60dfa8352e28",
   "metadata": {},
   "source": [
    "두개의 잴 수 있는 공간 $(\\mathbb{R}, {\\cal R})$와 $(\\mathbb{R}, {\\cal R})$을 고려하자. $\\lambda:{\\cal R} \\to [0,\\infty]$ 를 르벡메져라고 하자. 함수 $f:\\mathbb{R} \\to \\mathbb{R}$를 아래와 같이 표현하자. \n",
    "\n",
    "$$f(x) = \\begin{cases} 1 & 0\\leq x \\leq 1 \\\\ 0 & o.w. \\end{cases}$$"
   ]
  },
  {
   "cell_type": "markdown",
   "id": "b48d69ec-8cdc-48be-8034-1caa7d3da74d",
   "metadata": {},
   "source": [
    "$\\int f d\\lambda$ 잘 정의되는가? 만약 그렇다면 $\\int f d\\lambda$의 값은 어떻게 계산할 수 있는가? "
   ]
  },
  {
   "cell_type": "markdown",
   "id": "ba946592-d4f9-4dd4-8446-f1701676658a",
   "metadata": {},
   "source": [
    "note: 현재는 $(\\Omega, {\\cal F})=(\\mathbb{R}, {\\cal R})$인 상황이다. "
   ]
  },
  {
   "cell_type": "markdown",
   "id": "322bce5b-09f4-4be2-b2a5-66cb407f4e67",
   "metadata": {},
   "source": [
    "`(풀이)`\n",
    "\n",
    "르벡메저는 시그마유한측도이고, $f$ 는 simple function 이므로 $\\int f d\\lambda$ 는 값을 모순없이 정의가능하며 그 값은 \n",
    "\n",
    "$$\\int f d\\lambda = 1 \\times \\lambda([0,1]) = 1$$\n",
    "\n",
    "이다. \n",
    "\n",
    "`#`"
   ]
  },
  {
   "cell_type": "markdown",
   "id": "bc3b8410-a7d8-45ad-8af6-1281e7827eb2",
   "metadata": {},
   "source": [
    "`# 예제2` -- "
   ]
  },
  {
   "cell_type": "markdown",
   "id": "d9313a5a-3a53-4b31-9d41-51597c66668d",
   "metadata": {},
   "source": [
    "두개의 잴 수 있는 공간 $(\\mathbb{R}, {\\cal R})$와 $(\\mathbb{R}, {\\cal R})$을 고려하자. $\\lambda:{\\cal R} \\to [0,\\infty]$를 르벡메져라고 하자. 함수 $f:\\mathbb{R} \\to \\mathbb{R}$를 아래와 같이 표현하자. "
   ]
  },
  {
   "cell_type": "markdown",
   "id": "dd6b1678-0285-4a6c-97e3-685e2c5ff3e7",
   "metadata": {},
   "source": [
    "$$f(x) = \\begin{cases} 1 & x \\in [0,1] \\cap \\mathbb{Q}  \\\\ 2 & x \\in [0,1] \\cap \\mathbb{Q}^c \\\\ 0 & o.w. \\end{cases}$$ "
   ]
  },
  {
   "cell_type": "markdown",
   "id": "44416680-7137-4a9d-80aa-daca6b08e9bb",
   "metadata": {},
   "source": [
    "$\\int f d\\lambda$ 는 잘 정의되는가? 만약 그렇다면 $\\int f d\\lambda$의 값은 어떻게 계산할 수 있는가? "
   ]
  },
  {
   "cell_type": "markdown",
   "id": "a121af32-4b25-454f-9148-ba426f32c10d",
   "metadata": {},
   "source": [
    "`(풀이)`"
   ]
  },
  {
   "cell_type": "markdown",
   "id": "8a4ed7bb-d90b-480b-83d9-56a95e9df40d",
   "metadata": {},
   "source": [
    "르벡메저는 시그마유한측도이다. 또한 \n",
    "\n",
    "|||\n",
    "|:-:|:-:|\n",
    "|$a_1=1$|$A_1=[0,1]\\cap \\mathbb{Q}$|\n",
    "|$a_2=2$|$A_2=[0,1]\\cap \\mathbb{Q}^c$|\n",
    "\n",
    "와 같이 설정하면 $f$는 아래와 같이 표현가능하다.\n",
    "\n",
    "$$f=\\sum_{i=1}^{2} a_i\\mathbb{1}_{A_i}$$\n",
    "\n",
    "여기에서 $A_1,A_2 \\in {\\cal R}$ 이고 $a_1,a_2$는 모두 실수 이므로 $f$는 simple function 이다. 따라서 $\\int f d\\lambda$의 값은 모순없이 아래의 값으로 정의할 수 있다. \n",
    "\n",
    "$$\\int f d\\lambda = \\sum_{i=1}^{n} a_i\\lambda(A_i) = 1 \\times \\lambda\\big([0,1]\\cap \\mathbb{Q} \\big) + 2 \\times \\lambda\\big([0,1]\\cap\\mathbb{Q}^c\\big) = 2$$"
   ]
  },
  {
   "cell_type": "markdown",
   "id": "0d1dbd4f-438e-4462-8845-de4174b1670a",
   "metadata": {},
   "source": [
    "`#`"
   ]
  },
  {
   "cell_type": "markdown",
   "id": "0cbe6e31-ef37-4df7-83f8-963fb6b10f61",
   "metadata": {},
   "source": [
    "## D. $f$ 가 non-negative function 일때"
   ]
  },
  {
   "cell_type": "markdown",
   "id": "cef7504f-9c52-41a2-bc79-3631b7927b90",
   "metadata": {},
   "source": [
    "`# 정의2` -- $f$ 가 non-negative function 일 경우 $\\int f d\\mu$ 의 정의\n",
    "\n",
    "시그마유한측도공간 $(\\Omega,{\\cal F}, \\mu)$ 를 고려하자. 함수 $f:(\\Omega,{\\cal F})\\to(\\mathbb{\\bar R},\\bar{\\cal R})$ non-negative (***w.r.t. $\\mu$***) measurable function 이라고 하고 $\\varphi: \\Omega \\to \\mathbb{R}$ 를 simple function이라고 하자. 이 경우 기호 $\\int f d\\mu$ 의 값은 아래와 같이 정의한다. \n",
    "\n",
    "$$\\int f d\\mu := \\sup\\Big\\{\\int \\varphi d\\mu: 0\\leq \\varphi \\leq f, ~\\text{a.e. with respect to } \\mu \\Big\\}$$\n",
    "\n",
    "> 즉 기호 $\\int f d\\mu$ 의 값은 $\\mu$ 가 시그마유한이고 $f$ 가 non-negative (***w.r.t. $\\mu$***) 일 경우 모순되지 않게 항상 정의할 수 있다. "
   ]
  },
  {
   "cell_type": "markdown",
   "id": "3441dd65-3f70-41a8-9f72-9335a6ce4ae4",
   "metadata": {},
   "source": [
    "`#`"
   ]
  },
  {
   "cell_type": "markdown",
   "id": "ccb1a046-2d12-43a5-9a5b-e9dcaa987340",
   "metadata": {},
   "source": [
    "`-` 참고: $\\sup$은 항상 잘 정의됩니다.. "
   ]
  },
  {
   "cell_type": "markdown",
   "id": "164418b8-ade0-4117-b718-86a5795e1055",
   "metadata": {},
   "source": [
    "## E. $f$ 가 measurable function 일때"
   ]
  },
  {
   "cell_type": "markdown",
   "id": "9b8466a6-383f-461e-982b-b4bab00d82d4",
   "metadata": {},
   "source": [
    "`# 예비학습`"
   ]
  },
  {
   "cell_type": "markdown",
   "id": "5f3cfc54-5c17-4ac8-a5a4-4ac113b618da",
   "metadata": {},
   "source": [
    "`1` 임의의 함수 $f:\\Omega \\to \\mathbb{R}$에 대하여 아래와 같은 함수를 관찰하자. \n",
    "\n",
    "- $f^+ = \\max(0,f)$ \n",
    "- $f^- = \\max(0,-f)$ \n",
    "\n",
    "함수 $f^+$ 와 $f^-$는 아래의 성질이 성립한다. \n",
    "\n",
    "1. $f^+, f^-$ 는 모두 양수이다. \n",
    "2. $|f| = f^+ + f^-$\n",
    "3. $f = f^+ - f^-$ \n"
   ]
  },
  {
   "cell_type": "markdown",
   "id": "49b9832f-b3a2-42a2-a6d5-591b98b78d5c",
   "metadata": {},
   "source": [
    "`2` 외우세요 그냥\n",
    "\n",
    "만약에 $f:(\\Omega, {\\cal F}) \\to (\\bar{\\mathbb{R}},\\bar{{\\cal R}})$ 이면 \n",
    "\n",
    "- $f^+: (\\Omega, {\\cal F}) \\to (\\bar{\\mathbb{R}},\\bar{{\\cal R}})$\n",
    "- $f^-: (\\Omega, {\\cal F}) \\to (\\bar{\\mathbb{R}},\\bar{{\\cal R}})$\n",
    "\n",
    "이다. "
   ]
  },
  {
   "cell_type": "markdown",
   "id": "bc9bfb68-e2ed-4584-a2ec-97b82a554b99",
   "metadata": {},
   "source": [
    "(증명) 그냥 받아들이세요 "
   ]
  },
  {
   "cell_type": "markdown",
   "id": "58b07c5b-536b-4bef-a48e-bcdc3368eb23",
   "metadata": {},
   "source": [
    "`#`"
   ]
  },
  {
   "cell_type": "markdown",
   "id": "cc1037be-ebe1-4f78-83ca-ab7aa7ebf785",
   "metadata": {},
   "source": [
    "`-` 지금까지의 스토리: $\\sigma$-finite measurable space $(\\Omega, {\\cal F}, \\mu)$ 를 고려하자. 아래의 경우 $\\int f d\\mu$ 의 값이 모순없이 잘 정의되었다. \n",
    "\n",
    "1. $f:(\\Omega, {\\cal F}) \\to (\\mathbb{R}, {\\cal R})$ 인 simple function \n",
    "2. $f:(\\Omega, {\\cal F}) \\to (\\bar{\\mathbb{R}}, \\bar{{\\cal R}})$ 인 non-negative (***w.r.t. $\\mu$***) measurable function "
   ]
  },
  {
   "cell_type": "markdown",
   "id": "fb015b38-063d-4453-baec-18a7a07eefa3",
   "metadata": {},
   "source": [
    "이제 일반적인 $f:(\\Omega,{\\cal F}) \\to (\\bar{\\mathbb{R}}, \\bar{{\\cal R}})$ 에 대하여 $\\int f d\\mu$ 의 값이 모순없이 잘 정의되는지 살펴보겠다. "
   ]
  },
  {
   "cell_type": "markdown",
   "id": "3442253c-51c8-4fa5-8d8a-ea36ba5d5d94",
   "metadata": {},
   "source": [
    "`#`"
   ]
  },
  {
   "cell_type": "markdown",
   "id": "a7b5816d-2978-4378-bf65-1f9e4edd4757",
   "metadata": {},
   "source": [
    "`# 정의3` -- \n",
    "\n",
    "시그마유한측도공간 $(\\Omega, {\\cal F}, \\mu)$ 를 고려하자. 가측함수 $f:(\\Omega, {\\cal F}) \\to (\\bar{\\mathbb{R}},\\bar{{\\cal R}})$ 의 $\\mu$에 대한 적분 ***(intergral of $f$ w.r.t. $\\mu$)*** 은 아래와 같이 생각할 수 있다. \n",
    "\n",
    "$$\\int f d\\mu := \\int f^+ d\\mu - \\int f^- d\\mu$$\n",
    "\n",
    "이 값은 잘 정의될 수도 있고, 그렇지 않을 수도 있다. 구체적으로 아래와 같다. \n",
    "\n",
    "1. $\\int f^+ d\\mu < \\infty$ and $\\int f^- d\\mu < \\infty$ $\\Rightarrow$ $\\int f d\\mu = \\int f^+ d\\mu - \\int f^- d\\mu$ 로 정의 \n",
    "2. $\\int f^+ d\\mu = \\infty$ and $\\int f^- d\\mu < \\infty$ $\\Rightarrow$ $\\int f d\\mu = \\infty$ 로 정의 \n",
    "3. $\\int f^+ d\\mu < \\infty$ and $\\int f^- d\\mu = \\infty$ $\\Rightarrow$ $\\int f d\\mu = -\\infty$ 로 정의 \n",
    "4. $\\int f^+ d\\mu = \\infty$ and $\\int f^- d\\mu = \\infty$ $\\Rightarrow$ $\\int f d\\mu$ 는 정의할 수 없음. \n",
    "\n",
    "이중에서 1,2,3에 해당하는 경우는 ***\"$\\int f d\\mu$가 존재한다 (exist)\"*** 고 표현하며, 4의 경우는 ***\"$\\int f d\\mu$ 가 존재하지 않는다\"***고 표현한다. 이때 1의 경우를 특별하게 ***\"$f$ is integrable w.r.t. $\\mu$\"*** 라고 표현한다. "
   ]
  },
  {
   "cell_type": "markdown",
   "id": "54abf348-e186-47f3-b4c2-03782e5250e0",
   "metadata": {},
   "source": [
    "> 헷갈려: 언뜻 생각하면 \"$f$가 $\\mu$에 대하여 적분가능하지 않다\"라는 의미가 \"$\\int f d\\mu$ 의 값을 모순없이 잘 정의할 수 없다\" 라는 의미로 이해할 수 있는데 그렇지 않다."
   ]
  },
  {
   "cell_type": "markdown",
   "id": "3b301623-3bea-4213-9cca-83c67bafee77",
   "metadata": {},
   "source": [
    "`-` 위의 정의에서 $\\int f^+ d\\mu$ 혹은 $\\int f^- d\\mu$ 라는 표현이 잘 정의되는 이유는 $f^+, f^-$이 모두 $(\\Omega, {\\cal F}) \\to (\\mathbb{R}, {\\cal R})$인 non-negative (***w.r.t. $\\mu$***) function 이기 때문이다. "
   ]
  },
  {
   "cell_type": "markdown",
   "id": "a430b179-6236-45d0-b880-03d08961fc28",
   "metadata": {},
   "source": [
    "# 5. 시벤코정리 "
   ]
  },
  {
   "cell_type": "markdown",
   "id": "ee6dd217-d831-4b98-b781-97f36a2cc54d",
   "metadata": {},
   "source": [
    "`-` ref: [Approximation by Superpositions of a Sigmoidal Function](https://github.com/guebin/AP2023/blob/main/posts/II.%20%ED%99%95%EB%A5%A0%EB%A1%A0%EA%B8%B0%EC%B4%88/PAPER_Cybenko.pdf) [@cybenko1989approximation]"
   ]
  },
  {
   "cell_type": "markdown",
   "id": "2a5a6271-ced8-4011-add6-17f57c96cc2c",
   "metadata": {},
   "source": [
    "`-` meaure, measurable function, $\\int_E f(x)d\\mu(x)$ 의 표현이 등장 "
   ]
  },
  {
   "cell_type": "markdown",
   "id": "07afff40-6161-4728-a65b-1e09e7c70f87",
   "metadata": {},
   "source": [
    "`-` 임의의 연속함수 $f$ 를 sigmoidal function의 가중합으로 근사가능하다는 의미 "
   ]
  }
 ],
 "metadata": {
  "kernelspec": {
   "display_name": "Python 3 (ipykernel)",
   "language": "python",
   "name": "python3"
  },
  "language_info": {
   "codemirror_mode": {
    "name": "ipython",
    "version": 3
   },
   "file_extension": ".py",
   "mimetype": "text/x-python",
   "name": "python",
   "nbconvert_exporter": "python",
   "pygments_lexer": "ipython3",
   "version": "3.12.2"
  }
 },
 "nbformat": 4,
 "nbformat_minor": 5
}
