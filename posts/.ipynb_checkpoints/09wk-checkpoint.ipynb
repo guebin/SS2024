{
 "cells": [
  {
   "cell_type": "raw",
   "id": "091f110a-3b83-4e50-b8dd-473a02c0faec",
   "metadata": {
    "vscode": {
     "languageId": "raw"
    }
   },
   "source": [
    "---\n",
    "title: \"09wk: 확률변수\"\n",
    "author: \"최규빈\"\n",
    "date: \"11/10/2024\"\n",
    "reference-location: margin\n",
    "citation-location: margin\n",
    "cap-location: margin\n",
    "draft: false\n",
    "---"
   ]
  },
  {
   "cell_type": "markdown",
   "id": "31ed60bb-4fe2-4ca0-9557-260402143d5d",
   "metadata": {},
   "source": [
    "# 1. 강의영상 "
   ]
  },
  {
   "cell_type": "markdown",
   "id": "2338ab69-0d10-4463-8881-e27893a427e7",
   "metadata": {},
   "source": [
    "{{< video https://youtu.be/playlist?list=PLQqh36zP38-xHeTT4_M5ZUS4zz8yTjInQ&si=jTksLDPuwBEPqb93 >}}"
   ]
  },
  {
   "cell_type": "markdown",
   "id": "d9d5fe91-c9c8-4011-b58b-9f50e80e47d5",
   "metadata": {},
   "source": [
    "# 2. 확률변수 -- 기호와 표현"
   ]
  },
  {
   "cell_type": "markdown",
   "id": "f431321a-186f-42db-abd3-2510ef02cd49",
   "metadata": {},
   "source": [
    "## A. 기호와 표현 "
   ]
  },
  {
   "cell_type": "markdown",
   "id": "c8ba21ea-9f41-4f8e-a739-c17cd9714c82",
   "metadata": {},
   "source": [
    "`-` 동전예제에서의 확률공간 $(\\Omega,{\\cal F},\\mathbb{P})$를 가정하고 용어를 뜻 매김하자. \n",
    "\n",
    "| 용어                         | 기호 및 표현                          | 설명                           |\n",
    "|------------------------------|----------------------------------------|--------------------------------|\n",
    "| **표본** (outcomes)          | $H,T$                            | 실험의 가능한 개별 결과 |\n",
    "| **표본공간** (set of outcomes) |$\\Omega=\\{H,T\\}$           | 모든 표본을 포함하는 집합 |\n",
    "| **사건** (event)             | $\\emptyset, \\{H\\}, \\{T\\}, \\Omega$ | 표본공간의 부분집합 |\n",
    "| **????????** (set of events) | ${\\cal F} = 2^\\Omega = \\{\\emptyset, \\{H\\}, \\{T\\}, \\Omega\\}$ | 표본공간의 부분집합들의 집합 |\n",
    "| **확률** (probability)       | $\\mathbb{P}:{\\cal F} \\to [0,1]$ | 사건에 대응하는 확률 함수 |\n",
    "| **확률변수** (random variable) |$X: \\Omega \\to \\mathbb{R}$      | 표본공간에서 실수로 가는 함수 |ㅡ"
   ]
  },
  {
   "cell_type": "markdown",
   "id": "2b1a250e-e3c1-4d25-bc02-7356440ce24d",
   "metadata": {},
   "source": [
    "`-` 표본은 집합의 원소를 의미한다. 그래서 보통 소문자로 표현한다. (그런데 동전예제에서는 대문자로 표현해서 헷갈림.. 집합처럼 보여서..)"
   ]
  },
  {
   "cell_type": "markdown",
   "id": "4db72d61-2bdf-45be-82d7-67a43ef3926b",
   "metadata": {},
   "source": [
    "`-` 표본과 사건은 다르다. 잠시 주사위를 던지는 예제로 바꾸어 생각한다면 \n",
    "\n",
    "- 표본: 1,2,3,4,5,6\n",
    "- 사건: 1이 나올 사건, 홀수가 나올 사건, 4 이상이 나올 사건.. "
   ]
  },
  {
   "cell_type": "markdown",
   "id": "2c797ba9-4dc1-40f4-beb5-0cd15540594f",
   "metadata": {},
   "source": [
    "`-` 사건(=이벤트)는 항상 집합이다. "
   ]
  },
  {
   "cell_type": "markdown",
   "id": "57d84e09-ab33-4b7e-8b25-fa61411ae0bc",
   "metadata": {},
   "source": [
    "`-` 확률은 사건에 매길 수 있다. (표본에 매기는게 아니라..)"
   ]
  },
  {
   "cell_type": "markdown",
   "id": "ade78e6d-053a-401a-8d40-dc439b436842",
   "metadata": {},
   "source": [
    "`-` 확률을 모순없이 잴 수 있는 사건들의 모임을 시그마필드라고 한다. "
   ]
  },
  {
   "cell_type": "markdown",
   "id": "af379139-b4aa-4cd1-811e-495480a781c4",
   "metadata": {},
   "source": [
    "`-` 확률변수는 함수이다. (명언이죠?)"
   ]
  },
  {
   "cell_type": "markdown",
   "id": "c76acba2-4f74-471f-b8b3-fe5b045108cc",
   "metadata": {},
   "source": [
    "`-` 확률변수는 \"표본-숫자\" 를 맵핑하는 과정이다. (주사위예제와 같이 표본이 이미 숫자화 되어있다면 확률변수는 단순히 항등함수로 취급한다.)"
   ]
  },
  {
   "cell_type": "markdown",
   "id": "8807d037",
   "metadata": {},
   "source": [
    "`-` 확률변수의 공역은 항상 $\\mathbb{R}$이다. 즉 실수이다. "
   ]
  },
  {
   "cell_type": "markdown",
   "id": "aa869979-07f1-4156-b86a-8379af234c4f",
   "metadata": {},
   "source": [
    "`-` 표본은 표본공간 $\\Omega$ 의 원소이므로 $\\omega$ 라는 기호를 사용해 표현하기도 한다. "
   ]
  },
  {
   "cell_type": "markdown",
   "id": "2b70bdf2",
   "metadata": {},
   "source": [
    ":::{.callout-warning}\n",
    "우리는 표본, 표본공간, 사건, set of events, 확률에 대해서는 명확하게 정의했지만 아직 확률변수가 무엇인지 정의한 적 없다. 단순히 확률변수는 $\\Omega$ 에서 $\\mathbb{R}$로 맵핑되는 함수일 뿐 일까?\n",
    ":::"
   ]
  },
  {
   "cell_type": "markdown",
   "id": "78209d16",
   "metadata": {},
   "source": [
    ":::{.callout-note}\n",
    "\n",
    "## 확률의 정의\n",
    "$(\\Omega,{\\cal F})$ 를 measurable space 라고 하자. 확률이란 $\\mathbb{P}: {\\cal F} \\to [0,1]$ 인 **조금 특별한** 함수이다. 여기에서 **조금 특별하다**는 것은 $\\mathbb{P}$ 가\n",
    "\n",
    "1. $\\mathbb{P}(\\emptyset)=0$ \n",
    "2. $\\mathbb{P}(\\Omega)=1$\n",
    "3. $\\mathbb{P}$ is $\\sigma$-additivie on ${\\cal F}$ \n",
    "\n",
    "를 만족하는 함수라는 의미이다. \n",
    "\n",
    ":::"
   ]
  },
  {
   "cell_type": "markdown",
   "id": "476b2416",
   "metadata": {},
   "source": [
    ":::{.callout-note}\n",
    "\n",
    "## 확률변수의 정의\n",
    "$(\\Omega,{\\cal F})$ 를 measurable space 라고 하자. 확률변수란 $X: \\Omega \\to \\mathbb{R}$ 인 **조금 특별한** 함수이다. \n",
    "\n",
    ":::"
   ]
  },
  {
   "cell_type": "markdown",
   "id": "fa9cbc36-3646-43ca-b440-f689c61564ff",
   "metadata": {},
   "source": [
    "## B. 연습문제"
   ]
  },
  {
   "attachments": {},
   "cell_type": "markdown",
   "id": "dd9f54f7-ed07-4d75-9ee2-b636e12449af",
   "metadata": {},
   "source": [
    "`# 예제1` -- 기본표현정리\n",
    "\n",
    "아와 같은 동전예제를 생각하자. \n",
    "\n",
    "-  outcomes: $H$,$T$. \n",
    "-  sample space: $\\Omega = \\{H,T\\}$\n",
    "-  event^[event는 집합을 의미]: $\\emptyset$, $\\{H\\}$, $\\{T\\}$, $\\{H,T\\}$. \n",
    "-  $\\sigma$-field: ${\\cal F}=2^\\Omega$\n",
    "-  probability: $\\mathbb{P}: {\\cal F} \\to [0,1]$ such that $\\mathbb{P}(\\{H\\})=\\mathbb{P}(\\{T\\})=\\frac{1}{2}$.^[엄밀하게는 $\\mathbb{P}$ 를 ${\\cal F}$ 의 모든 원소에 대하여 정의해야하는 것 아니냐고요?? 카라테오도리가 남긴 유산을 잘 떠올려보세요!]\n",
    "-  random variable: $X: \\Omega \\to \\mathbb{R}$ such that $X(H)=1$ and $X(T)=0$. \n",
    "\n",
    "아래중 올바른 표현은? "
   ]
  },
  {
   "cell_type": "markdown",
   "id": "3ec6a992-ffcc-4b65-b87c-d666b00a1077",
   "metadata": {},
   "source": [
    "1. $X(H)=0$\n",
    "2. $X(\\{H\\})=0$\n",
    "3. $X(\\{H,T\\})=\\{0,1\\}$\n",
    "4. $\\mathbb{P}(H)=\\frac{1}{2}$\n",
    "5. $\\mathbb{P}(\\{H\\})=\\frac{1}{2}$\n",
    "6. $\\mathbb{P}(\\{H,T\\})=1$\n",
    "\n"
   ]
  },
  {
   "cell_type": "markdown",
   "id": "211078f0-f607-47ac-ac26-1c58ec28f34e",
   "metadata": {},
   "source": [
    "`(해설)`"
   ]
  },
  {
   "cell_type": "markdown",
   "id": "7f1ef594",
   "metadata": {},
   "source": [
    "2,3,4 는 틀렸어요 "
   ]
  },
  {
   "cell_type": "markdown",
   "id": "e82a5ee7-2dc0-4d2d-bc4c-41ca170215be",
   "metadata": {},
   "source": [
    "`#`"
   ]
  },
  {
   "cell_type": "markdown",
   "id": "900bc3e9-5559-4cf9-bd0d-1898a5e17962",
   "metadata": {},
   "source": [
    "`# 예제2` \n",
    "\n",
    "그런데 사실 $\\mathbb{P}(H)=\\frac{1}{2}$와 같은 표현을 많이 본 적 있는것 같다. 예를들어서 고등학교에서 두 사건의 독립에 대해 배울때 아래와 같은 방식으로 표현했었다. // 출처: [네이버 블로그](https://blog.naver.com/hawarjung2/222897509059)\n",
    "    \n",
    "> 두 사건 $A$, $B$에 대하여 $\\mathbb{P}(B|A) = \\mathbb{P}(B|A^c) =\\mathbb{P}(B)$ 이면 두 사건이 독립이라고 한다~~\n",
    "\n",
    "그렇다면 이 표현은 틀린걸까? "
   ]
  },
  {
   "cell_type": "markdown",
   "id": "268940ed-4bec-4942-9471-86d6d228465e",
   "metadata": {},
   "source": [
    "`(해설)`\n",
    "\n",
    "여기에서 사건 $A$, $B$ 는 event을 의미하며 outcome을 의미하는게 아님. 즉 $A$, $B$ 는 집합임. 따라서 블로그의 표현은 맞는 표현임."
   ]
  },
  {
   "cell_type": "markdown",
   "id": "04211f69-0c97-4952-b530-564adbd30266",
   "metadata": {},
   "source": [
    "`#`"
   ]
  },
  {
   "cell_type": "markdown",
   "id": "d8296da1-d9fb-405e-913c-7f79bae58809",
   "metadata": {},
   "source": [
    "`# 예제3` -- $\\mathbb{P}(X=1)$\n",
    "\n",
    "다시 아래와 같은 동전예제를 생각하자. \n",
    "\n",
    "-  outcomes: $H$,$T$. \n",
    "-  sample space: $\\Omega = \\{H,T\\}$\n",
    "-  event^[event는 집합을 의미]: $\\emptyset$, $\\{H\\}$, $\\{T\\}$, $\\{H,T\\}$. \n",
    "-  $\\sigma$-field: ${\\cal F}=2^\\Omega$\n",
    "-  probability: $\\mathbb{P}: {\\cal F} \\to [0,1]$ such that $\\mathbb{P}(\\{H\\})=\\mathbb{P}(\\{T\\})=\\frac{1}{2}$. \n",
    "-  random variable: $X: \\Omega \\to \\mathbb{R}$ such that $X(H)=1$ and $X(T)=0$.^[따라서 $\\mathbb{R}$은 함수 $X$의 공역, $\\{0,1\\}$은 함수 $X$의 치역이 된다.]\n",
    "\n",
    "수리통계 시간에서 아래와 같은 표현 본 적 있다.\n",
    "\n",
    "$$\\mathbb{P}(X=1)=\\frac{1}{2}$$\n",
    "\n",
    "그런데 $\\mathbb{P}$의 입력으로는 집합이 들어가야하는데, \"$X=1$\"은 그냥 수식임. 그렇다면 이 표현은 틀린 표현일까?? "
   ]
  },
  {
   "cell_type": "markdown",
   "id": "1b8f3cb6-fcf8-4af6-aaff-f6782f38d6d6",
   "metadata": {},
   "source": [
    "`(해설)`"
   ]
  },
  {
   "cell_type": "markdown",
   "id": "2cc1e8f9-df9b-4f91-ab35-c64c9f1bc694",
   "metadata": {},
   "source": [
    "사실 $\\mathbb{P}(X=1)$의 의미는 아래와 같은 표현의 축약형이다. \n",
    "\n",
    "$$\\mathbb{P}(\\{\\omega: X(\\omega)=1 \\})$$"
   ]
  },
  {
   "cell_type": "markdown",
   "id": "4b312502-e4e6-4c59-b4f7-4369aceb9025",
   "metadata": {},
   "source": [
    "여기에서 $\\{\\omega: X(\\omega)=1\\} = \\{H\\}$ 를 의미하므로 결국"
   ]
  },
  {
   "cell_type": "markdown",
   "id": "81ea78ad-7ef0-4fff-a56c-c35621fde95e",
   "metadata": {},
   "source": [
    "$$\\mathbb{P}(X=1):=\\mathbb{P}(\\{\\omega: X(\\omega)=1\\})=\\mathbb{P}(\\{H\\})$$"
   ]
  },
  {
   "cell_type": "markdown",
   "id": "96b7fee4-5534-41e7-b910-708587eb79c3",
   "metadata": {},
   "source": [
    "이 된다. 따라서 옳은 표현이다."
   ]
  },
  {
   "cell_type": "markdown",
   "id": "1cf0ca72-8f79-4ee8-8d2f-03d358e83a55",
   "metadata": {},
   "source": [
    "> 사실 $\\mathbb{P}(\\{\\omega: X(\\omega)=1 \\})$ 보다 $\\mathbb{P}(\\{\\omega \\in \\Omega: X(\\omega)=1 \\})$ 혹은 $\\mathbb{P}(\\{\\omega : X(\\omega)=1, \\omega \\in \\Omega \\})$ 이 좀 더 명확한 표현이지만 표기가 너무 복잡해서 잘 사용하지 않는다. 사실 $X(\\omega)$라고 쓴 것 자체가 $\\omega$는 $\\Omega$의 원소임을 암시하니까.. "
   ]
  },
  {
   "cell_type": "markdown",
   "id": "6c77b70f-5595-4a57-ab12-78fe5b6dfdc4",
   "metadata": {},
   "source": [
    "`#`"
   ]
  },
  {
   "cell_type": "markdown",
   "id": "eb6d6948-9f5e-4039-9e3e-22023c5a1a63",
   "metadata": {},
   "source": [
    "`# 예제4` -- $\\mathbb{P}(X=3)$\n",
    "\n",
    "다시 아래와 같은 동전예제를 생각하자. \n",
    "\n",
    "-  outcomes: $H$,$T$. \n",
    "-  sample space: $\\Omega = \\{H,T\\}$\n",
    "-  event^[event는 집합을 의미]: $\\emptyset$, $\\{H\\}$, $\\{T\\}$, $\\{H,T\\}$. \n",
    "-  $\\sigma$-field: ${\\cal F}=2^\\Omega$\n",
    "-  probability: $\\mathbb{P}: {\\cal F} \\to [0,1]$ such that $\\mathbb{P}(\\{H\\})=\\mathbb{P}(\\{T\\})=\\frac{1}{2}$. \n",
    "-  random variable: $X: \\Omega \\to \\mathbb{R}$ such that $X(H)=1$ and $X(T)=0$.^[따라서 $\\mathbb{R}$은 함수 $X$의 공역, $\\{0,1\\}$은 함수 $X$의 치역이 된다.]\n",
    "\n",
    "아래와 같은 표현은 가능한가? \n",
    "\n",
    "$$\\mathbb{P}(X=3)=0$$\n",
    "\n",
    "설명하라. "
   ]
  },
  {
   "cell_type": "markdown",
   "id": "e5cb533e-6a05-434b-9df4-f40f97f52239",
   "metadata": {},
   "source": [
    "`(해설)`"
   ]
  },
  {
   "cell_type": "markdown",
   "id": "78c600e2-aae5-430b-939f-2097a2e42ec9",
   "metadata": {},
   "source": [
    "대충 \"$X$가 가질 수 있는 값은 0 혹은 1이고 따라서 3이라는 값을 가질 수 없으므로 확률이 0이다\" 정도의 의미인 것 같다. 이러한 표현이 가능한것인지 좀 더 엄밀히 따져보자. \n",
    "\n",
    "$$\\mathbb{P}(X=3)=\\mathbb{P}(\\{\\omega: X(\\omega)= 3 \\})$$"
   ]
  },
  {
   "cell_type": "markdown",
   "id": "c67f07fd-c4cc-484f-9376-c72649638ddb",
   "metadata": {},
   "source": [
    "그런데 $X(\\omega)=3$ 을 만족하는 $\\omega$는 존재하지 않으므로 $\\{\\omega: X(\\omega)= 3 \\}$ 는 공집합이 된다. 따라서 "
   ]
  },
  {
   "cell_type": "markdown",
   "id": "4d8f8c5f-407f-4098-834e-3d493a11ba06",
   "metadata": {},
   "source": [
    "$$\\mathbb{P}(X=3)=\\mathbb{P}(\\{\\omega: X(\\omega)= 3 \\}) = \\mathbb{P}(\\emptyset)=0$$"
   ]
  },
  {
   "cell_type": "markdown",
   "id": "0e6c1044-524e-41fc-9221-b93caa4ddfbe",
   "metadata": {},
   "source": [
    "이 된다. 따라서 옳은 표현이다."
   ]
  },
  {
   "cell_type": "markdown",
   "id": "8c843162-2864-4a3b-b805-9dc62d536c78",
   "metadata": {},
   "source": [
    "`#`"
   ]
  },
  {
   "cell_type": "markdown",
   "id": "814671e9-ec1c-44c6-ba28-22e4021e80b0",
   "metadata": {},
   "source": [
    "`# 예제5` -- 시계예제"
   ]
  },
  {
   "attachments": {},
   "cell_type": "markdown",
   "id": "bafc52ba-386a-46a4-a504-1db811149d94",
   "metadata": {},
   "source": [
    "이번에는 바늘이 하나 있는 시계예제를 생각하자. \n",
    "\n",
    "- outcomes: $0,\\frac{\\pi}{2},\\pi,\\frac{3\\pi}{2},\\dots$\n",
    "- sample space: $\\Omega = (0,2\\pi]$\n",
    "- event: $\\emptyset, \\Omega, (0,\\pi), \\{\\pi\\}, \\dots$\n",
    "- $\\sigma$-field: ${\\cal R} |_{\\Omega}: = \\{A\\cap \\Omega: A \\in {\\cal R} \\}=\\{\\emptyset, \\Omega, (0,\\pi), \\{\\pi\\}, \\dots  \\}$\n",
    "- probability: $\\mathbb{P}: {\\cal R} |_{\\Omega} \\to [0,1]$ such that $\\mathbb{P}((a,b]) = \\frac{b-a}{2\\pi}$ where $0< a<b\\leq 2\\pi$.^[$\\mathbb{P}$를 ${\\cal A}= \\{(a,b]: 0<a<b\\leq 1\\}$ 에서만 정의했는데도 어떻게 $(\\Omega,{\\cal R}|_{\\Omega})$ 에서의 메져라고 주장하냐고? 카라테오도리의 확장정리가 남긴 유산을 잘 떠올려보세요!]\n",
    "- random variable: $X: \\Omega \\to \\mathbb{R}$ such that $X(\\omega)=\\frac{\\omega}{2\\pi}.$^[따라서 $\\mathbb{R}$은 함수 $X$의 공역, $(0,1]$ 은 함수 $X$의 치역이 된다.]"
   ]
  },
  {
   "cell_type": "markdown",
   "id": "f3901e02-cf53-4eb5-b950-cb88e097b249",
   "metadata": {},
   "source": [
    "아래와 같은 표현이 가능한가?"
   ]
  },
  {
   "cell_type": "markdown",
   "id": "4160a40a",
   "metadata": {},
   "source": [
    "$$\\mathbb{P}\\left(X\\leq \\frac{1}{2}\\right)$$"
   ]
  },
  {
   "cell_type": "markdown",
   "id": "138f4f3c",
   "metadata": {},
   "source": [
    "가능하다면, 그 값을 계산하라. "
   ]
  },
  {
   "cell_type": "markdown",
   "id": "d3eec7ed",
   "metadata": {},
   "source": [
    "`(해설)`"
   ]
  },
  {
   "cell_type": "markdown",
   "id": "41ce436a",
   "metadata": {},
   "source": [
    "정의상 아래와 같이 쓸 수 있다. "
   ]
  },
  {
   "cell_type": "markdown",
   "id": "f8a9b9f6",
   "metadata": {},
   "source": [
    "$$\\mathbb{P}\\left(X\\leq \\frac{1}{2}\\right)= \\mathbb{P}\\left(\\left\\{\\omega: X(\\omega)\\leq \\frac{1}{2} \\right\\}\\right)$$"
   ]
  },
  {
   "cell_type": "markdown",
   "id": "f99a78a2",
   "metadata": {},
   "source": [
    "그런데 $\\{\\omega: X(\\omega)\\leq \\frac{1}{2}\\}=\\{\\omega: 0 < X(\\omega)\\leq \\frac{1}{2}\\} \\cup \\{\\omega: X(\\omega)\\leq 0\\}$ 이므로\n",
    "\n",
    "- $\\{\\omega: 0 < X(\\omega)\\leq \\frac{1}{2}\\} = \\{\\omega: 0 < \\frac{\\omega}{2\\pi}\\leq \\frac{1}{2}\\} = (0,\\pi]$\n",
    "- $\\{\\omega: X(\\omega)\\leq 0\\} = \\emptyset$\n",
    "\n",
    "를 이용하면 "
   ]
  },
  {
   "cell_type": "markdown",
   "id": "a8435f08",
   "metadata": {},
   "source": [
    "$$\\mathbb{P}\\left(X\\leq \\frac{1}{2}\\right)= \\mathbb{P}\\left(\\left\\{\\omega: X(\\omega)\\leq \\frac{1}{2} \\right\\}\\right) = \\mathbb{P}((0,\\pi])$$"
   ]
  },
  {
   "cell_type": "markdown",
   "id": "1d9d0736",
   "metadata": {},
   "source": [
    "가 된다. 따라서 $\\mathbb{P}((0,\\pi])=\\frac{\\pi-0}{2\\pi}=\\frac{1}{2}$ 로 계산할 수 있다. "
   ]
  },
  {
   "cell_type": "markdown",
   "id": "fdae6eed",
   "metadata": {},
   "source": [
    "> 제가 이거 답이 $\\frac{1}{2}$인걸 몰라서 풀고 있었던 건 아닙니다.. 기호사용에 익숙해지세요 "
   ]
  },
  {
   "cell_type": "markdown",
   "id": "4a0e1432",
   "metadata": {},
   "source": [
    "`#`"
   ]
  },
  {
   "cell_type": "markdown",
   "id": "9900a98e",
   "metadata": {},
   "source": [
    ":::{.callout-note}\n",
    "사실 우리가 그동안 써 왔던 아래와 같은 표현들은 \n",
    "\n",
    "1. $\\mathbb{P}(X=1)$\n",
    "2. $\\mathbb{P}(X\\leq \\frac{1}{2})$\n",
    "3. $\\mathbb{P}(0\\leq X\\leq \\frac{1}{2})$\n",
    "4. $\\mathbb{P}(X \\neq 2)$\n",
    "\n",
    "아래와 같은 일반적인 notation 으로 표현 가능하다.\n",
    "\n",
    "$$\\mathbb{P}(X \\in A)=\\mathbb{P}(\\{\\omega: X(\\omega) \\in A \\})$$\n",
    "\n",
    "여기에서 1-4의 각 경우에 대응하는 $A$는 다음과 같다. \n",
    "\n",
    "1. $A=\\{1\\}$\n",
    "2. $A=(-\\infty, \\frac{1}{2}]$\n",
    "3. $A=[0,\\frac{1}{2}]$\n",
    "4. $A=\\mathbb{R} - \\{2\\}$\n",
    ":::"
   ]
  },
  {
   "cell_type": "markdown",
   "id": "8812eef5",
   "metadata": {},
   "source": [
    "`# 상/역상` -- 표현 $\\mathbb{P}(X \\in A)$ 에서 $A$는 함수 $X$의 상(image)을 의미하며, $\\{\\omega: X(\\omega) \\in A\\}$는 $A$의 역상(inverse image)을 나타낸다. 이를 강조하기 위해 아래와 같은 기호로 나타내기도 한다. \n",
    "\n",
    "$$\\{\\omega: X(\\omega) \\in A\\}:= X^{-1}(A)$$\n",
    "\n",
    "\n",
    "ref: <https://en.wikipedia.org/wiki/Image_(mathematics)>\n",
    "\n",
    "`#`"
   ]
  },
  {
   "cell_type": "markdown",
   "id": "b0ad3373-c1a3-46fd-94f1-7f405991a7be",
   "metadata": {},
   "source": [
    "# 3. 확률변수 -- 엄밀한 정의"
   ]
  },
  {
   "cell_type": "markdown",
   "id": "ac5ba11c",
   "metadata": {},
   "source": [
    "## A. Motive"
   ]
  },
  {
   "cell_type": "markdown",
   "id": "c1f51176",
   "metadata": {},
   "source": [
    "`-` PTSD가 오는 질문: 표현 $\\mathbb{P}(X \\in A)$ 는 언제가 가능한가?"
   ]
  },
  {
   "cell_type": "markdown",
   "id": "3a8a1bed",
   "metadata": {},
   "source": [
    "`# 예제1`"
   ]
  },
  {
   "cell_type": "markdown",
   "id": "e449a208",
   "metadata": {},
   "source": [
    "아래와 같은 예제를 고려하자. \n",
    "\n",
    "- outcomes: $a,b,c$\n",
    "- sample space: $\\Omega = \\{a,b,c\\}$\n",
    "- event: $\\emptyset, \\Omega, \\{a\\}, \\{b,c\\}$\n",
    "- $\\sigma$-field: ${\\cal F} = \\{\\emptyset, \\Omega, \\{a\\}, \\{b,c\\}\\}$\n",
    "- probability: $\\mathbb{P}: {\\cal F} \\to [0,1]$ such that $\\mathbb{P}(\\{a\\}) =\\mathbb{P}(\\{b,c\\}) = \\frac{1}{2}$.\n",
    "- random variable: $X: \\Omega \\to \\mathbb{R}$ such that $X(a)=1, X(b)=2, X(c)=3$."
   ]
  },
  {
   "cell_type": "markdown",
   "id": "a5338244",
   "metadata": {},
   "source": [
    "아래와 같은 표현은 항상 모순없이 정의 가능한가? \n",
    "\n",
    "1. $\\mathbb{P}(X=1)$\n",
    "2. $\\mathbb{P}(X=2)$\n",
    "3. $\\mathbb{P}(X=3)$\n",
    "4. $\\mathbb{P}(X\\leq 3)$\n",
    "4. $\\mathbb{P}(X=2 \\text{ or } X=3)$\n"
   ]
  },
  {
   "cell_type": "markdown",
   "id": "e1fe4fa9",
   "metadata": {},
   "source": [
    "`(해설)`"
   ]
  },
  {
   "cell_type": "markdown",
   "id": "ac45458f",
   "metadata": {},
   "source": [
    "2,3은 가능하지 않다. "
   ]
  },
  {
   "cell_type": "markdown",
   "id": "2de5edc2",
   "metadata": {},
   "source": [
    "1. $\\mathbb{P}(X=1) = \\mathbb{P}(\\{a\\}) = \\frac{1}{2}$ \n",
    "2. $\\mathbb{P}(X=2) = \\mathbb{P}(\\{b\\}) = ?$  // $\\mathbb{P}(\\{b\\})$는 정의되지 않음. $\\{b\\} \\notin {\\cal F}$ 임. 즉 $\\{b\\}$는 (확률을) 잴 수 없는 집합임!\n",
    "3. $\\mathbb{P}(X=3) = \\mathbb{P}(\\{c\\}) = ?$  // $\\mathbb{P}(\\{c\\})$는 정의되지 않음. $\\{c\\} \\notin {\\cal F}$ 임. 즉 $\\{c\\}$는 (확률을) 잴 수 없는 집합임!\n",
    "4. $\\mathbb{P}(X\\leq 3) = \\mathbb{P}(\\Omega) = 1$ \n",
    "5. $\\mathbb{P}(X=2 \\text{ or } X=3) = \\mathbb{P}\\big(\\{\\omega: X(\\omega)=2\\} \\cup \\{\\omega: X(\\omega)=3\\}\\big)= \\mathbb{P}(\\{b,c\\})=\\frac{1}{2}$ "
   ]
  },
  {
   "cell_type": "markdown",
   "id": "7df6bbbe",
   "metadata": {},
   "source": [
    "`#`"
   ]
  },
  {
   "cell_type": "markdown",
   "id": "3c856efa",
   "metadata": {},
   "source": [
    "`# 예제2`"
   ]
  },
  {
   "cell_type": "markdown",
   "id": "580f7c1b",
   "metadata": {},
   "source": [
    "아래와 같은 예제를 고려하자. \n",
    "\n",
    "- outcomes: $a,b,c$\n",
    "- sample space: $\\Omega = \\{a,b,c\\}$\n",
    "- event: $\\emptyset, \\Omega, \\{a\\}, \\{b,c\\}$\n",
    "- $\\sigma$-field: ${\\cal F} = \\{\\emptyset, \\Omega, \\{a\\}, \\{b,c\\}\\}$\n",
    "- probability: $\\mathbb{P}: {\\cal F} \\to [0,1]$ such that $\\mathbb{P}(\\{a\\}) =\\mathbb{P}(\\{b,c\\}) = \\frac{1}{2}$.\n",
    "- random variable: $X: \\Omega \\to \\mathbb{R}$ such that $X(a)=1, X(b)=2, X(c)=2$."
   ]
  },
  {
   "cell_type": "markdown",
   "id": "c39f8de3",
   "metadata": {},
   "source": [
    "아래와 같은 표현은 항상 모순없이 정의 가능한가? \n",
    "\n",
    "1. $\\mathbb{P}(X=1)$\n",
    "2. $\\mathbb{P}(X=2)$\n",
    "3. $\\mathbb{P}(X=3)$\n",
    "4. $\\mathbb{P}(X\\leq 3)$\n",
    "4. $\\mathbb{P}(X=2 \\text{ or } X=3)$\n"
   ]
  },
  {
   "cell_type": "markdown",
   "id": "c37b0f09",
   "metadata": {},
   "source": [
    "`(해설)`"
   ]
  },
  {
   "cell_type": "markdown",
   "id": "4e2ae349",
   "metadata": {},
   "source": [
    "모두 가능하다. "
   ]
  },
  {
   "cell_type": "markdown",
   "id": "dac370fd",
   "metadata": {},
   "source": [
    "1. $\\mathbb{P}(X=1) = \\mathbb{P}(\\{a\\}) = \\frac{1}{2}$ \n",
    "2. $\\mathbb{P}(X=2) = \\mathbb{P}(\\{b,c\\}) = \\frac{1}{2}$\n",
    "3. $\\mathbb{P}(X=3) = \\mathbb{P}(\\emptyset) = 0$\n",
    "4. $\\mathbb{P}(X\\leq 3) = \\mathbb{P}(\\Omega) = 1$ \n",
    "5. $\\mathbb{P}(X=2 \\text{ or } X=3) = \\mathbb{P}(\\{b,c\\})=\\frac{1}{2}$ "
   ]
  },
  {
   "cell_type": "markdown",
   "id": "f0f88c74",
   "metadata": {},
   "source": [
    "`#`"
   ]
  },
  {
   "cell_type": "markdown",
   "id": "f502f164",
   "metadata": {},
   "source": [
    "`# 예제3` -- PTSD.. "
   ]
  },
  {
   "cell_type": "markdown",
   "id": "6142d42e",
   "metadata": {},
   "source": [
    "이번에는 바늘이 하나 있는 시계예제를 생각하자. \n",
    "\n",
    "- outcomes: $0,\\frac{\\pi}{2},\\pi,\\frac{3\\pi}{2},\\dots$\n",
    "- sample space: $\\Omega = [0,2\\pi)$\n",
    "- event: $\\emptyset, \\Omega, (0,\\pi), \\{\\pi\\}, \\dots$\n",
    "- $\\sigma$-field: ${\\cal R} |_{\\Omega}: = \\{A\\cap \\Omega: A \\in {\\cal R} \\}=\\{\\emptyset, \\Omega, (0,\\pi), \\{\\pi\\}, \\dots  \\}$\n",
    "- probability: $\\mathbb{P}: {\\cal R} |_{\\Omega} \\to [0,1]$ such that $\\mathbb{P}([a,b)) = \\frac{b-a}{2\\pi}$ where $0< a<b\\leq 2\\pi$.\n",
    "- random variable: $X: \\Omega \\to \\mathbb{R}$ such that $X(\\omega)=\\omega.$"
   ]
  },
  {
   "cell_type": "markdown",
   "id": "543ae631",
   "metadata": {},
   "source": [
    "$\\mathbb{R}$의 임의의 부분집합 $B$ 에 대하여, 아래와 같은 표현은 항상 모순없이 정의 가능한가? \n",
    "\n",
    "$$\\mathbb{P}(X \\in B)$$\n"
   ]
  },
  {
   "cell_type": "markdown",
   "id": "c9548f00",
   "metadata": {},
   "source": [
    "`(해설)`"
   ]
  },
  {
   "cell_type": "markdown",
   "id": "7c0f586d",
   "metadata": {},
   "source": [
    "비탈리집합 $V\\subset [0,1] \\subset [0,2\\pi)$에 대한 inverse image는 비탈리집합 그 자체가 된다. 따라서 아래와 같이 된다. \n",
    "\n",
    "$$\\mathbb{P}(X \\in V)=\\mathbb{P}\\big(\\{\\omega: X(\\omega) \\in V\\}\\big)=\\mathbb{P}(V)$$ \n",
    "\n",
    "그런데 $\\mathbb{P}(V) = \\frac{1}{2\\pi} \\lambda(V)$ 이고 집합 $V$는 르벡메져로는 잴 수 없으므로 $\\mathbb{P}(V)$는 정의될 수 없다. "
   ]
  },
  {
   "cell_type": "markdown",
   "id": "c0bbf940",
   "metadata": {},
   "source": [
    "`#`"
   ]
  },
  {
   "cell_type": "markdown",
   "id": "cfe5b52e",
   "metadata": {},
   "source": [
    ":::{.callout-note}\n",
    "\n",
    "### 문제의 정리 $\\to$ 해결방안 모색\n",
    "\n",
    "결국 $\\mathbb{P}(X \\in A)$ 와 같은 표현이 근본적으로 가능하기 위해서는 $A$의 역상이 (확률을) 잴 수 있는 집합이어야 한다. 즉 $X^{-1}(A)$ 가 시그마필드의 원소이어야 한다. 예제1과 같은 경우에는 $(\\Omega,{\\cal F},\\mathbb{P})$를 완벽하게 구축했음에도 불구하고 $\\mathbb{P}(X=2)$ 와 같은 표현이 가능하진 않았는데 이것은 $(\\Omega, {\\cal F},\\mathbb{P})$의 문제가 아니라 $X$의 문제이다. 실제로 예제2와 같이 $X$를 정의할 경우에는 문제되지 않았다. \n",
    "\n",
    "그렇다면 우리는 $\\mathbb{P}(X \\in A)$ 와 같은 표현을 어떻게 써야할까?? 지금처럼 \n",
    "\n",
    "> 혹시 $\\mathbb{P}(X \\in A)$ 이런게 쓸 수 없는 표현은 아닐까??\n",
    "\n",
    "염려하면서 써야할까? 그럴수도 있지만 표현 $\\mathbb{P}(X\\in A)$와 같은 표현이 언제나 가능하도록 확률변수 $X$의 정의를 바꾸면 된다. 우리는 지금까지 확률변수 $X$를 \n",
    "\n",
    "- $X: \\Omega \\to \\mathbb{R}$ 인 함수 \n",
    "\n",
    "라고 생각했는데, 이것이 아니라 \n",
    "\n",
    "- $X: \\Omega \\to \\mathbb{R}$ 인 함수. 그런데 $\\mathbb{P}(X \\in A)$ 라는 표현이 언제나 가능하게 만들어 준다는 조건을 곁들인.. \n",
    "\n",
    "라는 정의로 바꾸면 된다.\n",
    ":::"
   ]
  },
  {
   "cell_type": "markdown",
   "id": "c385c60d-6612-4d97-8d70-8f3e50b557fe",
   "metadata": {},
   "source": [
    "`#`"
   ]
  },
  {
   "cell_type": "markdown",
   "id": "2d58ad44-712f-4080-8ec6-e7675f01e032",
   "metadata": {},
   "source": [
    "## B. 정의"
   ]
  },
  {
   "cell_type": "markdown",
   "id": "d79219b2",
   "metadata": {},
   "source": [
    "`-` 확률변수의 정의 "
   ]
  },
  {
   "cell_type": "markdown",
   "id": "4102067c",
   "metadata": {},
   "source": [
    ":::{.callout-note}\n",
    "\n",
    "## 확률변수의 정의\n",
    "$(\\Omega,{\\cal F})$ 를 measurable space 라고 하자. 확률변수란 $X: \\Omega \\to \\mathbb{R}$ 인 **조금 특별한** 함수이다. 여기에서 **조금 특별하다**는 표현의 의미는 $X$가 아래를 만족한다는 의미이다. \n",
    "\n",
    "$$\\forall A \\in {\\cal R}: \\{\\omega: X(\\omega) \\in A \\} \\in {\\cal F}$$\n",
    "\n",
    "이 경우 $X$는 $(\\Omega, {\\cal F})$에서의 random-variable 이라고 말한다. 또는 \"$X$는 ${\\cal F}$-measurable 하다\"고 표현하기도 하며 이를 간단히 기호로 $X \\in {\\cal F}$ 라 쓰기도 한다.^[기호의 의미는 \"$X$에 의하여 만들어지는 역상은 항상 ${\\cal F}$의 원소이다\" 정도로 해석하면 좋겠다. 기호가 엄청 헷갈리긴해요.]\n",
    ":::"
   ]
  },
  {
   "cell_type": "markdown",
   "id": "46fdd320",
   "metadata": {},
   "source": [
    "`-` $X: (\\Omega,{\\cal F}) \\to (\\mathbb{R},{\\cal R})$의 의미\n",
    "\n",
    "\n",
    "확률변수를 정의를 살펴보면 두 개의 잴 수 있는 공간이 필요하다. \n",
    "\n",
    "1. 역상이 ${\\cal F}$의 원소이어야 하므로 ${\\cal F}$가 필요하다. 따라서 $\\Omega$도 필요하다, 즉 공간 $(\\Omega, {\\cal F})$ 이 필요하다. \n",
    "2. 상은 ${\\cal R}$의 원소이어야 하므로^[이건 갑자기 왜??] 공간 $(\\mathbb{R},{\\cal R})$이 필요하다. \n",
    "\n",
    "따라서 확률변수는 $X$라는 표현은 자연스럽게 두개의 잴 수 있는 공간의 정의가 미리 선행되어야 사용할 수 있는 표현이다. 이러한 의미에서 $X: (\\Omega, {\\cal F}) \\to (\\mathbb{R},{\\cal R})$ 이라고 사용하기도 한다. 따라서 아래는 모두 같은 표현이다. \n",
    "\n",
    "- $X$는 $(\\Omega, {\\cal F})$에서의 확률변수이다. \n",
    "- $X \\in {\\cal F}$ \n",
    "- $X: (\\Omega,{\\cal F}) \\to (\\mathbb{R},{\\cal R})$ \n",
    "\n",
    "`#`"
   ]
  },
  {
   "cell_type": "markdown",
   "id": "04e450cc",
   "metadata": {},
   "source": [
    "`-` 확률은 measure의 한 형태이듯이, 확률변수는 measurable function의 하나의 형태이다. "
   ]
  },
  {
   "cell_type": "markdown",
   "id": "482b8bd8",
   "metadata": {},
   "source": [
    ":::{.callout-note}\n",
    "\n",
    "## 가측함수 (measurable function)\n",
    "$(X,{\\cal X})$ 와 $(Y, {\\cal Y})$ 를 measurable space 라고 하자. 함수 $f: X \\to Y$ 가 아래를 만족한다면 함수 $f$를 $(X, {\\cal X})$ 에서의 measurable fucntion 혹은 measurable mapping 이라고 한다. \n",
    "\n",
    "$$\\forall A \\in {\\cal Y}: \\{x: f(x) \\in A \\} \\in {\\cal X}$$\n",
    "\n",
    "그리고 이것을 기호로 $f: (X, {\\cal X}) \\to (Y, {\\cal Y})$ 라고 한다.\n",
    ":::"
   ]
  },
  {
   "cell_type": "markdown",
   "id": "15a4ed60",
   "metadata": {},
   "source": [
    "> 우리는 $(Y,{\\cal Y})=(\\mathbb{R}, {\\cal R})$ 가측함수를 확률변수라고 하며, $(Y,{\\cal Y})=(\\mathbb{R}^d, {\\cal R}^d)$ 인 가측함수를 확률벡터라고 부른다. "
   ]
  },
  {
   "cell_type": "markdown",
   "id": "f83afe76",
   "metadata": {},
   "source": [
    "`# 질문` -- 확률변수의 정의에서 아래와 같은 표현이 등장한다. \n",
    "\n",
    "$$\\forall A \\in {\\cal R}: \\{\\omega: X(\\omega) \\in A \\} \\in {\\cal F}$$\n",
    "\n",
    "이 표현을 아래와 같은 표현을 바꾸지 못하는 이유가 무엇인가?\n",
    "\n",
    "$$\\forall A \\in 2^\\mathbb{R}: \\{\\omega: X(\\omega) \\in A \\} \\in {\\cal F}$$\n",
    "\n",
    "즉 확률변수의 **상**이 꼭 ${\\cal R}$의 원소가 되어야 하는 이유는 무엇인가? 역상이 ${\\cal F}$의 원소이면 충분히 원하는 목적을 달성할텐데?\n",
    "\n",
    "> 당장 필요없는건 맞는데요, measurable mapping 의 결과에 또 다시 연속으로 measurable mapping을 취하려고 하는거에요. 즉 확률변수의 함수를 고려하기 위해서!\n",
    "\n",
    "`#`\n"
   ]
  },
  {
   "cell_type": "markdown",
   "id": "aa5624b4-355d-4a0b-a0ff-10df8f1d4f4b",
   "metadata": {},
   "source": [
    "## C. 연습문제"
   ]
  },
  {
   "cell_type": "markdown",
   "id": "ec7c57ba-0514-4437-9e4d-f08a8d3f6a11",
   "metadata": {},
   "source": [
    "`# 예제1` -- 아래와 같은 measurable space를 고려하자. \n",
    "\n",
    "- $\\Omega=\\{a,b,c,d\\}$\n",
    "- ${\\cal F} =\\sigma({\\cal A})$ where ${\\cal A} = \\{\\{a\\}\\}$. "
   ]
  },
  {
   "cell_type": "markdown",
   "id": "d8799a4a-ead0-45a9-a6fd-7b8cfcdfd320",
   "metadata": {},
   "source": [
    "아래와 같은 function $X:\\Omega \\to \\mathbb{R}$, $Y:\\Omega \\to \\mathbb{R}$ 을 고려하자.  \n",
    "\n",
    "- $X(a)=1, X(b)=2, X(c)=3, X(d)=4$\n",
    "- $Y(a)=1, Y(b)=2, Y(c)=2, Y(c)=2$ "
   ]
  },
  {
   "cell_type": "markdown",
   "id": "556e8d2f-4efe-4fa2-ade9-fe8d2e0e7fbc",
   "metadata": {},
   "source": [
    "아래의 물음에 답하라. \n",
    "\n",
    "- $X$ 는 $(\\Omega,{\\cal F})\\to (\\mathbb{R},{\\cal R})$ 인 확률변수인가? \n",
    "- $Y$ 는 $(\\Omega,{\\cal F})\\to (\\mathbb{R},{\\cal R})$ 인 확률변수인가? "
   ]
  },
  {
   "cell_type": "markdown",
   "id": "effa9d4c-54bb-4c01-bfa9-84326aa043bb",
   "metadata": {},
   "source": [
    "`(풀이)`"
   ]
  },
  {
   "cell_type": "markdown",
   "id": "9942f92a-74a4-4fed-b523-cae9b480fda1",
   "metadata": {},
   "source": [
    "**$X$는 확률변수가 아님** "
   ]
  },
  {
   "cell_type": "markdown",
   "id": "e68810bb-2b81-4c74-acf7-b54de7d45de6",
   "metadata": {},
   "source": [
    "집합 $\\{2\\} \\in {\\cal R}$에 대하여 $\\{\\omega: X(\\omega) \\in \\{2\\}\\}=\\{b\\} \\not \\in \\sigma({\\cal A})$ 이므로 $X$는 확률변수가 아님 "
   ]
  },
  {
   "cell_type": "markdown",
   "id": "800f0181-e385-48e9-9216-e36efd64f8fe",
   "metadata": {},
   "source": [
    "**$Y$는 확률변수임** "
   ]
  },
  {
   "cell_type": "markdown",
   "id": "d22e907b-e664-4df7-96a6-1952bc941d28",
   "metadata": {},
   "source": [
    "아래를 관찰하자. \n",
    "\n",
    "1. $\\{\\omega: Y(\\omega) \\in \\mathbb{R}-\\{1,2\\}\\}  = \\emptyset \\in \\sigma({\\cal A})$ \n",
    "2. $\\{\\omega: Y(\\omega) \\in \\{1\\}\\}  = \\{a\\} \\in \\sigma({\\cal A})$ \n",
    "3. $\\{\\omega: Y(\\omega) \\in \\{2\\}\\}  = \\{b,c,d\\} \\in \\sigma({\\cal A})$ \n",
    "4. $\\{\\omega: Y(\\omega) \\in \\{1,2\\}\\}  = \\{a,b,c,d\\} \\in \\sigma({\\cal A})$ "
   ]
  },
  {
   "cell_type": "markdown",
   "id": "dbb62b43",
   "metadata": {},
   "source": [
    "임의의 $B \\in {\\cal R}$는 아래의 4가지 경우로 중 하나이다.^[예를들어 $B=\\{3\\}$은 1에, $B = \\{1\\} \\cup \\mathbb{Q}^c$ 은 2에, $B=\\mathbb{Q}$은 4에 포함된다.]\n",
    "\n",
    "1. $B$가 1,2를 원소로 모두 포함하지 않는 경우 \n",
    "2. $B$가 1을 원소로 포함하고 2는 원소로 포함하지 않는 경우\n",
    "3. $B$가 1을 원소로 포함하지 않고 2만 원소로 포함하는 경우\n",
    "4. $B$가 1,2를 모두 원소로 포함하는 경우. \n",
    "\n",
    "그리고 각 경우에 대한 $Y$의 역상은 $\\emptyset, \\{a\\}, \\{b,c,d\\}, \\{a,b,d,c\\}$ 로 각각 정리되므로 $Y$는 확률변수이다. "
   ]
  },
  {
   "cell_type": "markdown",
   "id": "8e7a6afd-d3a2-43e8-bd2f-fabf45b0fbd4",
   "metadata": {},
   "source": [
    "`#`"
   ]
  },
  {
   "cell_type": "markdown",
   "id": "fe91939e-6b73-4279-bc6d-b8576c9d1ce7",
   "metadata": {},
   "source": [
    "`# 예제2` -- 두개의 잴 수 있는 공간 $(\\Omega, {\\cal F})$와 $(\\mathbb{R},{\\cal R})$를 고려하자. 단, \n",
    "\n",
    "- $\\Omega=\\mathbb{R}$,\n",
    "- ${\\cal F} =\\sigma({\\cal A})$ where ${\\cal A} = \\{\\{q\\}: q \\in \\mathbb{Q}\\}$\n",
    "\n",
    "이다. "
   ]
  },
  {
   "cell_type": "markdown",
   "id": "a1b3d411-1378-42ab-b8fb-588c4d6ce376",
   "metadata": {},
   "source": [
    "아래와 같은 함수 $X:\\Omega \\to \\mathbb{R}$을 고려하라. "
   ]
  },
  {
   "cell_type": "markdown",
   "id": "bdd7b855-a0bc-4ee9-8e4b-605977cacf6b",
   "metadata": {},
   "source": [
    "$$X(\\omega) = \\begin{cases}\n",
    "0 & \\omega \\in \\mathbb{Q}\\\\\n",
    "1 & \\omega \\in \\mathbb{R} - \\mathbb{Q}\n",
    "\\end{cases}$$"
   ]
  },
  {
   "cell_type": "markdown",
   "id": "0e77a815-9f2e-4202-acc4-a5793cbc9bc5",
   "metadata": {},
   "source": [
    "$X$는 $(\\Omega,{\\cal F})\\to(\\mathbb{R},{\\cal R})$ 인 가측함수인가? 즉 $X$는 $(\\Omega,{\\cal F})$ 에서의 확률변수인가? "
   ]
  },
  {
   "cell_type": "markdown",
   "id": "49f338b0-d86b-4ccf-a2d2-643f4ca7d2c9",
   "metadata": {},
   "source": [
    "`(풀이)` 잴 수 있는 함수임.  "
   ]
  },
  {
   "cell_type": "markdown",
   "id": "2ddfc3aa-07ab-417f-b4bb-79e581f0f04f",
   "metadata": {},
   "source": [
    "$X$의 상은 $\\{0\\}, \\{1\\}, \\{0,1\\}$ 중 하나이고, $X$의 역상은 $\\mathbb{Q}, \\mathbb{Q}^c, \\emptyset, \\Omega$ 중 하나이다. 역상이 모두 ${\\cal F}$의 원소인지 따져보자. \n",
    "\n",
    "- $\\emptyset, \\Omega$ 는 시그마필드의 정의에 의하여 ${\\cal F}$의 원소임. \n",
    "- 임의의 $q \\in \\mathbb{Q}$ 에 대하여 $\\{q\\} \\in {\\cal F}$ 이고, 시그마필드는 countable union 에 닫혀있으므로 $\\mathbb{Q} \\in {\\cal F}$. \n",
    "- $\\mathbb{Q} \\in {\\cal F}$ 이고 시그마필드는 $^c$-closed 이므로 $\\mathbb{Q}^ \\in {\\cal F}$. "
   ]
  },
  {
   "cell_type": "markdown",
   "id": "be938671",
   "metadata": {},
   "source": [
    "따라서 $X$는 $(\\Omega, {\\cal F})$에서의 확률변수이다. "
   ]
  },
  {
   "cell_type": "markdown",
   "id": "ce61bf1b",
   "metadata": {},
   "source": [
    "`# 예제3` -- 두개의 잴 수 있는 공간 $(\\Omega, {\\cal F})$와 $(\\mathbb{R},{\\cal R})$를 고려하자. 단, \n",
    "\n",
    "- $\\Omega=\\mathbb{R}$,\n",
    "- ${\\cal F} =\\sigma({\\cal A})$ where ${\\cal A} = \\{\\mathbb{Q}\\}$."
   ]
  },
  {
   "cell_type": "markdown",
   "id": "559be2ef",
   "metadata": {},
   "source": [
    "아래와 같은 함수 $X:\\Omega \\to \\mathbb{R}$을 고려하라. "
   ]
  },
  {
   "cell_type": "markdown",
   "id": "eea11ce0",
   "metadata": {},
   "source": [
    "$$X(\\omega) = \\begin{cases}\n",
    "0 & \\omega \\in \\mathbb{Q}\\\\\n",
    "1 & \\omega \\in \\mathbb{R} - \\mathbb{Q}\n",
    "\\end{cases}$$"
   ]
  },
  {
   "cell_type": "markdown",
   "id": "3214f63f",
   "metadata": {},
   "source": [
    "$X$는 $(\\Omega,{\\cal F})\\to(\\mathbb{R},{\\cal R})$ 인 가측함수인가? 즉 $X$는 $(\\Omega,{\\cal F})$ 에서의 확률변수인가? "
   ]
  },
  {
   "cell_type": "markdown",
   "id": "fdb9438a",
   "metadata": {},
   "source": [
    "`(풀이)` "
   ]
  },
  {
   "cell_type": "markdown",
   "id": "6fe99f6b",
   "metadata": {},
   "source": [
    "이 문제의 경우 ${\\cal F} = \\{\\emptyset, \\mathbb{Q}, \\mathbb{Q}^c, \\mathbb{R}\\}$ 이다. $X$의 역상이 나올 수 있는 경우는 이전문제와 동일하게 $\\mathbb{Q}, \\mathbb{Q}^c, \\emptyset, \\Omega$ 중 하나이다. (${\\cal F}$가 어떻게 바뀌든 상관없음. $X:\\Omega \\to \\mathbb{R}$ 자체는 이전문제와 동일.) 역상이 모두 ${\\cal F}$의 원소이므로 $X$는 확률변수의 정의를 만족한다. "
   ]
  },
  {
   "cell_type": "markdown",
   "id": "593f3d31-2216-4d5e-98f3-35a453448a7b",
   "metadata": {},
   "source": [
    "`#`"
   ]
  },
  {
   "cell_type": "markdown",
   "id": "271266ba",
   "metadata": {},
   "source": [
    "`# 예제4` -- 두개의 잴 수 있는 공간 $(\\Omega, {\\cal F})$와 $(\\mathbb{R},{\\cal R})$를 고려하자. 단, \n",
    "\n",
    "- $\\Omega=\\mathbb{R}$,\n",
    "- ${\\cal F} =\\sigma({\\cal A})$ where ${\\cal A} = \\{\\{q\\}: q \\in \\mathbb{Q}\\}$,"
   ]
  },
  {
   "cell_type": "markdown",
   "id": "33561fe9",
   "metadata": {},
   "source": [
    "아래와 같은 함수 $X:\\Omega \\to \\mathbb{R}$ 을 고려하라. "
   ]
  },
  {
   "cell_type": "markdown",
   "id": "351f25cd",
   "metadata": {},
   "source": [
    "$$X(\\omega) = \\begin{cases}\n",
    "0 & \\omega =0\\\\\n",
    "1 & \\omega \\neq 0\n",
    "\\end{cases}$$"
   ]
  },
  {
   "cell_type": "markdown",
   "id": "c3c0c5e9",
   "metadata": {},
   "source": [
    "$X$는 $(\\Omega,{\\cal F})\\to(\\mathbb{R},{\\cal R})$ 인 가측함수인가? 즉 $X$는 $(\\Omega,{\\cal F})$ 에서의 확률변수인가? "
   ]
  },
  {
   "cell_type": "markdown",
   "id": "dc30fe22",
   "metadata": {},
   "source": [
    "`(풀이)` 확률변수가 맞음. $X$의 상은 $\\{0\\}, \\{1\\}, \\{0,1\\}$ 중 하나이며, 역상은 $\\{0\\}, \\mathbb{R}-\\{0\\}, \\emptyset, \\mathbb{R}$ 중 하나임. \n",
    "\n",
    "- $\\emptyset, \\mathbb{R}$ 는 시그마필드의 정의에 의하여 ${\\cal F}$의 원소임. \n",
    "- 임의의 $q \\in \\mathbb{Q}$ 에 대하여 $\\{q\\} \\in {\\cal F}$ 이므로 $0 \\in \\mathbb{Q}$ 이므로, $\\{0\\} \\in {\\cal F}$. \n",
    "- $\\{0\\} \\in {\\cal F}$ 이고 시그마필드는 $^c$-closed 이므로 $\\mathbb{R}-\\{0\\} \\in {\\cal F}$. "
   ]
  },
  {
   "cell_type": "markdown",
   "id": "216bb89b",
   "metadata": {},
   "source": [
    "`#`"
   ]
  },
  {
   "cell_type": "markdown",
   "id": "034e44eb-1f52-470e-a4b0-d8c5da201d27",
   "metadata": {},
   "source": [
    "`# 예제4` -- 두개의 잴 수 있는 공간 $(\\Omega, {\\cal F})$와 $(\\mathbb{R},{\\cal R})$를 고려하자. 단, \n",
    "\n",
    "- $\\Omega=\\mathbb{R}$,\n",
    "- ${\\cal F} =\\sigma({\\cal A})$ where ${\\cal A} = \\{\\mathbb{Q}\\}$,"
   ]
  },
  {
   "cell_type": "markdown",
   "id": "c3e77581-63d6-4d49-81ec-bc71adbce5a4",
   "metadata": {},
   "source": [
    "아래와 같은 함수 $X:\\Omega \\to \\mathbb{R}$ 을 고려하라. "
   ]
  },
  {
   "cell_type": "markdown",
   "id": "47c44211-7443-4f5c-bb01-d2cf1d1d5a95",
   "metadata": {},
   "source": [
    "$$X(\\omega) = \\begin{cases}\n",
    "0 & \\omega =0\\\\\n",
    "1 & \\omega \\neq 0\n",
    "\\end{cases}$$"
   ]
  },
  {
   "cell_type": "markdown",
   "id": "f1eb7030",
   "metadata": {},
   "source": [
    "$X$는 $(\\Omega,{\\cal F})\\to(\\mathbb{R},{\\cal R})$ 인 가측함수인가? 즉 $X$는 $(\\Omega,{\\cal F})$ 에서의 확률변수인가? "
   ]
  },
  {
   "cell_type": "markdown",
   "id": "0a1b7bb7-2110-412e-885b-e4f2d0f79c38",
   "metadata": {},
   "source": [
    "`(풀이)` 확률변수가 아님. $X$의 상은 $\\{0\\}, \\{1\\}, \\{0,1\\}$ 중 하나이며, 역상은 $\\{0\\}, \\mathbb{R}-\\{0\\}, \\emptyset, \\mathbb{R}$ 중 하나임. $\\{0\\}$ 와 $\\mathbb{R}-\\{0\\}$는 ${\\cal F}$의 원소가 아니므로 확률변수가 아님. "
   ]
  },
  {
   "cell_type": "markdown",
   "id": "b83a5554-bef0-4d29-81b5-775601d31c4d",
   "metadata": {},
   "source": [
    "`#`"
   ]
  },
  {
   "cell_type": "markdown",
   "id": "2e3f99dd-800e-4e04-be5b-9a7399d8b6e4",
   "metadata": {},
   "source": [
    "# 4. 확률변수 -- 지독한 오해"
   ]
  },
  {
   "cell_type": "markdown",
   "id": "f47a689b-7878-48cb-bfe8-d224402efc75",
   "metadata": {},
   "source": [
    "`# 오해1`: 학률변수 = 값이 랜덤으로 바뀌는 변수??\n",
    "\n",
    "- 함수: $y=f(x)$ // $f$: function, $x$: input $y$: output\n",
    "- 확률변수: $x=X(\\omega)$ // $X$: function, $\\omega$: **outcome**^[입력인데 outcome임, 여기서부터 너무 헷갈려!!], $x$: realization\n",
    "- 확률변수는 함수이지만 보통 $X(\\omega)$와 같이 쓰지 않고 $X$라고 쓴다. $\\Rightarrow$ 혼란의 이유 "
   ]
  },
  {
   "cell_type": "markdown",
   "id": "55c175c1-58d3-43aa-9546-ffa697b0d123",
   "metadata": {},
   "source": [
    "`#`"
   ]
  },
  {
   "cell_type": "markdown",
   "id": "52d1c448-7ee6-41a2-923c-f5f1e569ea6e",
   "metadata": {},
   "source": [
    "`# 오해2`: 확률변수는 결과가 랜덤으로 변하는 함수??\n",
    "\n",
    "- 확률변수는 함수일 뿐임. 입력이 정해지면 출력이 고정임!\n",
    "- 동전예제: 입력이 $\\omega=H$ 이면 출력은 $X(\\omega)=1$, 입력이 $\\omega=T$ 이면 출력은 $X(\\omega)=0$ 으로 고정임!\n"
   ]
  },
  {
   "cell_type": "markdown",
   "id": "99625032-9379-4714-af1b-b2d37f976344",
   "metadata": {},
   "source": [
    "`#`"
   ]
  },
  {
   "cell_type": "markdown",
   "id": "699be705-b905-4a47-9d44-808e4e17f46c",
   "metadata": {},
   "source": [
    "`# 오해3`: 아니야.. 확률변수는 결과가 랜덤으로 바뀌는 느낌이 맞아. 아래의 예시를 봐!"
   ]
  },
  {
   "cell_type": "markdown",
   "id": "7a039b23-6cdd-4b66-88d3-4fc4bcd9f89c",
   "metadata": {},
   "source": [
    "$$X = \\begin{cases} 0 & w.p. \\frac{1}{2} \\\\ 1 & w.p. \\frac{1}{2} \\end{cases}$$\n",
    "\n"
   ]
  },
  {
   "cell_type": "markdown",
   "id": "c05006f5-747f-4123-9e6c-6ae35090dc99",
   "metadata": {},
   "source": [
    "- $X$는 진짜 변수처럼 보이긴함. \n",
    "- 심지어 변수의 값이 랜덤으로 변하는 것 같음. "
   ]
  },
  {
   "cell_type": "markdown",
   "id": "0ffa7858-7f04-451a-a56e-1b89db010dfd",
   "metadata": {},
   "source": [
    "(해설) "
   ]
  },
  {
   "cell_type": "markdown",
   "id": "fcd71779-7be6-46e1-897b-b48abdf17b22",
   "metadata": {},
   "source": [
    "정확하게는 아래 표현이 맞다. "
   ]
  },
  {
   "cell_type": "markdown",
   "id": "f8838cb9-77f1-4964-84e2-610f46fa6852",
   "metadata": {},
   "source": [
    "$$X(\\omega) = \\begin{cases} 0 & \\omega \\in \\{H\\} \\\\ 1 & \\omega \\in \\{T\\} \\end{cases} \\quad \\text{where } P(\\{H\\}) = P(\\{T\\}) = \\frac{1}{2}.$$"
   ]
  },
  {
   "cell_type": "markdown",
   "id": "d1a87a2c-5492-41d2-a888-274b6c89698a",
   "metadata": {},
   "source": [
    "`#`"
   ]
  },
  {
   "cell_type": "markdown",
   "id": "fec943ff-400a-486b-96d6-e2d386631b8d",
   "metadata": {},
   "source": [
    "`-` 확률변수에 대한 오해2에 대한 추가설명\n",
    "\n",
    "- 확률변수는 결과가 랜덤으로 변하는 함수가 아님, 확률변수는 함수일 뿐임. 입력이 정해지면 출력이 고정임!\n",
    "- 동전예제: 입력이 $\\omega=H$이면 출력은 $X(\\omega)=1$, 입력이 $\\omega=T$이면 출력은 $X(\\omega)=0$으로 고정임!\n",
    "- 단지 입력 outcome이 실험에 따라 랜덤으로 변할 수 있는 것임!!"
   ]
  },
  {
   "cell_type": "markdown",
   "id": "a63a6a7d-3486-444f-9e51-674f61164f39",
   "metadata": {},
   "source": [
    "`-` 요약해보면, \n",
    "\n",
    "1. 확률변수는 확률과 관련없다. \n",
    "2. 간접적으로는 관련이 있다. ($\\because$ $X$의 역상 = $\\mathbb{P}$의 정의역)"
   ]
  }
 ],
 "metadata": {
  "kernelspec": {
   "display_name": "Python 3 (ipykernel)",
   "language": "python",
   "name": "python3"
  },
  "language_info": {
   "codemirror_mode": {
    "name": "ipython",
    "version": 3
   },
   "file_extension": ".py",
   "mimetype": "text/x-python",
   "name": "python",
   "nbconvert_exporter": "python",
   "pygments_lexer": "ipython3",
   "version": "3.12.2"
  }
 },
 "nbformat": 4,
 "nbformat_minor": 5
}
