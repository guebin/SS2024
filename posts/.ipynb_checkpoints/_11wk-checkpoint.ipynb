{
 "cells": [
  {
   "cell_type": "raw",
   "id": "ee76b2b7-f75c-4d9d-91bc-054aa28664a5",
   "metadata": {
    "vscode": {
     "languageId": "raw"
    }
   },
   "source": [
    "---\n",
    "title: \"11wk: 적분 (1)\"\n",
    "author: \"최규빈\"\n",
    "date: \"05/16/2023\"\n",
    "draft: true\n",
    "---"
   ]
  },
  {
   "cell_type": "markdown",
   "id": "69d6d944-e200-4122-93c9-78af90cb0d8b",
   "metadata": {},
   "source": [
    "# 강의영상 "
   ]
  },
  {
   "cell_type": "markdown",
   "id": "ad8d8e4c-2a70-4abc-b78b-72f6b801c503",
   "metadata": {},
   "source": [
    "> youtube: <https://youtube.com/playlist?list=PLQqh36zP38-wE3YLAgBkDd80KhdCztqy4>"
   ]
  },
  {
   "cell_type": "markdown",
   "id": "f73d8476-7f9e-4c0a-8353-a5913d254571",
   "metadata": {},
   "source": [
    "# 약속 "
   ]
  },
  {
   "cell_type": "markdown",
   "id": "fe8526b4-53ca-4cb6-b928-43ba8ebbb9c0",
   "metadata": {},
   "source": [
    "## 기호에 대한 암묵적 약속 "
   ]
  },
  {
   "cell_type": "markdown",
   "id": "4fc84e7c-3232-414c-9345-b0c4714ca3ab",
   "metadata": {},
   "source": [
    "`-` 르벡메져: 르벡메져는 지금까지 $m$으로 표현 $\\Rightarrow$ 앞으로는 $\\lambda$로 표현. "
   ]
  },
  {
   "cell_type": "markdown",
   "id": "2a0b24d3-53ff-49da-aa24-f3d7806aef05",
   "metadata": {},
   "source": [
    "`-` 메져: $\\mu,\\nu$ 등으로 표현."
   ]
  },
  {
   "cell_type": "markdown",
   "id": "39984a9b-151f-44a6-b02c-b26de4b1fcac",
   "metadata": {},
   "source": [
    "`-` 분포, 분포함수, 밀도함수: 확률공간 $(\\Omega, {\\cal F}, P)$에서 정의된 확률변수 $X$에 대응하는 분포는 $\\mu_X$, 그에 대응하는 분포함수는 $F_X$, 그에 대응하는 밀도함수는 $f_X$라고 표현. "
   ]
  },
  {
   "cell_type": "markdown",
   "id": "c47d8e0e-a2ed-4303-91fd-b8d215e545c9",
   "metadata": {},
   "source": [
    "`-` 일반적인 교재의 표기법 \n",
    "\n",
    "- 르벡메져: $\\mu$, $\\lambda$, $m$\n",
    "- 메져: $\\mu$, $\\nu$, $m$ \n",
    "- 분포: $\\mu$ \n",
    "- 분포함수: $F$, $F_X$\n",
    "- 밀도함수: $f$, $f_X$ "
   ]
  },
  {
   "cell_type": "markdown",
   "id": "fae3aba7-2e6b-448d-ad8e-eab473b0c30c",
   "metadata": {},
   "source": [
    "`-` 잴 수 있는 함수의 표현 (아래는 모두 같은말) \n",
    "\n",
    "- 두 개의 가측공간 $(\\Omega, {\\cal F})$, $(S, {\\cal S})$을 고려하자. 함수 $f:\\Omega \\to S$는 $\\forall B \\in {\\cal S}:~\\{\\omega: f(\\omega) \\in B\\} \\in {\\cal F}$ 을 만족한다. \n",
    "- 두 개의 가측공간 $(\\Omega, {\\cal F})$, $(S, {\\cal S})$을 고려하자. $f:\\Omega \\to S$는 잴 수 있는 함수이다. \n",
    "- $f:(\\Omega,{\\cal F}) \\to (S, {\\cal S})$ \n",
    "- $f$는 ${\\cal F}-{\\cal S}$ measurable 하다.\n",
    "- $f \\in {\\cal F}$, 이 표기법은 $(S,{\\cal S})=(\\mathbb{R}, {\\cal R})$일 경우에 한정하여 사용할 수 있음. \n",
    "- $f$는 $S$-valued measurable map "
   ]
  },
  {
   "cell_type": "markdown",
   "id": "b290f2be-b32c-4c83-9af8-dc9061a8cf31",
   "metadata": {},
   "source": [
    "## 확장된 실수공간 "
   ]
  },
  {
   "cell_type": "markdown",
   "id": "0c9dcc59-c9ad-4c5d-99a6-8a02b1f814b0",
   "metadata": {},
   "source": [
    "`-` 교재에 따라서 확장된 실수공간 $\\bar{\\mathbb{R}}$를 고려하기도 한다. [@durrett2019probability, p 14]\n",
    "\n",
    "$$\\bar{\\mathbb{R}} = \\mathbb{R} \\cup \\{-\\infty\\} \\cup \\{\\infty\\}$$ "
   ]
  },
  {
   "cell_type": "markdown",
   "id": "16c2eba9-546c-401f-adb1-417b1a838845",
   "metadata": {},
   "source": [
    "`-` 또한 확장된 실수공간에 대응하는 보렐셋을 정의하기도 한다. \n",
    "\n",
    "$${\\cal B}(\\bar{\\mathbb{R}})=\\bar{\\cal R}$$"
   ]
  },
  {
   "cell_type": "markdown",
   "id": "8bcac279-b538-45e9-95ac-cde519aa24f1",
   "metadata": {},
   "source": [
    "`-` $\\infty$, $-\\infty$는 실수가 아니다. 따라서 $x\\in \\mathbb{R}$ 인 경우는 $x$를 ***real-valued*** 라고 표현하지만 $x \\in \\bar{\\mathbb{R}}$ 인 경우는 $x$를 ***$\\bar{\\mathbb{R}}$-valued*** 라고 표현한다. "
   ]
  },
  {
   "cell_type": "markdown",
   "id": "06ced7ad-6d08-4c9c-a100-c120c711ceb5",
   "metadata": {},
   "source": [
    "# 로드맵 "
   ]
  },
  {
   "cell_type": "markdown",
   "id": "9618a841-ebd1-424a-be2e-288955488df9",
   "metadata": {},
   "source": [
    "`-` 목표: 밀도함수에 대한 소개"
   ]
  },
  {
   "cell_type": "markdown",
   "id": "069f5b7f-5330-408e-99e7-8e4bb3ec0aa0",
   "metadata": {},
   "source": [
    "`-` 로드맵: (적분, 칸토어집합) $\\to$ 밀도함수 "
   ]
  },
  {
   "cell_type": "markdown",
   "id": "e4fc321f-8569-4362-a75f-bc396826b9df",
   "metadata": {},
   "source": [
    "# 예비학습 "
   ]
  },
  {
   "cell_type": "markdown",
   "id": "fad296a9-fd9a-4219-ad60-d0338f5f78e0",
   "metadata": {},
   "source": [
    "## $(\\mathbb{R}^d, {\\cal R}^d)$"
   ]
  },
  {
   "cell_type": "markdown",
   "id": "3463de1e-4e50-4940-85de-9b6261027cdf",
   "metadata": {},
   "source": [
    "`-` **정의**: 두개의 집합 $A$, $B$가 있을때 두집합의 곱집합 (cartesian product) $A\\times B$를 아래와 같이 정의한다. \n",
    "\n",
    "$$A\\times B=\\{(a,b): a \\in A, b \\in B\\}$$"
   ]
  },
  {
   "cell_type": "markdown",
   "id": "a283dd46-e327-4a32-9768-ae52c30944f0",
   "metadata": {},
   "source": [
    "`-` **정의**: 수직선상의 두 열린구간 $(a_1,b_1)$, $(a_2,b_2)$ 의 곱집합 \n",
    "\n",
    "$$({\\boldsymbol a},{\\boldsymbol b}) = \\bigtimes_{i=1}^{2}(a_i,b_i)= (a_1,b_1) \\times (a_2,b_2)$$ \n",
    "\n",
    "을 open rantangle 이라고 한다. 비슷한 논리전개로 $({\\boldsymbol a},{\\boldsymbol b}],[{\\boldsymbol a},{\\boldsymbol b}),[{\\boldsymbol a},{\\boldsymbol b}]$ 역시 정의할 수 있다. "
   ]
  },
  {
   "cell_type": "markdown",
   "id": "7d1e0908-58ac-45b3-9990-f8e97b6646c5",
   "metadata": {},
   "source": [
    "`-` **이론**: 아래와 같은 집합들의 모임 ${\\cal A}$를 생각하자. "
   ]
  },
  {
   "cell_type": "markdown",
   "id": "98bf4239-7bf4-453e-a196-725ab555392c",
   "metadata": {},
   "source": [
    "$${\\cal A}=\\{({\\boldsymbol a}, {\\boldsymbol b}]: {\\boldsymbol a} < {\\boldsymbol b},~ {\\boldsymbol a}, {\\boldsymbol b} \\in \\mathbb{R}^2\\}$$ "
   ]
  },
  {
   "cell_type": "markdown",
   "id": "a658324d-2443-4ded-9b6b-7d1834726801",
   "metadata": {},
   "source": [
    "여기에서 ${\\boldsymbol a}< {\\boldsymbol b}$는 \"$a_1<b_1$ and $a_2 < b_2$\" 를 의미한다. "
   ]
  },
  {
   "cell_type": "markdown",
   "id": "c4a840e9-9a1e-4d2b-b845-fde21d9a6d4b",
   "metadata": {},
   "source": [
    "1. 시그마필드 $\\sigma({\\cal A})$는 잘 정의된다. (귀찮아서 만든 이론1)\n",
    "2. $\\sigma({\\cal A})$은 ${\\cal R}$의 2차원버전이라 해석할 수 있다. \n",
    "3. 이러한 의미에서 ${\\cal R}^2=\\sigma({\\cal A})$라는 기호를 쓰기도 한다. \n",
    "4. $(\\mathbb{R}^2, {\\cal R}^2)$ 는 잴 수 있는 공간이다. \n",
    "5. 함수 $\\tilde{\\lambda}: {\\cal A} \\to [0,\\infty]$를 아래와 같이 정의하자. 카라테오도리의 확장정리에 의하여 $\\tilde{\\lambda}$는 $(\\mathbb{R}^2,{\\cal R}^2)$ 에서의 메져가 된다. \n",
    "$$\\tilde{\\lambda}(({\\boldsymbol a},{\\boldsymbol b}])=\\prod_{i=1}^{2}(b_i-a_i)$$\n",
    "6. 08주차에 정리된 모든 ${\\cal A}_i$에 대하여, $\\sigma({\\cal A}_i)={\\cal R}^2$ 을 만족한다. "
   ]
  },
  {
   "cell_type": "markdown",
   "id": "0aef95ca-4f72-48f9-a092-c59c07399ac1",
   "metadata": {},
   "source": [
    "`-` 체크: $(\\mathbb{R}^2, {\\cal R}^2)$ 와 동일한 논리전개가 $(\\mathbb{R}^d, {\\cal R}^d)$ 에서도 성립한다. "
   ]
  },
  {
   "cell_type": "markdown",
   "id": "8b123287-c6a4-4533-930c-f991a7e56d3b",
   "metadata": {},
   "source": [
    "## sup, inf "
   ]
  },
  {
   "cell_type": "markdown",
   "id": "d0844128-8f6d-47ff-b00e-52183bf5dfdc",
   "metadata": {},
   "source": [
    "`-` 집합 $A=\\{1,2,3\\}$에 대하여 아래의 표현을 살펴보자. \n",
    "\n",
    "- $\\max A =3$ \n",
    "- $\\min A =1$"
   ]
  },
  {
   "cell_type": "markdown",
   "id": "89c720d8-eed8-449c-acb3-0fcad257619a",
   "metadata": {},
   "source": [
    "`-` 집합 $A=[0,2]$에 대하여 아래의 표현을 살펴보자. \n",
    "\n",
    "- $\\max A =2$ \n",
    "- $\\min A =0$"
   ]
  },
  {
   "cell_type": "markdown",
   "id": "259db810-e7be-49ca-be17-cc8f204caf01",
   "metadata": {},
   "source": [
    "`-` 집합 $A=(0,2)$라면? \n",
    "\n",
    "- $\\max A =???$^[2라고 하고싶은데 2라고 할 수 없다. (즉 정의할 수 없다.)]\n",
    "- $\\min A =???$^[0이라 하고싶은데 0이라고 할 수 없다. (즉 정의할 수 없다.)] \n",
    "- $\\sup A = 2$ \n",
    "- $\\inf A = 0$ "
   ]
  },
  {
   "cell_type": "markdown",
   "id": "5f995bef-2d25-4214-9798-8d8d231e213f",
   "metadata": {},
   "source": [
    "`-` 가짜정의: 어떠한 집합 $A$가 있다고 할떄 $\\sup A$와 $\\inf A$는 각각 $\\max A$와 $\\min A$의 개념을 좀 더 업그레이드 한것이다. $\\max A$는 $A$의 원소중 최대값을 의미하는데 이러한 $\\max$의 정의는 구간 $[0,2)$의 최대값은 $2$라고 주장할 수 없어 쓰기에 불편할 때가 있다. $\\min$ 역시 마찬가지의 불편함이 있다. 이를 보완하기 위해 등장한 개념이 $\\sup$과 $\\inf$이다. "
   ]
  },
  {
   "cell_type": "markdown",
   "id": "7f365610-0831-49b1-b5c9-658c19c9ecc7",
   "metadata": {},
   "source": [
    "`-` 트릭: 증가하는 수열 $a_n$의 경우 $\\sup\\{a_n\\}$은 수열 $\\{a_n\\}$의 극한을 의미하기도 한다. 반대로 감소하는 수열 $\\{a_n\\}$의 경우 $\\inf \\{a_n\\}$이 $\\{a_n\\}$의 극한을 의미하기도 한다. "
   ]
  },
  {
   "cell_type": "markdown",
   "id": "92c1af6f-874f-4dc3-a94c-73aa1ab209ff",
   "metadata": {},
   "source": [
    "***잘못된 사용***"
   ]
  },
  {
   "cell_type": "markdown",
   "id": "47884ac4-d3a5-4537-b8b0-34b547e5bf40",
   "metadata": {},
   "source": [
    "`1`. 집합들의 집합에서 $\\inf,\\sup$의 잘못된 사용: 부등호 $<$를 $\\subset$으로 해석 \n",
    "\n",
    "- 예시1: $\\inf\\big\\{(-\\frac{1}{n},0]: n \\in \\mathbb{N}\\big\\}=\\{0\\}$ // 틀린표현\n",
    "- 예시2: $\\sup\\big\\{[0,1-\\frac{1}{n}]: n \\in \\mathbb{N}\\big\\}=[0,1)$ // 틀린표현"
   ]
  },
  {
   "cell_type": "markdown",
   "id": "4345a76d-850d-4ae9-ab24-9d2b001a8c74",
   "metadata": {},
   "source": [
    "`2` 함수들의 집합에서 $\\inf,\\sup$의 잘못된 사용: 부등호 $f<g$ 를 \"$\\forall x: f(x)<g(x)$\" 로 해석 \n",
    "\n",
    "- 예시1: $f(x)=x$ 일때, $\\sup\\big\\{f_n: f_n(x)=x-\\frac{1}{n}, n \\in \\mathbb{n} \\big\\}=f$ // 틀린표현"
   ]
  },
  {
   "cell_type": "markdown",
   "id": "cec131fb-127a-4504-bd78-29c132a028ac",
   "metadata": {},
   "source": [
    "## 잴 수 있는 함수들"
   ]
  },
  {
   "cell_type": "markdown",
   "id": "b19297e9-c036-4055-a5d4-075821abe910",
   "metadata": {},
   "source": [
    "`-` 이론: 두 개의 잴 수 있는 공간 $(\\Omega, {\\cal F})$, $(\\mathbb{R}, {\\cal R})$을 고려하자. ${\\cal F}$-measurable 한 집합 $A$에 대하여^[$A \\in {\\cal F}$이라는 뜻] 함수 $f:\\Omega \\to \\mathbb{R}$을 아래와 같이 정의한다고 하자. \n",
    "\n",
    "$$f(\\omega) = \\begin{cases} 1 & \\omega \\in A \\\\ 0 & \\omega \\not \\in A \\end{cases}$$ \n",
    "\n",
    "함수 $f$는 ${\\cal F}-{\\cal R}$ measurable function 이다. "
   ]
  },
  {
   "cell_type": "markdown",
   "id": "9b89e431-d891-4067-9e27-b5cf38179a0e",
   "metadata": {},
   "source": [
    "(해설) \n",
    "\n",
    "1. $B \\in {\\cal R}$를 고정하자. \n",
    "2. 만약에 $\\{1,0\\} \\not \\subset B$ 이라면 $\\{\\omega: f(\\omega) \\in B\\}=\\emptyset \\in {\\cal F}$ 이다. \n",
    "3. 만약에 $\\{1\\} \\subset B, \\{0\\} \\not \\subset B$ 이라면 $B=\\{1\\} \\cup (B-\\{1\\})$ 와 같이 분해한다. \n",
    "4. $f$는 함수이므로 $f^{-1}(B)=f^{-1}(\\{1\\}) \\cup f^{-1}(B-\\{1\\})$를 만족한다. \n",
    "5. $f^{-1}(\\{1\\})=A$이고 $f^{-1}(B-\\{1\\})=\\emptyset$ 이므로 $f^{-1}(B)=A \\in {\\cal F}$ 를 만족한다. \n",
    "6. 3-5의 논의가 $\\{0\\} \\subset B, \\{1\\} \\not \\subset B$ 에 대해서도 성립한다. \n",
    "7. $\\{0,1\\} \\subset B$ 인 경우에는 $f^{-1}(B) =\\Omega$가 되므로 $f^{-1}(B) \\in {\\cal F}$ 를 만족한다. \n",
    "8. 1-7의 논의가 임의의 $B$에 대하여 모두 성립하므로 $\\forall B \\in {\\cal R}:~f^{-1}(B) \\in {\\cal F}$ 이다. \n",
    "9. 따라서 $f$는 ${\\cal F}-{\\cal R}$ measurable function 이다. "
   ]
  },
  {
   "cell_type": "markdown",
   "id": "a2b2d9c1-bc3e-4a3c-847f-dd2e58f99bb2",
   "metadata": {},
   "source": [
    "`-` 이론: 두 개의 잴 수 있는 공간 $(\\Omega, {\\cal F})$, $(\\mathbb{R}, {\\cal R})$을 고려하자. 함수 $f$가 ***$\\mathbb{R}$-valued measurable function*** 이라면 임의의 $\\alpha \\in \\mathbb{R}$에 대하여 함수 \n",
    "\n",
    "$$g(\\omega)=\\alpha f(\\omega)$$ \n",
    "\n",
    "역시 ***$\\mathbb{R}$-valued measurable function*** 이다. "
   ]
  },
  {
   "cell_type": "markdown",
   "id": "eb943483-4c59-451a-b4dc-3bfcb25e507f",
   "metadata": {},
   "source": [
    "(해설) "
   ]
  },
  {
   "cell_type": "markdown",
   "id": "732f574c-9ac6-4713-bbaf-09ca3114e2ab",
   "metadata": {},
   "source": [
    "1. $\\alpha=0$ 이라면, 자명하게 성립. 따라서 $\\alpha\\neq 0$ 일 경우만 증명하면 된다. \n",
    "2. $B \\in {\\cal R}$를 고정하자. \n",
    "3. $g^{-1}(B)=f^{-1}(\\frac{1}{\\alpha}B)$ 가 성립한다. 여기에서 $\\frac{1}{\\alpha}B =: \\{x: x=\\frac{y}{\\alpha}, y\\in B\\}$. \n",
    "4. $f$는 ***$\\mathbb{R}$-valued measurable map*** 이므로 $f^{-1}(\\frac{1}{\\alpha}B) \\in {\\cal F}$. \n",
    "5. 임의의 $B$에 대하여 2-4의 논의가 성립하므로 $g$ 역시 ${\\cal F}-{\\cal R}$ measurable 이다. "
   ]
  },
  {
   "cell_type": "markdown",
   "id": "52cd9ec8-61ac-4eb3-a858-d84d43e8d2ad",
   "metadata": {},
   "source": [
    "`-` **Thm** [@durrett2019probability, Thm 1.3.2]: 세 개의 잴 수 있는 공간 $(\\Omega,{\\cal F})$, $(S,{\\cal S})$, $(T,{\\cal T})$를 고려하자. $f:(\\Omega,{\\cal F}) \\to (S,{\\cal S})$ 이고 $g:(S,{\\cal S}) \\to (T,{\\cal T})$ 이면 $g\\circ f: (\\Omega, {\\cal F}) \\to (T,{\\cal T})$ 이다. "
   ]
  },
  {
   "cell_type": "markdown",
   "id": "221618c2-e85c-4e69-84f5-469d7f6c7b76",
   "metadata": {},
   "source": [
    "`-` 이론: 함수 $f:\\mathbb{R} \\to \\mathbb{R}$가 연속함수라면 $f:(\\mathbb{R},{\\cal R}) \\to (\\mathbb{R},{\\cal R})$ 이다."
   ]
  },
  {
   "cell_type": "markdown",
   "id": "bd3b69ee-ebb3-4443-b2ed-0e442e3116fa",
   "metadata": {},
   "source": [
    "(해설) -- 연속함수의 정의 + [@durrett2019probability, Thm 1.3.1] 를 알면 이해하기 쉬운데... "
   ]
  },
  {
   "cell_type": "markdown",
   "id": "ac8e2c5d-ab2e-4cce-9e1d-16e3693dc91f",
   "metadata": {},
   "source": [
    "`-` 이론: 두 개의 잴 수 있는 공간 $(\\Omega, {\\cal F})$, $(\\mathbb{R}, {\\cal R})$을 고려하자. 함수 $f,g$가 ***$\\mathbb{R}$-valued measurable function*** 이라고 하자. 아래는 모두 ***$\\mathbb{R}$-valued measurable function*** 이다. \n",
    "\n",
    "1. $h:=f+g$ \n",
    "2. $h:=f-g$\n",
    "3. $h:=\\max(f,g)$, where $h: \\omega \\mapsto \\max(f(\\omega),g(\\omega))$\n",
    "4. $h:=\\min(f,g)$, where $h: \\omega \\mapsto \\min(f(\\omega),g(\\omega))$"
   ]
  },
  {
   "cell_type": "markdown",
   "id": "ed9e880e-cfee-4dbd-b7f4-b1612302614a",
   "metadata": {},
   "source": [
    "`-` **이론** [@durrett2019probability, Thm 1.3.5]: 두 개의 잴 수 있는 공간 $(\\Omega, {\\cal F})$, $(\\mathbb{R}, {\\cal R})$을 고려하자. 함수열 $\\{f_n: n \\in \\mathbb{N}\\}$의 모든 원소가 ***$\\mathbb{R}$-valued measurable function*** 이라고 하자. 그렇다면 아래는 모두 ***${\\cal F}-{\\cal R}$ measurable*** 한 함수이다. \n",
    "\n",
    "- $h:=\\inf f_n$, where $h: \\omega \\mapsto \\inf\\big\\{f_1(\\omega),f_2(\\omega),\\dots \\big\\}$\n",
    "- $h:=\\sup f_n$, where $h: \\omega \\mapsto \\sup\\big\\{f_1(\\omega),f_2(\\omega),\\dots \\big\\}$"
   ]
  },
  {
   "cell_type": "markdown",
   "id": "5bac285d-2470-4e7b-b2ff-7c0abb168c75",
   "metadata": {},
   "source": [
    "## $dx$ 대신 $d\\lambda$를 "
   ]
  },
  {
   "cell_type": "markdown",
   "id": "b44ed743-3bd6-4953-aae8-21cc7c82e5a7",
   "metadata": {},
   "source": [
    "`-` 리만적분($dx$)과 르벡적분($d\\lambda$)를 연결하여 보자. "
   ]
  },
  {
   "cell_type": "markdown",
   "id": "29928800-8cca-4d1f-b1a7-1c3d0af715f7",
   "metadata": {},
   "source": [
    "`-` 참고: 아래와 같은 함수 $f(x)$를 고려하자. \n",
    "\n",
    "$$f(x) = \\begin{cases} \\alpha & x \\in [0,1]  \\\\  o.w \\end{cases}$$"
   ]
  },
  {
   "cell_type": "markdown",
   "id": "998f7688-244f-4695-aef7-ccf3ad4e19b9",
   "metadata": {},
   "source": [
    "그리고 $\\lambda$를 르벡메져라고 하자. 아래는 모두 같은 표현이다. \n",
    "\n",
    "1. $\\int_{-\\infty}^{\\infty} f(x) dx$ \n",
    "2. $\\int_0^1f(x)dx$ \n",
    "3. $\\int_0^1 \\alpha dx$ \n",
    "4. $\\alpha \\int_0^1 dx$ \n",
    "5. $\\alpha\\lambda(A)$ \n",
    "6. $\\alpha\\int_{A}d\\lambda$ \n",
    "7. $\\int_{A}\\alpha d\\lambda$ \n",
    "8. $\\int_{A}f d\\lambda$ \n",
    "9. $\\int f d\\lambda$ \n"
   ]
  },
  {
   "cell_type": "markdown",
   "id": "b7c72cda-da6b-4236-b6b7-57135d46ecd3",
   "metadata": {},
   "source": [
    "## $d\\lambda$ 대신 $d\\mu$를"
   ]
  },
  {
   "cell_type": "markdown",
   "id": "597a8631-ecc7-49c1-ab9a-4836ae4b66dd",
   "metadata": {},
   "source": [
    "`-` 위의 표현들에서 $d\\lambda$와 같은 표현은 르벡메져가 아닌 일반적인 메져에서도 표현가능하다. 만약 가측공간 $(\\mathbb{R},{\\cal R})$에 아래와 같은 메져 $\\nu$가 존재한다고 하자. \n",
    "\n",
    "$$\\nu = 2\\lambda$$\n",
    "\n",
    "여기에서 $\\lambda$는 르벡메져이다. 그렇다면, 임의의 $A \\in {\\cal R}$에 대하여 아래가 성립한다. \n",
    "\n",
    "$$\\int_A d\\nu = 2\\int_A d\\lambda $$ "
   ]
  },
  {
   "cell_type": "markdown",
   "id": "14943f5e-31e0-41ff-ba8b-b3c3d60f1ba7",
   "metadata": {},
   "source": [
    "## 모든 곳에서, 거의 모든 곳에서 "
   ]
  },
  {
   "cell_type": "markdown",
   "id": "f8b10376-7a8c-41ec-9507-81dfbcb675d6",
   "metadata": {},
   "source": [
    "`-` 르벡측도 0인 곳을 제외하고는 어떠한 명제가 성립할때 ***거의 모든 곳에서*** 라는 수식어를 붙인다. 영어로는 ***almost everywhere*** 라고 하며 기호로는 ***a.e.*** 라고 표현한다. "
   ]
  },
  {
   "cell_type": "markdown",
   "id": "4dd00526-91d8-4d4b-819b-24915f00d30d",
   "metadata": {},
   "source": [
    "`-` 예시1: 아래와 같은 함수 $f$를 고려하자. \n",
    "\n",
    "$$f(x) = \\begin{cases} 1 & x\\in \\mathbb{Q} \\\\ 0 & x\\in \\mathbb{R}-\\mathbb{Q} \\end{cases}$$\n",
    "\n",
    "이 함수는 ***거의 모든 곳에서*** 0이다. "
   ]
  },
  {
   "cell_type": "markdown",
   "id": "c9f0fe3e-1a1a-41f6-ba81-be809c3731a2",
   "metadata": {},
   "source": [
    "> 기호로는 $f \\overset{a.e.}{=} 0$ 혹은 $f \\overset{a.e.}{=} 0$ ***w.r.t. $\\lambda$*** 와 같이 표현한다. "
   ]
  },
  {
   "cell_type": "markdown",
   "id": "d8f91e46-3b14-4d38-9529-19746376cba0",
   "metadata": {},
   "source": [
    "`-` 예시2: 아래와 같은 함수 $f,g$를 고려하자. \n",
    "\n",
    "$$f(x) = \\begin{cases} 1 & x\\in \\mathbb{Q} \\\\ 0 & x\\in \\mathbb{R}-\\mathbb{Q} \\end{cases}$$\n",
    "\n",
    "$$g(x) = \\begin{cases} 2 & x\\in \\mathbb{Q} \\\\ 0 & x \\in \\mathbb{R}-\\mathbb{Q} \\end{cases}$$\n",
    "\n",
    "함수 $f$와 $g$는 ***거의 모든 곳에서*** 같다. "
   ]
  },
  {
   "cell_type": "markdown",
   "id": "427feaba-de97-4388-b746-44a5a216e003",
   "metadata": {},
   "source": [
    "> 기호로는 $f\\overset{a.e.}{=} g$ 혹은 $f\\overset{a.e.}{=} g$ ***w.r.t. $\\lambda$*** 와 같이 표현한다. "
   ]
  },
  {
   "cell_type": "markdown",
   "id": "b03ab682-65fc-417f-9732-1a7ae30e7626",
   "metadata": {},
   "source": [
    "`-` 예시3: 아래와 같은 함수 $f,g$를 고려하자. \n",
    "\n",
    "$$f(x) = \\begin{cases} 0 & x\\in \\mathbb{Q} \\\\ 1 & x\\in \\mathbb{R}-\\mathbb{Q} \\end{cases}$$\n",
    "\n",
    "함수 $f$는 ***거의 모든 곳에서 양수이다.*** "
   ]
  },
  {
   "cell_type": "markdown",
   "id": "8d7d2a95-62c6-4d0d-9e1b-17156080b1da",
   "metadata": {},
   "source": [
    "> 기호로는 $f\\overset{a.e.}{>} 0$ 혹은 $f\\overset{a.e.}{>} g$ ***w.r.t. $\\lambda$*** 와 같이 표현한다. "
   ]
  },
  {
   "cell_type": "markdown",
   "id": "f26d99b2-0383-45cc-8d05-718f4b704135",
   "metadata": {},
   "source": [
    "`-` 예시4: 아래와 같은 함수 $f,g$를 고려하자. \n",
    "\n",
    "$$f(x) = \\begin{cases} 0 & x\\in \\mathbb{Q} \\\\ 1 & x\\in \\mathbb{R}-\\mathbb{Q} \\end{cases}$$\n",
    "\n",
    "$$g(x) = \\begin{cases} 0 & x\\in \\mathbb{Q} \\\\ 2 & x \\in \\mathbb{R}-\\mathbb{Q} \\end{cases}$$\n",
    "\n",
    "함수 $f$는 ***거의 모든 곳에서*** $g$보다 작다. "
   ]
  },
  {
   "cell_type": "markdown",
   "id": "8fd37218-64ec-4236-badd-8433e1ae42c5",
   "metadata": {},
   "source": [
    "> 기호로는 $f\\overset{a.e.}{<} g$ 혹은 $f\\overset{a.e.}{<} g$ ***w.r.t. $\\lambda$*** 와 같이 표현한다. "
   ]
  },
  {
   "cell_type": "markdown",
   "id": "a2dd54e8-b61c-4b3e-940f-f834b2d2c6ea",
   "metadata": {},
   "source": [
    "`-` 예시4: 만약에 아래와 같은 함수 $f,g$가 있다면 \n",
    "\n",
    "$$f(x) = \\begin{cases} 1 & x\\in \\mathbb{Q} \\\\ 0 & x\\in \\mathbb{R}-\\mathbb{Q} \\end{cases}$$\n",
    "\n",
    "$$g(x) = \\begin{cases} 1 & x\\in \\mathbb{Q} \\\\ 0 & x \\in \\mathbb{R}-\\mathbb{Q} \\end{cases}$$\n",
    "\n",
    "함수 $f$와 $g$는 ***모든 곳에서*** 같다라고 할 수 있겠다. (보통 그냥 같다라고 하죠..)"
   ]
  }
 ],
 "metadata": {
  "kernelspec": {
   "display_name": "Python 3 (ipykernel)",
   "language": "python",
   "name": "python3"
  },
  "language_info": {
   "codemirror_mode": {
    "name": "ipython",
    "version": 3
   },
   "file_extension": ".py",
   "mimetype": "text/x-python",
   "name": "python",
   "nbconvert_exporter": "python",
   "pygments_lexer": "ipython3",
   "version": "3.12.2"
  }
 },
 "nbformat": 4,
 "nbformat_minor": 5
}
