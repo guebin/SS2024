{
 "cells": [
  {
   "cell_type": "raw",
   "metadata": {
    "vscode": {
     "languageId": "raw"
    }
   },
   "source": [
    "---\n",
    "title: \"08wk: 측도론 마무리 -- 미뤄 둔 증명들\"\n",
    "author: \"최규빈\"\n",
    "date: \"10/26/2024\"\n",
    "reference-location: margin\n",
    "citation-location: margin\n",
    "cap-location: margin\n",
    "draft: false\n",
    "---"
   ]
  },
  {
   "cell_type": "markdown",
   "metadata": {},
   "source": [
    "# 1. 강의영상 "
   ]
  },
  {
   "cell_type": "markdown",
   "metadata": {},
   "source": [
    "{{< video https://youtu.be/playlist?list=PLQqh36zP38-wPRAGCBWdFBZvnPV7102DO&si=JCIBoQID_LlT4ZjK >}}"
   ]
  },
  {
   "cell_type": "markdown",
   "metadata": {},
   "source": [
    "# 2. 확장이론2"
   ]
  },
  {
   "cell_type": "markdown",
   "metadata": {
    "vscode": {
     "languageId": "raw"
    }
   },
   "source": [
    "**`# 이론 (확장이론2)`** -- *확장의 존재성이 보장될때 유일성을 보이는 테크닉*\n",
    "\n",
    "${\\cal A}$가 $\\Omega$에 대한 파이시스템일때, 잴 수 있는 공간 $\\big(\\Omega, \\sigma({\\cal A})\\big)$에서의 $\\sigma$-유한측도 $m$은 ${\\cal A}$에서의 값으로 **유일하게 결정된다**. 즉 ${\\cal A}$ 에서는 그 값이 일치하지만, $\\sigma({\\cal A})$ 에서는 일치하지 않는 두개의 $\\sigma$-유한측도 $m_1$,$m_2$는 존재할 수 없다. \n",
    "\n",
    "`#`"
   ]
  },
  {
   "cell_type": "markdown",
   "metadata": {},
   "source": [
    "**`# 이론 (확장이론2, 확률버전)`** -- *확장의 존재성이 보장될때 유일성을 보이는 테크닉*\n",
    "\n",
    "$\\big(\\Omega, \\sigma({\\cal A}), \\mathbb{P}\\big)$ 가 확률공간이라고 하자. 그리고 ${\\cal A}$는 $\\pi$-system이라고 하자. 확률측도 $\\mathbb{P}: \\sigma({\\cal A}) \\to [0,1]$ 의 값은 $\\mathbb{P}: {\\cal A} \\to [0,1]$ 의 값으로 유일하게 결정된다. \n",
    "\n",
    "`#`"
   ]
  },
  {
   "cell_type": "markdown",
   "metadata": {
    "vscode": {
     "languageId": "raw"
    }
   },
   "source": [
    "`(증명)`"
   ]
  },
  {
   "cell_type": "markdown",
   "metadata": {
    "vscode": {
     "languageId": "raw"
    }
   },
   "source": [
    "$\\mathbb{P}_1,\\mathbb{P}_2$를 $\\big(\\Omega,\\sigma({\\cal A})\\big)$ 에서의 확률측도라고 하자. 이떄 $\\mathbb{P}_1$ 와 $\\mathbb{P}_2$ 는 ${\\cal A}$ 에서 일치할때 $\\sigma({\\cal A})$ 에서도 일치함을 보이려면 아래를 보이면 충분하다. \n"
   ]
  },
  {
   "cell_type": "markdown",
   "metadata": {},
   "source": [
    "\n",
    "> **(a)** $\\forall A \\in {\\cal A}: \\mathbb{P}_1(A)=\\mathbb{P}_2(A)$ $\\Longrightarrow$  $\\big\\{B \\in \\sigma({\\cal A}): \\mathbb{P}_1(B) \\neq \\mathbb{P}_2(B)\\big\\}=\\emptyset$ "
   ]
  },
  {
   "cell_type": "markdown",
   "metadata": {
    "vscode": {
     "languageId": "raw"
    }
   },
   "source": [
    "여기에서 아래의 집합\n",
    "\n",
    "$$\\star=\\big\\{B \\in \\sigma({\\cal A}): \\mathbb{P}_1(B) \\neq \\mathbb{P}_2(B)\\big\\}$$\n",
    "\n",
    "의 의미는 $\\mathbb{P}_1$ 와 $\\mathbb{P}_2$ 의 값이 다른 사건(=집합)들의 모임정도로 해석할 수 있다. 따라서 이 집합의 여집합은 \"$\\mathbb{P}_1$ 와 $\\mathbb{P}_2$ 의 값이 같은 사건들의 모임\" 으로 해석할 수 있고 아래와 같이 정의할 수 있다. \n",
    "\n",
    "$$\\star^c= \\big\\{B \\in \\sigma({\\cal A}): \\mathbb{P}_1(B) = \\mathbb{P}_2(B)\\big\\}$$\n",
    "\n",
    "이제 **(a)** 를 보이는 것은 아래를 보이는 것과 같다. "
   ]
  },
  {
   "cell_type": "markdown",
   "metadata": {},
   "source": [
    "\n",
    "> **(b)** $\\forall A \\in {\\cal A}: \\mathbb{P}_1(A)=\\mathbb{P}_2(A)$  $\\Longrightarrow$  $\\big\\{B \\in \\sigma({\\cal A}): \\mathbb{P}_1(B) = \\mathbb{P}_2(B)\\big\\}=\\sigma({\\cal A})$ "
   ]
  },
  {
   "cell_type": "markdown",
   "metadata": {},
   "source": [
    "편의상 ${\\cal D} = \\big\\{B \\in \\sigma({\\cal A}): \\mathbb{P}_1(B) = \\mathbb{P}_2(B)\\big\\}$ 라고 쓴다면 **(b)** 는 아래와 같고, "
   ]
  },
  {
   "cell_type": "markdown",
   "metadata": {},
   "source": [
    "\n",
    "> **(c)** $\\forall A \\in {\\cal A}: \\mathbb{P}_1(A)=\\mathbb{P}_2(A)$ $\\Longrightarrow$  ${\\cal D}=\\sigma({\\cal A})$ "
   ]
  },
  {
   "cell_type": "markdown",
   "metadata": {},
   "source": [
    "딘킨의 $\\pi$-$\\lambda$ theorem 에 의하면 ${\\cal A}$가 파이시스템일경우 $l({\\cal A})=\\sigma({\\cal A})$ 가 성립하므로 **(c)** 대신에 아래를 보여도 충분하다. "
   ]
  },
  {
   "cell_type": "markdown",
   "metadata": {},
   "source": [
    "\n",
    "> **(d)** $\\forall A \\in {\\cal A}: \\mathbb{P}_1(A)=\\mathbb{P}_2(A)$ $\\Longrightarrow$  ${\\cal D}=l({\\cal A})$ "
   ]
  },
  {
   "cell_type": "markdown",
   "metadata": {},
   "source": [
    "이것은 다시 아래를 보이는 것과 같다. "
   ]
  },
  {
   "cell_type": "markdown",
   "metadata": {},
   "source": [
    "> **(e)** $\\forall A \\in {\\cal A}: \\mathbb{P}_1(A)=\\mathbb{P}_2(A)$ $\\Longrightarrow$ (1) ${\\cal D} \\subset l({\\cal A})$ and (2) $l({\\cal A}) \\subset {\\cal D}$"
   ]
  },
  {
   "cell_type": "markdown",
   "metadata": {
    "vscode": {
     "languageId": "raw"
    }
   },
   "source": [
    "잠깐 $l({\\cal A})=\\sigma({\\cal A})$ 라고 놓고 해석하면 (1)은 ${\\cal D} = \\sigma({\\cal A})$ 가 된다. ${\\cal D}$의 정의를 다시 살펴보면 \n",
    "\n",
    "$${\\cal D} = \\big\\{B \\in \\sigma({\\cal A}): \\mathbb{P}_1(B)=\\mathbb{P}_2(B)\\big\\}$$\n",
    "\n",
    "가 되고 이를 뜻으로 풀이하면 ${\\cal D}$ 는 \"$\\sigma({\\cal A})$의 원소 중 수식 $\\mathbb{P}_1$, $\\mathbb{P}_2$로 쟀을 때 측정값이 같은 사건들의 모임\"이므로 ${\\cal D}$는 정의상 $\\sigma({\\cal A})$ 의 부분집합이 된다. 따라서 (1)은 ${\\cal D}$의 정의에 의하여 당연히 성립하므로 (2)만 보이면 된다. 그런데 (2)를 보이기 위해서는 ${\\cal D}$ 가 ${\\cal A}$ 를 포함하는 람다시스템임을 보이면 된다. 따라서 아래를 보이면된다. "
   ]
  },
  {
   "cell_type": "markdown",
   "metadata": {},
   "source": [
    "> **(f)** $\\forall A \\in {\\cal A}: \\mathbb{P}_1(A)=\\mathbb{P}_2(A)$ $\\Longrightarrow$ (1) ${\\cal A} \\subset {\\cal D}$ and (2) ${\\cal D}$ is $\\lambda$-system"
   ]
  },
  {
   "cell_type": "markdown",
   "metadata": {
    "vscode": {
     "languageId": "raw"
    }
   },
   "source": [
    "다시 ${\\cal D}$의 정의를 떠올려보자. ${\\cal D}$는 \"$\\sigma({\\cal A})$의 원소 중 수식 $\\mathbb{P}_1$, $\\mathbb{P}_2$로 쟀을 때 측정값이 같은 사건들의 모임\" 이다. 그런데 문제의 조건에서 \"${\\cal A}$ 에서는 $\\mathbb{P}_1$, $\\mathbb{P}_2$ 의 측정값이 동일\"하다고 하였으므로 ${\\cal D}$는 정의상 ${\\cal A}$를 포함한다. 따라서 (2)만을 보이면된다. "
   ]
  },
  {
   "cell_type": "markdown",
   "metadata": {
    "vscode": {
     "languageId": "raw"
    }
   },
   "source": [
    ":::{.callout-note}\n",
    "### 람다시스템 첫조건 체크\n",
    "\n",
    "$\\Omega \\in {\\cal D}$ 임을 보이자. 그런데 \n",
    "\n",
    "- $\\Omega \\in {\\cal D}$ $\\Longleftrightarrow$ $\\Omega \\in \\sigma({\\cal A})$ and $\\mathbb{P}_1(\\Omega) = \\mathbb{P}_2(\\Omega)$. \n",
    "\n",
    "이므로 아래를 보이면된다. \n",
    "\n",
    "1. $\\Omega \\in \\sigma({\\cal A})$ \n",
    "2. $\\mathbb{P}_1(\\Omega) = \\mathbb{P}_2(\\Omega)$\n",
    "\n",
    "1은 시그마필드의 정의에 의하여 성립하고, 2는 $\\mathbb{P}_1$, $\\mathbb{P}_2$가 확률측도이므로 성립한다.\n",
    ":::"
   ]
  },
  {
   "cell_type": "markdown",
   "metadata": {},
   "source": [
    ":::{.callout-note}\n",
    "### 람다시스템 두번째 조건 체크\n",
    "\n",
    "$A \\in {\\cal D} \\Rightarrow A^c \\in {\\cal D}$ 임을 보이자. 표현 \"$\\star \\in {\\cal D}$\" 를 정리하면 아래와 같다. \n",
    "\n",
    "- $A \\in {\\cal D}$ $\\Longleftrightarrow$ $A \\in \\sigma({\\cal A})$ and $\\mathbb{P}_1(A)=\\mathbb{P}_2(A)$\n",
    "- $A^c \\in {\\cal D}$ $\\Longleftrightarrow$ $A^c \\in \\sigma({\\cal A})$ and $\\mathbb{P}_1(A^c)=\\mathbb{P}_2(A^c)$\n",
    "\n",
    "따라서 우리는 아래를 보이면 된다. \n",
    "\n",
    "$$A \\in \\sigma({\\cal A}) \\text{ and } \\mathbb{P}_1(A)=\\mathbb{P}_2(A) \\Longrightarrow A^c \\in \\sigma({\\cal A}) \\text{ and }\\mathbb{P}_1(A^c)=\\mathbb{P}_2(A^c)$$\n",
    "\n",
    "여기에서 \n",
    "\n",
    "- $A \\in \\sigma({\\cal A}) \\Rightarrow A^c \\in \\sigma({\\cal A})$\n",
    "\n",
    "임은 시그마필드의 정의에 의하여 성립하고^[따라서 $\\mathbb{P}_1(A^c)=\\mathbb{P}_2(A^c)$와 같은 표현이 가능하다] \n",
    "\n",
    "- $\\mathbb{P}_1(A)=\\mathbb{P}_2(A) \\Rightarrow \\mathbb{P}_1(A^c)=\\mathbb{P}_2(A^c)$\n",
    "\n",
    "임은 여집합사건에 대한 확률의 정의에 의하여 성립한다.\n",
    ":::"
   ]
  },
  {
   "cell_type": "markdown",
   "metadata": {},
   "source": [
    ":::{.callout-note}\n",
    "### 람다시스템 세번째 조건 체크\n",
    "\n",
    "$\\uplus_{i=1}^{\\infty}B_i \\in {\\cal D}, ~\\forall B_1,B_2, \\cdots\\in {\\cal D}$ 임을 보이자. 단, 여기에서 $B_1,B_2,\\dots$ 는 서로소인 집합열이다. \n",
    "\n",
    "표현 \"$\\star \\in {\\cal D}$\" 를 정리하면 아래와 같다. \n",
    "\n",
    "1. $B_i \\in {\\cal D}$ $\\Longleftrightarrow$ $B_i \\in \\sigma({\\cal A})$ and $\\mathbb{P}_1(B_i)=\\mathbb{P}_2(B_i)$\n",
    "2. $\\uplus_{i=1}^{\\infty}B_i \\in {\\cal D}$ $\\Longleftrightarrow$ $\\uplus_{i=1}^{\\infty}B_i \\in \\sigma({\\cal A})$ and $\\mathbb{P}_1(\\uplus_{i=1}^{\\infty}B_i)=\\mathbb{P}_2(\\uplus_{i=1}^{\\infty}B_i)$\n",
    "\n",
    "따라서 증명할 것을 정리하면 \n",
    "\n",
    "- 모든 $i \\in \\mathbb{N}$에 대하여 1이 성립 $\\Rightarrow$ 2가 성립\n",
    "\n",
    "함을 보이면된다. 시그마필드의 정의에 의하여 \n",
    "\n",
    "- $\\big(\\forall i \\in \\mathbb{N}: B_i \\in \\sigma({\\cal A})\\big) \\Longrightarrow \\uplus_{i=1}^\\infty B_i \\in \\sigma({\\cal A})$ \n",
    "\n",
    "이 성립한다.^[따라서 $\\uplus_{i=1}^\\infty B_i$는 확률측정가능한 집합이 되고 $\\mathbb{P}_1(\\uplus_{i=1}^\\infty B_i)= \\mathbb{P}_2(\\uplus_{i=1}^\\infty B_i)$ 와 같은 표현이 가능해진다.] 그리고 확률의 세번쨰 공리에 의하여 아래가 성립한다. \n",
    "\n",
    "- $\\big(\\forall i \\in \\mathbb{N}: \\mathbb{P}_1(B_i)=\\mathbb{P}_2(B_i)\\big) \\Longrightarrow \\mathbb{P}_1(\\uplus_{i=1}^\\infty B_i)=\\mathbb{P}_2(\\uplus_{i=1}^\\infty B_i)$\n",
    ":::"
   ]
  },
  {
   "cell_type": "markdown",
   "metadata": {},
   "source": [
    "`#`"
   ]
  },
  {
   "cell_type": "markdown",
   "metadata": {},
   "source": [
    "# 3. 집합함수의 성질"
   ]
  },
  {
   "cell_type": "markdown",
   "metadata": {
    "vscode": {
     "languageId": "raw"
    }
   },
   "source": [
    "`# 예제1` -- ${\\cal A}\\subset 2^\\Omega$ 에서의 집합함수 $\\tilde{m}:{\\cal A} \\to [0,\\infty]$을 고려하자. ${\\cal A}$가 세미링일때, $1 \\Rightarrow 2$ 임을 보여라. \n",
    "\n",
    "1. $\\tilde{m}$ is addtivie on ${\\cal A}$ \n",
    "2. $\\tilde{m}$ is monotone on ${\\cal A}$ \n",
    "\n",
    "`(풀이)`\n",
    "\n"
   ]
  },
  {
   "cell_type": "raw",
   "metadata": {},
   "source": []
  },
  {
   "cell_type": "markdown",
   "metadata": {},
   "source": [
    "`#`"
   ]
  },
  {
   "cell_type": "markdown",
   "metadata": {},
   "source": [
    "`# 예제2` -- ${\\cal A}\\subset 2^\\Omega$ 에서의 집합함수 $\\tilde{m}:{\\cal A} \\to [0,\\infty]$을 고려하자. ${\\cal A}$가 세미링일때, $1 \\Rightarrow 2$ 임을 보여라. \n",
    "\n",
    "1. $\\tilde{m}$ is addtivie on ${\\cal A}$ \n",
    "2. $\\tilde{m}$ is subaddtive on ${\\cal A}$ \n",
    "\n",
    "`(풀이)`\n",
    "\n"
   ]
  },
  {
   "cell_type": "code",
   "execution_count": null,
   "metadata": {},
   "outputs": [],
   "source": []
  },
  {
   "cell_type": "markdown",
   "metadata": {},
   "source": [
    "`#`"
   ]
  },
  {
   "cell_type": "markdown",
   "metadata": {},
   "source": [
    "# 4. 르벡메저"
   ]
  },
  {
   "cell_type": "markdown",
   "metadata": {
    "vscode": {
     "languageId": "raw"
    }
   },
   "source": [
    "`# 예비학습1` -- 부등식의 증명 \n",
    "\n",
    "실수 $a,b$ 의 대소비교시 아래를 이용하면 편리하다. \n",
    "\n",
    "$$a \\leq b \\Leftrightarrow \\forall \\epsilon>0: a < b+\\epsilon $$\n",
    "\n",
    "즉 $a\\leq b$ 임을 보이기 위해서 $\\forall \\epsilon>0: a < b+\\epsilon$ 을 보여도 충분하다. \n",
    "\n",
    "`(증명)` \n",
    "\n",
    "$(\\Rightarrow)$ 는 당연하므로 $(\\Leftarrow$) 만을 보이면 된다. \n",
    "\n",
    ":::{.callout-note}\n",
    "\n",
    "### $(\\Leftarrow$) 의 증명 \n",
    "\n",
    "아래를 보이면 된다. \n",
    "\n",
    "$$\\big(\\forall \\epsilon>0: a < b+\\epsilon \\big)\\Rightarrow a \\leq b$$\n",
    "\n",
    "귀류법을 사용하자. 즉 $a > b$ 를 가정하자. 그러면 $a-b>0$ 이 된다. 만약에 $\\epsilon^*= a-b>0$ 로 설정하면 \n",
    "\n",
    "$$a=b+\\epsilon^*$$ \n",
    "\n",
    "가 성립하는데 이는 모순이다. \n",
    "\n",
    "\n",
    ":::\n",
    "\n",
    "`#`"
   ]
  },
  {
   "cell_type": "markdown",
   "metadata": {
    "vscode": {
     "languageId": "raw"
    }
   },
   "source": [
    "`# 예제` -- 르벡메저\n",
    "\n",
    "전체집합 $\\Omega$ 에 대하여, 아래와 같은 세미링 ${\\cal A}$ 를 고려하자. \n",
    "\n",
    "$${\\cal A} = \\big\\{(a,b]: -\\infty<a<b<\\infty \\big\\} \\cup \\{\\emptyset\\}$$ \n",
    "\n",
    "\n",
    "\n",
    "\n",
    "\n"
   ]
  },
  {
   "cell_type": "markdown",
   "metadata": {},
   "source": [
    "${\\cal A}$ 에서의 집합함수 $\\tilde{\\lambda}: {\\cal A} \\to [0,\\infty]$ 를 아래와 같이 정의하자. \n",
    "\n",
    "$$\\tilde{\\lambda}((a,b]) = b-a$$\n",
    "\n",
    "함수 $\\tilde{\\lambda}$ 이 ${\\cal A}$에서 additive 함은 쉽게 보일 수 있다. 이제 $\\sigma$-subadditive on ${\\cal A}$ 임을 보이자. "
   ]
  },
  {
   "cell_type": "markdown",
   "metadata": {},
   "source": [
    "`(예비풀이)`"
   ]
  },
  {
   "cell_type": "markdown",
   "metadata": {
    "vscode": {
     "languageId": "raw"
    }
   },
   "source": [
    "구간 $(0,1]$ 을 상상하자. 이제 $\\epsilon \\in (0,1)$ 을 하나 뽑자. 그리고 아래와 같은 구간열을 상상하자. \n",
    "\n",
    "- $\\big(1/2, ~~ 1+0.1-1/2\\big],~~ \\big(1/3, ~~ 1+0.1-1/3\\big],~ \\cdots, \\big(a_k,b_k\\big],\\cdots$\n",
    "- $\\big(1/2, ~~ 1+0.1-1/2+\\frac{\\epsilon}{4}\\big],~~ \\big(1/3, ~~ 1+0.1-1/3+\\frac{\\epsilon}{8}\\big],~ \\cdots \\big(a_k,b_k(\\epsilon)\\big]\\cdots$\n",
    "\n",
    "위의 구간을 모두 합치면, 아래 구간을 모두 함친것 보다 $\\frac{\\epsilon}{2}$ 만큼 길이가 작다. 이제 아래의 수식을 관찰하자. \n",
    "\n",
    "$$\\big[\\frac{\\epsilon}{2},1 \\big] \\subset \\big(0,1\\big] \\subset \\bigcup_{k=1}^{\\infty}\\big(a_k,b_k]\\subset \\bigcup_{k=1}^{\\infty}\\big(a_k,b_k(\\epsilon)] \\quad\\cdots(\\star)$$\n"
   ]
  },
  {
   "cell_type": "markdown",
   "metadata": {
    "vscode": {
     "languageId": "raw"
    }
   },
   "source": [
    "만약에 엄청 큰 자연수 $K$를 선택한다면 구간 $\\big[\\frac{\\epsilon}{2}, 1\\big]$ 는 $\\cup_{k=1}^{K}\\big(a_k,b_k(\\epsilon)\\big]$ 로 덮을 수 있다. 즉 아래가 성립한다. \n",
    "\n",
    "$$\\big[\\frac{\\epsilon}{2}, 1\\big]\\subset \\bigcup_{k=1}^{K}\\big(a_k,b_k(\\epsilon)\\big]\\quad \\cdots(\\star\\star)$$"
   ]
  },
  {
   "cell_type": "markdown",
   "metadata": {
    "vscode": {
     "languageId": "raw"
    }
   },
   "source": [
    "이제 ($\\star$), ($\\star\\star)$ 를 활용하여 식을 전개해보자.\n",
    "\n",
    "\\begin{align*}\n",
    "\\tilde{\\lambda}\\left(\\big(0,1\\big] \\right) &= \\frac{\\epsilon}{2} + \\tilde{\\lambda}\\left(\\big(\\frac{\\epsilon}{2},1\\big] \\right) \\\\\n",
    "&\\leq \\frac{\\epsilon}{2}+\\tilde{\\lambda}\\left(\\bigcup_{k=1}^{K}\\big(a_k,b_k(\\epsilon)\\big] \\right)\\\\\n",
    "&\\leq \\frac{\\epsilon}{2}+\\tilde{\\lambda}\\left(\\bigcup_{k=1}^{\\infty}\\big(a_k,b_k(\\epsilon)\\big] \\right)=\\epsilon+\\tilde{\\lambda}\\left(\\bigcup_{k=1}^{\\infty}\\big(a_k,b_k\\big] \\right)\n",
    "\\end{align*}"
   ]
  },
  {
   "cell_type": "markdown",
   "metadata": {},
   "source": [
    "정리하면 아래가 성립함을 알 수 있다. ($\\epsilon$을 작게 뽑으면 위의 논리전개를 그대로 쓰면 되고, 큰 값을 뽑으면 그냥 성립하니까..)\n",
    "\n",
    "$$\\forall \\epsilon> 0:~\\tilde{\\lambda}\\left(\\big(0,1\\big] \\right) \\leq \\epsilon+\\tilde{\\lambda}\\left(\\bigcup_{k=1}^{\\infty}\\big(a_k,b_k\\big] \\right)$$\n",
    "\n",
    "따라서 예비학습1을 쓰면 아래가 성립함을 알 수 있다. \n",
    "\n",
    "$$\\tilde{\\lambda}\\left(\\big(0,1\\big] \\right) \\leq \\tilde{\\lambda}\\left(\\bigcup_{k=1}^{\\infty}\\big(a_k,b_k\\big] \\right)$$"
   ]
  },
  {
   "cell_type": "markdown",
   "metadata": {
    "vscode": {
     "languageId": "raw"
    }
   },
   "source": [
    "`(풀이)`"
   ]
  },
  {
   "cell_type": "markdown",
   "metadata": {
    "vscode": {
     "languageId": "raw"
    }
   },
   "source": [
    "구간 $(a,b]$ 를 fix 하자. 이제 $\\big(a,b\\big] \\subset \\bigcup_{k=1}^{\\infty}\\big(a_k,b_k]$ 를 만족하는 $(a_k,b_k]$ 를 상상하자. 예비풀이의 논리전개를 그대로 이용하면 고정된 $(a,b]$ 에 대하여 아래가 성립함을 알 수 있다. \n",
    "\n",
    "$$\\big(a,b\\big] \\subset \\bigcup_{k=1}^{\\infty}\\big(a_k,b_k] \\Rightarrow \\tilde{\\lambda}\\left(\\big(a,b\\big] \\right) \\leq \\tilde{\\lambda}\\left(\\bigcup_{k=1}^{\\infty}\\big(a_k,b_k\\big] \\right) \\cdots (\\star\\star\\star) $$"
   ]
  },
  {
   "cell_type": "markdown",
   "metadata": {
    "vscode": {
     "languageId": "raw"
    }
   },
   "source": [
    "그런데 $(\\star\\star\\star)$는 임의의 $(a,b]$ 에 대해서도 성립하므로 따라서 $\\tilde{\\lambda}$ 는 ${\\cal A}$에서 $\\sigma$-subadditive 하다. "
   ]
  },
  {
   "cell_type": "markdown",
   "metadata": {
    "vscode": {
     "languageId": "raw"
    }
   },
   "source": [
    "`#`"
   ]
  }
 ],
 "metadata": {
  "kernelspec": {
   "display_name": "Python 3 (ipykernel)",
   "language": "python",
   "name": "python3"
  },
  "language_info": {
   "codemirror_mode": {
    "name": "ipython",
    "version": 3
   },
   "file_extension": ".py",
   "mimetype": "text/x-python",
   "name": "python",
   "nbconvert_exporter": "python",
   "pygments_lexer": "ipython3",
   "version": "3.12.5"
  }
 },
 "nbformat": 4,
 "nbformat_minor": 4
}
