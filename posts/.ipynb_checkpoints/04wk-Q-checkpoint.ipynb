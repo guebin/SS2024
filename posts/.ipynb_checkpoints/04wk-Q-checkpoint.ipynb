{
 "cells": [
  {
   "cell_type": "raw",
   "id": "48dfa79b-4b9c-4497-9d36-ba4fc8406765",
   "metadata": {
    "vscode": {
     "languageId": "raw"
    }
   },
   "source": [
    "---\n",
    "title: \"04wk: Quiz (09/24)\"\n",
    "author: \"최규빈\"\n",
    "date: \"09/24/2024\"\n",
    "reference-location: margin\n",
    "citation-location: margin\n",
    "cap-location: margin\n",
    "comments: false\n",
    "---"
   ]
  },
  {
   "cell_type": "markdown",
   "id": "9740fc3f-fecb-4c4d-b2e4-0b2e2b0faa57",
   "metadata": {},
   "source": [
    "# `1`. 수학과의 표현 -- 20점"
   ]
  },
  {
   "cell_type": "markdown",
   "id": "4757dab6-3c67-4691-8d4a-c0224ad992c8",
   "metadata": {},
   "source": [
    "아래의 명제를 읽고 참 거짓을 판단하라. "
   ]
  },
  {
   "cell_type": "markdown",
   "id": "f3d2e36c-6d23-47a6-b807-ac5f07efd17b",
   "metadata": {},
   "source": [
    "`(1)` $a+b \\in \\mathbb{N}, \\forall a,b \\in \\mathbb{N}$"
   ]
  },
  {
   "cell_type": "markdown",
   "id": "9410907a-5e8b-422b-8cae-9e159e35b48f",
   "metadata": {},
   "source": [
    "`(2)` $a-b \\in \\mathbb{N}, \\forall a,b \\in \\mathbb{N}$"
   ]
  },
  {
   "cell_type": "markdown",
   "id": "40cf4ed4-eefd-4c11-8ee9-f48be0324cdf",
   "metadata": {},
   "source": [
    "`(3)` $k \\in \\mathbb{N} \\Rightarrow 2k \\in \\mathbb{N}_{even}$"
   ]
  },
  {
   "cell_type": "markdown",
   "id": "cbf56ff6-850d-46a0-89ea-e15895d53747",
   "metadata": {},
   "source": [
    "`(4)` $\\forall m \\in \\mathbb{N}_{even}~ \\exists k \\in \\mathbb{N}$ such that $2k=m$. "
   ]
  },
  {
   "cell_type": "markdown",
   "id": "420d99cb-37c3-44ac-9546-8acc9365b58e",
   "metadata": {},
   "source": [
    "> 단, 이 문제에서 $\\mathbb{N}$는 자연수의 집합 $\\mathbb{N}_{even}$은 짝수의 집합을 의미한다. "
   ]
  },
  {
   "cell_type": "markdown",
   "id": "de167b7b-44b4-4355-addb-392be09d9655",
   "metadata": {},
   "source": [
    "# 2. 수학과의 표현 -- 20점 "
   ]
  },
  {
   "cell_type": "markdown",
   "id": "c4138cf3-cba1-4d1e-8d2a-f67618a1064c",
   "metadata": {},
   "source": [
    "아래가 의미하는 바를 한국어로 자연스럽게 작성하라.\n",
    "\n",
    "`(1)` $a \\in \\mathbb{N}_{even}, b \\in \\mathbb{N}_{odd} \\Rightarrow a \\times b \\in \\mathbb{N}_{even}$\n",
    "\n",
    "`(2)` $\\forall q \\in \\mathbb{Q}^+~ \\exists m, n \\in \\mathbb{N}$ such that $q = \\frac{n}{m}$.\n",
    "\n",
    "> 단, 이 문제에서 $\\mathbb{N}$은 자연수의 집합, $\\mathbb{N}_{even}$은 짝수의 집합, $\\mathbb{N}_{odd}$는 홀수의 집합, 그리고 $\\mathbb{Q}^+$는 양의 유리수 집합을 의미한다.\n",
    "\n",
    "**답안작성예시**:\n",
    "\n",
    "문항: $\\forall x \\in \\mathbb{R}: x^2 \\geq 0$, 단 $\\mathbb{R}$은 실수의 집합\n",
    "\n",
    "답: 모든 실수는 제곱하면 항상 양수가 된다."
   ]
  },
  {
   "cell_type": "markdown",
   "id": "60f2621a-a122-480b-82db-ec2892cb2fea",
   "metadata": {},
   "source": [
    "# `3`. 전단사함수 -- 40점"
   ]
  },
  {
   "cell_type": "markdown",
   "id": "85593e05-4a46-4ffc-a042-2c72098ae654",
   "metadata": {},
   "source": [
    "`(1)` 함수 $f$는 $X = \\{1,2,3,4\\}$ 에서 $Y = \\{1,2,3,4\\}$ 로 매핑되며, 매핑은 다음과 같다:\n",
    "\n",
    "- $f(1) = 1$\n",
    "- $f(2) = 1$\n",
    "- $f(3) = 2$\n",
    "- $f(4) = 2$\n",
    "\n",
    "이 함수가 전사인지 아닌지, 단사인지 아닌지 판단하고 판단의 근거를 설명하라. "
   ]
  },
  {
   "cell_type": "markdown",
   "id": "32dc2ca9-6229-4b47-85a1-ac8f16efcf2d",
   "metadata": {},
   "source": [
    "`(2)` 함수 $f$는 $X = \\{1,2,3,4\\}$ 에서 $Y = \\{1,2\\}$ 로 매핑되며, 매핑은 다음과 같다:\n",
    "\n",
    "- $f(1) = 1$\n",
    "- $f(2) = 1$\n",
    "- $f(3) = 2$\n",
    "- $f(4) = 2$\n",
    "\n",
    "이 함수가 전사인지 아닌지, 단사인지 아닌지 판단하고 판단의 근거를 설명하라. "
   ]
  },
  {
   "cell_type": "markdown",
   "id": "ef941155-a62e-4dbb-992f-3e1d815b183c",
   "metadata": {},
   "source": [
    "# `4`. 카디널리티 -- 20점"
   ]
  },
  {
   "cell_type": "markdown",
   "id": "928292aa-d87c-4bbb-9b2a-4d24cb154c88",
   "metadata": {},
   "source": [
    "짝수들의 집합 $\\mathbb{N}_{even}$ 와 홀수들의 집합 $\\mathbb{N}_{odd}$ 의 카디널리티가 동일함을 보여라. "
   ]
  }
 ],
 "metadata": {
  "kernelspec": {
   "display_name": "Python 3 (ipykernel)",
   "language": "python",
   "name": "python3"
  },
  "language_info": {
   "codemirror_mode": {
    "name": "ipython",
    "version": 3
   },
   "file_extension": ".py",
   "mimetype": "text/x-python",
   "name": "python",
   "nbconvert_exporter": "python",
   "pygments_lexer": "ipython3",
   "version": "3.12.4"
  }
 },
 "nbformat": 4,
 "nbformat_minor": 5
}
