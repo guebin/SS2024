{
 "cells": [
  {
   "cell_type": "raw",
   "id": "23c757c8-0fe1-4736-8cf3-735ae1247bf6",
   "metadata": {
    "vscode": {
     "languageId": "raw"
    }
   },
   "source": [
    "---\n",
    "title: \"05wk: 시그마필드 -- Motivation2, 측도와 확률측도\"\n",
    "author: \"최규빈\"\n",
    "date: \"10/03/2024\"\n",
    "reference-location: margin\n",
    "citation-location: margin\n",
    "cap-location: margin\n",
    "draft: false\n",
    "---"
   ]
  },
  {
   "cell_type": "markdown",
   "id": "6615cd59-12ea-42ee-a50d-8151075f9bef",
   "metadata": {},
   "source": [
    "# 1. 강의영상 "
   ]
  },
  {
   "cell_type": "code",
   "execution_count": 3,
   "id": "957f89ff-ca13-4f91-9cd3-fbf9ae6d54f3",
   "metadata": {},
   "outputs": [],
   "source": [
    "#{{< video https://youtu.be/playlist?list=PLQqh36zP38-zYlrMhll2MUhhr9FyL_YIu&si=Zx-ha5JrW6uLbiid >}}"
   ]
  },
  {
   "cell_type": "markdown",
   "id": "8852f174-207f-4049-9870-34dbac90f0c5",
   "metadata": {},
   "source": [
    "# 2. 지금까지의 스토리 "
   ]
  },
  {
   "cell_type": "markdown",
   "id": "1db8c181-6277-4df9-b3da-d1832c7f23eb",
   "metadata": {},
   "source": [
    "`-` 지금까지의 이야기. \n",
    "\n",
    "- 우리가 원래 원했던 것은 **$\\Omega=[0,1)$ 의 모든 부분집합에 대해서 확률을 \"무모순\"으로 정의** 하는 것이었다.\n",
    "- **$\\Omega=[0,1)$ 의 모든 부분집합에 대해서 확률을 \"무모순\"으로 정의**하는게 엄청 쉬운일 인줄 알았는데 사실은 그렇지가 않았다. 확률을 정의하는건 매우 까다로운 일이었다. \n",
    "- 이러한 까다로움을 해결하기 위해서 \"르벡메져\"라는 새로운 도구를 사용했다. 이 도구는 몇 가지 까다로운 집합에 대해서도 확률을 무모순으로 정의할 수 있었다.\n",
    "- 그런데 \"르벡메저\"를 사용해도 $\\Omega=[0,1)$의 부분집합 중 확률을 잴 수 없는 집합이 존재함을 알았다. (비탈리집합이라나 뭐라나..)\n",
    "- \"르벡메저\"를 사용하여 $\\Omega=[0,1)$의 모든 부분집합에 대한 확률을 정의하는 일은 포기하기로 했다. 즉 비탈리집합의 경우 길이를 정의하지 않기로 했다. 그런데 문제는 비탈리집합의 길이만 정의하지 않으면 끝나는것이 아니었다.^[예를들면 $[0,1)$에서 비탈리집합의 길이를 정의하지 않는다는 말은, $[0,1)$에서 비탈리집합을 뺀 집합의 길이도 정의하지 않는다는 말과 동일해지는 문제가 있음]\n",
    "- 따라서 $\\Omega=[0,1)\n",
    "$의 부분집합중, **확률을 정의할 수 있는 집합들의 모임**이라는 개념을 논의할 필요성이 생겼고 이러한 집합들의 모임이 가져야 할 성질에 대하여 상상해보는 시간을 가졌었다. "
   ]
  },
  {
   "cell_type": "markdown",
   "id": "f880fd2c-a1c3-4631-8706-034cdfa4c1c1",
   "metadata": {},
   "source": [
    "# 3. $\\sigma$-field - Motivation2"
   ]
  },
  {
   "cell_type": "markdown",
   "id": "a13dd3dd-ec89-413a-b933-33f81f11417d",
   "metadata": {},
   "source": [
    "## A. 시그마필드 "
   ]
  },
  {
   "cell_type": "markdown",
   "id": "d43b18f4",
   "metadata": {},
   "source": [
    "**`# 생각1`** -- trivial $\\sigma$-field"
   ]
  },
  {
   "cell_type": "markdown",
   "id": "3c2ba46f",
   "metadata": {},
   "source": [
    "$\\Omega=[0,1)$ 이라고 하자. ${\\cal F}$을 아래와 같이 정의한다고 하자. 이러한 묶음 ${\\cal F}$는 합리적일까?\n",
    "\n",
    "$${\\cal F}=\\{\\emptyset, \\Omega \\}$$ "
   ]
  },
  {
   "cell_type": "markdown",
   "id": "00255540",
   "metadata": {},
   "source": [
    "(해설) "
   ]
  },
  {
   "cell_type": "markdown",
   "id": "bec9e62a",
   "metadata": {},
   "source": [
    "이렇게 잡으면 모순이 일어나진 않음. (그렇지만 쓸모가 없음..)"
   ]
  },
  {
   "cell_type": "markdown",
   "id": "c2397970",
   "metadata": {},
   "source": [
    "`#`"
   ]
  },
  {
   "cell_type": "markdown",
   "id": "4eec05d8",
   "metadata": {},
   "source": [
    "**`# 생각2`** -- 교집합..?"
   ]
  },
  {
   "cell_type": "markdown",
   "id": "b2bb9e41",
   "metadata": {},
   "source": [
    "$\\Omega=\\{1,2,3,4\\}$라고 하자. 아래와 같은 ${\\cal F}$는 합리적일까?"
   ]
  },
  {
   "cell_type": "markdown",
   "id": "a4ca44c9",
   "metadata": {},
   "source": [
    "$${\\cal F}= \\big\\{ \\emptyset, \\{1,2\\}, \\{1,3\\}, \\{1,4\\},\\{2,3\\},\\{2,4\\},\\{3,4\\}, \\Omega\\big\\}$$"
   ]
  },
  {
   "cell_type": "markdown",
   "id": "50a3d1b1",
   "metadata": {},
   "source": [
    "`(해설)` "
   ]
  },
  {
   "cell_type": "markdown",
   "id": "bdb98410",
   "metadata": {},
   "source": [
    "집합 $A$와 $B$에 대한 확률값을 매길 수 있다면 $\\mathbb{P}(A \\cap B)$를 정의할 수 있어야 할까? 이 문항은 이 질문에 대한 답을 준다. 주어진 ${\\cal F}$는 아래의 조건을 만족한다. \n",
    "\n",
    "`조건1`. $\\Omega \\in {\\cal F}$ \n",
    "\n",
    "`조건2`. $A \\in {\\cal F} \\Rightarrow A^c \\in {\\cal F}$ \n",
    "\n",
    "`조건3`. $\\big(\\forall n \\in \\mathbb{N}: A_n \\in {\\cal F} \\big)  \\text{ and } \\big(\\forall {m,k} \\in \\mathbb{N}, m\\neq k:~  A_m \\cap A_k = \\emptyset \\big) \\quad \\Longrightarrow \\quad \\uplus_{n=1}^{\\infty} A_n \\in~ {\\cal F}$\n",
    "\n",
    "그렇지만 ${\\cal F}$는 \n",
    "\n",
    "$$\\{1,2\\} \\cap \\{1,3\\} = \\{1\\}$$\n",
    "\n",
    "와 같은 집합이라든가, \n",
    "\n",
    "$$\\{1,2\\} \\cup \\{1,3\\} = \\{1,3,4\\}$$\n",
    "\n",
    "와 같은 집합의 확률값을 잴 수 없다고 한다. 즉 $\\mathbb{P}(A)$, $\\mathbb{P}(B)$를 잴 수 있음에도 $\\mathbb{P}(A \\cap B)$, $\\mathbb{P}(A \\cup B)$ 의 확률값은 모두 잴 수 없다고 하는 것이다. 하지만 이 접근법은 확률의 공리에 모순을 불러일으키는 건 아니다. (그렇지만 \"확률\"을 쓸모없게 만들지)"
   ]
  },
  {
   "cell_type": "markdown",
   "id": "cbe453d4-b2dc-4103-98de-d4843f46070b",
   "metadata": {},
   "source": [
    "> 통계학과 입장: 확률의 공리상 $A$와 $B$에 대한 확률을 모두 정의할 수 있다고 해서 $A\\cap B$를 잴 수 있어야 하는건 아니다."
   ]
  },
  {
   "cell_type": "markdown",
   "id": "27d81c4a-86d6-4717-89ab-a297055896c6",
   "metadata": {},
   "source": [
    "> 수학과의 입장: 그런데, 사실 $\\Omega$ 에서의 확률이라는 것은 사실 \"길이\"의 개념을 일반화 한 것이다. 확률을 무모순으로 정의가능한 집합은 사실 어떠한 집합의 크기,길이,넓이,부피,밀도,규모(scale),범위(extent) 등 \"재다\"라는 개념을 무모순으로 정의가능한 집합을 잘 정의하면 되는 일이다. 이러한 집합에 한정하여 말한다면 집합 $A$를 잴 수 있고 집합 $B$를 잴 수 있는데, 집합 $A \\cap B$는 잴 수 없다는 것이 오히려 이상하다. (오히려 $\\Omega$를 잴 수 있다는게 더 이상한거 아니야?)"
   ]
  },
  {
   "cell_type": "markdown",
   "id": "7760d685-1382-4f61-9399-bbed03c484e8",
   "metadata": {},
   "source": [
    "> 합의: 그냥 $A \\cap B$ 도 잴 수 있다고 하시죠 "
   ]
  },
  {
   "cell_type": "markdown",
   "id": "639b0bce",
   "metadata": {},
   "source": [
    "`#`"
   ]
  },
  {
   "cell_type": "markdown",
   "id": "dc226707",
   "metadata": {},
   "source": [
    "**`# 조건의정리 (교집합을 추가하면)`**"
   ]
  },
  {
   "cell_type": "markdown",
   "id": "27c6c848",
   "metadata": {},
   "source": [
    "두 집합 $A$, $B$에 대한 확률을 무모순으로 정의가능하다면 그것의 교집합인 $A\\cap B$에 대하여서도 확률값을 무모순으로 정의가능하다고 가정하자. 즉 $\\Omega$의 부분집합중 잴 수 있는 집합의 모임 ${\\cal F}$ 는 아래의 `조건1`~ `조건4`을 만족하는 집합의 집합 (collection) 이라고 정의하자. \n",
    "\n",
    "`조건1`. $\\Omega \\in {\\cal F}$ \n",
    "\n",
    "`조건2`. $A \\in {\\cal F} \\Rightarrow A^c \\in {\\cal F}$ \n",
    "\n",
    "`조건3`. $\\big(\\forall n \\in \\mathbb{N}: A_n \\in {\\cal F} \\big)  \\text{ and } \\big(\\forall {m,k} \\in \\mathbb{N}, m\\neq k:~  A_m \\cap A_k = \\emptyset \\big) \\quad \\Longrightarrow \\quad \\uplus_{n=1}^{\\infty} A_n \\in~ {\\cal F}$\n",
    "\n",
    "`조건4`. $A \\in {\\cal F}, B \\in {\\cal F} \\Rightarrow A \\cap B \\in {\\cal F}$ \n"
   ]
  },
  {
   "cell_type": "markdown",
   "id": "11e7bad1",
   "metadata": {},
   "source": [
    "그런데 `조건3`과 `조건4`를 이용하면 아래와 같은 `조건5`를 유추할 수 있다. \n",
    "\n",
    "`조건1`. $\\Omega \\in {\\cal F}$ \n",
    "\n",
    "`조건2`. $A \\in {\\cal F} \\Rightarrow A^c \\in {\\cal F}$ \n",
    "\n",
    "`조건3`. $\\big(\\forall n \\in \\mathbb{N}: A_n \\in {\\cal F} \\big)  \\text{ and } \\big(\\forall {m,k} \\in \\mathbb{N}, m\\neq k:~  A_m \\cap A_k = \\emptyset \\big) \\quad \\Longrightarrow \\quad \\uplus_{n=1}^{\\infty} A_n \\in~ {\\cal F}$\n",
    "\n",
    "`조건4`. $A \\in {\\cal F}, B \\in {\\cal F} \\Rightarrow A \\cap B \\in {\\cal F}$ \n",
    "\n",
    "`조건5`. $\\big(\\forall n \\in \\mathbb{N}: A_n \\in {\\cal F} \\big) \\quad \\Longrightarrow \\quad \\cup_{n=1}^{\\infty} A_n \\in~ {\\cal F}$\n"
   ]
  },
  {
   "cell_type": "markdown",
   "id": "f52e4f9b",
   "metadata": {},
   "source": [
    "그런데 `조건5`는 `조건3`을 imply 하므로 `조건3`을 삭제할 수 있다. "
   ]
  },
  {
   "cell_type": "markdown",
   "id": "c7412610",
   "metadata": {},
   "source": [
    "`조건1`. $\\Omega \\in {\\cal F}$ \n",
    "\n",
    "`조건2`. $A \\in {\\cal F} \\Rightarrow A^c \\in {\\cal F}$ \n",
    "\n",
    "`조건4`. $A \\in {\\cal F}, B \\in {\\cal F} \\Rightarrow A \\cap B \\in {\\cal F}$ \n",
    "\n",
    "`조건5`. $\\big(\\forall n \\in \\mathbb{N}: A_n \\in {\\cal F} \\big) \\quad \\Longrightarrow \\quad \\cup_{n=1}^{\\infty} A_n \\in~ {\\cal F}$"
   ]
  },
  {
   "cell_type": "markdown",
   "id": "8c8ca803",
   "metadata": {},
   "source": [
    "그런데 `조건5`와 `조건2`가 `조건4`를 imply 하므로 `조건4` 역시 삭제할 수 있다. 따라서 정리하면 아래와 같다. "
   ]
  },
  {
   "cell_type": "markdown",
   "id": "bfc00e65",
   "metadata": {},
   "source": [
    "`조건1`. $\\Omega \\in {\\cal F}$ \n",
    "\n",
    "`조건2`. $A \\in {\\cal F} \\Rightarrow A^c \\in {\\cal F}$ \n",
    "\n",
    "`조건3`. $\\big(\\forall n \\in \\mathbb{N}: A_n \\in {\\cal F}\\big) \\Rightarrow \\cup_{n=1}^{\\infty} A_n \\in~ {\\cal F}$"
   ]
  },
  {
   "cell_type": "markdown",
   "id": "1fc54d91",
   "metadata": {},
   "source": [
    "`#` "
   ]
  },
  {
   "cell_type": "markdown",
   "id": "5e42d0a1",
   "metadata": {},
   "source": [
    "**`# 정의: 시그마필드`**"
   ]
  },
  {
   "cell_type": "markdown",
   "id": "a972e136",
   "metadata": {},
   "source": [
    "$\\Omega$의 부분집합중 아래의 `조건1`~ `조건3`을 만족하는 집합의 집합 (collection) ${\\cal F}$를 \"$\\Omega$에 대한 시그마필드\"라고 한다. \n",
    "\n",
    "`조건1`. $\\Omega \\in {\\cal F}$ \n",
    "\n",
    "`조건2`. $A \\in {\\cal F} \\Rightarrow A^c \\in {\\cal F}$ \n",
    "\n",
    "`조건3`. $\\big(\\forall n \\in \\mathbb{N}: A_n \\in {\\cal F}\\big) \\Rightarrow \\cup_{n=1}^{\\infty} A_n \\in~ {\\cal F}$\n"
   ]
  },
  {
   "cell_type": "markdown",
   "id": "abd3d922",
   "metadata": {},
   "source": [
    "그리고 ${\\cal F}$의 원소를 ${\\cal F}$-measurable set 이라고 한다. "
   ]
  },
  {
   "cell_type": "markdown",
   "id": "614c721c",
   "metadata": {},
   "source": [
    "`#`"
   ]
  },
  {
   "cell_type": "markdown",
   "id": "2fa2db90",
   "metadata": {},
   "source": [
    "`-` 좀 더 편리하게 아래와 같이 기억하면 좋다.\n",
    "\n",
    "> 시그마필드는 아래와 같은 규칙을 만족해야 한다. (1) 전체집합을 포함한다. (2) 여집합에 닫혀있다. (3) 가산합집합에 닫혀있다."
   ]
  },
  {
   "cell_type": "markdown",
   "id": "9e9cf3ef-beb7-440f-ba1e-86e037a3e8d3",
   "metadata": {},
   "source": [
    "`-` 참고1: 시그마필드라는 것은 유일하게 정의되지 않는다. 즉 동일한 $\\Omega$에 대하여 정의할 수 있는 시그마필드 ${\\cal F}$는 유일하지 않다.\n",
    "\n",
    "`-` 참고2: 시그마필드는 $\\Omega$ 없이 단독으로 정의되지 않는다. 즉\n",
    "\n",
    "$${\\cal F}=\\{\\emptyset, \\{H\\}, \\{T\\}, \\{H,T\\}\\}$$\n",
    "\n",
    "는 단지 그냥 시그마필드라고 언급하기 보다 $\\Omega=\\{H,T\\}$에 대한 시그마필드라고 해야 정확한 표현이다.\n",
    "\n",
    "`-` 참고3: 참고2에 따라서 ${\\cal F}$ 단독으로 표기하는 것 보다 $\\Omega$를 붙여서 $(\\Omega,{\\cal F})$와 같이 쌍으로 표기하는게 더 합리적이다. 앞으로는 이러한 쌍을 ***measurable space*** 라고 부른다."
   ]
  },
  {
   "cell_type": "markdown",
   "id": "8834f551-f480-49a5-859f-e32c5b957639",
   "metadata": {},
   "source": [
    "## B. 시그마필드의 성질 "
   ]
  },
  {
   "cell_type": "markdown",
   "id": "4a6d6903-a05a-47bf-a810-fa3ec7b2953e",
   "metadata": {},
   "source": [
    "`-` 정리표:"
   ]
  },
  {
   "cell_type": "markdown",
   "id": "ecb9fbab-9389-436f-8617-27eb1c324f80",
   "metadata": {},
   "source": [
    "||$A \\cap B$|$\\emptyset$|$A-B$|$\\cup_iA_i \\to \\uplus_i B_i$|$\\Omega$|$A^c$|$A\\cup B$|$\\cup_{i=1}^{\\infty}A_i$ |$\\uplus_{i=1}^{\\infty}B_i$|$\\cap_{i=1}^{\\infty}A_i$|\n",
    "|:-:|:-:|:-:|:-:|:-:|:-:|:-:|:-:|:-:|:-:|:-:|\n",
    "|$\\pi$-system|$O$|$X$|$X$|$X$|$X$|$X$|$X$|$X$|$X$|$X$|\n",
    "|semi-ring|$O$|$O$|$\\Delta$|$O$|$X$|$X$|$X$|$X$|$X$|$X$|\n",
    "|semi-algebra|$O$|$O$|$\\Delta$|$O$|$O$|$\\Delta$|$X$|$X$|$X$|$X$|\n",
    "|ring|$O$|$O$|$O$|$O$|$X$|$X$|$O$|$X$|$X$|$X$|\n",
    "|algebra|$O$|$O$|$O$|$O$|$O$|$O$|$O$|$X$|$X$|$X$|\n",
    "|$\\sigma$-ring|$O$|$O$|$O$|$O$|$X$|$X$|$O$|$O$|$O$|$O$|\n",
    "|$\\lambda$-system|$X$|$O$|$\\Delta$'|$X$|$O$|$O$|$X$|$X$|$O$|$X$|\n",
    "|$\\sigma$-field|$O$|$O$|$O$|$O$|$O$|$O$|$O$|$O$|$O$|$O$|"
   ]
  },
  {
   "attachments": {},
   "cell_type": "markdown",
   "id": "a71b24f6-9ee8-45c6-86b4-7106815c7a97",
   "metadata": {},
   "source": [
    "`-` 아래를 체크해보자. \n",
    "\n",
    "- $A, B \\in {\\cal F} \\Rightarrow A \\cap B \\in {\\cal F}$\n",
    "- $\\emptyset \\in {\\cal F}$\n",
    "- $A, B \\in {\\cal F} \\Rightarrow A-B \\in {\\cal F}$\n",
    "- $\\big(\\forall n \\in \\mathbb{N}: A_n \\in {\\cal F} \\big) \\Rightarrow \\cap_{n=1}^{\\infty} A_n \\in~ {\\cal F}$\n",
    "\n"
   ]
  },
  {
   "cell_type": "markdown",
   "id": "5154c91e-0fe7-4698-b4a0-10500001f127",
   "metadata": {},
   "source": [
    "# 4. 측도와 확률측도 "
   ]
  },
  {
   "cell_type": "markdown",
   "id": "f80553a3-7ec0-43fe-87e5-e887d0d372e1",
   "metadata": {},
   "source": [
    "`-` `강의오류 공지` -- 시그마필드는 사실 \"확률값\"을 무모순으로 정의가능한 집합들의 모임이 아닙니다. 엄밀하게는 (확률이든 길이든 넓이든 뭐든) \"**잰다**\"라는 행위를 합리적이게 만드는 집합들의 모임입니다. 따라서 잴 수 있는 공간 $(\\Omega,{\\cal F})$ 에서 ${\\cal F}$ 는 $\\Omega$ 의 부분집합중, (확률이든 길이든 넓이든 뭐든) \"**잰다**\"라는 행위가 말이되게 만드는 집합들의 모임을 의미한다고 볼 수 있습니다. 혼란을 드려 죄송합니다. (그런데 내년에도 이렇게 설명하지 않을까요?.. ㅎㅎ) "
   ]
  },
  {
   "cell_type": "markdown",
   "id": "14178e09-116c-4c9e-9eb0-c88c9a2cb0af",
   "metadata": {},
   "source": [
    "> 강의오류에도 불구하고 시그마필드는 의미가 있다. 시그마필드를 만들었다고 거기에서 항상 확률을 항상 정의가능한 것은 아니지만, 확률은 항상 시그마필드에서 정의해야 하기 때문. 즉 \"시그마필드 $\\Leftrightarrow$ $\\Omega=[0,1)$의 부분집합중 확률을 잴 수 있는 집합의 모임\" 은 아니지만 \"시그마필드 $\\Leftarrow$ $\\Omega=[0,1)$의 부분집합중 확률을 잴 수 있는 집합의 모임\" 은 성립"
   ]
  },
  {
   "cell_type": "markdown",
   "id": "2a13f3c1-0be3-4ff7-848f-e73b27240484",
   "metadata": {},
   "source": [
    "`-` 여기에서 \"**잰다**\"라는 행위를 함수로 이해한다면, 그 함수의 정의역이 ${\\cal F}$ 가 되는 것이다. 참고로 \"**잰다**\"라는 행위를 수행하는 함수를 ***measure*** 혹은 ***measurable function***, ***measurable mapping*** 이라고 한다. "
   ]
  },
  {
   "cell_type": "markdown",
   "id": "3cd4d3ad-edd3-46e7-bfe6-0c3f0ca5dbb8",
   "metadata": {},
   "source": [
    "## A. 측도의 정의, 확률측도의 정의 "
   ]
  },
  {
   "cell_type": "markdown",
   "id": "dec07753-0ec1-41bd-ba7a-e1fef55ebb4b",
   "metadata": {},
   "source": [
    "`# 메져의 정의`: 메져는 잴 수 있는 공간 $(\\Omega, {\\cal F})$가 전제되었을 경우 정의 할 수 있는 일종의 함수 $m: {\\cal F} \\to [0,\\infty]$ 인데, 아래의 조건을 만족해야 한다. \n",
    "\n",
    "`조건1`. $\\forall A \\in {\\cal F}:~ m(A) \\geq 0$.\n",
    "\n",
    "`조건2`. $m(\\emptyset)=0$.\n",
    "\n",
    "`조건3`. $\\big(\\forall n \\in \\mathbb{N}: A_n \\in {\\cal F} \\big)  \\text{ and } \\big(\\forall {m,k} \\in \\mathbb{N}, m\\neq k:~  A_m \\cap A_k = \\emptyset \\big) \\quad \\Longrightarrow \\quad m\\left(\\uplus_{n=1}^{\\infty} A_n\\right) = \\sum_{n=1}^{\\infty}m(A_n)$\n"
   ]
  },
  {
   "cell_type": "markdown",
   "id": "d9bfff56-0ed2-416a-9281-4004a095749d",
   "metadata": {},
   "source": [
    "쉽게 말하면 (1) 메저는 항상 양수이어야 하고, (2) 공집합은 항상 측정값이 0이며 (3) $\\sigma$-additivity^[countable additivity 라고 하기도 함]가 성립해야한다는 의미이다. "
   ]
  },
  {
   "cell_type": "markdown",
   "id": "604db5e9-73a2-43ae-88e3-a851c7bbd1f4",
   "metadata": {},
   "source": [
    "`#`"
   ]
  },
  {
   "cell_type": "markdown",
   "id": "71f8edd7-704a-4b7d-9f6a-9c66d30f7c4e",
   "metadata": {},
   "source": [
    "`# 확률의 정의`: 확률은 잴 수 있는 공간 $(\\Omega, {\\cal F})$가 전제되었을 경우 정의 할 수 있는 일종의 함수 $\\mathbb{P}:{\\cal F} \\to [0,1]$ 인데, 아래의 조건을 만족해야 한다.\n",
    "\n",
    "`조건1`. $\\forall A \\in {\\cal F}:~ \\mathbb{P}(A) \\geq 0$.\n",
    "\n",
    "`조건2`. $\\mathbb{P}(\\Omega)=1$.\n",
    "\n",
    "`조건3`. $\\big(\\forall n \\in \\mathbb{N}: A_n \\in {\\cal F} \\big)  \\text{ and } \\big(\\forall {m,k} \\in \\mathbb{N}, m\\neq k:~  A_m \\cap A_k = \\emptyset \\big) \\quad \\Longrightarrow \\quad \\mathbb{P}\\left(\\uplus_{n=1}^{\\infty} A_n\\right) = \\sum_{n=1}^{\\infty}\\mathbb{P}(A_n)$\n"
   ]
  },
  {
   "cell_type": "markdown",
   "id": "e7efff82-70a0-412a-9482-36386f224cc8",
   "metadata": {},
   "source": [
    "쉽게 말하면 (1) 확률은 항상 양수이어야 하고, (2) 전체확률은 1이며 (3) $\\sigma$-additivity^[countable additivity 라고 하기도 함]가 성립해야한다는 의미이다. "
   ]
  },
  {
   "cell_type": "markdown",
   "id": "1c4ec9b7-b206-412e-a54a-ee6bc8d662aa",
   "metadata": {},
   "source": [
    "`#`"
   ]
  },
  {
   "cell_type": "markdown",
   "id": "e723da63-1d1b-4800-8379-0a553c127409",
   "metadata": {},
   "source": [
    "`# 예제1` 확률은 메저의 한 종류임을 보여라. 즉 확률의 공리1-3을 만족하면 메저의 공리1-3을 만족함을 보여라. "
   ]
  },
  {
   "cell_type": "markdown",
   "id": "ede5fe6d-46f2-4c37-af79-6e81dbe9ef6a",
   "metadata": {},
   "source": [
    "`# 예제2` 메저의 정의에서 `조건4` $m(\\Omega)=1$ 임을 추가하면 확률의 공리1-3이 됨을 보여라. "
   ]
  },
  {
   "cell_type": "markdown",
   "id": "13284fac-bc63-475f-b3b5-a3671aa237cc",
   "metadata": {},
   "source": [
    "## B. 확률측도"
   ]
  },
  {
   "cell_type": "markdown",
   "id": "15678873-195d-4a04-a57b-201b43d7caf0",
   "metadata": {},
   "source": [
    "`# 예제1` -- 시그마필드에서만 확률정의가능"
   ]
  },
  {
   "cell_type": "markdown",
   "id": "b44c0e49-c815-4fa0-ae14-8846a82501c0",
   "metadata": {},
   "source": [
    "$\\Omega=\\{H,T\\}$ 라고 하고 ${\\cal F}=\\{\\emptyset, \\{H\\},\\Omega\\}$ 이라고 하자. 아래와 같은 함수 $\\mathbb{P}$ 를 고려하고 이것을 확률이라고 하자. 이러한 확률은 합리적인가? "
   ]
  },
  {
   "cell_type": "markdown",
   "id": "648f3f39-0f62-4d14-833d-c3eb3e008673",
   "metadata": {},
   "source": [
    "- $\\mathbb{P}(\\emptyset) = 0$ \n",
    "- $\\mathbb{P}(\\{H\\}) = \\frac{1}{2}$ \n",
    "- $\\mathbb{P}(\\Omega) = 1$ "
   ]
  },
  {
   "cell_type": "markdown",
   "id": "66d399fc-260e-4d46-be23-efc8c756a034",
   "metadata": {},
   "source": [
    "(해설) ${\\cal F}$는 시그마필드가 아니므로 이 위에서는 애초에 확률을 정의할 수 없음. "
   ]
  },
  {
   "cell_type": "markdown",
   "id": "5df56d04-d215-4875-a7c4-c499f3a5113a",
   "metadata": {},
   "source": [
    "> 확률을 잘 정의하기 위해서는 우선 잘 정의된 \"잴 수 있는 공간 $(\\Omega, {\\cal F})$\" 가 필요하다. "
   ]
  },
  {
   "cell_type": "markdown",
   "id": "e69550bf-3163-42c5-be71-e4cb52bdd491",
   "metadata": {},
   "source": [
    "`#`"
   ]
  },
  {
   "cell_type": "markdown",
   "id": "e37e97be-138c-4b4b-8c22-7b856c1260d9",
   "metadata": {},
   "source": [
    "`# 예제2` -- 잘 정의된 확률"
   ]
  },
  {
   "cell_type": "markdown",
   "id": "ad6c4841-f31b-4926-acff-66fc11a54df3",
   "metadata": {},
   "source": [
    "$\\Omega=\\{H,T\\}$ 라고 하고 ${\\cal F}=2^{\\Omega}$ 이다. 아래와 같은 함수 $\\mathbb{P}$ 를 고려하고 이를 잴 수 있는 공간 $(\\Omega,{\\cal F})$ 에서의 확률이라고 하자. 이러한 확률은 합리적인가? "
   ]
  },
  {
   "cell_type": "markdown",
   "id": "69954f25-65c1-49dc-bcd2-bd66209ce73d",
   "metadata": {},
   "source": [
    "- $\\mathbb{P}(\\emptyset) = 0$ \n",
    "- $\\mathbb{P}(\\{H\\}) = \\frac{1}{100}$ \n",
    "- $\\mathbb{P}(\\{T\\}) = \\frac{99}{100}$ \n",
    "- $\\mathbb{P}(\\Omega) = 1$ "
   ]
  },
  {
   "cell_type": "markdown",
   "id": "14cbdf98-d734-4a2a-9a3b-8928c094923b",
   "metadata": {},
   "source": [
    "(해설) 합리적임."
   ]
  },
  {
   "cell_type": "markdown",
   "id": "47e3e7cf-3943-48bb-9015-3e321eb7f262",
   "metadata": {},
   "source": [
    "`#`"
   ]
  },
  {
   "cell_type": "markdown",
   "id": "4eed3320-1913-44ac-9895-57ae04ce40c9",
   "metadata": {},
   "source": [
    "`# 예제3` -- 확률은 0보다 커야해."
   ]
  },
  {
   "cell_type": "markdown",
   "id": "9a5bda4a-db1d-4309-a9b4-add89f156a3d",
   "metadata": {},
   "source": [
    "$\\Omega=\\{H,T\\}$ 라고 하고 ${\\cal F}=2^{\\Omega}$ 이다. 아래와 같은 함수 $\\mathbb{P}$ 를 고려하고 이를 잴 수 있는 공간 $(\\Omega,{\\cal F})$ 에서의 확률이라고 하자. 이러한 확률은 합리적인가? "
   ]
  },
  {
   "cell_type": "markdown",
   "id": "383f6326-fee2-4d5e-929a-7f44129da75b",
   "metadata": {},
   "source": [
    "- $\\mathbb{P}(\\emptyset) = 0$ \n",
    "- $\\mathbb{P}(\\{H\\}) = -\\frac{1}{2}$ \n",
    "- $\\mathbb{P}(\\{T\\}) = \\frac{1}{2}$ \n",
    "- $\\mathbb{P}(\\Omega) = 1$ "
   ]
  },
  {
   "cell_type": "markdown",
   "id": "097e2f69-28e7-4697-be65-2aace935a255",
   "metadata": {},
   "source": [
    "(해설) 확률은 음수가 나오면 안되므로 합리적이지 않음. "
   ]
  },
  {
   "cell_type": "markdown",
   "id": "741f0139-332e-40fe-b7f2-9e9a2c73f045",
   "metadata": {},
   "source": [
    "`#`"
   ]
  },
  {
   "cell_type": "markdown",
   "id": "e5f9a29f-bd6b-4cfa-9cc4-d2d19776153d",
   "metadata": {},
   "source": [
    "`# 예제4` -- 전체확률은 1이어야 함. "
   ]
  },
  {
   "cell_type": "markdown",
   "id": "a0e48155-385a-4b61-a7ef-056518d8b630",
   "metadata": {},
   "source": [
    "$\\Omega=\\{H,T\\}$ 라고 하고 ${\\cal F}=\\{\\emptyset, \\Omega\\}$ 이다. 아래와 같은 함수 $\\mathbb{P}:{\\cal F} \\to [0,1]$를 고려하고 이를 잴 수 있는 공간 $(\\Omega,{\\cal F})$ 에서의 확률이라고 하자. 이러한 확률은 합리적인가? "
   ]
  },
  {
   "cell_type": "markdown",
   "id": "887a42fb-42d0-4f00-ab3d-f5bde69d7a35",
   "metadata": {},
   "source": [
    "- $\\mathbb{P}(\\emptyset) = 0$ \n",
    "- $\\mathbb{P}(\\Omega) = 0.5$ "
   ]
  },
  {
   "cell_type": "markdown",
   "id": "817833c0-f94d-46af-aa46-1a9f3552807a",
   "metadata": {},
   "source": [
    "(해설) 전체확률은 1이어야 하므로 합리적이지 않음. "
   ]
  },
  {
   "cell_type": "markdown",
   "id": "81f439c0-060b-4942-98ba-5c5cd947a630",
   "metadata": {},
   "source": [
    "`#`"
   ]
  },
  {
   "cell_type": "markdown",
   "id": "25f99ad0-ee66-48c5-b78b-e3e9b2c6e55b",
   "metadata": {},
   "source": [
    "`# 예제5` -- 공집합의 확률은 0이어야 함. "
   ]
  },
  {
   "cell_type": "markdown",
   "id": "7c7052f0-841e-43a0-8c34-31f356e7a5c4",
   "metadata": {},
   "source": [
    "$\\Omega=\\{H,T\\}$ 라고 하고 ${\\cal F}=\\{\\emptyset, \\Omega\\}$ 이다. 아래와 같은 함수 $\\mathbb{P}:{\\cal F} \\to [0,1]$를 고려하고 이를 잴 수 있는 공간 $(\\Omega,{\\cal F})$ 에서의 확률이라고 하자. 이러한 확률은 합리적인가? "
   ]
  },
  {
   "cell_type": "markdown",
   "id": "75ab8559-5675-4de0-ba37-3768d13869e5",
   "metadata": {},
   "source": [
    "- $\\mathbb{P}(\\emptyset) = 0.5$ \n",
    "- $\\mathbb{P}(\\Omega) = 1$ "
   ]
  },
  {
   "cell_type": "markdown",
   "id": "b3254ff3-aa8f-497c-a1e5-a2daeec95462",
   "metadata": {},
   "source": [
    "(해설) 공집합의 확률은 0이어야 하므로 합리적이지 않음. "
   ]
  },
  {
   "cell_type": "markdown",
   "id": "64880ada-a1c7-4d08-8a88-dac5951007f2",
   "metadata": {},
   "source": [
    "`#`"
   ]
  },
  {
   "cell_type": "markdown",
   "id": "b79af308-63ed-45b4-8dfe-b1714d47dc63",
   "metadata": {},
   "source": [
    "`# 예제6` -- 서로소인 집합을 합친 확률, 여집합의 확률"
   ]
  },
  {
   "cell_type": "markdown",
   "id": "b806a781-8d58-46cf-b122-da1c00dba6a9",
   "metadata": {},
   "source": [
    "$\\Omega=\\{H,T\\}$ 라고 하고 ${\\cal F}=\\{\\emptyset, \\{H\\}, \\{T\\}, \\Omega\\}$ 이다. 아래와 같은 함수 $\\mathbb{P}:{\\cal F} \\to [0,1]$를 고려하고 이를 잴 수 있는 공간 $(\\Omega,{\\cal F})$ 에서의 확률이라고 하자. 이러한 확률은 합리적인가? "
   ]
  },
  {
   "cell_type": "markdown",
   "id": "edc3849e-9cf5-438a-8f0b-ecd60dadb881",
   "metadata": {},
   "source": [
    "- $\\mathbb{P}(\\emptyset) = 0$ \n",
    "- $\\mathbb{P}(\\{H\\}) = 1/3$\n",
    "- $\\mathbb{P}(\\{T\\}) = 1/3$\n",
    "- $\\mathbb{P}(\\Omega) = 1$ "
   ]
  },
  {
   "cell_type": "markdown",
   "id": "319808e6-37de-47ac-b535-92e2a63393f5",
   "metadata": {},
   "source": [
    "(해설) 합리적이지 않음. 왜냐하면 "
   ]
  },
  {
   "cell_type": "markdown",
   "id": "5778110c-5224-4076-9a92-6ec2e3228684",
   "metadata": {},
   "source": [
    "- $P(\\{H\\}\\cup \\{T\\})=P(\\Omega)=1$\n",
    "- $P(\\{H\\}\\cup \\{T\\})=P(\\{H\\})+P(\\{T\\})=2/3$"
   ]
  },
  {
   "cell_type": "markdown",
   "id": "ae7f26e1-dc50-445d-b75d-1c18a1f0bca4",
   "metadata": {},
   "source": [
    "이므로 모순임. "
   ]
  },
  {
   "cell_type": "markdown",
   "id": "f76cad61-f22f-4d8f-b189-dbe85e4d8080",
   "metadata": {},
   "source": [
    "`#`"
   ]
  },
  {
   "cell_type": "markdown",
   "id": "5849832b-e8ea-49ca-894c-781d414c7e18",
   "metadata": {},
   "source": [
    "`# 예제7` -- 포함관계에 있는 집합의 확률 "
   ]
  },
  {
   "cell_type": "markdown",
   "id": "233d4291-5f04-4c99-8932-606bffa5b1ae",
   "metadata": {},
   "source": [
    "$\\Omega=\\{1,2,3\\}$ 라고 하고 \n",
    "\n",
    "$${\\cal F}=\\{\\emptyset, \\{1\\}, \\{2\\}, \\{3\\}, \\{1,2\\}, \\{1,3\\}, \\{2,3\\}, \\Omega\\}$$ \n",
    "\n",
    "라고 하자. 아래와 같은 함수 $\\mathbb{P}:{\\cal F} \\to [0,1]$를 고려하고 이를 잴 수 있는 공간 $(\\Omega,{\\cal F})$ 에서의 확률이라고 하자. 이러한 확률은 합리적인가? "
   ]
  },
  {
   "cell_type": "markdown",
   "id": "cfb19efb-6378-4ddc-871a-751568bde7ad",
   "metadata": {},
   "source": [
    "- $\\mathbb{P}(\\emptyset) = 0$ \n",
    "- $\\mathbb{P}(\\{1\\}) = 1/4$\n",
    "- $\\mathbb{P}(\\{2\\}) = 1/4$\n",
    "- $\\mathbb{P}(\\{3\\}) = 2/4$ \n",
    "- $\\mathbb{P}(\\{1,2\\}) = 2/4$ \n",
    "- $\\mathbb{P}(\\{1,3\\}) = 3/4$ \n",
    "- $\\mathbb{P}(\\{2,3\\}) = 1/4$ \n",
    "- $\\mathbb{P}(\\Omega) = 1$ \n"
   ]
  },
  {
   "cell_type": "markdown",
   "id": "251e94d7-81f0-48b4-8103-db4ac0dff8d4",
   "metadata": {},
   "source": [
    "(해설) 합리적이지 않음. 왜냐하면 "
   ]
  },
  {
   "cell_type": "markdown",
   "id": "e4baa80a-1c96-4e76-a8df-43a914d1af77",
   "metadata": {},
   "source": [
    "- $\\mathbb{P}(\\{2\\}\\cup \\{3\\})=\\mathbb{P}(\\{2,3\\})=1/4$\n",
    "- $\\mathbb{P}(\\{2\\}\\cup \\{3\\})=\\mathbb{P}(\\{2\\})+\\mathbb{P}(\\{3\\})=3/4$"
   ]
  },
  {
   "cell_type": "markdown",
   "id": "466ea3a1-6d29-489d-8576-4570c5d917d9",
   "metadata": {},
   "source": [
    "이므로 모순임. "
   ]
  },
  {
   "cell_type": "markdown",
   "id": "bc284687-2f9c-4a58-b20f-1c1332cd3217",
   "metadata": {},
   "source": [
    "`#`"
   ]
  },
  {
   "cell_type": "markdown",
   "id": "1eafc5a3-f0e3-4a27-a274-a0db7d851a4d",
   "metadata": {},
   "source": [
    "> 정의역이 시그마필드이고, 확률의 공리1,2,3을 만족하는 경우만 우리는 \"확률\"이라 인정하겠다. "
   ]
  },
  {
   "cell_type": "markdown",
   "id": "1f8b5bd5-0d93-4f4f-aa06-e9a4cef238be",
   "metadata": {},
   "source": [
    "`# 예제7` -- 포함관계에 있는 집합의 확률 "
   ]
  },
  {
   "cell_type": "markdown",
   "id": "f71e2976-9c42-4cfd-8b15-3be1db9456f6",
   "metadata": {},
   "source": [
    "$\\Omega=\\{1,2,3\\}$ 라고 하고 \n",
    "\n",
    "$${\\cal F}=\\{\\emptyset, \\{1\\}, \\{2\\}, \\{3\\}, \\{1,2\\}, \\{1,3\\}, \\{2,3\\}, \\Omega\\}$$ \n",
    "\n",
    "라고 하자. 아래와 같은 함수 $\\mathbb{P}:{\\cal F} \\to [0,1]$를 고려하고 이를 잴 수 있는 공간 $(\\Omega,{\\cal F})$ 에서의 확률이라고 하자. 이러한 확률은 합리적인가? "
   ]
  },
  {
   "cell_type": "markdown",
   "id": "4484398f-b05f-4c57-b0a2-d9864a02f462",
   "metadata": {},
   "source": [
    "- $\\mathbb{P}(\\emptyset) = 0$ \n",
    "- $\\mathbb{P}(\\{1\\}) = 1/4$\n",
    "- $\\mathbb{P}(\\{2\\}) = 1/4$\n",
    "- $\\mathbb{P}(\\{3\\}) = 2/4$ \n",
    "- $\\mathbb{P}(\\{1,2\\}) = 2/4$ \n",
    "- $\\mathbb{P}(\\{1,3\\}) = 3/4$ \n",
    "- $\\mathbb{P}(\\{2,3\\}) = 1/4$ \n",
    "- $\\mathbb{P}(\\Omega) = 1$ \n"
   ]
  },
  {
   "cell_type": "markdown",
   "id": "81b01028-13c4-4c32-8605-f8c16565fd1c",
   "metadata": {},
   "source": [
    "(해설) 합리적이지 않음. 왜냐하면 "
   ]
  },
  {
   "cell_type": "markdown",
   "id": "48c038c8-8e3f-43eb-92d9-748d7a46df21",
   "metadata": {},
   "source": [
    "- $\\mathbb{P}(\\{2\\}\\cup \\{3\\})=\\mathbb{P}(\\{2,3\\})=1/4$\n",
    "- $\\mathbb{P}(\\{2\\}\\cup \\{3\\})=\\mathbb{P}(\\{2\\})+\\mathbb{P}(\\{3\\})=3/4$"
   ]
  },
  {
   "cell_type": "markdown",
   "id": "2e2a91c7-1b69-402f-b6a6-84ae3e7daaa5",
   "metadata": {},
   "source": [
    "이므로 모순임. "
   ]
  },
  {
   "cell_type": "markdown",
   "id": "35678c51-dc46-4499-8655-491f2421f4bd",
   "metadata": {},
   "source": [
    "`#`"
   ]
  },
  {
   "cell_type": "markdown",
   "id": "07e477dd-ccf3-4f1c-adb1-650157e54bfe",
   "metadata": {},
   "source": [
    "## C. 확률측도와 측도의 차이 "
   ]
  },
  {
   "attachments": {},
   "cell_type": "markdown",
   "id": "9461bbf7-7d4b-44b6-b090-c67a3508b88a",
   "metadata": {},
   "source": [
    "`# 예제1` -- $|\\Omega|<\\infty$ 인 경우 \n",
    "\n",
    "$\\Omega=\\{1,2,3,4,5,6\\}$ 라고 하자. 이때 $2^\\Omega$는 $\\Omega$의 모든 부분집합들의 집합이다. 여기에서 $2^\\Omega$는 시그마필드의 정의를 만족하므로 $(\\Omega, 2^{\\Omega})$ 는 잴 수 있는 공간이 된다. 이 공간위에서 함수 $\\mathbb{P}: 2^{\\Omega} \\to [0,1]$ 를 아래와 같의 정의하자.\n",
    "\n",
    "$$\\mathbb{P}(A)=\\frac{|A|}{|\\Omega|}.$$\n",
    "\n",
    "이러한 함수 $\\mathbb{P}$ 는 (1) 정의역이 시그마필드이며 (2) 확률의공리1-3을 만족하므로 확률이라 주장할 수 있다. \n",
    "\n",
    "`#`"
   ]
  },
  {
   "attachments": {},
   "cell_type": "markdown",
   "id": "6a925aab-eb1b-43ab-b451-5d00c5f16747",
   "metadata": {},
   "source": [
    "`# 예제2` -- $|\\Omega| = \\aleph_1$ 인 경우, 확률정의 불가능\n",
    "\n",
    "$\\Omega=[0,1)$ 라고 하자. 이때 $2^\\Omega$는 $\\Omega$의 모든 부분집합들의 집합이다. 여기에서 $2^\\Omega$는 시그마필드의 정의를 만족하므로 $(\\Omega, 2^{\\Omega})$ 는 잴 수 있는 공간이 된다. 이 공간위에서 함수 $\\mathbb{P}: 2^{\\Omega} \\to [0,1]$ 를 아래와 같이 정의하자.\n",
    "\n",
    "$$\\mathbb{P}(A)=\\lambda(A), \\quad \\text{$\\lambda$ is lebesgue measure}.$$\n",
    "\n",
    "이러한 함수 $\\mathbb{P}$ 는 (1) 정의역이 시그마필드이지만 (2) 확률의공리1-3을 만족하지 않는다. (왜? 비탈리집합!) 따라서 함수 $\\mathbb{P}$ 를 확률이라고 주장할 수 없다. 또한 $\\mathbb{P}(A)=\\lambda(A)$가 아닌 그 어떠한 방식으로 정의해도 잴 수 있는 공간 $(\\Omega, 2^{\\Omega})$ 위에서 확률을 무모순으로 정의하는게 불가능함이 밝혀져 있다. \n",
    "\n",
    "`#`"
   ]
  },
  {
   "cell_type": "markdown",
   "id": "f817c82f-349b-4691-a59b-27ef94bd9656",
   "metadata": {},
   "source": [
    "> 의문: 그러면 이름이 이상한것 아니야? 즉, $\\Omega=[0,1)$ 일경우 $(\\Omega, 2^{\\Omega})$를 잴 수 있는 공간이라고 말하는 것 자체가 잘못된것 아니야?? "
   ]
  },
  {
   "attachments": {},
   "cell_type": "markdown",
   "id": "3519f890-a337-4a78-bdd9-951746f7c94e",
   "metadata": {},
   "source": [
    "`# 예제3` -- $|\\Omega| = \\aleph_1$ 인 경우, 측도정의가능 \n",
    "\n",
    "$\\Omega=[0,1)$ 라고 하자. 이때 $2^\\Omega$는 $\\Omega$의 모든 부분집합들의 집합이다. 여기에서 $2^\\Omega$는 시그마필드의 정의를 만족하므로 $(\\Omega, 2^{\\Omega})$ 는 잴 수 있는 공간이 된다. 이 공간위에서 함수 $m: 2^{\\Omega} \\to [0,\\infty]$ 를 아래와 같이 정의하자.\n",
    "\n",
    "$$m(A)=0, \\quad \\forall A \\in 2^{\\Omega}$$\n",
    "\n",
    "이러한 함수 $m$ 은 (1) 정의역이 시그마필드이고 (2) 측도의공리1-3을 만족한다. 따라서 함수 $m$ 를 측도라고 주장할 수 있다. (그런데 이따위 측도를 어디에 쓰지?)\n",
    "\n",
    "`#`"
   ]
  },
  {
   "cell_type": "markdown",
   "id": "3fe05cd2-e2ab-42a7-8d14-b835f695c312",
   "metadata": {},
   "source": [
    "## D. 측도공간, 확률공간 "
   ]
  },
  {
   "cell_type": "markdown",
   "id": "206d8c1d-03d3-4caf-8e70-f74da9bc7cb4",
   "metadata": {},
   "source": [
    "`# 정의` -- 잴 수 있는 공간 $(\\Omega,{\\cal F})$ 와 그 공간에서의 측도 $m:{\\cal F} \\to [0,\\infty]$ 을 묶은 $(\\Omega, {\\cal F},m)$ 을 measure space 라고 한다. 만약에 측도 $m$이 확률측도의 정의를 만족한다면 공간 $(\\Omega, {\\cal F},m)$ 혹은 $(\\Omega, {\\cal F},\\mathbb{P})$ 는 확률공간 (probability space) 라고 한다. "
   ]
  },
  {
   "cell_type": "markdown",
   "id": "3d63d167-0e56-4029-af44-39dc3e3d2d1e",
   "metadata": {},
   "source": [
    "# 5. 확률을 어디에서 정의할까? "
   ]
  },
  {
   "cell_type": "markdown",
   "id": "4a4ba55f-43a8-447f-9de3-58b0c77a1019",
   "metadata": {},
   "source": [
    "`# 확장이론` $\\Omega=[0,1)$ 일 경우 확률(=길이)을 정의하는 방법: \n",
    "\n",
    "- 사전인지사항1: $(\\Omega, 2^{\\Omega})$ 에서 확률(=길이)를 정의하는 것은 불가능함\n",
    "- 사전인지사항2: $(\\Omega, \\{\\emptyset, \\Omega\\})$ 에서 $\\mathbb{P}=\\lambda$를 정의하는 것은 의미가 없음.\n",
    "- 문제를 해결하는 자세: $\\{\\emptyset, \\Omega\\}$ 보다는 크고, $2^{\\Omega}$ 보다는 작은 어떠한 ${\\cal F}$에 대하여 확률(=길이)를 정의해야 하지 않나?\n",
    "- 즉 $(\\Omega, ???, \\lambda)$ 를 measure space 로 만드는 적당한 시그마필드 $???$ 를 찾으면 되는것 아닌가? 그리고 그 $???$ 에서 확률을 정의하면 되지 않나? \n",
    "\n",
    "우리는 \n",
    "\n",
    "1. $(\\Omega, ???, \\lambda)$ 를 measure space 로 만드는 시그마필드는 찾는 방법?? \n",
    "2. $???$ 에서 확률을 정의하는 방법??\n",
    "\n",
    "을 논의하면 된다. \n",
    "\n",
    "`#`"
   ]
  },
  {
   "cell_type": "markdown",
   "id": "6ecc0378-6b29-4b91-9b5a-05a158ee76d1",
   "metadata": {},
   "source": [
    "## A. 상황1 -- 시그마필드 구하기 귀찮아"
   ]
  },
  {
   "cell_type": "markdown",
   "id": "4f459695-4269-40bd-ab7d-abdf7629611a",
   "metadata": {},
   "source": [
    "$(\\Omega, ???, \\lambda)$ 를 measure space 로 만드는 시그마필드는 찾는 방법?? 을 생각하자. 가능한 방식은 아래의 2가지가 있는데 \n",
    "\n",
    "`방법1`: $2^\\Omega$ 에서 확률(=길이)을 잴 수 없는 집합들을 제외한다. \n",
    "\n",
    "`방법2`: 확률(=길이)를 정의할 수 있는 집합들 ${\\cal A}$를 정의하고 이를 확장시킨다.  \n",
    "\n",
    "이중에서 방법2를 채택한다. \n"
   ]
  },
  {
   "cell_type": "markdown",
   "id": "69515199-7387-44f7-b011-e26789478916",
   "metadata": {},
   "source": [
    "`# 예제1`"
   ]
  },
  {
   "cell_type": "markdown",
   "id": "b593e213-0323-4a2e-8a5d-1f87615e281b",
   "metadata": {},
   "source": [
    "$\\Omega=\\{1,2,3,4\\}$이라고 하자. 내가 관심있는 event의 모음은 아래와 같다. \n",
    "\n",
    "$${\\cal A} = \\{\\{1\\},\\{2\\}\\}$$"
   ]
  },
  {
   "cell_type": "markdown",
   "id": "4bdae229-e3f1-4eb3-8927-814924480e41",
   "metadata": {},
   "source": [
    "당연히 이러한 이벤트에 대해서만 적절한 확률을 정의하면 좋겠는데, 이는 불가능 하다. 왜냐하면 ${\\cal A}$는 시그마필드가 아니기 때문이다. 따라서 할 수 없이 아래와 같은 방식으로 시그마필드를 구해야 했다. "
   ]
  },
  {
   "cell_type": "markdown",
   "id": "dabb43d2-8ae5-4273-bbbe-bb333839cb07",
   "metadata": {},
   "source": [
    "$${\\cal F} = \\big\\{\\emptyset, \\{1\\}, \\{2\\}, \\{1,2\\}, \\{3,4\\}, \\{1,3,4\\}, \\{2,3,4\\}, \\Omega \\big\\}$$"
   ]
  },
  {
   "cell_type": "markdown",
   "id": "04abe365-714c-48bf-a0ba-264636e9cb11",
   "metadata": {},
   "source": [
    "이러한 ${\\cal F}$를 구하기는 것은 귀찮은 일인데, 이를 편리하게 해결하기 위해서 $\\sigma({\\cal A})$라는 기호를 도입하고 이를 \"$\\{1\\}$, $\\{2\\}$를 원소로 가지는 최소한의 ${\\cal F}$\" 라고 생각 하기로 하였다. 즉 앞으로는 "
   ]
  },
  {
   "cell_type": "markdown",
   "id": "1cda8a3b-eba9-4c4e-94e3-1826ff47a4d0",
   "metadata": {},
   "source": [
    "$$\\sigma({\\cal A})$$ "
   ]
  },
  {
   "cell_type": "markdown",
   "id": "e26fc111-c3c5-40b9-9b53-15f44c945f5d",
   "metadata": {},
   "source": [
    "라고만 써도 위에서 명시한 ${\\cal F}$를 의미한다고 알아서 생각하면 된다는 것이다. "
   ]
  },
  {
   "cell_type": "markdown",
   "id": "b6dfdb9f-77d0-443c-b5b3-5e5d56d0ec8e",
   "metadata": {},
   "source": [
    "`걱정`: 문제는 이러한 논리전개가 항상 가능하냐는 것이다. "
   ]
  },
  {
   "cell_type": "markdown",
   "id": "2b6f5905-b6da-49d5-a89f-d799074ac22f",
   "metadata": {},
   "source": [
    "> 귀찮아서 만든 이론1: 걱정할 필요 없다. 언제나 $\\sigma({\\cal A})$라는 표현은 가능하다. 즉 $\\Omega$의 임의의 부분집합에 대하여 우리가 관심있는 집합만 모은 것을 ${\\cal A}$라고 할때, ${\\cal A}$의 모든 원소를 포함하고 시그마필드의 정의를 만족하는 최소한의 시그마필드 $\\sigma({\\cal A})$는 항상 존재한다. "
   ]
  },
  {
   "cell_type": "markdown",
   "id": "c775656d-6e5b-4964-ae7f-3fc7a0d0b021",
   "metadata": {},
   "source": [
    "`#`"
   ]
  },
  {
   "cell_type": "markdown",
   "id": "e91bb010-c574-4824-8c5b-6bfe969f7659",
   "metadata": {},
   "source": [
    "`# 예제2`"
   ]
  },
  {
   "cell_type": "markdown",
   "id": "bf308ccd-2b52-4d41-874b-0b75095b592d",
   "metadata": {},
   "source": [
    "$\\Omega = \\mathbb{R}$ 이라고 하자. 이중에서 우리가 관심있는 집합들은 르벡메져로 길이를 명확하게 잴 수 있는 아래와 같은 형태이다. "
   ]
  },
  {
   "cell_type": "markdown",
   "id": "532635fb-c77c-478a-b4c7-2f3c179cc0a3",
   "metadata": {},
   "source": [
    "$$[a,b]$$"
   ]
  },
  {
   "cell_type": "markdown",
   "id": "6e322537-c315-41ba-9781-90dfcb875a56",
   "metadata": {},
   "source": [
    "여기에서 $a,b \\in \\mathbb{R}$, $a<b$ 이라고 하자. 따라서 이 경우 ${\\cal A}$를 아래와 같이 설정할 수 있다. \n",
    "\n",
    "$${\\cal A} = \\big\\{[a,b]: a,b \\in \\mathbb{R}, a<b\\big\\}$$"
   ]
  },
  {
   "cell_type": "markdown",
   "id": "1b7ee878-e30a-4953-a00e-fb541dc81310",
   "metadata": {},
   "source": [
    "이제 $\\sigma({\\cal A}):={\\cal R}$ 를 상상하자. (귀찮아서 만든 이론1에 의하면 이러한 ${\\cal R}$ 는 항상 존재함) 언뜻 생각하면 ${\\cal R}$의 원소는 $[a,b]$ 의 형태만 가능하여, 확률 혹은 길이를 정의함에 너무 제한적인 정의역일것 같은데 그렇지 않다. ${\\cal R}$ 은 상당히 많은 케이스를 포함하는 집합이다. 예를들면 아래와 같은 집합들은 모두 ${\\cal R}$ 의 원소이다."
   ]
  },
  {
   "cell_type": "markdown",
   "id": "aa50937e-3910-4126-87c9-1ad85437c89e",
   "metadata": {},
   "source": [
    "- $[0,2)$\n",
    "- $\\{2\\}$\n",
    "- $(0,2)$\n",
    "- $[0,\\infty)$, $(0,\\infty)$\n",
    "- $(-\\infty,0)$, $(-\\infty,0]$\n",
    "- $[1,2] \\cup [3,4]$\n",
    "- $(1,2] \\cup [3,4)$\n",
    "- $\\mathbb{N}$, $\\mathbb{Z}$, $\\mathbb{Q}$\n",
    "- $[0,2] \\cap \\mathbb{Q}$"
   ]
  },
  {
   "cell_type": "markdown",
   "id": "d5843261-a93c-4f7c-bc67-698008f08111",
   "metadata": {},
   "source": [
    "`#`"
   ]
  },
  {
   "cell_type": "markdown",
   "id": "7fe3de1c-3fb5-4e4f-8bca-95c7aa430bb0",
   "metadata": {},
   "source": [
    "## B. 상황2 -- 확률 정의하기 귀찮아 "
   ]
  },
  {
   "cell_type": "markdown",
   "id": "c5f4042e-9d27-4d0d-9319-e0fc85a8a7b3",
   "metadata": {},
   "source": [
    "`# 예제1` -- motivating EX"
   ]
  },
  {
   "cell_type": "markdown",
   "id": "ad706799-834d-4287-933a-10215dd59f8e",
   "metadata": {},
   "source": [
    "$\\Omega=\\{1,2,3,4\\}$이라고 하자. 내가 관심있는 집합의 모음은 아래와 같다. \n",
    "\n",
    "$${\\cal A} = \\{\\emptyset, \\{1\\},\\{2\\},\\{3,4\\},\\Omega\\}$$"
   ]
  },
  {
   "cell_type": "markdown",
   "id": "6454ea1e-1779-4b35-90e3-7cefa6b719a1",
   "metadata": {},
   "source": [
    "여기에서 ${\\cal A}$는 시그마필드가 아니다. 따라서 ${\\cal A}$에서는 확률을 정의할 수 없다. 확률을 정의하려면 $\\sigma({\\cal A})$에서 정의해야 한다. "
   ]
  },
  {
   "cell_type": "markdown",
   "id": "93841796-3e10-417d-91a2-d80bcbc78f2c",
   "metadata": {},
   "source": [
    "`-` 소망: 그래도 그냥 ${\\cal A}$에서만 확률 비슷한걸^[정의역이 시그마필드가 아니므로 확률이라고 말할 수 없다] 잘 정의하면 안될까? "
   ]
  },
  {
   "cell_type": "markdown",
   "id": "88eeb89b-9547-4d75-bccc-50c63c331e56",
   "metadata": {},
   "source": [
    "`-` 희망: 이게 될 것 같다. 예를들면 함수 $\\tilde{P}:{\\cal A} \\to [0,1]$를 아래와 같이 정의하자. \n",
    "\n",
    "- $\\tilde{P}(\\emptyset) = 0$\n",
    "- $\\tilde{P}(\\{1\\}) = 1/4$\n",
    "- $\\tilde{P}(\\{2\\}) = 1/2$\n",
    "- $\\tilde{P}(\\{3,4\\}) = 1/4$\n",
    "- $\\tilde{P}(\\Omega) = 1$\n",
    "\n",
    "이 정도만 정의해보자. $\\tilde{P}$는 정의역이 시그마필드가 아니라는 점만 제외하면 set function $\\tilde{P}$ 는 확률의 공리 1,2,3을 따른다. 이렇게 함수 $\\tilde{P}$를 정의하게 되면 "
   ]
  },
  {
   "cell_type": "markdown",
   "id": "b886a803-8b82-471d-8516-8ef8aae82b96",
   "metadata": {},
   "source": [
    "$$\\sigma({\\cal A}) = \\big\\{\\emptyset, \\{1\\}, \\{2\\}, \\{1,2\\}, \\{3,4\\}, \\{1,3,4\\}, \\{2,3,4\\}, \\Omega \\big\\}$$"
   ]
  },
  {
   "cell_type": "markdown",
   "id": "95a3a139-f742-42e7-b892-37dad7e434e6",
   "metadata": {},
   "source": [
    "에서의 확률 $\\mathbb{P}:\\sigma({\\cal A}) \\to [0,1]$는 확률 비슷한 함수 $\\tilde{P}$를 \"알아서, 잘, 센스있게\" 확장하여 정의할 수 있다. 구체적으로는 아래와 같이 된다. "
   ]
  },
  {
   "cell_type": "markdown",
   "id": "2dd8abed-225b-4da4-9f14-024f987a55ac",
   "metadata": {},
   "source": [
    "||$\\mathbb{P}$|$\\tilde{P}$|\n",
    "|:-:|:-:|:-:|\n",
    "|$\\emptyset$|$0$|$0$|\n",
    "|$\\{1\\}$|$\\frac{1}{4}$ | $\\frac{1}{4}$| \n",
    "|$\\{2\\}$|$\\frac{1}{2}$ | $\\frac{1}{2}$| \n",
    "|$\\{3,4\\}$|$\\frac{1}{4}$ | $\\frac{1}{4}$| \n",
    "|$\\Omega$|$1$ | $1$|\n",
    "|$-$|$-$|$-$|\n",
    "|$\\{1,2\\}$|$\\frac{3}{4}$ | None|\n",
    "|$\\{1,3,4\\}$|$\\frac{1}{2}$ | None|\n",
    "|$\\{2,3,4\\}$|$\\frac{3}{4}$ | None |"
   ]
  },
  {
   "cell_type": "markdown",
   "id": "73e6ac9e-f89a-4010-9b22-3896abcc5132",
   "metadata": {},
   "source": [
    "`#`"
   ]
  },
  {
   "cell_type": "markdown",
   "id": "be5d0fec-d277-47fc-94a0-a8c2ab6b5400",
   "metadata": {},
   "source": [
    "`# 예제2` -- motivating EX (2)"
   ]
  },
  {
   "cell_type": "markdown",
   "id": "d1b5abcc-6e9a-4484-97aa-728b2d951a35",
   "metadata": {},
   "source": [
    "$\\Omega=\\{1,2,3,4\\}$이라고 하고 ${\\cal A} = \\{\\emptyset, \\{1\\},\\{2\\}, \\{3,4\\}, \\Omega\\}$ 라고 하자. 그리고 아래와 같은 $\\sigma({\\cal A})$를 다시 상상하자. \n",
    "\n",
    "$$\\sigma({\\cal A}) = \\big\\{\\emptyset, \\{1\\}, \\{2\\}, \\{1,2\\}, \\{3,4\\}, \\{1,3,4\\}, \\{2,3,4\\}, \\Omega \\big\\}$$"
   ]
  },
  {
   "cell_type": "markdown",
   "id": "b474740a-0d20-4428-9430-2f4c098a763e",
   "metadata": {},
   "source": [
    "위의 시그마필드에서 확률을 예제1과 다른 방식으로 정의할 수 도 있다. 예를들면 아래와 같은 방식으로 정의가능하다. "
   ]
  },
  {
   "cell_type": "markdown",
   "id": "df15b248-f7bf-491a-ab12-142cc51cb3dd",
   "metadata": {},
   "source": [
    "||$\\mathbb{P}_1$|$\\tilde{P}_1$|\n",
    "|:-:|:-:|:-:|\n",
    "|$\\emptyset$|$0$|$0$|\n",
    "|$\\{1\\}$|$\\frac{1}{3}$ | $\\frac{1}{3}$| \n",
    "|$\\{2\\}$|$\\frac{1}{3}$ | $\\frac{1}{3}$| \n",
    "|$\\{3,4\\}$|$\\frac{1}{3}$ | $\\frac{1}{3}$| \n",
    "|$\\Omega$|$1$ | $1$|\n",
    "|$-$|$-$|$-$|\n",
    "|$\\{1,2\\}$|$\\frac{2}{3}$ | None|\n",
    "|$\\{1,3,4\\}$|$\\frac{2}{3}$ | None|\n",
    "|$\\{2,3,4\\}$|$\\frac{2}{3}$ | None |"
   ]
  },
  {
   "cell_type": "markdown",
   "id": "6f4b4699-0345-41b1-abf4-cc3ec803dba8",
   "metadata": {},
   "source": [
    "또한 아래와 같은 방식도 가능하다. "
   ]
  },
  {
   "cell_type": "markdown",
   "id": "3e3354dc-ab51-45bd-b5d4-46b3ad101c6b",
   "metadata": {},
   "source": [
    "||$\\mathbb{P}_2$|$\\tilde{P}_2$|\n",
    "|:-:|:-:|:-:|\n",
    "|$\\emptyset$|$0$|$0$|\n",
    "|$\\{1\\}$|$0$ | $0$| \n",
    "|$\\{2\\}$|$0$ | $0$| \n",
    "|$\\{3,4\\}$|$1$ | $1$| \n",
    "|$\\Omega$|$1$ | $1$|\n",
    "|$-$|$-$|$-$|\n",
    "|$\\{1,2\\}$|$0$ | None|\n",
    "|$\\{1,3,4\\}$|$1$ | None|\n",
    "|$\\{2,3,4\\}$|$1$ | None |"
   ]
  },
  {
   "cell_type": "markdown",
   "id": "f733043b-0bf1-4191-a53f-ba4fa75e3073",
   "metadata": {},
   "source": [
    "어떠한 방식으로 정의하든 ${\\cal A}$에서 확률 비슷한 것 $\\tilde{P}_1,\\tilde{P}_2$를 잘 정의하기만 $\\sigma({\\cal A})$에서의 확률로 적절하게 확장할 수 있다. 심지어 이런 확장은 유일한 듯 하다. "
   ]
  },
  {
   "cell_type": "markdown",
   "id": "91b1893e-0ec9-4676-addb-5665cfab6b30",
   "metadata": {},
   "source": [
    "> 귀찮아서 만든 이론2: 운이 좋다면, ${\\cal A}$ 에서 확률의 공리를 만족하는 적당한 함수 $\\tilde{P}:{\\cal A} \\to [0,1]$를 $(\\Omega, \\sigma({\\cal A}))$ 에서의 확률측도 $\\mathbb{P}$로 업그레이드 할 수 있으며 업그레이드 결과는 유일하다. "
   ]
  },
  {
   "cell_type": "markdown",
   "id": "ef10edb7-8e43-4eeb-beea-8225b22fd2d9",
   "metadata": {},
   "source": [
    "`#`"
   ]
  },
  {
   "cell_type": "markdown",
   "id": "2b3ddbca-fe07-4a67-85ae-5e2fffec8b35",
   "metadata": {},
   "source": [
    "`# 예제3` -- 운이 안 좋은 경우 1"
   ]
  },
  {
   "cell_type": "markdown",
   "id": "550ca17b-c9fe-4025-97b6-d5728921888c",
   "metadata": {},
   "source": [
    "$\\Omega=\\{1,2,3\\}$ 이라고 하고 ${\\cal A} = \\{\\emptyset, \\{1,2\\},\\{2,3\\}, \\Omega\\}$ 라고 하자. "
   ]
  },
  {
   "cell_type": "markdown",
   "id": "1f0d6544-62eb-4ec5-b4d7-e98e76fe5b49",
   "metadata": {},
   "source": [
    "아래와 같은 확률 비슷한 함수 $\\tilde{P}:{\\cal A} \\to [0,1]$를 정의하자."
   ]
  },
  {
   "cell_type": "markdown",
   "id": "1eb574de-52b7-4baa-9fa5-ebfc07a2eb6d",
   "metadata": {},
   "source": [
    "- $\\tilde{P}(\\emptyset) = 0$\n",
    "- $\\tilde{P}(\\{1,2\\}) = 0$\n",
    "- $\\tilde{P}(\\{2,3\\}) = 0$\n",
    "- $\\tilde{P}(\\Omega) = 1$"
   ]
  },
  {
   "cell_type": "markdown",
   "id": "32f54574-0436-43fa-a748-9dce1b3f79fb",
   "metadata": {},
   "source": [
    "$\\tilde{P}$는 분명히 ${\\cal A}$에서 확률의 공리1-3을 만족한다. 하지만 $\\sigma({\\cal A})$로의 확장은 불가능하다. "
   ]
  },
  {
   "cell_type": "markdown",
   "id": "3869e276-2148-4ccf-921f-9f1cd039c0f9",
   "metadata": {},
   "source": [
    "`#`"
   ]
  },
  {
   "cell_type": "markdown",
   "id": "d923c525-5331-4ce8-b476-d29d3ce5d574",
   "metadata": {},
   "source": [
    "`# 예제4` -- 운이 안 좋은 경우 2"
   ]
  },
  {
   "cell_type": "markdown",
   "id": "a417f7f9-8318-42cf-943a-f45b4723cf88",
   "metadata": {},
   "source": [
    "$\\Omega=\\{1,2,3,4\\}$ 이라고 하고 ${\\cal A} = \\{\\emptyset, \\{1,2\\},\\{2,3\\}, \\Omega\\}$ 라고 하자. "
   ]
  },
  {
   "cell_type": "markdown",
   "id": "7c5183c5-6a83-4d1f-ba40-09718f4b49d1",
   "metadata": {},
   "source": [
    "아래와 같은 확률 비슷한 함수 $\\tilde{P}:{\\cal A} \\to [0,1]$를 정의하자."
   ]
  },
  {
   "cell_type": "markdown",
   "id": "1c46d37c-397f-4aed-98ee-4691f8e5018c",
   "metadata": {},
   "source": [
    "- $\\tilde{P}(\\emptyset) = 0$\n",
    "- $\\tilde{P}(\\{1,2\\}) = 1/2$\n",
    "- $\\tilde{P}(\\{2,3\\}) = 1/2$\n",
    "- $\\tilde{P}(\\Omega) = 1$"
   ]
  },
  {
   "cell_type": "markdown",
   "id": "e900b498-10e5-401c-aa27-3396528478c3",
   "metadata": {},
   "source": [
    "$\\tilde{P}$는 분명히 ${\\cal A}$에서 확률의 공리1-3을 만족한다. "
   ]
  },
  {
   "cell_type": "markdown",
   "id": "97fbbc71-da6d-4761-a625-0eb1d9fe79d0",
   "metadata": {},
   "source": [
    "$\\sigma({\\cal A})$로의 확장도 가능하다. 하지만 유일한 확장을 보장하지 않는다. "
   ]
  },
  {
   "cell_type": "markdown",
   "id": "bbd61eb3-c0ae-4c54-ba19-258084b0b874",
   "metadata": {},
   "source": [
    "||$\\mathbb{P}_1$|$\\mathbb{P}_2$|$\\tilde{P}$\n",
    "|:-:|:-:|:-:|:-:|\n",
    "|$\\emptyset$|$0$|$0$|$0$|\n",
    "|$\\{1,2\\}$|$\\frac{1}{2}$ | $\\frac{1}{2}$| $\\frac{1}{2}$ | \n",
    "|$\\{2,3\\}$|$\\frac{1}{2}$ | $\\frac{1}{2}$| $\\frac{1}{2}$ | \n",
    "|$\\Omega$|$1$ | $1$| $1$\n",
    "|$-$|$-$|$-$|$-$|\n",
    "|$\\{1\\}$|$0$ | $\\frac{1}{2}$| None|\n",
    "|$\\{2\\}$|$\\frac{1}{2}$ | $0$| None|\n",
    "|$\\{3\\}$|$0$ | $\\frac{1}{2}$| None|\n",
    "|$\\{4\\}$|$\\frac{1}{2}$ | $0$| None|\n",
    "|$\\{1,3\\}$|$0$ | $1$| None|\n",
    "|$\\{1,4\\}$|$\\frac{1}{2}$ | $\\frac{1}{2}$| None|\n",
    "|$\\{2,4\\}$|$1$ | $0$| None|\n",
    "|$\\{3,4\\}$|$\\frac{1}{2}$ | $\\frac{1}{2}$| None|\n",
    "|$\\{2,3,4\\}$|$1$ | $\\frac{1}{2}$| None|\n",
    "|$\\{1,3,4\\}$|$\\frac{1}{2}$ | $1$| None|\n",
    "|$\\{1,2,4\\}$|$1$ | $\\frac{1}{2}$| None|\n",
    "|$\\{1,2,3\\}$|$\\frac{1}{2}$ | $1$| None|"
   ]
  },
  {
   "cell_type": "markdown",
   "id": "2b26e435-7f29-47d2-bdd6-9d8b0e5b2ae5",
   "metadata": {},
   "source": [
    "`#`"
   ]
  },
  {
   "cell_type": "markdown",
   "id": "9041e560-1a6b-4d7b-a151-328c46ac72c2",
   "metadata": {},
   "source": [
    "`# 예제5` -- 혹시... "
   ]
  },
  {
   "cell_type": "markdown",
   "id": "6fe8e42b-b087-4bed-8f7a-ed9bfd078a5a",
   "metadata": {},
   "source": [
    "$\\Omega=\\mathbb{R}$, ${\\cal A}=\\big\\{[a,b]: a,b \\in \\mathbb{R}, a<b \\big\\}$ 라고 하자. "
   ]
  },
  {
   "cell_type": "markdown",
   "id": "8457d571-e896-413e-9cd0-b4247020d39c",
   "metadata": {},
   "source": [
    "${\\cal A}$에서만 측도비슷한 함수 $\\tilde{\\lambda}([a,b])=b-a$를 잘 정의한다면 그것이 $\\sigma({\\cal A})$에서의 측도 $\\lambda$으로 업그레이드 가능하며, 그 업그레이드 결과는 유일할까? 그래서 아래의 집합들에 대한 확률을 무모순으로 정의가능할까? "
   ]
  },
  {
   "cell_type": "markdown",
   "id": "6c426e42-3d6b-4f12-82a4-cbcff585f7a0",
   "metadata": {},
   "source": [
    "- $[0,2)$\n",
    "- $\\{2\\}$\n",
    "- $(0,2)$\n",
    "- $[0,\\infty)$, $(0,\\infty)$\n",
    "- $(-\\infty,0)$, $(-\\infty,0]$\n",
    "- $[1,2] \\cup [3,4]$\n",
    "- $(1,2] \\cup [3,4)$\n",
    "- $\\mathbb{N}$, $\\mathbb{Z}$, $\\mathbb{Q}$\n",
    "- $[0,2] \\cap \\mathbb{Q}$"
   ]
  },
  {
   "cell_type": "markdown",
   "id": "1a6f4ded-411f-4e14-89b7-aa78fdcc8442",
   "metadata": {},
   "source": [
    "> 이게 가능하다면 대박인데, 결론적으로 말하면 이게 가능하다. 이게 가능한 이유는 카라테오도리의 확장정리 때문 "
   ]
  },
  {
   "cell_type": "markdown",
   "id": "fa536f50-341e-497a-a402-c05425fa2621",
   "metadata": {},
   "source": [
    "`#`"
   ]
  },
  {
   "cell_type": "markdown",
   "id": "ec99dc7a-5860-49f0-a21f-f4ec6d705a78",
   "metadata": {},
   "source": [
    "# 6. 측도론의 유산 "
   ]
  },
  {
   "cell_type": "markdown",
   "id": "d78a7813-2a3b-4043-b93c-79304e2409b9",
   "metadata": {},
   "source": [
    "> 이걸 제가 좀 자세히 할지 못할지 모르겠네요.. "
   ]
  },
  {
   "cell_type": "markdown",
   "id": "5515a2da-1c2a-4e14-b28e-252c65c7f86f",
   "metadata": {},
   "source": [
    "`# 이론` -- 아래와 같은 집합을 고려하자. \n",
    "\n",
    "- ${\\cal A}_1:= \\{A\\subset \\mathbb{R}: A \\text{ is open}\\}$^[여기에서 open은 엄밀하게 말하면 usual topological spcace $(\\mathbb{R},{\\cal U})$ 에서의 ${\\cal U}$-open set을 의미한다. 즉 보통위상공간에서 정의가능한 openset을 의미한다.]\n",
    "- ${\\cal A}_2:= \\{(a,b): a,b \\in \\mathbb{R}, a<b\\}$\n",
    "- ${\\cal A}_3:= \\{[a,b): a,b \\in \\mathbb{R}, a<b\\}$\n",
    "- ${\\cal A}_4:= \\{(a,b]: a,b \\in \\mathbb{R}, a<b\\}$\n",
    "- ${\\cal A}_5:= \\{[a,b]: a,b \\in \\mathbb{R}, a<b\\}$\n",
    "- ${\\cal A}_6:= \\{(-\\infty,b): a,b \\in \\mathbb{R}, a<b\\}$\n",
    "- ${\\cal A}_7:= \\{(-\\infty,b]: a,b \\in \\mathbb{R}, a<b\\}$\n",
    "- ${\\cal A}_8:= \\{(a,\\infty): a,b \\in \\mathbb{R}, a<b\\}$\n",
    "- ${\\cal A}_9:= \\{[a,\\infty): a,b \\in \\mathbb{R}, a<b\\}$\n",
    "\n",
    "아래가 성립한다. \n",
    "\n",
    "$${\\cal R}:={\\cal B}(\\mathbb{R}) = \\sigma({\\cal A}_1)=\\sigma({\\cal A}_2)=\\dots=\\sigma({\\cal A}_9)$$"
   ]
  },
  {
   "cell_type": "markdown",
   "id": "f06c6f94-8169-4782-96d5-86db2463e153",
   "metadata": {},
   "source": [
    "`#`"
   ]
  },
  {
   "cell_type": "markdown",
   "id": "45188385-f029-4c38-acaa-b1dcceff0b82",
   "metadata": {},
   "source": [
    "`# 정의` -- 위의 이론에서 논의된 ${\\cal R}$을 보렐시그마필드라고 한다. "
   ]
  },
  {
   "cell_type": "markdown",
   "id": "c00c5613-b631-4519-95ca-84d75e6c62aa",
   "metadata": {},
   "source": [
    "> 참고로 \"시그마필드\" $\\Leftarrow$ \"길이를 잴 수 있는 집합들의 모임\" 이지만, \"보렐시그마필드\" $\\Leftrightarrow$ \"길이를 잴 수 있는 집합들의 모임\" 이다. 그리고 보렐시그마필드야 말로 $(\\mathbb{R},???,\\lambda)$ 를 measure space로 만드는 가장 합리적인 집합(collection)이다. "
   ]
  },
  {
   "cell_type": "markdown",
   "id": "282ca594-6073-491a-a710-6a3e2b412654",
   "metadata": {},
   "source": [
    "`#`"
   ]
  },
  {
   "cell_type": "markdown",
   "id": "1c895007-b9f2-4aaa-a46f-ce2f6d6b4776",
   "metadata": {},
   "source": [
    "`# 이론` -- $\\Omega=\\mathbb{R}$ 에 대하여 아래와 같은 collection ${\\cal A}$를 고려하자. \n",
    "\n",
    "$${\\cal A}=\\{(a,b]: a,b\\in \\mathbb{R}, a<b\\}$$\n",
    "\n",
    "그리고 아래와 같은 함수 $\\tilde{m}:{\\cal A} \\to [0,\\infty]$을 고려하자. \n",
    "\n",
    "$$\\tilde{m}((a,b]) = b-a$$\n",
    "\n",
    "이러한 함수 $\\tilde{m}$은 $(\\mathbb{R},{\\cal R})$에서의 메져 $m:{\\cal R} \\to [0,\\infty]$로 쉽게 업그레이드 가능하며 이 업그레이드 결과는 유일하다. "
   ]
  },
  {
   "cell_type": "markdown",
   "id": "5bab5b67-940d-42c2-a6b1-20bf4a6ac5f3",
   "metadata": {},
   "source": [
    "`#`"
   ]
  },
  {
   "cell_type": "markdown",
   "id": "f2017c13-fbd8-4e94-b584-f6ec2e3d749c",
   "metadata": {},
   "source": [
    "`# 정의` 위의 이론에 의하여 업그레이드 된 메져 $m$을 르벡메져라고 한다. "
   ]
  }
 ],
 "metadata": {
  "kernelspec": {
   "display_name": "Python 3 (ipykernel)",
   "language": "python",
   "name": "python3"
  },
  "language_info": {
   "codemirror_mode": {
    "name": "ipython",
    "version": 3
   },
   "file_extension": ".py",
   "mimetype": "text/x-python",
   "name": "python",
   "nbconvert_exporter": "python",
   "pygments_lexer": "ipython3",
   "version": "3.12.5"
  }
 },
 "nbformat": 4,
 "nbformat_minor": 5
}
