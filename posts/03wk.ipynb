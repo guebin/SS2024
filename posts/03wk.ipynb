{
 "cells": [
  {
   "cell_type": "raw",
   "id": "700eed9c-8649-4f78-bb4e-54acc2c928f3",
   "metadata": {
    "vscode": {
     "languageId": "raw"
    }
   },
   "source": [
    "---\n",
    "title: \"03wk: 유리수, 무리수, 실수의 Cardinality\"\n",
    "author: \"최규빈\"\n",
    "date: \"09/19/2024\"\n",
    "reference-location: margin\n",
    "citation-location: margin\n",
    "cap-location: margin\n",
    "draft: false\n",
    "---"
   ]
  },
  {
   "cell_type": "markdown",
   "id": "e16c65bf-e5ee-425a-b9de-afae3c4197c1",
   "metadata": {},
   "source": [
    "# 1. 강의영상 "
   ]
  },
  {
   "cell_type": "code",
   "execution_count": 1,
   "id": "0b123cd7-fcb4-4209-84bd-16e4c33f372d",
   "metadata": {
    "vscode": {
     "languageId": "raw"
    }
   },
   "outputs": [],
   "source": [
    "#{{< video https://youtu.be/playlist?list=PLQqh36zP38-zzxPOmD99-PgC29bJVzM11&si=bp4UCPBUspjZNISj >}}"
   ]
  },
  {
   "cell_type": "markdown",
   "id": "3502fe05-c084-487a-ba07-af49976f2b7d",
   "metadata": {
    "vscode": {
     "languageId": "raw"
    }
   },
   "source": [
    "# 2. 우리의 목표 "
   ]
  },
  {
   "cell_type": "markdown",
   "id": "06228830-3245-41a1-9ba5-59dfd778e944",
   "metadata": {
    "vscode": {
     "languageId": "raw"
    }
   },
   "source": [
    "> 우리가 원하는 것: $[0,2\\pi)$의 유리수집합과 무리수집합은 모두 원소가 무한개임. 그런데 무한에도 급이 있다는 것을 나타내고 싶어. 즉 $[0,2\\pi)$의 유리수집합의 원소수보다 $[0,2\\pi)$의 무리수집합의 원소수가 훨씬 많다는 사실을 설명하고 싶어."
   ]
  },
  {
   "cell_type": "markdown",
   "id": "69c170e9-1a4f-45f3-bc77-64361dcd516b",
   "metadata": {},
   "source": [
    "# 3. 유리수와 실수의 Cadinality "
   ]
  },
  {
   "cell_type": "markdown",
   "id": "ad9a5664-07e9-419a-8500-549b24221581",
   "metadata": {},
   "source": [
    "## A. 예비학습"
   ]
  },
  {
   "cell_type": "markdown",
   "id": "127deb39-bc33-426a-b534-cc7c41836c8e",
   "metadata": {},
   "source": [
    "`# 정의` -- 집합 $A$ 의 cardinality 를 엄밀하게 정의하는건 어렵다. 그래서 이 수업은 아래와 같이 알고 있어도 무방하다. \n",
    "\n",
    "- 집합 $A$가 유한집합일 경우: $|A|$는 집합의 $A$의 원소수와 같다. \n",
    "- 집합 $A$가 무한집합일 경우: $|A|$를 직접적으로 정의할수 없다. 단지 또 다른 집합 $B$와의 크기 비교는 가능하다.\n",
    "\n",
    "`#`"
   ]
  },
  {
   "cell_type": "markdown",
   "id": "04eba877-e948-4ccc-8cd1-c4f42ff6f680",
   "metadata": {},
   "source": [
    "`# 개념1` -- 어떠한 집합 $A$의 cardinality가 $\\aleph_0$ 이라면, 집합 $A$를 아래와 같이 쓸 수 있다. \n",
    "\n",
    "$$ A = \\{a_1,a_2,a_3,\\dots \\} =\\bigcup_{n \\in \\mathbb{N}} \\{a_n\\}$$"
   ]
  },
  {
   "cell_type": "markdown",
   "id": "5f90680a-1b1f-4f6b-9239-b392bb9a0644",
   "metadata": {},
   "source": [
    "`#`"
   ]
  },
  {
   "cell_type": "markdown",
   "id": "1b1bad11-8c8c-4917-8231-a9682c326339",
   "metadata": {},
   "source": [
    "`# 개념2` -- 어떠한 집합 $A$의 cardinality가 $\\aleph_0$ 이라고 하자. 그리고 또 다른 집합 $B$의 cardinality는 $N$ 이라고 하자. 그러면 $A\\cup B$ 의 cardinality는 $\\aleph_0$ 이다. "
   ]
  },
  {
   "cell_type": "markdown",
   "id": "a37850d1-e78a-4c37-aac2-b47aacbd6274",
   "metadata": {},
   "source": [
    "`# 개념3` -- 어떠한 집합 $A$의 cardinality가 $\\aleph_0$ 이라고 하자. 그리고 또 다른 집합 $B$의 cardinality는 $N$ 이라고 하자. 그러면 $A\\cup B$ 의 cardinality는 $\\aleph_0$ 이다. "
   ]
  },
  {
   "cell_type": "markdown",
   "id": "1972c29e-97ce-4ac7-a09d-2184a234d996",
   "metadata": {},
   "source": [
    "`# 개념4` -- $A \\subset B$ 라면, 항상 $A$에서 $B$로 가는 단사함수가 존재한다. 즉 $|A| \\leq |B|$ 가 성립한다.  "
   ]
  },
  {
   "cell_type": "markdown",
   "id": "246dc028-cf45-4db9-b7cd-7ad401ec0b27",
   "metadata": {
    "vscode": {
     "languageId": "raw"
    }
   },
   "source": [
    "## B. 유리수 "
   ]
  },
  {
   "cell_type": "markdown",
   "id": "a8a58bf5-fea7-45fd-87aa-1a978cb701d0",
   "metadata": {
    "slideshow": {
     "slide_type": "slide"
    }
   },
   "source": [
    "`# 예제1` -- $|\\mathbb{N}| = |\\mathbb{Q}|$ 임을 보여라. (<https://en.wikipedia.org/wiki/Rational_number>)"
   ]
  },
  {
   "cell_type": "markdown",
   "id": "44ffea38-8d32-4df1-9206-e44196c3815a",
   "metadata": {},
   "source": [
    "`-` 전략: 자연수집합 $\\mathbb{N}$에서 양의유리수 $\\mathbb{Q}^+$로 가는 전단사함수가 존재함을 보이자. (그러면 아래의 2-4가 자동으로 보여진다.)\n",
    "\n",
    "1. $|\\mathbb{N}| = |\\mathbb{Q}^+|$\n",
    "2. $|\\mathbb{Q}^+| = |\\mathbb{Q}^-| \\Rightarrow |\\mathbb{N}| = |\\mathbb{Q}^-|$\n",
    "3. $|\\mathbb{N}| = |\\mathbb{Q}^+ \\cup \\mathbb{Q}^-|$\n",
    "4. $|\\mathbb{N}| = |\\mathbb{Q}|$"
   ]
  },
  {
   "cell_type": "markdown",
   "id": "3a16739d-a70e-4de3-94f6-806527c2f619",
   "metadata": {},
   "source": [
    "`-` 단사: $\\mathbb{N} \\subset \\mathbb{Q}^+$ 이므로, $\\mathbb{N} \\to \\mathbb{Q}^+$ 인 단사함수가 존재한다. 즉 $|\\mathbb{N}| \\leq |\\mathbb{Q}^+|$ 이다. "
   ]
  },
  {
   "cell_type": "markdown",
   "id": "1a9e5634-15f8-4647-9e32-04732cc25ebf",
   "metadata": {},
   "source": [
    "`-` 전사: 이제 $\\mathbb{N} \\to \\mathbb{Q}^+$인 전사함수가 존재함을 보이면 된다.  아래의 그림을 보면 직관적으로 $\\mathbb{N} \\to \\mathbb{Q}^+$인 전사함수가 존재함을 알 수 있음. (모든 양의유리수 $q \\in \\mathbb{Q}^+$에 대하여 대응하는 $n \\in \\mathbb{N}$이 적어도 하나는 존재함) "
   ]
  },
  {
   "cell_type": "markdown",
   "id": "b826b1e1-3f85-4163-b446-362d2000234f",
   "metadata": {
    "slideshow": {
     "slide_type": "fragment"
    }
   },
   "source": [
    "![](https://upload.wikimedia.org/wikipedia/commons/thumb/8/85/Diagonal_argument.svg/1024px-Diagonal_argument.svg.png)"
   ]
  },
  {
   "cell_type": "markdown",
   "id": "54d2cb96-d3b3-4294-8e61-d3795e3bb8b8",
   "metadata": {},
   "source": [
    "> 좀 더 엄밀한 증명을 원한다면? "
   ]
  },
  {
   "cell_type": "markdown",
   "id": "81343902-7f26-419c-b5d0-02d180504478",
   "metadata": {
    "slideshow": {
     "slide_type": "fragment"
    }
   },
   "source": [
    "`-` 결론: 유리수집합 $\\mathbb{Q}$의 카디널넘버는 $\\aleph_0$이다. 좀 더 자극적으로 말하면 \"자연수의 갯수와 유리수의 갯수는 같다\" 라고 말할 수 있다. "
   ]
  },
  {
   "cell_type": "markdown",
   "id": "8c18921f-0508-40f6-88ad-9d818116d943",
   "metadata": {
    "slideshow": {
     "slide_type": "slide"
    }
   },
   "source": [
    "`-` 조금 무식하게 쓰면 아래와 같이 쓸 수 있다. \n",
    "\n",
    "- $\\aleph_0 \\times \\aleph_0 = \\aleph_0^2 =  \\aleph_0$ "
   ]
  },
  {
   "cell_type": "markdown",
   "id": "01bb4f8d-c0b0-44f0-8ba7-b7aff3f1a608",
   "metadata": {
    "vscode": {
     "languageId": "raw"
    }
   },
   "source": [
    "`#`"
   ]
  },
  {
   "cell_type": "markdown",
   "id": "f18da5a1-ba1d-4c0f-825f-2e14e7808cf6",
   "metadata": {
    "slideshow": {
     "slide_type": "slide"
    }
   },
   "source": [
    "## C. 실수"
   ]
  },
  {
   "cell_type": "markdown",
   "id": "7ba3a355-c786-40f6-a61d-ccb901acbbb5",
   "metadata": {
    "slideshow": {
     "slide_type": "slide"
    }
   },
   "source": [
    "`# 예제2` -- $|\\mathbb{R}| > |\\mathbb{Q}|$ 임을 보여라. "
   ]
  },
  {
   "cell_type": "markdown",
   "id": "5004e546-80e3-4b95-844b-5578162ef378",
   "metadata": {
    "slideshow": {
     "slide_type": "slide"
    }
   },
   "source": [
    "`-` 그런데 $|\\mathbb{Q}|=|\\mathbb{N}|$ 이므로, $|\\mathbb{R}| > |\\mathbb{N}|$ 임을 보여도 충분하다. \n",
    "\n",
    "- $\\mathbb{N} \\to \\mathbb{R}$ 인 단사함수는 존재하지만, 전사함수는 존재할 수 없음을 보이자. "
   ]
  },
  {
   "cell_type": "markdown",
   "id": "c60f37a3-aee5-41fd-8cd4-822b340ca199",
   "metadata": {
    "slideshow": {
     "slide_type": "slide"
    }
   },
   "source": [
    "`-` $\\mathbb{N} \\to \\mathbb{R}$ 인 단사함수의 존재성은 쉽게 논의할 수 있다. (자연수는 실수의 부분집합이니까)"
   ]
  },
  {
   "cell_type": "markdown",
   "id": "7fc16114-9d15-45a3-af39-c108b0bd60d5",
   "metadata": {
    "slideshow": {
     "slide_type": "fragment"
    }
   },
   "source": [
    "`-` $\\mathbb{N} \\to \\mathbb{R}$ 인 전사함수는 존재할 수 없음을 보이고 싶다. 그런데 이는 $\\mathbb{N} \\to [0,1]$로 향하는 전사가 존재할 수 없음을 보여도 충분하다.^[$\\mathbb{R}$은 커녕 $[0,1]$도 꽉 채우지 못한다는 의미니까..]"
   ]
  },
  {
   "cell_type": "markdown",
   "id": "c1521483-0554-4647-9d92-384357b09f31",
   "metadata": {
    "slideshow": {
     "slide_type": "fragment"
    }
   },
   "source": [
    "`-` **전략**: $\\mathbb{N} \\to [0,1]$ 인 전사함수가 존재한다고 가정하고 모순을 이끌어 내자. "
   ]
  },
  {
   "cell_type": "markdown",
   "id": "ea13f9a5-5b53-4aa6-9c5a-56f13fd4540c",
   "metadata": {
    "slideshow": {
     "slide_type": "slide"
    }
   },
   "source": [
    "`1`. 아래와 같은 주장을 하는 가상의 인물을 세움: \n",
    "\n",
    "> $\\mathbb{N} \\to [0,1]$로 향하는 전사함수 $a(n)$ 이 존재한다. \n"
   ]
  },
  {
   "cell_type": "markdown",
   "id": "1050b1c0-9fa3-4207-b86f-ae3361f1570c",
   "metadata": {
    "slideshow": {
     "slide_type": "slide"
    }
   },
   "source": [
    "`2`. 그 가상의 인물이 하는 주장을 잘 생각해보면 아래와 같음 \n",
    "\n",
    "$a$는 정의역이 자연수이고 공역이 실수인 함수이므로 아래와 같은 형태일 것임. \n",
    "\n",
    "- $a(1)=a_1= 0.1$^[유리수]\n",
    "- $a(2)=a_2= 0.3141592\\cdots$^[무리수, $\\frac{\\pi}{10}$]\n",
    "- $a(3)=a_3=0.14142135\\cdots$^[무리수, $\\frac{\\sqrt{2}}{10}$]\n",
    "- $\\dots$"
   ]
  },
  {
   "cell_type": "markdown",
   "id": "bbf980ec-b2a2-4d75-bb56-c2c2d2c2d0cb",
   "metadata": {
    "slideshow": {
     "slide_type": "slide"
    }
   },
   "source": [
    "그 가상의 인물의 주장대로라면 \n",
    "\n",
    "$$[0,1]=\\{a_1,a_2,a_3,\\dots\\}$$"
   ]
  },
  {
   "cell_type": "markdown",
   "id": "51528622-818b-4961-85cc-43663f83783a",
   "metadata": {
    "slideshow": {
     "slide_type": "fragment"
    }
   },
   "source": [
    "이라는 의미임.^[다시 말하면 $[0,1]$ 사이의 모든 실수는 \"셀수있다\"라는 의미임]"
   ]
  },
  {
   "cell_type": "markdown",
   "id": "ce423d98-eaea-48d9-99fd-31d895a20fd3",
   "metadata": {
    "slideshow": {
     "slide_type": "slide"
    }
   },
   "source": [
    "`3`. 전사함수의 정의에 의하여 아래가 성립해야 함\n",
    "\n",
    "> $\\forall y\\in [0,1] ~\\exists x \\in \\mathbb{N}$ such that $a(x)=y$"
   ]
  },
  {
   "cell_type": "markdown",
   "id": "ab8fb651-ddde-47cd-8109-6f7bcbb04dfa",
   "metadata": {
    "slideshow": {
     "slide_type": "slide"
    }
   },
   "source": [
    "아래의 원리에 따라서 $y=0.x_1x_2x_3\\cdots$를 뽑는다면? \n",
    "\n",
    "- $y$의 첫번째 소수점의 값 $x_1$은 $a(1)=a_1$의 첫번째 소수점과 다르게 한다. $\\Rightarrow$ $y\\neq a(1)$ $\\Rightarrow$ $y \\notin \\{a_1\\}$\n",
    "- $y$의 두번째 소수점의 값 $x_2$은 $a(2)=a_2$의 두번째 소수점과 다르게 한다. $\\Rightarrow$ $y\\neq a(1)$ and $y\\neq a(2)$ $\\Rightarrow$ $y \\notin \\{a_1, a_2\\}$\n",
    "- $\\dots$"
   ]
  },
  {
   "cell_type": "markdown",
   "id": "9a8b4180-7bcb-4782-bb82-f311e45caada",
   "metadata": {
    "slideshow": {
     "slide_type": "fragment"
    }
   },
   "source": [
    "이러한 $y$는 분명히 실수이지만 $y \\notin \\{a_1,a_2,a_3,\\dots,\\}$ 이다.^[모순이네?]"
   ]
  },
  {
   "cell_type": "markdown",
   "id": "f41fbac6-e470-435e-bf3f-cfc68634382e",
   "metadata": {},
   "source": [
    "`#`"
   ]
  },
  {
   "cell_type": "markdown",
   "id": "7990ac8c-4db8-43a8-8046-0f03b7786703",
   "metadata": {
    "slideshow": {
     "slide_type": "slide"
    }
   },
   "source": [
    "## D. 무리수"
   ]
  },
  {
   "cell_type": "markdown",
   "id": "f523d07f-767d-470e-900d-0a081971cbc3",
   "metadata": {
    "slideshow": {
     "slide_type": "slide"
    }
   },
   "source": [
    "`# 예제3` -- $|\\mathbb{R}-\\mathbb{Q}| > |\\mathbb{Q}|$ 임을 보여라. "
   ]
  },
  {
   "cell_type": "markdown",
   "id": "0f625312-93d5-480a-ad7a-7d1e688ba2c6",
   "metadata": {},
   "source": [
    "`#`"
   ]
  },
  {
   "cell_type": "markdown",
   "id": "40064a5a-af3a-4d76-baa2-a9412a2751e9",
   "metadata": {
    "tags": []
   },
   "source": [
    "# 4. 셀 수 있는"
   ]
  },
  {
   "cell_type": "markdown",
   "id": "31192fd5-9048-429c-a5e8-71da5c5ae8b4",
   "metadata": {},
   "source": [
    "`-` 셀 수 있는 집합과 셀 수 없는 집합. \n",
    "\n",
    "- countable: finite, countable many\n",
    "- uncountable: uncountable many \n"
   ]
  },
  {
   "cell_type": "markdown",
   "id": "fc1d71e4-02fa-4901-8c0d-e0e86e124f34",
   "metadata": {},
   "source": [
    "`-` 예시1: countable set, uncountable set "
   ]
  },
  {
   "cell_type": "markdown",
   "id": "f9f2d2bf-6ce5-437c-9dad-756b964ccb15",
   "metadata": {},
   "source": [
    "- $\\{1,2,3,4,5\\}$는 셀 수 있는 집합이다. \n",
    "- $\\mathbb{N}$은 셀 수 있는 집합이다. \n",
    "- $\\mathbb{Z}$는 셀 수 있는 집합이다. \n",
    "- $\\mathbb{Q}$는 셀 수 있는 집합이다. \n",
    "- $\\mathbb{R}$은 셀 수 없는 집합이다. "
   ]
  },
  {
   "cell_type": "markdown",
   "id": "b02b72fa-496c-46d7-b2e1-5c258a1db1b0",
   "metadata": {},
   "source": [
    "`-` 예시2: countable sum: 아래는 모두 countable sum을 의미한다. "
   ]
  },
  {
   "cell_type": "markdown",
   "id": "10c789ec-55c6-4225-8aea-a4aa5e32ef4a",
   "metadata": {},
   "source": [
    "- $\\sum_{i=1}^{n}a_i$.\n",
    "- $\\sum_{i \\in I} a_i$, where $I=\\{1,2,3,\\dots,10\\}$.\n",
    "- $\\sum_{i=1}^{\\infty} a_i$, $\\sum_{i=0}^{\\infty} a_i$.\n",
    "- $\\sum_{i \\in \\mathbb{N}}a_i$.\n",
    "- $\\sum_{x \\in \\mathbb{Q}}m(\\{x\\})$, where $m$ is Lebesgue measure"
   ]
  },
  {
   "cell_type": "markdown",
   "id": "a1042349-c97c-4abb-975c-81d4544b7fea",
   "metadata": {},
   "source": [
    "`-` 예시3: countable union: 아래는 countable union을 의미한다. "
   ]
  },
  {
   "cell_type": "markdown",
   "id": "fb17a180-dcfc-44cf-90c0-28f09aa95477",
   "metadata": {},
   "source": [
    "- $\\cup_{i=1}^n A_i$\n",
    "- $\\cup_{i=1}^{\\infty} A_i$\n",
    "- $\\cup_{x \\in \\mathbb{Q}} \\{x\\}$"
   ]
  },
  {
   "cell_type": "markdown",
   "id": "d5b888aa-9211-49b0-9fcc-ee4cb08e17fa",
   "metadata": {},
   "source": [
    "`-` 예시4: 아래는 uncountable sum을 의미한다. "
   ]
  },
  {
   "cell_type": "markdown",
   "id": "cc54efec-5c5e-41fb-adc0-9ad1a60d2be1",
   "metadata": {},
   "source": [
    "- $\\sum_{x \\in [0,1]}m(\\{x\\})$, where $m$ is Lebesgue measure"
   ]
  },
  {
   "cell_type": "markdown",
   "id": "9844db43-45c8-4064-a97a-d5181283bef8",
   "metadata": {},
   "source": [
    "`-` 예시5: 아래는 uncountable union을 의미한다. "
   ]
  },
  {
   "cell_type": "markdown",
   "id": "ef29ac86-a078-4119-8609-9781fd858a01",
   "metadata": {},
   "source": [
    "- $\\cup_{x \\in [0,1]} \\{x\\}$"
   ]
  },
  {
   "cell_type": "markdown",
   "id": "16528b59-4d43-4488-aef1-efe74f9bab52",
   "metadata": {},
   "source": [
    "# 5. 집합정리"
   ]
  },
  {
   "cell_type": "markdown",
   "id": "1b0e9e7f-672d-4ee9-a442-5612178160a6",
   "metadata": {},
   "source": [
    "|집합|카디널리티|분류|르벡메져|\n",
    "|:-:|:-:|:-:|:-:|\n",
    "|$\\{1,2,3\\}$|3|가산집합|0|\n",
    "|$\\mathbb{N}$|$\\aleph_0$|가산집합|0|\n",
    "|$\\mathbb{Z}$|$\\aleph_0$|가산집합|0|\n",
    "|$\\mathbb{Q}$|$\\aleph_0$|가산집합|0|\n",
    "|$[0,1]$|$2^{\\aleph_0}$|비가산집합|1|\n",
    "|$[0,1]\\cap \\mathbb{Q}$|$\\aleph_0$|가산집합|0|\n",
    "|$[0,1]\\cup \\mathbb{Q}$|$2^{\\aleph_0}$|비가산집합|1|\n",
    "|$[0,1]\\cap \\mathbb{Q}^c$|$2^{\\aleph_0}$|비가산집합|1|\n",
    "|$[0,\\infty)$|$2^{\\aleph_0}$|비가산집합|$\\infty$|\n",
    "|비탈리집합|$2^{\\aleph_0}$|비가산집합|NA|\n",
    "|칸토어집합|$2^{\\aleph_0}$|비가산집합|0|"
   ]
  }
 ],
 "metadata": {
  "kernelspec": {
   "display_name": "Python 3 (ipykernel)",
   "language": "python",
   "name": "python3"
  },
  "language_info": {
   "codemirror_mode": {
    "name": "ipython",
    "version": 3
   },
   "file_extension": ".py",
   "mimetype": "text/x-python",
   "name": "python",
   "nbconvert_exporter": "python",
   "pygments_lexer": "ipython3",
   "version": "3.12.5"
  }
 },
 "nbformat": 4,
 "nbformat_minor": 5
}
