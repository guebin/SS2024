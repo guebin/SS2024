{
 "cells": [
  {
   "cell_type": "raw",
   "id": "23c757c8-0fe1-4736-8cf3-735ae1247bf6",
   "metadata": {
    "vscode": {
     "languageId": "raw"
    }
   },
   "source": [
    "---\n",
    "title: \"04wk: 시그마필드 -- Motivation1\"\n",
    "author: \"최규빈\"\n",
    "date: \"09/26/2024\"\n",
    "reference-location: margin\n",
    "citation-location: margin\n",
    "cap-location: margin\n",
    "draft: false\n",
    "---"
   ]
  },
  {
   "cell_type": "markdown",
   "id": "98510f6f-22e6-4d79-80de-6b903d58d3e8",
   "metadata": {},
   "source": [
    "# 1. 강의영상 "
   ]
  },
  {
   "cell_type": "markdown",
   "id": "4c086dbb-b187-4ab0-8f36-a47952dde632",
   "metadata": {},
   "source": [
    "{{< video https://youtu.be/playlist?list=PLQqh36zP38-zYlrMhll2MUhhr9FyL_YIu&si=Zx-ha5JrW6uLbiid >}}"
   ]
  },
  {
   "cell_type": "markdown",
   "id": "f568af4e-cbb3-486a-b3d8-d014f166264d",
   "metadata": {},
   "source": [
    "# 2. 지금까지의 스토리 "
   ]
  },
  {
   "cell_type": "markdown",
   "id": "7e182abe-b201-4ca9-9930-2d71ad2269ec",
   "metadata": {},
   "source": [
    "`-` 약속1: 구간 $[a,b]$의 길이를 르벡메저로 잰다면 이를 $\\lambda([a,b])$ 와 같은 방식으로 정의한다. \n",
    "\n",
    "- $\\lambda([0,0.2)) = 0.2$\n",
    "- $\\lambda(\\{0\\}) = 0$\n",
    "- $\\lambda\\big(\\cup_{n=2}^{\\infty} \\{\\frac{1}{n}\\}\\big) = 0$\n",
    "- $\\lambda\\big([0,1) - \\cup_{n=2}^{\\infty} \\{\\frac{1}{n}\\}\\big) = 1$"
   ]
  },
  {
   "cell_type": "markdown",
   "id": "6b5c403d-19f4-4fa4-a078-b3f2c44b93b1",
   "metadata": {},
   "source": [
    "`-` 약속2: 원래 시계예제에서 sample space 는 $\\Omega=[0,2\\pi)$ 이지만 편의상 $\\Omega=[0, 1)$로 가정하자. 즉 0은 12시, 0.5는 6시, 0.25는 3시를 의미한다. 이러한 정의를 하용하면 \n",
    "\n",
    "- 3시에서 6시사이에 바늘이 멈출 확률 $= \\lambda([0.25,0.50]) = 0.25$\n",
    "\n",
    "와 같이 \"확률=길이\" 가 되어 계산이 용이하다. "
   ]
  },
  {
   "cell_type": "markdown",
   "id": "894de1c4-43bf-4c36-af24-ca79b95d08c4",
   "metadata": {},
   "source": [
    "`-` 지금까지의 이야기. \n",
    "\n",
    "- 우리가 원래 원했던 것은 **$\\Omega=[0,1)$ 의 모든 부분집합에 대해서 확률을 \"무모순\"으로 정의** 하는 것이었다.\n",
    "- **$\\Omega=[0,1)$ 의 모든 부분집합에 대해서 확률을 \"무모순\"으로 정의**하는게 엄청 쉬운일 인줄 알았는데 사실은 그렇지가 않았다. 확률을 정의하는건 매우 까다로운 일이었다. \n",
    "- 이러한 까다로움을 해결하기 위해서 \"르벡메져\"라는 새로운 도구를 사용했다. 이 도구는 몇 가지 까다로운 집합에 대해서도 확률을 무모순으로 정의할 수 있었다. \n",
    "- 르벡메져는 구간 $[0,1)$의 모든 유리수 집합의 길이와 구간 $[0,1)$의 모든 무리수 집합의 길이를 다르게 정의하는 신기한 방식을 사용한다.\n",
    "- 이는 유리수 집합의 원소수와 무리수 집합의 원소수는 같은 무한이지만 계급이 다르다는 사고방식을 기저에 깔고 있는데 이를 납득하기 위한 최소한의 노력으로 \"셀 수 있는 무한\"과 \"셀 수 없는 무한\"의 개념을 공부했다."
   ]
  },
  {
   "cell_type": "markdown",
   "id": "5cfa2793-2e7c-4ce7-8be4-3103ccbdbc9f",
   "metadata": {},
   "source": [
    "`-` 충격적인 사실\n",
    "\n",
    "- 하지만 르벡메져를 통해서도 $\\Omega=[0,1)$의 부분집합중 길이를 잴 수 없는 집합인 비탈리 집합이 존재함이 밝혀졌다. (<https://ko.wikipedia.org/wiki/비탈리_집합>)\n",
    "- 즉 르벡메저를 써도 $\\Omega=[0,1)$의 모든 부분집합의 확률을 모순없이 재는것은 불가능하다."
   ]
  },
  {
   "cell_type": "markdown",
   "id": "daf302c7-799e-471e-ac60-fd584cacf025",
   "metadata": {},
   "source": [
    "> 그런데, 굳이 비탈리 집합같은곳에서까지 확률을 재야하나??"
   ]
  },
  {
   "cell_type": "markdown",
   "id": "05d9adf6-12e6-4324-847e-07e2e4fd3ab6",
   "metadata": {},
   "source": [
    "`-` 오늘의 이야기 \n",
    "\n",
    "- 선택의 순간: (1) 르벡메져 이외의 측정법을 고려한다. (2) $\\Omega=[0,1)$의 모든 부분집합에 대하여 무모순으로 확률을 정의하는 일을 포기한다. \n",
    "- 우리는 (2)를 선택한다. 즉 **$\\Omega=[0,1)$의 모든 부분집합에 대해서 확률을 \"무모순\"으로 정의**하는 일은 포기한다.^[참고로 (1), (2) 모두 가능한 선택이다. 그렇지만 왜 (1)을 선택하지 않았을까?? <-- 떡밥]\n",
    "- 대신 **$\\Omega=[0,1)$의 부분집합 중, 르벡메저로 길이를 잴 수 있는 집합들에 대해서만 확률을 \"무모순\"으로 정의**하는 일을 시도하고자 한다. 즉 $\\Omega=[0,1)$의 부분집합 중, 확률을 무모순으로 정의가능한 집합들만 모아서 거기에서만 확률을 정의한다는 의미이다. (쉽게 말하면, 비탈리 집합같이 골치아픈 집합은 굳이 확률을 재지 않겠다는 의미임) "
   ]
  },
  {
   "cell_type": "markdown",
   "id": "d19a7f98-b249-40c6-a9d6-4fb53f34c508",
   "metadata": {},
   "source": [
    "`-` 그런데 잴 수 있는 집합이 뭐지?"
   ]
  },
  {
   "cell_type": "markdown",
   "id": "13f38d88-507b-4da5-939c-b8adfe930cf5",
   "metadata": {},
   "source": [
    "# 3. $\\sigma$-field - Motivation1"
   ]
  },
  {
   "attachments": {},
   "cell_type": "markdown",
   "id": "0c75de5a-c3ee-4f74-8aa1-a001777f499f",
   "metadata": {},
   "source": [
    "`-` 목표: \"$\\Omega$의 부분집합 중 확률을 모순없이 잴 수 있는 집합의 모임\" 이라는 개념을 수학적으로 정의해볼까?\n"
   ]
  },
  {
   "cell_type": "markdown",
   "id": "111f46c1-fce0-4450-8457-6413c8795f8e",
   "metadata": {},
   "source": [
    "`-` 기호에 대한 약속: $\\Omega$의 부분집합 중 확률을 모순없이 정의할 수 있는 집합들의 모임을 일단 기호로 ${\\cal F}$ 라 한다. "
   ]
  },
  {
   "cell_type": "markdown",
   "id": "4ab93c6a-9f72-4aa2-98df-c4c7f24818f5",
   "metadata": {},
   "source": [
    "`-` \"집합 $A$의 확률을 모순없이 정의할 수 있다 = 집합 $A$에 대한 확률값을 잴 수 있다\" 와 같이 정의하자. "
   ]
  },
  {
   "cell_type": "markdown",
   "id": "02559885-778a-4557-bea2-75ac95bf4c6b",
   "metadata": {},
   "source": [
    "**`# 생각1`** -- 잴 수 있는 집합의 모임"
   ]
  },
  {
   "cell_type": "markdown",
   "id": "fab2df4f-c879-42db-9e40-e4cf126e7687",
   "metadata": {},
   "source": [
    "$\\Omega=\\{H,T\\}$ 라고 하자. 이제 아래와 같은 집합들을 생각하자.\n",
    "\n",
    "$$\\emptyset, \\{H\\}, \\{T\\}, \\Omega$$ \n",
    "\n",
    "이 집합들은 모두 확률을 모순없이 정의할 수 있는 집합들인가? "
   ]
  },
  {
   "cell_type": "markdown",
   "id": "d0e959e6-ab49-4814-84be-23111beb1b63",
   "metadata": {},
   "source": [
    "(해설) -- 상식에 호소하는 해설"
   ]
  },
  {
   "cell_type": "markdown",
   "id": "ac13e9db-f58c-45e7-bc3c-bb426167d27a",
   "metadata": {},
   "source": [
    "우리는 이미 이전의 예제에서 $\\emptyset$, $\\{H\\}$, $\\{T\\}$, $\\Omega$ 의 확률을 모순없이 정의할 수 있다는 사실을 논의한 바 있다. 따라서 잴 수 있는 집합들의 묶음 ${\\cal F}$을 아래와 같이 정의한다면 묶음 ${\\cal F}$가 합리적일 것이다. \n",
    "\n",
    "$${\\cal F}=\\big\\{\\emptyset, \\{H\\}, \\{T\\}, \\Omega\\big\\}$$ "
   ]
  },
  {
   "cell_type": "markdown",
   "id": "6534bd91-6092-43eb-ab7f-3ec74743cc99",
   "metadata": {},
   "source": [
    "> 이때 ${\\cal F}$는 집합들의 집합인데, 이러한 집합을 collection 이라고 한다. "
   ]
  },
  {
   "cell_type": "markdown",
   "id": "5e6514e1-4b50-41e3-a896-382121942761",
   "metadata": {},
   "source": [
    "`#`"
   ]
  },
  {
   "cell_type": "markdown",
   "id": "4c94913d-0287-4528-9ca9-e1a91897d9f9",
   "metadata": {},
   "source": [
    "**`# 생각2`** -- 집합 $A$의 확률값을 잴 수 있다면, 집합 $A^c$의 확률값도 잴 수 있어~"
   ]
  },
  {
   "cell_type": "markdown",
   "id": "dd76c3c8-b0b7-454f-ba63-f53ae2cac6e0",
   "metadata": {},
   "source": [
    "$\\Omega=\\{H,T\\}$라고 하자. ${\\cal F}$을 아래와 같이 정의한다면 묶음 ${\\cal F}$는 합리적이지 않다. \n",
    "\n",
    "$${\\cal F}=\\big\\{\\emptyset, \\{H\\}, \\Omega\\big\\}$$ "
   ]
  },
  {
   "cell_type": "markdown",
   "id": "fedaa467-790b-4671-8f6b-65fb549c37f3",
   "metadata": {},
   "source": [
    "(해설1) -- 상식에 호소하는 해설"
   ]
  },
  {
   "cell_type": "markdown",
   "id": "f965082e-14f2-48c5-a476-53e4b5b812c6",
   "metadata": {},
   "source": [
    "이러한 묶음이 의미하는건 \"앞면이 나올 확률은 모순없이 정의할 수 있지만, 뒷면이 나오는 확률은 모순없이 정의하는게 불가능해~\" 라는 뜻이다. 그런데 뒷면이 나올 확률은 \"1-앞면이 나올 확률\" 로 모순없이 정의할 수 있으므로 \"앞면\n",
    "이 나올 확률이 모순없이 정의되면서\" 동시에 \"뒷면이 나올 확률이 모순없이 정의되지 않는\" 상황은 없다. "
   ]
  },
  {
   "cell_type": "markdown",
   "id": "b3666bd6-ab7b-45bc-b1b0-8059ad2cfa4a",
   "metadata": {},
   "source": [
    "(해설2) -- 공리에 의한 해설"
   ]
  },
  {
   "cell_type": "markdown",
   "id": "0fee9b21-e862-4918-9f0e-ba8730867c79",
   "metadata": {},
   "source": [
    "`-` $\\Omega$는 잴 수 있는 집합이다. (왜냐하면 $\\Omega \\in {\\cal F}$ 라고 하였으므로) 따라서 $\\mathbb{P}(\\Omega)$의 값은 모순없이 정의됨을 알 수 있다. 그런데 확률의 공리2에 의하여 $\\mathbb{P}(\\Omega)$의 값은 1임을 알 수 있다. "
   ]
  },
  {
   "cell_type": "markdown",
   "id": "641e148f-9bb9-4899-8d01-ea0946770f09",
   "metadata": {},
   "source": [
    "`-` 한편 $\\{H\\}$ 역시 잴 수 있는 집합이다. (왜냐하면 $\\{H\\} \\in {\\cal F}$ 라고 하였으므로) 따라서 $\\mathbb{P}(\\{H\\})$의 값은 모순없이 정의됨을 알 수 있다. 이 값을 편의상 $p$ 라고 가정하자. 확률의 공리1에 의하여 $0\\leq p \\leq 1$ 임을 알 수 있다. "
   ]
  },
  {
   "cell_type": "markdown",
   "id": "cb699ce6-e61e-4deb-9bcf-35513623d8a8",
   "metadata": {},
   "source": [
    "`-` 아래의 수식을 관찰하자.\n",
    "\n",
    "$$\\Omega = \\{H\\} \\uplus \\{T\\} \\Rightarrow \\mathbb{P}(\\Omega) = \\mathbb{P}(\\{H\\}) + \\mathbb{P}(\\{T\\})$$"
   ]
  },
  {
   "cell_type": "markdown",
   "id": "6300c7fe-cfd7-4a73-9581-4a1a9b99056c",
   "metadata": {},
   "source": [
    "여기에서 $\\uplus$는 서로소인 두 집합의 합집합 연산을 의미한다. 수식에서 왼쪽이 성립하는 이유는 확률과 상관없는 집합이론이고 $\\Rightarrow$ 가 성립하는 이유는 확률의공리3에 의해서 이다. 따라서 \n",
    "\n",
    "$$\\mathbb{P}(\\{T\\})=\\mathbb{P}(\\Omega)-\\mathbb{P}(\\{H\\})=1-p$$\n",
    "\n",
    "로 \"모순없이\" 정의될 수 있어야 한다. 즉 $\\{T\\}$는 잴 수 있는 집합이어야 한다. 그런데 $\\{T\\}$는 ${\\cal F}$의 원소가 아니므로 묶음 ${\\cal F}$는 합리적이지 않다. "
   ]
  },
  {
   "cell_type": "markdown",
   "id": "ae18f664-0fc3-49fc-b712-fd45c40fe087",
   "metadata": {},
   "source": [
    "::: {.callout-note}\n",
    "\n",
    "**[여집합에 닫힘]**: 집합 $A$의 확률값을 잴 수 있다면, 집합 $A^c$의 확률값도 잴 수 있어야 한다. 즉 아래가 성립해야한다. \n",
    "\n",
    "$$\\forall A \\subset \\Omega:~ A \\in {\\cal F} \\Rightarrow A^c \\in {\\cal F}$$ \n",
    "\n",
    "이를 좀 더 간단하게는 아래와 같이 쓸 수 있다. \n",
    "\n",
    "$$A \\in {\\cal F} \\Rightarrow A^c \\in {\\cal F}$$ \n",
    "\n",
    "왜냐하면 ${\\cal F}$의 원소라는 점은 이미 $\\Omega$의 부분집합임을 암시하고 있으므로 $A \\subset \\Omega$ 라는 조건은 생략가능하기 때문이다. \n",
    ":::"
   ]
  },
  {
   "cell_type": "markdown",
   "id": "b4720737-7957-4236-ba9f-76a6ff296f3c",
   "metadata": {},
   "source": [
    "> 아이디어: ${\\cal F}$ 라는 것은 확률값을 잴 수 있는 집합과 확률값을 잴 수 없는 집합을 동시에 정의하고 있음을 기억하자. 즉 ${\\cal F}=\\big\\{\\emptyset, \\{H\\}, \\Omega\\big\\}$ 일때 $\\{H\\}$가 확률값을 잴 수 있는 집합이라는 사실에만 초점을 맞추지 말고 $\\{T\\}$가 확률값을 잴 수 없는 집합이라는 사실에도 초점을 맞추어야 한다. "
   ]
  },
  {
   "cell_type": "markdown",
   "id": "1e9df4a0-3b63-4ee0-828a-30c10e067b31",
   "metadata": {},
   "source": [
    "`#`"
   ]
  },
  {
   "cell_type": "markdown",
   "id": "fef1f6c6-a87b-4f35-985e-40b0a05a1a74",
   "metadata": {},
   "source": [
    "**`# 생각3`** -- 전체집합에 대한 확률값을 잴 수 있다면, 공집합에 대한 확률도 잴 수 있어."
   ]
  },
  {
   "cell_type": "markdown",
   "id": "94d053f4-c67d-4119-8d47-bfb06fe6a437",
   "metadata": {},
   "source": [
    "$\\Omega=\\{H,T\\}$라고 하자. ${\\cal F}$를 아래와 같이 정의한다면 묶음 ${\\cal F}$는 합리적이지 않다. \n",
    "\n",
    "$${\\cal F}=\\big\\{ \\{H\\}, \\{T\\}, \\Omega\\big\\}$$ "
   ]
  },
  {
   "cell_type": "markdown",
   "id": "3f60d34b-1e5f-4065-bcb9-822b1981c8ac",
   "metadata": {},
   "source": [
    "(해설)"
   ]
  },
  {
   "cell_type": "markdown",
   "id": "a9b47c99-3e31-45a3-9ab7-91628ad6ac26",
   "metadata": {},
   "source": [
    "전체집합의 확률은 $P(\\Omega)=1$로 정의할 수 있다. 그런데 전체집합의 여집합인 공집합의 확률을 정의할 수 없는건 말이 안되므로 공집합은 $\\cal F$에 포함되어야 한다. "
   ]
  },
  {
   "cell_type": "markdown",
   "id": "4f427e30-f5f8-4b4a-8613-f646a7fc4588",
   "metadata": {},
   "source": [
    "`#`"
   ]
  },
  {
   "cell_type": "markdown",
   "id": "c92ec811-7a38-423d-bf9e-39a2628be75e",
   "metadata": {},
   "source": [
    "**`# 생각4`** -- 동일한 $\\Omega$에 대하여 확률값을 잴 수 있는 집합의 모임 ${\\cal F}$는 유니크하지 않음. "
   ]
  },
  {
   "cell_type": "markdown",
   "id": "8fba6789-ce7f-4436-9c14-ff21351a45f1",
   "metadata": {},
   "source": [
    "$\\Omega=\\{1,2,3,4,5,6\\}$이라고 하자. ${\\cal F}$을 아래와 같이 정의한다고 하자. 이러한 묶음 ${\\cal F}$는 합리적이다. \n",
    "\n",
    "$${\\cal F}=\\big\\{\\emptyset, \\{6\\}, \\{1,2,3,4,5\\},\\Omega \\big\\}$$ "
   ]
  },
  {
   "cell_type": "markdown",
   "id": "7093e1c1-edc3-4b47-935b-72bc05914124",
   "metadata": {},
   "source": [
    "(해설) "
   ]
  },
  {
   "cell_type": "markdown",
   "id": "2fb12433-0e8c-4903-9984-72fb871dc0dd",
   "metadata": {},
   "source": [
    "어떠한 특수한 상황을 가정하자. 주사위를 던져야하는데 6이 나오면 살수 있고 6이 나오지 않으면 죽는다고 하자. 따라서 던지는 사람 입장에서는 주사위를 던져서 6이 나오는지 안나오는지만 관심있을 것이다. 이 사람의 머리속에서 순간적으로 떠오르는 확률들은 아래와 같다.^[공평한 주사위라고 하자..]\n",
    "\n",
    "- 살수있다 $\\to$ 1/6 \n",
    "- 죽는다 $\\to$ 5/6 \n",
    "- 살거나 죽는다 $\\to$ 1 \n",
    "- 살지도 죽지도 않는다 $\\to$ 0 \n",
    "\n",
    "이러한 확률은 합리적이다. 즉 아래의 집합들만 확률을 정의한다고 해도, 확률을 잘 정의할 수 있을 것 같다. \n",
    "\n",
    "$$\\emptyset, \\{6\\}, \\{1,2,3,4,5\\}, \\Omega$$"
   ]
  },
  {
   "cell_type": "markdown",
   "id": "b941780a-8ba6-47e0-9ce1-225130e064b2",
   "metadata": {},
   "source": [
    "`#`"
   ]
  },
  {
   "cell_type": "markdown",
   "id": "c9bdbdd9-1b1d-43f3-9300-c2613dcd6283",
   "metadata": {},
   "source": [
    "**`# 생각5`** -- $\\Omega=[0,1)$인 경우 "
   ]
  },
  {
   "cell_type": "markdown",
   "id": "1bdbb4f8-3026-4e99-8953-48b5212ef15b",
   "metadata": {},
   "source": [
    "$\\Omega=[0,1)$이라고 하자. ${\\cal F}$을 아래와 같이 정의한다고 하자. 이러한 묶음 ${\\cal F}$는 합리적이다. \n",
    "\n",
    "$${\\cal F}=\\big\\{\\emptyset, [0,0.5), [0.5,1),\\Omega \\big\\}$$ "
   ]
  },
  {
   "cell_type": "markdown",
   "id": "f1e176c8-2e6f-4a71-9892-df3928109de4",
   "metadata": {},
   "source": [
    "(해설) "
   ]
  },
  {
   "cell_type": "markdown",
   "id": "4110cdf5-52e3-4a19-a274-0c5ad0b69a72",
   "metadata": {},
   "source": [
    "아래와 같이 사건을 해석한다는 의미이다. \n",
    "\n",
    "- 바늘이 12시에서 6시사이에 멈출확률\n",
    "- 바늘이 6시에서 12시사이에 멈출확률\n",
    "\n",
    "즉 ${\\cal F}=\\big\\{\\emptyset, [0,0.5), [0.5,1),\\Omega \\big\\}$의 원소에 대해서 아래와 같이 확률을 정의한다면 확률을 정의함에 모순이 없다.\n",
    "\n",
    "- $\\mathbb{P}(\\emptyset) = \\lambda(\\emptyset) = 0$\n",
    "- $\\mathbb{P}(\\Omega) = \\lambda(\\Omega) = 1$\n",
    "- $\\mathbb{P}([0,0.5)) = \\lambda([0,0.5]) = 0.5$\n",
    "- $\\mathbb{P}([0.5,1)) = \\lambda([0.5,1]) = 0.5$\n",
    "\n",
    "사실 아래와 같이 정의해도 딱히 모순이 되진 않음. (단지 이 경우는 우리가 잰 것이 \"길이\"라고 주장할 수는 없겠지, 그래서 쓸모가 없겠지)\n",
    "\n",
    "- $\\mathbb{P}(\\emptyset) = 0$\n",
    "- $\\mathbb{P}(\\Omega) = 1$\n",
    "- $\\mathbb{P}([0,0.5)) = 0$\n",
    "- $\\mathbb{P}([0.5,1)) = 1$"
   ]
  },
  {
   "cell_type": "markdown",
   "id": "261824e9-babd-4b60-b90c-88f3d45d3e91",
   "metadata": {},
   "source": [
    "(추가해설) "
   ]
  },
  {
   "cell_type": "markdown",
   "id": "375fe4fd-d36e-4e3e-8f3e-bacda415f737",
   "metadata": {},
   "source": [
    "만약 \"$[0,1]$ 사이의 모든 유리수의 집합에 대한 확률은 얼마인가?\" 라고 묻는다면? 어떻게 대답해야하나? "
   ]
  },
  {
   "cell_type": "markdown",
   "id": "b1b7f4ae-7d2c-4173-9f50-95902acc29c5",
   "metadata": {},
   "source": [
    "모범대답: \"몰라요, 관심없어요\" "
   ]
  },
  {
   "cell_type": "markdown",
   "id": "a75c278d-2f09-48ef-8eec-8f59e6f5b0c5",
   "metadata": {},
   "source": [
    "`#`"
   ]
  },
  {
   "cell_type": "markdown",
   "id": "e25dcf6c-2f4a-4dae-b585-f8d114b39ff4",
   "metadata": {},
   "source": [
    "**`# 생각6`** -- $\\Omega$를 어떠한 사건의 집합으로 보느냐에 따라서 ${\\cal F}$를 달리 구성할 수 있다. "
   ]
  },
  {
   "cell_type": "markdown",
   "id": "d06b8433-6be2-4066-83f5-5db28892c2b5",
   "metadata": {},
   "source": [
    "$\\Omega=\\{1,2,3,4,5,6\\}$이라고 하자. ${\\cal F}$을 아래와 같이 정의한다고 하자. 이러한 묶음 ${\\cal F}$는 합리적이다. \n",
    "\n",
    "$${\\cal F}=\\big\\{\\emptyset, \\{1,3,5\\}, \\{2,4,6\\},\\Omega \\big\\}$$ "
   ]
  },
  {
   "cell_type": "markdown",
   "id": "f5bc1f7d-986d-4a36-8c6d-c8d52525b118",
   "metadata": {},
   "source": [
    "(해설) "
   ]
  },
  {
   "cell_type": "markdown",
   "id": "cfa90b25-9615-47a8-a5d0-b34475985ece",
   "metadata": {},
   "source": [
    "전체사건을 \"주사위를 던져서 짝이 나오는 사건\", \"주사위를 던져서 홀이 나오는 사건\" 정도만 구분하겠다는 의미"
   ]
  },
  {
   "cell_type": "markdown",
   "id": "f5eac313-8458-423e-b00c-961fc7944b6b",
   "metadata": {},
   "source": [
    "`#`"
   ]
  },
  {
   "cell_type": "markdown",
   "id": "2ddce7f6-9fc4-453b-a37b-4a79de57fb20",
   "metadata": {},
   "source": [
    "**`# 생각7`** -- $A\\in {\\cal F} \\Rightarrow A^c \\in {\\cal F}$"
   ]
  },
  {
   "cell_type": "markdown",
   "id": "18435916-8f5e-4c1b-b6b7-b050b0df44aa",
   "metadata": {},
   "source": [
    "$\\Omega=\\{1,2,3,4,5,6\\}$이라고 하자. ${\\cal F}$을 아래와 같이 정의한다고 하자. 이러한 묶음 ${\\cal F}$는 합리적이지 않다. \n",
    "\n",
    "$${\\cal F}=\\big\\{\\emptyset, \\{1,3,5\\}, \\Omega \\big\\}$$ "
   ]
  },
  {
   "cell_type": "markdown",
   "id": "09525c4a-bcf5-4fab-9b5d-7c21fd6b8ecf",
   "metadata": {},
   "source": [
    "(해설) "
   ]
  },
  {
   "cell_type": "markdown",
   "id": "16df361d-4dd1-48a9-ab48-3148f5e1437d",
   "metadata": {},
   "source": [
    "\"주사위를 던져서 홀수가 나올 사건\"에 대한 확률을 정의할 수 있는데, 짝수가 나올 사건에 대한 확률을 정의할 수 없다는건 말이 안되는 소리임. "
   ]
  },
  {
   "cell_type": "markdown",
   "id": "8a89a848-073a-4d41-a780-13bf6cc20219",
   "metadata": {},
   "source": [
    "`#`"
   ]
  },
  {
   "cell_type": "markdown",
   "id": "dc881c61-6afa-44a9-abc6-a9317137abf9",
   "metadata": {},
   "source": [
    "**`# 생각8`** -- $\\Omega=[0,1)$인 경우 "
   ]
  },
  {
   "cell_type": "markdown",
   "id": "76534934-5572-4a50-90d7-2d898608ec34",
   "metadata": {},
   "source": [
    "$\\Omega=[0,1)$이라고 하자. ${\\cal F}$을 아래와 같이 정의한다고 하자. 이러한 묶음 ${\\cal F}$는 합리적이지 않다. \n",
    "\n",
    "$${\\cal F}=\\big\\{\\emptyset, [0,0.3),\\Omega \\big\\}$$ "
   ]
  },
  {
   "cell_type": "markdown",
   "id": "26ae9504-abf5-4209-ac2b-1488ad00d46d",
   "metadata": {},
   "source": [
    "(해설) "
   ]
  },
  {
   "cell_type": "markdown",
   "id": "d6a108c4-0ab2-41f2-8870-b5d6a0c204eb",
   "metadata": {},
   "source": [
    "$\\mathbb{P}([0,0.3))$ 은 무모순으로 정의할 수 있는데, $\\mathbb{P}([0,0.3)^c)$ 는 무모순으로 정의불가능하다는 것은 말이 안되는 소리임. "
   ]
  },
  {
   "cell_type": "markdown",
   "id": "d402b7aa-27da-42d4-98fe-d4de4eec45a3",
   "metadata": {},
   "source": [
    "`#`"
   ]
  },
  {
   "cell_type": "markdown",
   "id": "23e2388a-d27a-4451-9066-e98c140c3dd1",
   "metadata": {},
   "source": [
    "**`# 생각9`** -- 서로소인 두 집합의 합"
   ]
  },
  {
   "cell_type": "markdown",
   "id": "7e025da8-527d-4023-95b0-8ae95b484bf0",
   "metadata": {},
   "source": [
    "$\\Omega=\\{1,2,3,4\\}$이라고 하자. 어떠한 필요에 따라서 1이 나올 확률과 2가 나올 확률에만 관심이 있고 나머지는 별로 관심이 없다고 하자. 그래서 ${\\cal F}$ 를 아래와 같이 정의했다고 하자. 이러한 묶음 ${\\cal F}$ 는 합리적이지 않다. \n",
    "\n",
    "$${\\cal F}=\\{\\emptyset, \\{1\\}, \\{2\\}, \\{2,3,4\\}, \\{1,3,4\\}, \\Omega \\}$$ "
   ]
  },
  {
   "cell_type": "markdown",
   "id": "79664647-a315-49e0-841c-b3c78902cd98",
   "metadata": {},
   "source": [
    "(해설1) "
   ]
  },
  {
   "cell_type": "markdown",
   "id": "707d9e01-8aca-47af-a114-9f68c72a73d8",
   "metadata": {},
   "source": [
    "${\\cal F}$ 는 전체집합과 공집합을 포함하고 여집합에 닫혀있으므로 언뜻 생각해보면 합리적인듯 보이지만 그렇지 않다. 왜냐하면 $\\{1,2\\}$이 빠졌기 때문이다. 1이 나올 확률 $\\mathbb{P}(\\{1\\})$와 2가 나올 확률 $\\mathbb{P}(\\{2\\})$를 각각 정의할 수 있는데, 1 또는 2가 나올 확률 $\\mathbb{P}(\\{1,2\\})$을 정의할 때 모순이 발생한다는 것은 합리적이지 못하다. 왜냐하면 $\\{1\\} \\cap \\{2\\} = \\emptyset$ 이므로 \n",
    "\n",
    "$$\\mathbb{P}(\\{1\\} \\uplus \\{2\\})=\\mathbb{P}(\\{1\\}) + \\mathbb{P}(\\{2\\})$$\n",
    "\n",
    "와 같이 정의가능하기 때문이다. 따라서 집합이 아래와 같이 수정되어야 한다. \n",
    "\n",
    "$${\\cal F}=\\{\\emptyset, \\{1\\}, \\{2\\}, \\{2,3,4\\}, \\{1,3,4\\}, \\Omega, \\{1,2\\}, \\{3,4\\} \\}$$ "
   ]
  },
  {
   "cell_type": "markdown",
   "id": "f03a5f57-bb95-4576-8829-af4bd02ab566",
   "metadata": {},
   "source": [
    "(해설2) "
   ]
  },
  {
   "cell_type": "markdown",
   "id": "aa06943d-0a36-404f-bef1-e5523a234649",
   "metadata": {},
   "source": [
    "아래를 관찰하자. \n",
    "\n",
    "$$\\{2\\} \\uplus \\{3,4\\} =\\{2,3,4\\} \\Rightarrow \\mathbb{P}(\\{2\\}) + \\mathbb{P}(\\{3,4\\}) = \\mathbb{P}(\\{2,3,4\\})$$\n",
    "\n",
    "그런데 여기에서 $\\mathbb{P}(\\{2\\})$와 $\\mathbb{P}(\\{2,3,4\\})$는 정의가능한데, $\\mathbb{P}(\\{3,4\\})$는 정의할 수 없다는 사실이 말이 안된다. 따라서 ${\\cal F}$를 아래와 같이 수정해야 한다. \n",
    "\n",
    "$${\\cal F}=\\{\\emptyset, \\{1\\}, \\{2\\}, \\{2,3,4\\}, \\{1,3,4\\}, \\Omega, \\{3,4\\}, \\{1,2\\} \\}$$ "
   ]
  },
  {
   "cell_type": "markdown",
   "id": "79a45dd7-59a6-45bc-8293-a14594d7b7fb",
   "metadata": {},
   "source": [
    "> 해설2에 대한 논의를 일반화 하면 $A\\subset B  \\Rightarrow B = A \\uplus (B-A)  \\Rightarrow \\mathbb{P}(B) = \\mathbb{P}(A) +\\mathbb{P}(B-A)$ 이므로, $A,B$ 가 확률값을 잴 수 있는 집합이라면 $B-A$ 역시 확률값을 잴 수 있는 집합이어야 한다고 결론지을 수 있다. "
   ]
  },
  {
   "cell_type": "markdown",
   "id": "bae91720-f80a-418e-a916-b220f667328b",
   "metadata": {},
   "source": [
    "::: {.callout-note}\n",
    "\n",
    "**[$\\uplus$에 닫힘]**: 서로소인 두 집합 $A,B$ 에서 확률값을 잴 수 있다면, 당연히 $A \\uplus B$ 에서도 확률값을 잴 수 있어야 한다. 즉 아래가 성리해야한다. \n",
    "\n",
    "$$A \\in {\\cal F}, B \\in {\\cal F} \\text{ and } A\\cap B = \\emptyset \\quad \\Longrightarrow \\quad A \\uplus B~ \\in~ {\\cal F}$$\n",
    "\n",
    ":::"
   ]
  },
  {
   "cell_type": "markdown",
   "id": "9f54d503-f44a-4875-897c-200dae2f7507",
   "metadata": {},
   "source": [
    "::: {.callout-note}\n",
    "\n",
    "**[포함관계에 있는 집합의 차집합에 닫힘]**: 포함관계에 있는 두 집합 $A\\subset B$ 에서 모두 확률값을 잴 수 있다면, 당연히 $B-A$ 에서도 확률값을 잴 수 있어야 한다. 즉 아래가 성리해야한다. \n",
    "\n",
    "$$A \\in {\\cal F}, B \\in {\\cal F} \\text{ and } A \\subset B  \\quad \\Longrightarrow \\quad B-A ~ \\in~ {\\cal F}$$ \n",
    "\n",
    ":::"
   ]
  },
  {
   "cell_type": "markdown",
   "id": "96fa5250-95d2-4743-97d8-b62b1883b455",
   "metadata": {},
   "source": [
    "`#`"
   ]
  },
  {
   "cell_type": "markdown",
   "id": "eb717b99-0595-4690-9d95-6e66c1e19d9c",
   "metadata": {},
   "source": [
    "**`# 생각10`** -- ${\\cal A}=\\{\\{1\\},\\{2\\}\\}$ 일때, $\\sigma({\\cal A})$ 를 구하는 문제 "
   ]
  },
  {
   "cell_type": "markdown",
   "id": "408508c0-13da-4134-8e17-cb694bd27d23",
   "metadata": {},
   "source": [
    "$\\Omega=\\{1,2,3,4\\}$이라고 하자. 내가 관심이 있는 확률은 $\\mathbb{P}(\\{1\\})$, $\\mathbb{P}(\\{2\\})$ 밖에 없다고 하자. 이러한 확률들이 무모순으로 정의되기 위한 최소한의 ${\\cal F}$ 를 정의하라. "
   ]
  },
  {
   "cell_type": "markdown",
   "id": "ac852240-9b5f-4a3c-b651-6f4ddcfaf631",
   "metadata": {},
   "source": [
    "(해설) -- 좀 귀찮네..?"
   ]
  },
  {
   "cell_type": "markdown",
   "id": "92d87c0a-ce9c-4c39-aeb1-729d7919bad9",
   "metadata": {},
   "source": [
    "0차수정: ${\\cal A} = \\big\\{\\{1\\}, \\{2\\}\\big\\}$"
   ]
  },
  {
   "cell_type": "markdown",
   "id": "e3aa2083-410e-4872-ad9a-c6d530a1c643",
   "metadata": {},
   "source": [
    "1차수정: $\\big\\{\\emptyset, \\{1\\}, \\{2\\}, \\Omega \\big\\}$"
   ]
  },
  {
   "cell_type": "markdown",
   "id": "6ea94cb9-85f5-4e00-8dff-14d8cbeec19a",
   "metadata": {},
   "source": [
    "2차수정: $\\big\\{\\emptyset, \\{1\\}, \\{2\\}, \\{2,3,4\\}, \\{1,3,4\\}, \\Omega \\big\\}$"
   ]
  },
  {
   "cell_type": "markdown",
   "id": "5d620afb-84bc-4626-93c5-96c1c63060fe",
   "metadata": {},
   "source": [
    "3차수정: $\\big\\{\\emptyset, \\{1\\}, \\{2\\}, \\{2,3,4\\}, \\{1,3,4\\}, \\Omega, \\{1,2\\}, \\{3,4\\} \\big\\}$"
   ]
  },
  {
   "cell_type": "markdown",
   "id": "497f0bfc-5ed9-4339-9d5f-be8c3d44f737",
   "metadata": {},
   "source": [
    "> 사실 우리가 관심 있는건 ${\\cal A} = \\{ \\{1\\}, \\{2\\} \\}$ 뿐 이었음. 그런데 뭔가 $\\mathbb{P}(\\{1\\})$와 $\\mathbb{P}(\\{2\\})$를 합리적으로 정의하기 위해서 필연적으로 발생하는 어떠한 집합들을 모두 생각하는건 매우 피곤하고 귀찮은 일임. 그래서 \"아 모르겠고, $\\{1\\}$ 와 $\\{2\\}$ 를 포함하고 확률의 뜻에 모순되지 않게 만드는 최소한의 ${\\cal F}$ 가 있을텐데, 거기서만 확률을 정의할래!\" 라고 쉽게 생각하고 싶은 사람들이 생김. 그러한 공간을 $\\sigma({\\cal A})$ 라는 기호로 약속하고 smallest $\\sigma$-field containing ${\\cal A}$ 라는 용어로 부름. "
   ]
  },
  {
   "cell_type": "markdown",
   "id": "605315b4-dae3-41db-8412-04a1e91c8dc6",
   "metadata": {},
   "source": [
    "`#`"
   ]
  },
  {
   "cell_type": "markdown",
   "id": "b59fd81f-9269-4a8f-b80f-b57423db01b9",
   "metadata": {},
   "source": [
    "**`# 생각11`** "
   ]
  },
  {
   "cell_type": "markdown",
   "id": "c29aa798-a1fc-4c84-9b77-9bc831789fac",
   "metadata": {},
   "source": [
    "$\\Omega=[0,1)$ 이라고 하자. 집합 $\\mathbb{Q}$ 를 구간 $[0,1)$에 포함된 모든 유리수의 집합이라고 하자. ${\\cal A} = \\{\\{x\\}: x\\in \\mathbb{Q}\\}$ 이라고 하자. 아래가 성립할까?\n",
    "\n",
    "$$\\mathbb{Q} \\in \\sigma({\\cal A})$$"
   ]
  },
  {
   "cell_type": "markdown",
   "id": "278c0baf-610e-4edd-800f-5e4132bfd41a",
   "metadata": {},
   "source": [
    "즉 구간 $[0,1)$에서의 유리수를 한점씩을 잴 수 있을 때^[$\\mathbb{P}(\\{0\\})$, $\\mathbb{P}(\\{0.21\\})$, $\\dots$를 각각 정의가능할 때] 구간 $[0,1)$의 모든 유리수 집합 역시 잴 수 있어야 할까? 단, 모든 $x \\in [0,1)$ 에 대하여 $\\mathbb{P}(\\{x\\})=\\lambda(\\{x\\})$ 라고 하자."
   ]
  },
  {
   "cell_type": "markdown",
   "id": "67f85b16-edca-4c6b-b883-9e194c157bd6",
   "metadata": {},
   "source": [
    "(해설) "
   ]
  },
  {
   "cell_type": "markdown",
   "id": "08c4d49f-ca52-4816-9a50-7e61df65cd26",
   "metadata": {},
   "source": [
    "`-` 집합 $\\{\\frac{1}{2}\\}$ 는 잴 수 있고, 집합 $\\{\\frac{1}{3}\\}$ 역시 잴 수 있다. (왜?)"
   ]
  },
  {
   "cell_type": "markdown",
   "id": "e0e6975c-6a0e-4d6b-8e6c-8296fb5522e3",
   "metadata": {},
   "source": [
    "`-` 그렇다면 집합 $\\{\\frac{1}{2},\\frac{1}{3}\\}=\\{\\frac{1}{2}\\} \\uplus \\{\\frac{1}{3}\\}$ 역시 잴 수 있어야 하며, $\\mathbb{P}(\\{\\frac{1}{2}\\} \\uplus \\{\\frac{1}{3}\\})=0$ 이다. 왜냐하면 확률의 공리에 의하여 아래식이 성립하기 때문이다. \n",
    "\n",
    "$$\\mathbb{P}(A_1 \\uplus A_2)=  \\mathbb{P}(A_1) + \\mathbb{P}(A_2)$$"
   ]
  },
  {
   "cell_type": "markdown",
   "id": "2ba3c5a6-49bf-46bf-acac-fae06542bd0f",
   "metadata": {},
   "source": [
    "`-` 비슷한 논리로 집합 $\\{\\frac{1}{2},\\frac{1}{3},\\dots,\\frac{1}{100}\\}$ 역시 잴 수 있어야 하며, $\\mathbb{P}(\\{\\frac{1}{2},\\frac{1}{3},\\dots,\\frac{1}{100}\\})=0$ 이다. 왜냐하면 확률의 공리에 의하여 아래식이 성립하기 때문이다. \n",
    "\n",
    "$$\\mathbb{P}(\\uplus_{n=1}^{100} A_n) =  \\sum_{n=1}^{100}\\mathbb{P}(A_n)$$"
   ]
  },
  {
   "attachments": {},
   "cell_type": "markdown",
   "id": "9e43382d-ffcf-400f-be51-13f74f53f300",
   "metadata": {},
   "source": [
    "`-` 비슷한 논리로 집합 $\\{\\frac{1}{2},\\frac{1}{3},\\dots \\}$ 역시 잴 수 있어야 한다. 왜냐하면 확률의 공리에 의하여 아래식이 성립하기 때문이다. \n",
    "\n",
    "$$\\mathbb{P}(\\uplus_{n=1}^{\\infty} A_n) =  \\sum_{n=1}^{\\infty}\\mathbb{P}(A_n)$$"
   ]
  },
  {
   "attachments": {},
   "cell_type": "markdown",
   "id": "9171dbde-1506-4937-8397-a13ad5f4150e",
   "metadata": {},
   "source": [
    "`-` 집합 $\\mathbb{Q}$ 는 잴 수 있을까? $\\mathbb{Q}$ 의 카니널리티는 자연수의 카디널리티와 같으므로^[왜??] $\\mathbb{N} \\to \\mathbb{Q}$ 인 전단사함수 $f$가 존재하며, 따라서 아래와 같이 쓸 수 있다. \n",
    "\n",
    "$$\\mathbb{Q} = \\{f(1),f(2),\\dots, \\} = \\uplus_{n=1}^{\\infty}\\{ f(n) \\}$$ \n",
    "\n",
    "확률의 공리에 의하여 아래식이 성립한다. \n",
    "\n",
    "$$\\mathbb{P}(\\mathbb{Q}) = \\sum_{n=1}^{\\infty} \\mathbb{P}(\\{f(n)\\})$$\n",
    "\n",
    "우변의 값이 무모순으로 정의되므로 $\\mathbb{P}(\\mathbb{Q})$ 역시 무모순으로 정의되어야 하며 그 값은 0이다. "
   ]
  },
  {
   "cell_type": "markdown",
   "id": "a00d6e40-9fe6-4ec3-a624-6d01dd9f81dc",
   "metadata": {},
   "source": [
    "::: {.callout-note}\n",
    "\n",
    "**[$\\uplus_{n=1}^{\\infty}$에 닫힘]**: 서로소인 집합들 $A_1,A_2,\\dots$ 에서 확률값을 잴 수 있다면, $A=\\uplus_{n=1}^{\\infty} A_n$ 에서도 확률값을 잴 수 있어야 한다. 즉 아래가 성리해야한다. \n",
    "\n",
    "$$\\big(A_1 \\in {\\cal F}, A_2 \\in {\\cal F} ,\\dots\\big)  \\text{ and } \\big(\\forall {m,k} \\in \\mathbb{N}, m\\neq k:~  A_m \\cap A_k = \\emptyset \\big) \\quad \\Longrightarrow \\quad \\uplus_{n=1}^{\\infty} A_n \\in~ {\\cal F}$$\n",
    "\n",
    ":::"
   ]
  },
  {
   "cell_type": "markdown",
   "id": "fa8d78ba-024f-403d-bc8f-48563b45044d",
   "metadata": {},
   "source": [
    "`#`"
   ]
  },
  {
   "cell_type": "markdown",
   "id": "690c05e5-8360-4345-9070-c082f2316c60",
   "metadata": {},
   "source": [
    "**`# 생각12`** "
   ]
  },
  {
   "cell_type": "markdown",
   "id": "5f0ceba6-0463-4feb-b0da-f1d58df68a60",
   "metadata": {},
   "source": [
    "$\\Omega=[0,1)$ 이라고 하자. 집합 $\\mathbb{Q}$ 를 구간 $[0,1)$에 포함된 모든 유리수의 집합이라고 하자. ${\\cal A} = \\{\\{x\\}: x\\in \\mathbb{Q}\\}$ 이라고 하자. 아래가 성립할까?\n",
    "\n",
    "$$\\mathbb{Q}^c \\in \\sigma({\\cal A})$$\n",
    "\n",
    "단, 여기에서 $\\mathbb{Q}^c$ 는 구간 $[0,1)$에 포함된 모든 무리수의 집합이다. "
   ]
  },
  {
   "cell_type": "markdown",
   "id": "e92dd429-5d0b-4a88-bec2-3983a25a014f",
   "metadata": {},
   "source": [
    "(해설)"
   ]
  },
  {
   "cell_type": "markdown",
   "id": "6b71a15a-1bbc-4d80-b8b1-f109edfc5dec",
   "metadata": {},
   "source": [
    "$\\mathbb{Q} \\in \\sigma({\\cal A})$ 이므로 $\\mathbb{Q}^c\\in \\sigma({\\cal A})$ 이어야 한다. $\\mathbb{P}(\\mathbb{Q})=0$ 이므로, $\\mathbb{P}(\\Omega - \\mathbb{Q})=1$ 이다. "
   ]
  },
  {
   "cell_type": "markdown",
   "id": "ae3694eb-d529-4b83-a36a-4791c49b5d93",
   "metadata": {},
   "source": [
    "> $\\mathbb{Q}^{c}=\\uplus_{x \\in \\mathbb{Q}^c} \\{x\\}$ 의 꼴로 표현될 수 있지만, $\\mathbb{Q}^{c}=\\uplus_{x \\in \\mathbb{Q}^c} \\{x\\}=\\uplus_{n=1}^{\\infty}\\{x_n\\}$ 와 같이 표현할 수 없으므로 $\\mathbb{P}(\\mathbb{Q}^{c})=\\sum_{x \\in \\mathbb{Q}^c}\\mathbb{P}(\\{x\\})$ 와 같이 쓸 수 없음을 주의하라."
   ]
  },
  {
   "cell_type": "markdown",
   "id": "97534f80-4f5b-4a60-80e4-ce9b9f338aac",
   "metadata": {},
   "source": [
    "`#`"
   ]
  },
  {
   "cell_type": "markdown",
   "id": "d81dc807-14c4-4f94-83b7-aae41f445264",
   "metadata": {},
   "source": [
    "**`# 생각13`** "
   ]
  },
  {
   "cell_type": "markdown",
   "id": "96a3e282-ba09-4861-b15d-a9eba6921a7a",
   "metadata": {},
   "source": [
    "$\\Omega=\\{1,2,3,4,5,6\\}$ 이라고 하자. ${\\cal F}=\\emptyset$ 와 같이 정의한다면 합리적인가? "
   ]
  },
  {
   "cell_type": "markdown",
   "id": "e5db7246-b1bf-4d24-ba89-f4d7837fb58c",
   "metadata": {},
   "source": [
    "(해설) "
   ]
  },
  {
   "cell_type": "markdown",
   "id": "8937da92-9d7c-48e0-8037-aaae5b6e4a99",
   "metadata": {},
   "source": [
    "이건 너무 짜증나는데?.. 그냥 ${\\cal F}\\neq \\emptyset$ 이라고 약속하자."
   ]
  },
  {
   "cell_type": "markdown",
   "id": "48a7a00f-da8f-45ab-9a10-d5abbd01d031",
   "metadata": {},
   "source": [
    "`#`"
   ]
  },
  {
   "cell_type": "markdown",
   "id": "07f7c3a1-2309-49b2-8a1b-3618b071066e",
   "metadata": {},
   "source": [
    "**`# 생각1~13의 결론`**"
   ]
  },
  {
   "cell_type": "markdown",
   "id": "a162752e-f9b4-4a3b-b0a9-c70bf8bf6ce1",
   "metadata": {},
   "source": [
    "지금까지의 조건을 종합하면, $\\Omega$의 부분집합 중 잴 수 있는 집합들의 모임 ${\\cal F}$은 아래의 조건을 충족해야할 것 같다. \n",
    "\n",
    "`조건1`. ${\\cal F}\\neq \\emptyset$ \n",
    "\n",
    "`조건2`. $A \\in {\\cal F} \\Rightarrow A^c \\in {\\cal F}$ \n",
    "\n",
    "`조건3`. $A \\in {\\cal F}, B \\in {\\cal F} \\text{ and } A\\cap B = \\emptyset \\quad \\Longrightarrow \\quad A \\uplus B~ \\in~ {\\cal F}$\n",
    "\n",
    "`조건4`. $A \\in {\\cal F}, B \\in {\\cal F} \\text{ and } A \\subset B  \\quad \\Longrightarrow \\quad B-A ~ \\in~ {\\cal F}$\n",
    "\n",
    "`조건5`. $\\big(A_1 \\in {\\cal F}, A_2 \\in {\\cal F} ,\\dots\\big)  \\text{ and } \\big(\\forall {m,k} \\in \\mathbb{N}, m\\neq k:~  A_m \\cap A_k = \\emptyset \\big) \\quad \\Longrightarrow \\quad \\uplus_{n=1}^{\\infty} A_n \\in~ {\\cal F}$"
   ]
  },
  {
   "cell_type": "markdown",
   "id": "942586c4-b017-4b47-91bb-b0050d4a9ae6",
   "metadata": {},
   "source": [
    "`#`"
   ]
  },
  {
   "cell_type": "markdown",
   "id": "2c227276-d442-499b-af52-d145fafb079d",
   "metadata": {},
   "source": [
    "**`# 조건의 정리`** "
   ]
  },
  {
   "cell_type": "markdown",
   "id": "c505719a-be68-4ab9-b156-af7f4165978d",
   "metadata": {},
   "source": [
    "위의 5개의 조건은 아래의 3가지 조건으로 정리가능하다. \n",
    "\n",
    "`조건1`. ${\\cal F}\\neq \\emptyset$ \n",
    "\n",
    "`조건2`. $A \\in {\\cal F} \\Rightarrow A^c \\in {\\cal F}$ \n",
    "\n",
    "`조건3`. $\\big(\\forall n \\in \\mathbb{N}: A_n \\in {\\cal F} \\big)  \\text{ and } \\big(\\forall {m,k} \\in \\mathbb{N}, m\\neq k:~  A_m \\cap A_k = \\emptyset \\big) \\quad \\Longrightarrow \\quad \\uplus_{n=1}^{\\infty} A_n \\in~ {\\cal F}$\n",
    "\n",
    "또는 아래의 3가지 조건으로 정리가능하다. \n",
    "\n",
    "`조건1`. $\\Omega \\in {\\cal F}$ \n",
    "\n",
    "`조건2`. $A \\in {\\cal F} \\Rightarrow A^c \\in {\\cal F}$ \n",
    "\n",
    "`조건3`. $\\big(\\forall n \\in \\mathbb{N}: A_n \\in {\\cal F} \\big)  \\text{ and } \\big(\\forall {m,k} \\in \\mathbb{N}, m\\neq k:~  A_m \\cap A_k = \\emptyset \\big) \\quad \\Longrightarrow \\quad \\uplus_{n=1}^{\\infty} A_n \\in~ {\\cal F}$\n"
   ]
  },
  {
   "cell_type": "markdown",
   "id": "0841c0a7-cde5-4afd-b4fd-34d897775156",
   "metadata": {},
   "source": [
    "`#`"
   ]
  },
  {
   "cell_type": "markdown",
   "id": "e0e22ee1-3a62-40b8-8351-619e5b3e74b4",
   "metadata": {},
   "source": [
    "**`# 람다시스템`**"
   ]
  },
  {
   "cell_type": "markdown",
   "id": "040d8b01-638f-42b3-ab1e-eb22e0963be5",
   "metadata": {},
   "source": [
    "$\\Omega$의 부분집합중 잴 수 있는 집합의 모임 ${\\cal F}$ 는 아래의 `조건1`~ `조건3`을 만족하는 집합의 집합 (collection) 이라고 정의하면 어떨까??\n",
    "\n",
    "`조건1`. $\\Omega \\in {\\cal F}$ \n",
    "\n",
    "`조건2`. $A \\in {\\cal F} \\Rightarrow A^c \\in {\\cal F}$ \n",
    "\n",
    "`조건3`. $\\big(\\forall n \\in \\mathbb{N}: A_n \\in {\\cal F} \\big)  \\text{ and } \\big(\\forall {m,k} \\in \\mathbb{N}, m\\neq k:~  A_m \\cap A_k = \\emptyset \\big) \\quad \\Longrightarrow \\quad \\uplus_{n=1}^{\\infty} A_n \\in~ {\\cal F}$\n"
   ]
  },
  {
   "cell_type": "markdown",
   "id": "840ed6f3-f17e-4ffa-afc1-a2c06406a103",
   "metadata": {},
   "source": [
    "그럴싸하지만, 하나의 조건이 더 필요하다. "
   ]
  },
  {
   "cell_type": "markdown",
   "id": "667f6cd3-3cae-4325-9935-e695dbc61cf8",
   "metadata": {},
   "source": [
    "`#` "
   ]
  }
 ],
 "metadata": {
  "kernelspec": {
   "display_name": "hf",
   "language": "python",
   "name": "python3"
  },
  "language_info": {
   "codemirror_mode": {
    "name": "ipython",
    "version": 3
   },
   "file_extension": ".py",
   "mimetype": "text/x-python",
   "name": "python",
   "nbconvert_exporter": "python",
   "pygments_lexer": "ipython3",
   "version": "3.12.4"
  }
 },
 "nbformat": 4,
 "nbformat_minor": 5
}
